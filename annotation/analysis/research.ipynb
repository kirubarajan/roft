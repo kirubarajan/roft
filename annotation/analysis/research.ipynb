{
  "cells": [
    {
      "cell_type": "markdown",
      "id": "431e2270",
      "metadata": {
        "id": "431e2270"
      },
      "source": [
        "# Load from database"
      ]
    },
    {
      "cell_type": "markdown",
      "metadata": {},
      "source": [
        "<a href=\"https://colab.research.google.com/github/kirubarajan/roft/blob/master/annotation/analysis/research.ipynb\" target=\"_parent\"><img src=\"https://colab.research.google.com/assets/colab-badge.svg\" alt=\"Open In Colab\"/></a>"
      ]
    },
    {
      "cell_type": "code",
      "execution_count": null,
      "id": "bixbYj5HGjdP",
      "metadata": {
        "collapsed": true,
        "id": "bixbYj5HGjdP"
      },
      "outputs": [],
      "source": [
        "!pip install fsspec gcsfs"
      ]
    },
    {
      "cell_type": "code",
      "execution_count": null,
      "id": "8b5bdd61",
      "metadata": {
        "id": "8b5bdd61"
      },
      "outputs": [],
      "source": [
        "import json\n",
        "import pandas as pd\n",
        "import tensorflow as tf\n",
        "import numpy as np\n",
        "import matplotlib.pyplot as plt\n",
        "import seaborn as sns\n",
        "\n",
        "DATABASE_DUMP_FILE = 'gs://roft_buckups/09/23/2021.json'"
      ]
    },
    {
      "cell_type": "code",
      "execution_count": null,
      "id": "FACZ9EAt7u-0",
      "metadata": {
        "id": "FACZ9EAt7u-0"
      },
      "outputs": [],
      "source": [
        "from google.colab import auth\n",
        "auth.authenticate_user()"
      ]
    },
    {
      "cell_type": "code",
      "execution_count": null,
      "id": "b51ea0dd",
      "metadata": {
        "id": "b51ea0dd"
      },
      "outputs": [],
      "source": [
        "\n",
        "with tf.io.gfile.GFile(DATABASE_DUMP_FILE, 'r') as f:\n",
        "    db = json.load(f)\n",
        "\n",
        "def get_df(sql_model='core.annotation'):\n",
        "    df = pd.DataFrame(db)\n",
        "    df = df[df.model == sql_model]\n",
        "    \n",
        "    if 'date' in df.columns.values:\n",
        "        df = df.set_index('date')\n",
        "\n",
        "    return pd.json_normalize(df.fields).assign(pk=df.pk.values)"
      ]
    },
    {
      "cell_type": "code",
      "execution_count": null,
      "id": "TWIa7UicQdgY",
      "metadata": {
        "id": "TWIa7UicQdgY"
      },
      "outputs": [],
      "source": [
        "df = pd.DataFrame(db)\n",
        "print(set(df[\"model\"].tolist()))"
      ]
    },
    {
      "cell_type": "markdown",
      "id": "DBj9RVE253uJ",
      "metadata": {
        "id": "DBj9RVE253uJ"
      },
      "source": [
        "### Load all the tables"
      ]
    },
    {
      "cell_type": "code",
      "execution_count": null,
      "id": "3a1639a1",
      "metadata": {
        "id": "3a1639a1"
      },
      "outputs": [],
      "source": [
        "annotation_df = get_df()\n",
        "profile_df = get_df('core.profile')\n",
        "generation_df = get_df('core.generation')\n",
        "prompt_df = get_df('core.prompt')\n",
        "playlist_df = get_df('core.playlist')\n",
        "decodingstrategy_df = get_df('core.decodingstrategy')\n",
        "user_df = get_df('auth.user')"
      ]
    },
    {
      "cell_type": "markdown",
      "id": "VxbVampM561u",
      "metadata": {
        "id": "VxbVampM561u"
      },
      "source": [
        "### Modify column names to avoid duplicates across tables."
      ]
    },
    {
      "cell_type": "code",
      "execution_count": null,
      "id": "MNpQR42Y_RCB",
      "metadata": {
        "id": "MNpQR42Y_RCB"
      },
      "outputs": [],
      "source": [
        "prompt_df = prompt_df.rename(columns={\"body\": \"prompt_body\"})\n",
        "generation_df = generation_df.rename(columns={\"body\": \"gen_body\"})\n",
        "decodingstrategy_df = decodingstrategy_df.rename(\n",
        "    columns={\"name\": \"dec_strat\", \"value\": \"dec_strat_value\"})\n",
        "annotation_df[\"date\"] = pd.to_datetime(annotation_df[\"date\"])"
      ]
    },
    {
      "cell_type": "markdown",
      "id": "lj264v3g6B0M",
      "metadata": {
        "id": "lj264v3g6B0M"
      },
      "source": [
        "### Merge all the relevant tables together."
      ]
    },
    {
      "cell_type": "code",
      "execution_count": null,
      "id": "dyou0HriDfDI",
      "metadata": {
        "id": "dyou0HriDfDI"
      },
      "outputs": [],
      "source": [
        "gen_to_playlist = {}\n",
        "for idx, row in playlist_df.iterrows():\n",
        "  shortname = row[\"shortname\"]\n",
        "  version = row[\"version\"]\n",
        "  generations = row[\"generations\"]\n",
        "  for gen_id in generations:\n",
        "    gen_to_playlist[gen_id] = (shortname, version)"
      ]
    },
    {
      "cell_type": "code",
      "execution_count": null,
      "id": "yIiTiaWj8pg9",
      "metadata": {
        "id": "yIiTiaWj8pg9"
      },
      "outputs": [],
      "source": [
        "full_df = annotation_df.join(generation_df.set_index('pk'), on='generation')\n",
        "full_df = full_df.join(prompt_df.set_index('pk'), 'prompt')\n",
        "full_df = full_df.join(decodingstrategy_df.set_index('pk'), 'decoding_strategy')"
      ]
    },
    {
      "cell_type": "code",
      "execution_count": null,
      "id": "Bv05Kpq-AiD5",
      "metadata": {
        "id": "Bv05Kpq-AiD5"
      },
      "outputs": [],
      "source": [
        "playlist_names = [] \n",
        "playlist_versions = []\n",
        "for idx, row in full_df.iterrows():\n",
        "  gen_id = row[\"generation\"]\n",
        "  playlist_info = gen_to_playlist[gen_id]\n",
        "  playlist_names.append(playlist_info[0])\n",
        "  playlist_versions.append(playlist_info[1])\n",
        "full_df[\"playlist_name\"] = playlist_names\n",
        "full_df[\"playlist_version\"] = playlist_versions"
      ]
    },
    {
      "cell_type": "code",
      "execution_count": null,
      "id": "W8Vo9rF5VUqM",
      "metadata": {
        "id": "W8Vo9rF5VUqM"
      },
      "outputs": [],
      "source": [
        "full_df"
      ]
    },
    {
      "cell_type": "markdown",
      "id": "dESrdQ0VHxBT",
      "metadata": {
        "id": "dESrdQ0VHxBT"
      },
      "source": [
        "# Filtering annotations for users who have agreed to have their data analyzed"
      ]
    },
    {
      "cell_type": "code",
      "execution_count": null,
      "id": "kOZQaouODFn5",
      "metadata": {
        "id": "kOZQaouODFn5"
      },
      "outputs": [],
      "source": [
        "SURVEY_RESPONSES_FILE = 'gs://roft_buckups/521_responses.csv'\n",
        "survey_df = pd.read_csv(SURVEY_RESPONSES_FILE)\n",
        "survey_filter_df = survey_df[survey_df[\"Do you agree for the data being collected on this form along with any annotations you make on the RoFT website to be used in an anonymized, aggregated way for research on students' ability to detect machine-generated text? Your answer on this question will not affect your grade.\"] == 'No']\n",
        "\n",
        "# all the users who GAVE US PERMISSION\n",
        "users_filter_df = user_df[~user_df.email.isin(survey_filter_df[\"Email Address\"].values)]\n",
        "\n",
        "# all the profiles that GAVE US PERMISSION\n",
        "profiles_filter_df = profile_df[profile_df.user.isin(users_filter_df.pk)]\n",
        "\n",
        "full_df = full_df[full_df.annotator.isin(profiles_filter_df.pk)]"
      ]
    },
    {
      "cell_type": "markdown",
      "id": "tFllvXnJ60x9",
      "metadata": {
        "id": "tFllvXnJ60x9"
      },
      "source": [
        "# Analysis"
      ]
    },
    {
      "cell_type": "markdown",
      "id": "ODMubmKy9j6d",
      "metadata": {
        "id": "ODMubmKy9j6d"
      },
      "source": [
        "## Mean points"
      ]
    },
    {
      "cell_type": "code",
      "execution_count": null,
      "id": "ke3hPwwCKIEd",
      "metadata": {
        "id": "ke3hPwwCKIEd"
      },
      "outputs": [],
      "source": [
        "def analyze_per_playlist():\n",
        "  info_to_return = []\n",
        "  playlist_names = set(playlist_df[\"shortname\"].tolist())\n",
        "  for playlist in playlist_names:\n",
        "    df = full_df[(full_df[\"playlist_name\"]==playlist) & (full_df[\"playlist_version\"]==\"0.2\")]\n",
        "\n",
        "    info = {\"playlist\": playlist,\n",
        "            \"mean score\": np.mean(df[\"points\"]),\n",
        "            \"median score\": np.median(df[\"points\"]),\n",
        "            \"fraction_nonzero\": len(df[df[\"points\"] > 0]) / len(df),\n",
        "            \"num_annotations\": len(df)\n",
        "    }\n",
        "    info_to_return.append(info)\n",
        "  return pd.DataFrame(info_to_return)\n",
        "\n",
        "analyze_per_playlist()"
      ]
    },
    {
      "cell_type": "code",
      "execution_count": null,
      "id": "6zxk4qicD0rY",
      "metadata": {
        "id": "6zxk4qicD0rY"
      },
      "outputs": [],
      "source": [
        "def analyze_per_decoding_strat():\n",
        "  info_to_return = []\n",
        "  playlist_names = set(playlist_df[\"shortname\"].tolist())\n",
        "  for playlist in playlist_names:\n",
        "    for top_p_value in [0.0, 0.4, 1.0]:\n",
        "      df = full_df[(full_df[\"dec_strat\"]==\"top-p\") &\n",
        "                  (full_df[\"dec_strat_value\"]==top_p_value) &\n",
        "                  (full_df[\"playlist_name\"]==playlist)]\n",
        "\n",
        "      if len(df) > 0:\n",
        "        info = {\"p-value\": top_p_value,\n",
        "                \"playlist\": playlist,\n",
        "                \"mean score\": np.mean(df[\"points\"]),\n",
        "                \"median score\": np.median(df[\"points\"]),\n",
        "                \"fraction_nonzero\": len(df[df[\"points\"] > 0]) / len(df),\n",
        "                \"num_annotations\": len(df),\n",
        "        }\n",
        "        info_to_return.append(info)\n",
        "  return pd.DataFrame(info_to_return)\n",
        "\n",
        "analyze_per_decoding_strat()"
      ]
    },
    {
      "cell_type": "code",
      "execution_count": null,
      "id": "mCSftI8x69Bt",
      "metadata": {
        "id": "mCSftI8x69Bt"
      },
      "outputs": [],
      "source": [
        "full_df.columns"
      ]
    },
    {
      "cell_type": "code",
      "execution_count": null,
      "id": "g2WJuIIKNNHB",
      "metadata": {
        "id": "g2WJuIIKNNHB"
      },
      "outputs": [],
      "source": [
        "[0.0, 0.4, 1.0]"
      ]
    },
    {
      "cell_type": "markdown",
      "id": "79b5219e",
      "metadata": {
        "id": "79b5219e"
      },
      "source": [
        "## Annotator skill"
      ]
    },
    {
      "cell_type": "code",
      "execution_count": null,
      "id": "5a590aa0",
      "metadata": {
        "id": "5a590aa0",
        "scrolled": false
      },
      "outputs": [],
      "source": [
        "annotation_df.groupby('annotator').points.mean().plot.hist(\n",
        "    figsize=(20, 10),\n",
        "    title='Achieved Points Distribution'\n",
        ")"
      ]
    },
    {
      "cell_type": "markdown",
      "id": "lY9BcgVA9whO",
      "metadata": {
        "id": "lY9BcgVA9whO"
      },
      "source": [
        "Of the annotators who did at least K annotations, plot their mean score over time"
      ]
    },
    {
      "cell_type": "code",
      "execution_count": null,
      "id": "085fVoDX95a9",
      "metadata": {
        "id": "085fVoDX95a9"
      },
      "outputs": [],
      "source": [
        "df = annotation_df.groupby('annotator').count()\n"
      ]
    },
    {
      "cell_type": "code",
      "execution_count": null,
      "id": "kT_Nu6QTGFz2",
      "metadata": {
        "id": "kT_Nu6QTGFz2"
      },
      "outputs": [],
      "source": [
        "def analyze_progress(k=50):\n",
        "  \"\"\"Analyze whether annotators improve in aggregate over k annotations.\"\"\"\n",
        "  all_score_series = []\n",
        "  annotators = df[df[\"pk\"] > k].reset_index()[\"annotator\"].tolist()\n",
        "  for annotator in annotators:\n",
        "    annotations = annotation_df[annotation_df[\"annotator\"] == annotator]\n",
        "    score_series = annotations.sort_values(\"date\")[\"points\"][:k].tolist()\n",
        "    all_score_series.append(score_series)\n",
        "\n",
        "  data = np.array(s)\n",
        "  data = np.mean(data, axis=0)\n",
        "  plt.plot(range(1, k+1), data)\n",
        "  plt.ylabel(\"Mean score\")\n",
        "  plt.xlabel(\"$n$th annotation\")\n",
        "  plt.title(\"Performance over time\")\n",
        "  plt.show()\n",
        "\n",
        "  return np.array(all_score_series)\n",
        "\n",
        "k = 100\n",
        "s = analyze_progress(k)"
      ]
    },
    {
      "cell_type": "markdown",
      "id": "uMpu_b_pJNw_",
      "metadata": {
        "id": "uMpu_b_pJNw_"
      },
      "source": [
        "### Inter-annotator agreement"
      ]
    },
    {
      "cell_type": "markdown",
      "id": "aQ7ezEMiT-HE",
      "metadata": {
        "id": "aQ7ezEMiT-HE"
      },
      "source": [
        "For every pair of annotators who annotated the same generaton, what fraction guessed the same boundary?"
      ]
    },
    {
      "cell_type": "code",
      "execution_count": null,
      "id": "H6iwr8WqFrf5",
      "metadata": {
        "id": "H6iwr8WqFrf5"
      },
      "outputs": [],
      "source": [
        "annotations_per_gen = annotation_df.groupby('generation')\n",
        "# \n",
        "num_annotations_per_gen = annotations_per_gen.points.count()\n"
      ]
    },
    {
      "cell_type": "code",
      "execution_count": null,
      "id": "fIhRQOfqUaCP",
      "metadata": {
        "id": "fIhRQOfqUaCP"
      },
      "outputs": [],
      "source": [
        "def analyze_fraction_agreements():\n",
        "  generation_ids = set(annotation_df[\"generation\"].tolist())\n",
        "  annotations_per_gen = annotation_df.groupby('generation')\n",
        "\n",
        "  overall_num_annotations = 0\n",
        "  overall_num_agreements = 0\n",
        "\n",
        "  x = annotations_per_gen.boundary.value_counts()\n",
        "  for idx, generation in enumerate(generation_ids):\n",
        "    chosen_boundaries = x[generation]\n",
        "    chosen_boundaries = {k: chosen_boundaries[k] for k in chosen_boundaries.keys()}\n",
        "    \n",
        "    total_annotations = sum(chosen_boundaries.values())\n",
        "    if total_annotations > 1:\n",
        "      total_agreements = sum(v for v in chosen_boundaries.values() if v > 1)\n",
        "\n",
        "      overall_num_annotations += total_annotations\n",
        "      overall_num_agreements += total_agreements\n",
        "\n",
        "  print(\"Out of {} total annotations on generations with >1 annotation, {} were in agreement with another annotation on the true boundary position. That is {}\".format(\n",
        "      overall_num_annotations, overall_num_agreements, overall_num_agreements/overall_num_annotations\n",
        "  ))\n",
        "analyze_fraction_agreements()\n",
        "\n",
        "# TODO: Figure out what the baseline of random guessing would be,"
      ]
    },
    {
      "cell_type": "code",
      "execution_count": null,
      "id": "UAMK8TkeQN1b",
      "metadata": {
        "id": "UAMK8TkeQN1b"
      },
      "outputs": [],
      "source": [
        "user_df[user_df[\"pk\"] == 2697]"
      ]
    },
    {
      "cell_type": "markdown",
      "id": "1ca229b7",
      "metadata": {
        "id": "1ca229b7"
      },
      "source": [
        "## Profile Statistics"
      ]
    },
    {
      "cell_type": "code",
      "execution_count": null,
      "id": "dfe10d9c",
      "metadata": {
        "id": "dfe10d9c"
      },
      "outputs": [],
      "source": [
        "profile_df.is_temporary.mean()"
      ]
    }
  ],
  "metadata": {
    "colab": {
      "collapsed_sections": [],
      "name": "research.ipynb",
      "provenance": []
    },
    "interpreter": {
      "hash": "3f5a4468cc0260775568228635fd4f02389bcd27640ac779f973b88a6eda0228"
    },
    "kernelspec": {
      "display_name": "Python 3.6.0 64-bit ('3.6.0': pyenv)",
      "name": "python3"
    },
    "language_info": {
      "codemirror_mode": {
        "name": "ipython",
        "version": 3
      },
      "file_extension": ".py",
      "mimetype": "text/x-python",
      "name": "python",
      "nbconvert_exporter": "python",
      "pygments_lexer": "ipython3",
      "version": "3.6.0"
    }
  },
  "nbformat": 4,
  "nbformat_minor": 5
}
