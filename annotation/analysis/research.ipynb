{
  "nbformat": 4,
  "nbformat_minor": 5,
  "metadata": {
    "kernelspec": {
      "display_name": "Python 3 (ipykernel)",
      "language": "python",
      "name": "python3"
    },
    "language_info": {
      "codemirror_mode": {
        "name": "ipython",
        "version": 3
      },
      "file_extension": ".py",
      "mimetype": "text/x-python",
      "name": "python",
      "nbconvert_exporter": "python",
      "pygments_lexer": "ipython3",
      "version": "3.9.7"
    },
    "colab": {
      "name": "research.ipynb",
      "provenance": [],
      "collapsed_sections": [],
      "include_colab_link": true
    }
  },
  "cells": [
    {
      "cell_type": "markdown",
      "metadata": {
        "id": "view-in-github",
        "colab_type": "text"
      },
      "source": [
        "<a href=\"https://colab.research.google.com/github/kirubarajan/roft/blob/master/annotation/analysis/research.ipynb\" target=\"_parent\"><img src=\"https://colab.research.google.com/assets/colab-badge.svg\" alt=\"Open In Colab\"/></a>"
      ]
    },
    {
      "cell_type": "markdown",
      "metadata": {
        "id": "431e2270"
      },
      "source": [
        "# Load from database"
      ],
      "id": "431e2270"
    },
    {
      "cell_type": "code",
      "metadata": {
        "id": "8b5bdd61"
      },
      "source": [
        "import json\n",
        "import pandas as pd\n",
        "import tensorflow as tf\n",
        "import numpy as np\n",
        "import matplotlib.pyplot as plt\n",
        "import seaborn as sns\n",
        "\n",
        "DATABASE_DUMP_FILE = 'gs://roft_buckups/09/23/2021.json'"
      ],
      "id": "8b5bdd61",
      "execution_count": 2,
      "outputs": []
    },
    {
      "cell_type": "code",
      "metadata": {
        "id": "FACZ9EAt7u-0"
      },
      "source": [
        "from google.colab import auth\n",
        "auth.authenticate_user()"
      ],
      "id": "FACZ9EAt7u-0",
      "execution_count": 3,
      "outputs": []
    },
    {
      "cell_type": "code",
      "metadata": {
        "id": "b51ea0dd"
      },
      "source": [
        "with tf.io.gfile.GFile(DATABASE_DUMP_FILE, 'r') as f:\n",
        "    db = json.load(f)\n",
        "\n",
        "def get_df(sql_model='core.annotation'):\n",
        "    df = pd.DataFrame(db)\n",
        "    df = df[df.model == sql_model]\n",
        "    \n",
        "    if 'date' in df.columns.values:\n",
        "        df = df.set_index('date')\n",
        "\n",
        "    return pd.json_normalize(df.fields).assign(pk=df.pk.values)"
      ],
      "id": "b51ea0dd",
      "execution_count": 4,
      "outputs": []
    },
    {
      "cell_type": "code",
      "metadata": {
        "colab": {
          "base_uri": "https://localhost:8080/"
        },
        "id": "TWIa7UicQdgY",
        "outputId": "bb19a77d-ffd3-445a-b7d6-3bc772c0eeac"
      },
      "source": [
        "df = pd.DataFrame(db)\n",
        "print(set(df[\"model\"].tolist()))"
      ],
      "id": "TWIa7UicQdgY",
      "execution_count": 5,
      "outputs": [
        {
          "output_type": "stream",
          "name": "stdout",
          "text": [
            "{'core.decodingstrategy', 'auth.permission', 'core.system', 'auth.user', 'core.prompt', 'core.profile', 'core.feedbackoption', 'core.annotation', 'core.dataset', 'core.playlist', 'sessions.session', 'contenttypes.contenttype', 'core.timestamp', 'core.generation', 'admin.logentry'}\n"
          ]
        }
      ]
    },
    {
      "cell_type": "markdown",
      "metadata": {
        "id": "DBj9RVE253uJ"
      },
      "source": [
        "### Load all the tables"
      ],
      "id": "DBj9RVE253uJ"
    },
    {
      "cell_type": "code",
      "metadata": {
        "id": "3a1639a1"
      },
      "source": [
        "annotation_df = get_df()\n",
        "profile_df = get_df('core.profile')\n",
        "generation_df = get_df('core.generation')\n",
        "prompt_df = get_df('core.prompt')\n",
        "playlist_df = get_df('core.playlist')\n",
        "decodingstrategy_df = get_df('core.decodingstrategy')\n",
        "user_df = get_df('auth.user')"
      ],
      "id": "3a1639a1",
      "execution_count": 8,
      "outputs": []
    },
    {
      "cell_type": "markdown",
      "metadata": {
        "id": "VxbVampM561u"
      },
      "source": [
        "### Modify column names to avoid duplicates across tables."
      ],
      "id": "VxbVampM561u"
    },
    {
      "cell_type": "code",
      "metadata": {
        "id": "MNpQR42Y_RCB"
      },
      "source": [
        "prompt_df = prompt_df.rename(columns={\"body\": \"prompt_body\"})\n",
        "generation_df = generation_df.rename(columns={\"body\": \"gen_body\"})\n",
        "decodingstrategy_df = decodingstrategy_df.rename(\n",
        "    columns={\"name\": \"dec_strat\", \"value\": \"dec_strat_value\"})\n",
        "annotation_df[\"date\"] = pd.to_datetime(annotation_df[\"date\"])"
      ],
      "id": "MNpQR42Y_RCB",
      "execution_count": 9,
      "outputs": []
    },
    {
      "cell_type": "markdown",
      "metadata": {
        "id": "lj264v3g6B0M"
      },
      "source": [
        "### Merge all the relevant tables together."
      ],
      "id": "lj264v3g6B0M"
    },
    {
      "cell_type": "code",
      "metadata": {
        "id": "dyou0HriDfDI"
      },
      "source": [
        "gen_to_playlist = {}\n",
        "for idx, row in playlist_df.iterrows():\n",
        "  shortname = row[\"shortname\"]\n",
        "  version = row[\"version\"]\n",
        "  generations = row[\"generations\"]\n",
        "  for gen_id in generations:\n",
        "    gen_to_playlist[gen_id] = (shortname, version)"
      ],
      "id": "dyou0HriDfDI",
      "execution_count": 10,
      "outputs": []
    },
    {
      "cell_type": "code",
      "metadata": {
        "id": "yIiTiaWj8pg9"
      },
      "source": [
        "full_df = annotation_df.join(generation_df.set_index('pk'), on='generation')\n",
        "full_df = full_df.join(prompt_df.set_index('pk'), 'prompt')\n",
        "full_df = full_df.join(decodingstrategy_df.set_index('pk'), 'decoding_strategy')"
      ],
      "id": "yIiTiaWj8pg9",
      "execution_count": 11,
      "outputs": []
    },
    {
      "cell_type": "code",
      "metadata": {
        "id": "Bv05Kpq-AiD5"
      },
      "source": [
        "playlist_names = [] \n",
        "playlist_versions = []\n",
        "for idx, row in full_df.iterrows():\n",
        "  gen_id = row[\"generation\"]\n",
        "  playlist_info = gen_to_playlist[gen_id]\n",
        "  playlist_names.append(playlist_info[0])\n",
        "  playlist_versions.append(playlist_info[1])\n",
        "full_df[\"playlist_name\"] = playlist_names\n",
        "full_df[\"playlist_version\"] = playlist_versions"
      ],
      "id": "Bv05Kpq-AiD5",
      "execution_count": 12,
      "outputs": []
    },
    {
      "cell_type": "code",
      "metadata": {
        "colab": {
          "base_uri": "https://localhost:8080/",
          "height": 1000
        },
        "id": "W8Vo9rF5VUqM",
        "outputId": "b9f355fc-1fba-4082-ad3c-bd436a3b32ef"
      },
      "source": [
        "full_df"
      ],
      "id": "W8Vo9rF5VUqM",
      "execution_count": 13,
      "outputs": [
        {
          "output_type": "execute_result",
          "data": {
            "text/html": [
              "<div>\n",
              "<style scoped>\n",
              "    .dataframe tbody tr th:only-of-type {\n",
              "        vertical-align: middle;\n",
              "    }\n",
              "\n",
              "    .dataframe tbody tr th {\n",
              "        vertical-align: top;\n",
              "    }\n",
              "\n",
              "    .dataframe thead th {\n",
              "        text-align: right;\n",
              "    }\n",
              "</style>\n",
              "<table border=\"1\" class=\"dataframe\">\n",
              "  <thead>\n",
              "    <tr style=\"text-align: right;\">\n",
              "      <th></th>\n",
              "      <th>date</th>\n",
              "      <th>annotator</th>\n",
              "      <th>generation</th>\n",
              "      <th>playlist</th>\n",
              "      <th>boundary</th>\n",
              "      <th>points</th>\n",
              "      <th>attention_check</th>\n",
              "      <th>reason</th>\n",
              "      <th>pk</th>\n",
              "      <th>system</th>\n",
              "      <th>prompt</th>\n",
              "      <th>decoding_strategy</th>\n",
              "      <th>gen_body</th>\n",
              "      <th>prompt_body</th>\n",
              "      <th>num_sentences</th>\n",
              "      <th>dataset</th>\n",
              "      <th>prompt_index</th>\n",
              "      <th>dec_strat</th>\n",
              "      <th>dec_strat_value</th>\n",
              "      <th>playlist_name</th>\n",
              "      <th>playlist_version</th>\n",
              "    </tr>\n",
              "  </thead>\n",
              "  <tbody>\n",
              "    <tr>\n",
              "      <th>0</th>\n",
              "      <td>2021-06-12 22:17:41.178000+00:00</td>\n",
              "      <td>2</td>\n",
              "      <td>909</td>\n",
              "      <td>1</td>\n",
              "      <td>3</td>\n",
              "      <td>0</td>\n",
              "      <td>False</td>\n",
              "      <td>[]</td>\n",
              "      <td>1</td>\n",
              "      <td>gpt2</td>\n",
              "      <td>932</td>\n",
              "      <td>1</td>\n",
              "      <td>Jack and Max was a fine company to join on suc...</td>\n",
              "      <td>It's lonely work, killing the future._SEP_Jack...</td>\n",
              "      <td>5</td>\n",
              "      <td>1</td>\n",
              "      <td>1653</td>\n",
              "      <td>top-p</td>\n",
              "      <td>0.4</td>\n",
              "      <td>Short Stories</td>\n",
              "      <td>0.2</td>\n",
              "    </tr>\n",
              "    <tr>\n",
              "      <th>1</th>\n",
              "      <td>2021-06-12 23:08:41.084000+00:00</td>\n",
              "      <td>4</td>\n",
              "      <td>909</td>\n",
              "      <td>1</td>\n",
              "      <td>3</td>\n",
              "      <td>0</td>\n",
              "      <td>False</td>\n",
              "      <td>[contradicts_knowledge]</td>\n",
              "      <td>2</td>\n",
              "      <td>gpt2</td>\n",
              "      <td>932</td>\n",
              "      <td>1</td>\n",
              "      <td>Jack and Max was a fine company to join on suc...</td>\n",
              "      <td>It's lonely work, killing the future._SEP_Jack...</td>\n",
              "      <td>5</td>\n",
              "      <td>1</td>\n",
              "      <td>1653</td>\n",
              "      <td>top-p</td>\n",
              "      <td>0.4</td>\n",
              "      <td>Short Stories</td>\n",
              "      <td>0.2</td>\n",
              "    </tr>\n",
              "    <tr>\n",
              "      <th>2</th>\n",
              "      <td>2021-06-21 19:31:08.098000+00:00</td>\n",
              "      <td>139</td>\n",
              "      <td>18298</td>\n",
              "      <td>3</td>\n",
              "      <td>0</td>\n",
              "      <td>0</td>\n",
              "      <td>False</td>\n",
              "      <td>[contradicts_knowledge]</td>\n",
              "      <td>3</td>\n",
              "      <td>ctrl</td>\n",
              "      <td>13345</td>\n",
              "      <td>1</td>\n",
              "      <td></td>\n",
              "      <td>\"Speech on Foreign Policy\" by President Ronald...</td>\n",
              "      <td>10</td>\n",
              "      <td>8</td>\n",
              "      <td>714</td>\n",
              "      <td>top-p</td>\n",
              "      <td>0.4</td>\n",
              "      <td>Presidential Speeches</td>\n",
              "      <td>0.2</td>\n",
              "    </tr>\n",
              "    <tr>\n",
              "      <th>3</th>\n",
              "      <td>2021-06-23 19:35:29.878000+00:00</td>\n",
              "      <td>182</td>\n",
              "      <td>18298</td>\n",
              "      <td>3</td>\n",
              "      <td>0</td>\n",
              "      <td>0</td>\n",
              "      <td>False</td>\n",
              "      <td>[-2311780724603632545]</td>\n",
              "      <td>4</td>\n",
              "      <td>ctrl</td>\n",
              "      <td>13345</td>\n",
              "      <td>1</td>\n",
              "      <td></td>\n",
              "      <td>\"Speech on Foreign Policy\" by President Ronald...</td>\n",
              "      <td>10</td>\n",
              "      <td>8</td>\n",
              "      <td>714</td>\n",
              "      <td>top-p</td>\n",
              "      <td>0.4</td>\n",
              "      <td>Presidential Speeches</td>\n",
              "      <td>0.2</td>\n",
              "    </tr>\n",
              "    <tr>\n",
              "      <th>4</th>\n",
              "      <td>2021-06-25 18:56:37.169000+00:00</td>\n",
              "      <td>272</td>\n",
              "      <td>12621</td>\n",
              "      <td>-1</td>\n",
              "      <td>7</td>\n",
              "      <td>0</td>\n",
              "      <td>False</td>\n",
              "      <td>[irrelevant]</td>\n",
              "      <td>5</td>\n",
              "      <td>gpt2-xl</td>\n",
              "      <td>7668</td>\n",
              "      <td>4</td>\n",
              "      <td>The Mayor has been in office for more than two...</td>\n",
              "      <td>USUALLY, when a mayor dismisses people from th...</td>\n",
              "      <td>9</td>\n",
              "      <td>3</td>\n",
              "      <td>1098</td>\n",
              "      <td>top-p</td>\n",
              "      <td>0.2</td>\n",
              "      <td>New York Times</td>\n",
              "      <td>0.1</td>\n",
              "    </tr>\n",
              "    <tr>\n",
              "      <th>...</th>\n",
              "      <td>...</td>\n",
              "      <td>...</td>\n",
              "      <td>...</td>\n",
              "      <td>...</td>\n",
              "      <td>...</td>\n",
              "      <td>...</td>\n",
              "      <td>...</td>\n",
              "      <td>...</td>\n",
              "      <td>...</td>\n",
              "      <td>...</td>\n",
              "      <td>...</td>\n",
              "      <td>...</td>\n",
              "      <td>...</td>\n",
              "      <td>...</td>\n",
              "      <td>...</td>\n",
              "      <td>...</td>\n",
              "      <td>...</td>\n",
              "      <td>...</td>\n",
              "      <td>...</td>\n",
              "      <td>...</td>\n",
              "      <td>...</td>\n",
              "    </tr>\n",
              "    <tr>\n",
              "      <th>15333</th>\n",
              "      <td>2021-09-14 14:36:06.665000+00:00</td>\n",
              "      <td>2764</td>\n",
              "      <td>18284</td>\n",
              "      <td>7</td>\n",
              "      <td>3</td>\n",
              "      <td>0</td>\n",
              "      <td>False</td>\n",
              "      <td>[]</td>\n",
              "      <td>19306</td>\n",
              "      <td>ctrl</td>\n",
              "      <td>13331</td>\n",
              "      <td>1</td>\n",
              "      <td>And when they say the President, they're talki...</td>\n",
              "      <td>\"University of Notre Dame Commencement\" by Pre...</td>\n",
              "      <td>9</td>\n",
              "      <td>8</td>\n",
              "      <td>674</td>\n",
              "      <td>top-p</td>\n",
              "      <td>0.4</td>\n",
              "      <td>Presidential Speeches</td>\n",
              "      <td>0.2</td>\n",
              "    </tr>\n",
              "    <tr>\n",
              "      <th>15334</th>\n",
              "      <td>2021-09-14 14:36:14.091000+00:00</td>\n",
              "      <td>2764</td>\n",
              "      <td>18178</td>\n",
              "      <td>7</td>\n",
              "      <td>2</td>\n",
              "      <td>5</td>\n",
              "      <td>False</td>\n",
              "      <td>[]</td>\n",
              "      <td>19307</td>\n",
              "      <td>ctrl</td>\n",
              "      <td>13225</td>\n",
              "      <td>1</td>\n",
              "      <td>And thank you, Speaker Pelosi, for leading the...</td>\n",
              "      <td>\"Victims Rights Announcement\" by President Bil...</td>\n",
              "      <td>3</td>\n",
              "      <td>8</td>\n",
              "      <td>200</td>\n",
              "      <td>top-p</td>\n",
              "      <td>0.4</td>\n",
              "      <td>Presidential Speeches</td>\n",
              "      <td>0.2</td>\n",
              "    </tr>\n",
              "    <tr>\n",
              "      <th>15335</th>\n",
              "      <td>2021-09-14 14:36:30.688000+00:00</td>\n",
              "      <td>2764</td>\n",
              "      <td>18327</td>\n",
              "      <td>7</td>\n",
              "      <td>4</td>\n",
              "      <td>5</td>\n",
              "      <td>False</td>\n",
              "      <td>[]</td>\n",
              "      <td>19308</td>\n",
              "      <td>ctrl</td>\n",
              "      <td>13374</td>\n",
              "      <td>1</td>\n",
              "      <td>Your financial standing has been so well estab...</td>\n",
              "      <td>\"Address to the American Bankers’ Association....</td>\n",
              "      <td>5</td>\n",
              "      <td>6</td>\n",
              "      <td>40</td>\n",
              "      <td>top-p</td>\n",
              "      <td>0.4</td>\n",
              "      <td>Presidential Speeches</td>\n",
              "      <td>0.2</td>\n",
              "    </tr>\n",
              "    <tr>\n",
              "      <th>15336</th>\n",
              "      <td>2021-09-14 14:37:51.209000+00:00</td>\n",
              "      <td>2764</td>\n",
              "      <td>18236</td>\n",
              "      <td>7</td>\n",
              "      <td>9</td>\n",
              "      <td>1</td>\n",
              "      <td>False</td>\n",
              "      <td>[]</td>\n",
              "      <td>19309</td>\n",
              "      <td>ctrl</td>\n",
              "      <td>13283</td>\n",
              "      <td>1</td>\n",
              "      <td>Our current methods for producing oil are unsu...</td>\n",
              "      <td>\"Address to the Nation on Energy\" by President...</td>\n",
              "      <td>6</td>\n",
              "      <td>8</td>\n",
              "      <td>460</td>\n",
              "      <td>top-p</td>\n",
              "      <td>0.4</td>\n",
              "      <td>Presidential Speeches</td>\n",
              "      <td>0.2</td>\n",
              "    </tr>\n",
              "    <tr>\n",
              "      <th>15337</th>\n",
              "      <td>2021-09-14 14:38:00.353000+00:00</td>\n",
              "      <td>2764</td>\n",
              "      <td>18212</td>\n",
              "      <td>7</td>\n",
              "      <td>2</td>\n",
              "      <td>0</td>\n",
              "      <td>False</td>\n",
              "      <td>[]</td>\n",
              "      <td>19310</td>\n",
              "      <td>ctrl</td>\n",
              "      <td>13259</td>\n",
              "      <td>1</td>\n",
              "      <td>But tonight, let me tell you what we've always...</td>\n",
              "      <td>\"2011 State of the Union Address\" by President...</td>\n",
              "      <td>5</td>\n",
              "      <td>8</td>\n",
              "      <td>342</td>\n",
              "      <td>top-p</td>\n",
              "      <td>0.4</td>\n",
              "      <td>Presidential Speeches</td>\n",
              "      <td>0.2</td>\n",
              "    </tr>\n",
              "  </tbody>\n",
              "</table>\n",
              "<p>15338 rows × 21 columns</p>\n",
              "</div>"
            ],
            "text/plain": [
              "                                  date  ...  playlist_version\n",
              "0     2021-06-12 22:17:41.178000+00:00  ...               0.2\n",
              "1     2021-06-12 23:08:41.084000+00:00  ...               0.2\n",
              "2     2021-06-21 19:31:08.098000+00:00  ...               0.2\n",
              "3     2021-06-23 19:35:29.878000+00:00  ...               0.2\n",
              "4     2021-06-25 18:56:37.169000+00:00  ...               0.1\n",
              "...                                ...  ...               ...\n",
              "15333 2021-09-14 14:36:06.665000+00:00  ...               0.2\n",
              "15334 2021-09-14 14:36:14.091000+00:00  ...               0.2\n",
              "15335 2021-09-14 14:36:30.688000+00:00  ...               0.2\n",
              "15336 2021-09-14 14:37:51.209000+00:00  ...               0.2\n",
              "15337 2021-09-14 14:38:00.353000+00:00  ...               0.2\n",
              "\n",
              "[15338 rows x 21 columns]"
            ]
          },
          "metadata": {},
          "execution_count": 13
        }
      ]
    },
    {
      "cell_type": "markdown",
      "metadata": {
        "id": "tFllvXnJ60x9"
      },
      "source": [
        "# Analysis"
      ],
      "id": "tFllvXnJ60x9"
    },
    {
      "cell_type": "markdown",
      "metadata": {
        "id": "ODMubmKy9j6d"
      },
      "source": [
        "## Mean points"
      ],
      "id": "ODMubmKy9j6d"
    },
    {
      "cell_type": "code",
      "metadata": {
        "colab": {
          "base_uri": "https://localhost:8080/",
          "height": 173
        },
        "id": "ke3hPwwCKIEd",
        "outputId": "fa40a750-a434-4e3f-9c93-58441ff2e29c"
      },
      "source": [
        "def analyze_per_playlist():\n",
        "  info_to_return = []\n",
        "  playlist_names = set(playlist_df[\"shortname\"].tolist())\n",
        "  for playlist in playlist_names:\n",
        "    df = full_df[(full_df[\"playlist_name\"]==playlist) & (full_df[\"playlist_version\"]==\"0.2\")]\n",
        "\n",
        "    info = {\"playlist\": playlist,\n",
        "            \"mean score\": np.mean(df[\"points\"]),\n",
        "            \"median score\": np.median(df[\"points\"]),\n",
        "            \"fraction_nonzero\": len(df[df[\"points\"] > 0]) / len(df),\n",
        "            \"num_annotations\": len(df)\n",
        "    }\n",
        "    info_to_return.append(info)\n",
        "  return pd.DataFrame(info_to_return)\n",
        "\n",
        "analyze_per_playlist()"
      ],
      "id": "ke3hPwwCKIEd",
      "execution_count": null,
      "outputs": [
        {
          "output_type": "execute_result",
          "data": {
            "text/html": [
              "<div>\n",
              "<style scoped>\n",
              "    .dataframe tbody tr th:only-of-type {\n",
              "        vertical-align: middle;\n",
              "    }\n",
              "\n",
              "    .dataframe tbody tr th {\n",
              "        vertical-align: top;\n",
              "    }\n",
              "\n",
              "    .dataframe thead th {\n",
              "        text-align: right;\n",
              "    }\n",
              "</style>\n",
              "<table border=\"1\" class=\"dataframe\">\n",
              "  <thead>\n",
              "    <tr style=\"text-align: right;\">\n",
              "      <th></th>\n",
              "      <th>playlist</th>\n",
              "      <th>mean score</th>\n",
              "      <th>median score</th>\n",
              "      <th>fraction_nonzero</th>\n",
              "      <th>num_annotations</th>\n",
              "    </tr>\n",
              "  </thead>\n",
              "  <tbody>\n",
              "    <tr>\n",
              "      <th>0</th>\n",
              "      <td>Short Stories</td>\n",
              "      <td>2.335368</td>\n",
              "      <td>2.0</td>\n",
              "      <td>0.565326</td>\n",
              "      <td>3605</td>\n",
              "    </tr>\n",
              "    <tr>\n",
              "      <th>1</th>\n",
              "      <td>Presidential Speeches</td>\n",
              "      <td>1.843945</td>\n",
              "      <td>1.0</td>\n",
              "      <td>0.515605</td>\n",
              "      <td>2403</td>\n",
              "    </tr>\n",
              "    <tr>\n",
              "      <th>2</th>\n",
              "      <td>New York Times</td>\n",
              "      <td>1.718878</td>\n",
              "      <td>0.0</td>\n",
              "      <td>0.484610</td>\n",
              "      <td>2924</td>\n",
              "    </tr>\n",
              "    <tr>\n",
              "      <th>3</th>\n",
              "      <td>Recipes</td>\n",
              "      <td>1.959184</td>\n",
              "      <td>0.0</td>\n",
              "      <td>0.484067</td>\n",
              "      <td>5586</td>\n",
              "    </tr>\n",
              "  </tbody>\n",
              "</table>\n",
              "</div>"
            ],
            "text/plain": [
              "                playlist  mean score  ...  fraction_nonzero  num_annotations\n",
              "0          Short Stories    2.335368  ...          0.565326             3605\n",
              "1  Presidential Speeches    1.843945  ...          0.515605             2403\n",
              "2         New York Times    1.718878  ...          0.484610             2924\n",
              "3                Recipes    1.959184  ...          0.484067             5586\n",
              "\n",
              "[4 rows x 5 columns]"
            ]
          },
          "metadata": {},
          "execution_count": 25
        }
      ]
    },
    {
      "cell_type": "code",
      "metadata": {
        "colab": {
          "base_uri": "https://localhost:8080/",
          "height": 297
        },
        "id": "6zxk4qicD0rY",
        "outputId": "918a1e2a-3bb3-4a5b-c129-48d593333126"
      },
      "source": [
        "def analyze_per_decoding_strat():\n",
        "  info_to_return = []\n",
        "  playlist_names = set(playlist_df[\"shortname\"].tolist())\n",
        "  for playlist in playlist_names:\n",
        "    for top_p_value in [0.0, 0.4, 1.0]:\n",
        "      df = full_df[(full_df[\"dec_strat\"]==\"top-p\") &\n",
        "                  (full_df[\"dec_strat_value\"]==top_p_value) &\n",
        "                  (full_df[\"playlist_name\"]==playlist)]\n",
        "\n",
        "      if len(df) > 0:\n",
        "        info = {\"p-value\": top_p_value,\n",
        "                \"playlist\": playlist,\n",
        "                \"mean score\": np.mean(df[\"points\"]),\n",
        "                \"median score\": np.median(df[\"points\"]),\n",
        "                \"fraction_nonzero\": len(df[df[\"points\"] > 0]) / len(df),\n",
        "                \"num_annotations\": len(df),\n",
        "        }\n",
        "        info_to_return.append(info)\n",
        "  return pd.DataFrame(info_to_return)\n",
        "\n",
        "analyze_per_decoding_strat()"
      ],
      "id": "6zxk4qicD0rY",
      "execution_count": null,
      "outputs": [
        {
          "output_type": "execute_result",
          "data": {
            "text/html": [
              "<div>\n",
              "<style scoped>\n",
              "    .dataframe tbody tr th:only-of-type {\n",
              "        vertical-align: middle;\n",
              "    }\n",
              "\n",
              "    .dataframe tbody tr th {\n",
              "        vertical-align: top;\n",
              "    }\n",
              "\n",
              "    .dataframe thead th {\n",
              "        text-align: right;\n",
              "    }\n",
              "</style>\n",
              "<table border=\"1\" class=\"dataframe\">\n",
              "  <thead>\n",
              "    <tr style=\"text-align: right;\">\n",
              "      <th></th>\n",
              "      <th>p-value</th>\n",
              "      <th>playlist</th>\n",
              "      <th>mean score</th>\n",
              "      <th>median score</th>\n",
              "      <th>fraction_nonzero</th>\n",
              "      <th>num_annotations</th>\n",
              "    </tr>\n",
              "  </thead>\n",
              "  <tbody>\n",
              "    <tr>\n",
              "      <th>0</th>\n",
              "      <td>0.0</td>\n",
              "      <td>Short Stories</td>\n",
              "      <td>1.551887</td>\n",
              "      <td>0.0</td>\n",
              "      <td>0.466981</td>\n",
              "      <td>212</td>\n",
              "    </tr>\n",
              "    <tr>\n",
              "      <th>1</th>\n",
              "      <td>0.4</td>\n",
              "      <td>Short Stories</td>\n",
              "      <td>2.412543</td>\n",
              "      <td>3.0</td>\n",
              "      <td>0.573905</td>\n",
              "      <td>3173</td>\n",
              "    </tr>\n",
              "    <tr>\n",
              "      <th>2</th>\n",
              "      <td>1.0</td>\n",
              "      <td>Short Stories</td>\n",
              "      <td>1.977273</td>\n",
              "      <td>2.0</td>\n",
              "      <td>0.536364</td>\n",
              "      <td>220</td>\n",
              "    </tr>\n",
              "    <tr>\n",
              "      <th>3</th>\n",
              "      <td>0.4</td>\n",
              "      <td>Presidential Speeches</td>\n",
              "      <td>1.843945</td>\n",
              "      <td>1.0</td>\n",
              "      <td>0.515605</td>\n",
              "      <td>2403</td>\n",
              "    </tr>\n",
              "    <tr>\n",
              "      <th>4</th>\n",
              "      <td>0.0</td>\n",
              "      <td>New York Times</td>\n",
              "      <td>1.523153</td>\n",
              "      <td>0.0</td>\n",
              "      <td>0.456158</td>\n",
              "      <td>1015</td>\n",
              "    </tr>\n",
              "    <tr>\n",
              "      <th>5</th>\n",
              "      <td>0.4</td>\n",
              "      <td>New York Times</td>\n",
              "      <td>1.584430</td>\n",
              "      <td>0.0</td>\n",
              "      <td>0.455044</td>\n",
              "      <td>912</td>\n",
              "    </tr>\n",
              "    <tr>\n",
              "      <th>6</th>\n",
              "      <td>1.0</td>\n",
              "      <td>New York Times</td>\n",
              "      <td>2.041123</td>\n",
              "      <td>1.0</td>\n",
              "      <td>0.540622</td>\n",
              "      <td>997</td>\n",
              "    </tr>\n",
              "    <tr>\n",
              "      <th>7</th>\n",
              "      <td>0.4</td>\n",
              "      <td>Recipes</td>\n",
              "      <td>1.959184</td>\n",
              "      <td>0.0</td>\n",
              "      <td>0.484067</td>\n",
              "      <td>5586</td>\n",
              "    </tr>\n",
              "  </tbody>\n",
              "</table>\n",
              "</div>"
            ],
            "text/plain": [
              "   p-value               playlist  ...  fraction_nonzero  num_annotations\n",
              "0      0.0          Short Stories  ...          0.466981              212\n",
              "1      0.4          Short Stories  ...          0.573905             3173\n",
              "2      1.0          Short Stories  ...          0.536364              220\n",
              "3      0.4  Presidential Speeches  ...          0.515605             2403\n",
              "4      0.0         New York Times  ...          0.456158             1015\n",
              "5      0.4         New York Times  ...          0.455044              912\n",
              "6      1.0         New York Times  ...          0.540622              997\n",
              "7      0.4                Recipes  ...          0.484067             5586\n",
              "\n",
              "[8 rows x 6 columns]"
            ]
          },
          "metadata": {},
          "execution_count": 26
        }
      ]
    },
    {
      "cell_type": "code",
      "metadata": {
        "colab": {
          "base_uri": "https://localhost:8080/"
        },
        "id": "mCSftI8x69Bt",
        "outputId": "f0871b22-7356-4e59-d1f2-ca5a9a4f7a1a"
      },
      "source": [
        "full_df.columns"
      ],
      "id": "mCSftI8x69Bt",
      "execution_count": null,
      "outputs": [
        {
          "output_type": "execute_result",
          "data": {
            "text/plain": [
              "Index(['date', 'annotator', 'generation', 'playlist', 'boundary', 'points',\n",
              "       'attention_check', 'reason', 'pk', 'system', 'prompt',\n",
              "       'decoding_strategy', 'gen_body', 'prompt_body', 'num_sentences',\n",
              "       'dataset', 'prompt_index', 'dec_strat', 'dec_strat_value',\n",
              "       'playlist_name', 'playlist_version'],\n",
              "      dtype='object')"
            ]
          },
          "metadata": {},
          "execution_count": 17
        }
      ]
    },
    {
      "cell_type": "code",
      "metadata": {
        "id": "g2WJuIIKNNHB"
      },
      "source": [
        "[0.0, 0.4, 1.0]"
      ],
      "id": "g2WJuIIKNNHB",
      "execution_count": null,
      "outputs": []
    },
    {
      "cell_type": "markdown",
      "metadata": {
        "id": "79b5219e"
      },
      "source": [
        "## Annotator skill"
      ],
      "id": "79b5219e"
    },
    {
      "cell_type": "code",
      "metadata": {
        "scrolled": false,
        "id": "5a590aa0",
        "outputId": "0c5e3027-becb-46a9-a82d-ab5d1f0539c1"
      },
      "source": [
        "annotation_df.groupby('annotator').points.mean().plot.hist(\n",
        "    figsize=(20, 10),\n",
        "    title='Achieved Points Distribution'\n",
        ")"
      ],
      "id": "5a590aa0",
      "execution_count": null,
      "outputs": [
        {
          "data": {
            "text/plain": [
              "<AxesSubplot:title={'center':'Achieved Points Distribution'}, ylabel='Frequency'>"
            ]
          },
          "execution_count": 37,
          "metadata": {},
          "output_type": "execute_result"
        },
        {
          "data": {
            "image/png": "[encoded data removed]",
            "text/plain": [
              "<Figure size 1440x720 with 1 Axes>"
            ]
          },
          "metadata": {
            "needs_background": "light"
          },
          "output_type": "display_data"
        }
      ]
    },
    {
      "cell_type": "markdown",
      "metadata": {
        "id": "lY9BcgVA9whO"
      },
      "source": [
        "Of the annotators who did at least K annotations, plot their mean score over time"
      ],
      "id": "lY9BcgVA9whO"
    },
    {
      "cell_type": "code",
      "metadata": {
        "id": "085fVoDX95a9"
      },
      "source": [
        "df = annotation_df.groupby('annotator').count()\n"
      ],
      "id": "085fVoDX95a9",
      "execution_count": null,
      "outputs": []
    },
    {
      "cell_type": "code",
      "metadata": {
        "colab": {
          "base_uri": "https://localhost:8080/",
          "height": 314
        },
        "id": "kT_Nu6QTGFz2",
        "outputId": "27a6893f-95e5-4932-ae84-4dc81b19e73d"
      },
      "source": [
        "def analyze_progress(k=50):\n",
        "  \"\"\"Analyze whether annotators improve in aggregate over k annotations.\"\"\"\n",
        "  all_score_series = []\n",
        "  annotators = df[df[\"pk\"] > k].reset_index()[\"annotator\"].tolist()\n",
        "  for annotator in annotators:\n",
        "    annotations = annotation_df[annotation_df[\"annotator\"] == annotator]\n",
        "    score_series = annotations.sort_values(\"date\")[\"points\"][:k].tolist()\n",
        "    all_score_series.append(score_series)\n",
        "\n",
        "  data = np.array(s)\n",
        "  data = np.mean(data, axis=0)\n",
        "  plt.plot(range(1, k+1), data)\n",
        "  plt.ylabel(\"Mean score\")\n",
        "  plt.xlabel(\"$n$th annotation\")\n",
        "  plt.title(\"Performance over time\")\n",
        "  plt.show()\n",
        "\n",
        "  return np.array(all_score_series)\n",
        "\n",
        "k = 100\n",
        "s = analyze_progress(k)"
      ],
      "id": "kT_Nu6QTGFz2",
      "execution_count": null,
      "outputs": [
        {
          "output_type": "stream",
          "name": "stdout",
          "text": [
            "(100,)\n"
          ]
        },
        {
          "output_type": "display_data",
          "data": {
            "image/png": "[encoded data removed]",
            "text/plain": [
              "<Figure size 432x288 with 1 Axes>"
            ]
          },
          "metadata": {
            "needs_background": "light"
          }
        }
      ]
    },
    {
      "cell_type": "markdown",
      "metadata": {
        "id": "uMpu_b_pJNw_"
      },
      "source": [
        "### Inter-annotator agreement"
      ],
      "id": "uMpu_b_pJNw_"
    },
    {
      "cell_type": "markdown",
      "metadata": {
        "id": "aQ7ezEMiT-HE"
      },
      "source": [
        "For every pair of annotators who annotated the same generaton, what fraction guessed the same boundary?"
      ],
      "id": "aQ7ezEMiT-HE"
    },
    {
      "cell_type": "code",
      "metadata": {
        "id": "H6iwr8WqFrf5"
      },
      "source": [
        "annotations_per_gen = annotation_df.groupby('generation')\n",
        "# \n",
        "num_annotations_per_gen = annotations_per_gen.points.count()\n"
      ],
      "id": "H6iwr8WqFrf5",
      "execution_count": 14,
      "outputs": []
    },
    {
      "cell_type": "code",
      "metadata": {
        "colab": {
          "base_uri": "https://localhost:8080/"
        },
        "id": "fIhRQOfqUaCP",
        "outputId": "13b2b47b-70fb-4893-b218-83e4a10b9215"
      },
      "source": [
        "def analyze_fraction_agreements():\n",
        "  generation_ids = set(annotation_df[\"generation\"].tolist())\n",
        "  annotations_per_gen = annotation_df.groupby('generation')\n",
        "\n",
        "  overall_num_annotations = 0\n",
        "  overall_num_agreements = 0\n",
        "\n",
        "  x = annotations_per_gen.boundary.value_counts()\n",
        "  for idx, generation in enumerate(generation_ids):\n",
        "    chosen_boundaries = x[generation]\n",
        "    chosen_boundaries = {k: chosen_boundaries[k] for k in chosen_boundaries.keys()}\n",
        "    \n",
        "    total_annotations = sum(chosen_boundaries.values())\n",
        "    if total_annotations > 1:\n",
        "      total_agreements = sum(v for v in chosen_boundaries.values() if v > 1)\n",
        "\n",
        "      overall_num_annotations += total_annotations\n",
        "      overall_num_agreements += total_agreements\n",
        "\n",
        "  print(\"Out of {} total annotations on generations with >1 annotation, {} were in agreement with another annotation on the true boundary position. That is {}\".format(\n",
        "      overall_num_annotations, overall_num_agreements, overall_num_agreements/overall_num_annotations\n",
        "  ))\n",
        "analyze_fraction_agreements()\n",
        "\n",
        "# TODO: Figure out what the baseline of random guessing would be,"
      ],
      "id": "fIhRQOfqUaCP",
      "execution_count": 23,
      "outputs": [
        {
          "output_type": "stream",
          "name": "stdout",
          "text": [
            "Out of 14359 total annotations on generations with >1 annotation, 6748 were in agreement with another annotation on the true boundary position. That is 0.46994916080507\n"
          ]
        }
      ]
    },
    {
      "cell_type": "code",
      "metadata": {
        "colab": {
          "base_uri": "https://localhost:8080/",
          "height": 97
        },
        "id": "UAMK8TkeQN1b",
        "outputId": "dbb6a7e4-890e-4497-f09d-29f1a47358db"
      },
      "source": [
        "user_df[user_df[\"pk\"] == 2697]"
      ],
      "id": "UAMK8TkeQN1b",
      "execution_count": null,
      "outputs": [
        {
          "output_type": "execute_result",
          "data": {
            "text/html": [
              "<div>\n",
              "<style scoped>\n",
              "    .dataframe tbody tr th:only-of-type {\n",
              "        vertical-align: middle;\n",
              "    }\n",
              "\n",
              "    .dataframe tbody tr th {\n",
              "        vertical-align: top;\n",
              "    }\n",
              "\n",
              "    .dataframe thead th {\n",
              "        text-align: right;\n",
              "    }\n",
              "</style>\n",
              "<table border=\"1\" class=\"dataframe\">\n",
              "  <thead>\n",
              "    <tr style=\"text-align: right;\">\n",
              "      <th></th>\n",
              "      <th>password</th>\n",
              "      <th>last_login</th>\n",
              "      <th>is_superuser</th>\n",
              "      <th>username</th>\n",
              "      <th>first_name</th>\n",
              "      <th>last_name</th>\n",
              "      <th>email</th>\n",
              "      <th>is_staff</th>\n",
              "      <th>is_active</th>\n",
              "      <th>date_joined</th>\n",
              "      <th>groups</th>\n",
              "      <th>user_permissions</th>\n",
              "      <th>pk</th>\n",
              "    </tr>\n",
              "  </thead>\n",
              "  <tbody>\n",
              "    <tr>\n",
              "      <th>2696</th>\n",
              "      <td>pbkdf2_sha256$180000$hp9YfmKe5tvv$eoUGPhGpjKz7...</td>\n",
              "      <td>2021-09-08T21:35:40.375Z</td>\n",
              "      <td>False</td>\n",
              "      <td>xyc</td>\n",
              "      <td></td>\n",
              "      <td></td>\n",
              "      <td></td>\n",
              "      <td>False</td>\n",
              "      <td>True</td>\n",
              "      <td>2021-09-08T20:58:58.557Z</td>\n",
              "      <td>[]</td>\n",
              "      <td>[]</td>\n",
              "      <td>2697</td>\n",
              "    </tr>\n",
              "  </tbody>\n",
              "</table>\n",
              "</div>"
            ],
            "text/plain": [
              "                                               password  ...    pk\n",
              "2696  pbkdf2_sha256$180000$hp9YfmKe5tvv$eoUGPhGpjKz7...  ...  2697\n",
              "\n",
              "[1 rows x 13 columns]"
            ]
          },
          "metadata": {},
          "execution_count": 133
        }
      ]
    },
    {
      "cell_type": "markdown",
      "metadata": {
        "id": "1ca229b7"
      },
      "source": [
        "## Profile Statistics"
      ],
      "id": "1ca229b7"
    },
    {
      "cell_type": "code",
      "metadata": {
        "id": "dfe10d9c",
        "outputId": "2989a087-613d-4bbd-80ed-498561612a44"
      },
      "source": [
        "profile_df.is_temporary.mean()"
      ],
      "id": "dfe10d9c",
      "execution_count": null,
      "outputs": [
        {
          "data": {
            "text/plain": [
              "0.8858729179518815"
            ]
          },
          "execution_count": 42,
          "metadata": {},
          "output_type": "execute_result"
        }
      ]
    }
  ]
}