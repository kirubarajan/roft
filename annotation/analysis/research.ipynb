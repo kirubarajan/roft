{
  "nbformat": 4,
  "nbformat_minor": 5,
  "metadata": {
    "colab": {
      "name": "research.ipynb",
      "provenance": [],
      "collapsed_sections": []
    },
    "interpreter": {
      "hash": "3f5a4468cc0260775568228635fd4f02389bcd27640ac779f973b88a6eda0228"
    },
    "kernelspec": {
      "display_name": "Python 3.6.0 64-bit ('3.6.0': pyenv)",
      "name": "python3"
    },
    "language_info": {
      "codemirror_mode": {
        "name": "ipython",
        "version": 3
      },
      "file_extension": ".py",
      "mimetype": "text/x-python",
      "name": "python",
      "nbconvert_exporter": "python",
      "pygments_lexer": "ipython3",
      "version": "3.6.0"
    }
  },
  "cells": [
    {
      "cell_type": "markdown",
      "metadata": {
        "id": "431e2270"
      },
      "source": [
        "# Load from database"
      ],
      "id": "431e2270"
    },
    {
      "cell_type": "markdown",
      "metadata": {
        "id": "BAoFJWgsqAWL"
      },
      "source": [
        "<a href=\"https://colab.research.google.com/github/kirubarajan/roft/blob/master/annotation/analysis/research.ipynb\" target=\"_parent\"><img src=\"https://colab.research.google.com/assets/colab-badge.svg\" alt=\"Open In Colab\"/></a>"
      ],
      "id": "BAoFJWgsqAWL"
    },
    {
      "cell_type": "code",
      "metadata": {
        "collapsed": true,
        "id": "bixbYj5HGjdP",
        "outputId": "525e4fbd-794d-438c-c906-dfccfec38c97",
        "colab": {
          "base_uri": "https://localhost:8080/"
        }
      },
      "source": [
        "!pip install fsspec gcsfs"
      ],
      "id": "bixbYj5HGjdP",
      "execution_count": 1,
      "outputs": [
        {
          "output_type": "stream",
          "name": "stdout",
          "text": [
            "Collecting fsspec\n",
            "  Downloading fsspec-2021.10.1-py3-none-any.whl (125 kB)\n",
            "\u001b[?25l\r\u001b[K     |██▋                             | 10 kB 21.6 MB/s eta 0:00:01\r\u001b[K     |█████▏                          | 20 kB 12.6 MB/s eta 0:00:01\r\u001b[K     |███████▉                        | 30 kB 9.3 MB/s eta 0:00:01\r\u001b[K     |██████████▍                     | 40 kB 8.3 MB/s eta 0:00:01\r\u001b[K     |█████████████                   | 51 kB 5.2 MB/s eta 0:00:01\r\u001b[K     |███████████████▋                | 61 kB 5.7 MB/s eta 0:00:01\r\u001b[K     |██████████████████▎             | 71 kB 6.1 MB/s eta 0:00:01\r\u001b[K     |████████████████████▉           | 81 kB 5.6 MB/s eta 0:00:01\r\u001b[K     |███████████████████████▌        | 92 kB 4.7 MB/s eta 0:00:01\r\u001b[K     |██████████████████████████      | 102 kB 5.2 MB/s eta 0:00:01\r\u001b[K     |████████████████████████████▊   | 112 kB 5.2 MB/s eta 0:00:01\r\u001b[K     |███████████████████████████████▎| 122 kB 5.2 MB/s eta 0:00:01\r\u001b[K     |████████████████████████████████| 125 kB 5.2 MB/s \n",
            "\u001b[?25hCollecting gcsfs\n",
            "  Downloading gcsfs-2021.10.1-py2.py3-none-any.whl (23 kB)\n",
            "Requirement already satisfied: requests in /usr/local/lib/python3.7/dist-packages (from gcsfs) (2.23.0)\n",
            "Requirement already satisfied: decorator>4.1.2 in /usr/local/lib/python3.7/dist-packages (from gcsfs) (4.4.2)\n",
            "Requirement already satisfied: google-auth-oauthlib in /usr/local/lib/python3.7/dist-packages (from gcsfs) (0.4.6)\n",
            "Requirement already satisfied: google-auth>=1.2 in /usr/local/lib/python3.7/dist-packages (from gcsfs) (1.35.0)\n",
            "Collecting aiohttp\n",
            "  Downloading aiohttp-3.7.4.post0-cp37-cp37m-manylinux2014_x86_64.whl (1.3 MB)\n",
            "\u001b[K     |████████████████████████████████| 1.3 MB 35.1 MB/s \n",
            "\u001b[?25hRequirement already satisfied: google-cloud-storage in /usr/local/lib/python3.7/dist-packages (from gcsfs) (1.18.1)\n",
            "Requirement already satisfied: six>=1.9.0 in /usr/local/lib/python3.7/dist-packages (from google-auth>=1.2->gcsfs) (1.15.0)\n",
            "Requirement already satisfied: rsa<5,>=3.1.4 in /usr/local/lib/python3.7/dist-packages (from google-auth>=1.2->gcsfs) (4.7.2)\n",
            "Requirement already satisfied: cachetools<5.0,>=2.0.0 in /usr/local/lib/python3.7/dist-packages (from google-auth>=1.2->gcsfs) (4.2.4)\n",
            "Requirement already satisfied: setuptools>=40.3.0 in /usr/local/lib/python3.7/dist-packages (from google-auth>=1.2->gcsfs) (57.4.0)\n",
            "Requirement already satisfied: pyasn1-modules>=0.2.1 in /usr/local/lib/python3.7/dist-packages (from google-auth>=1.2->gcsfs) (0.2.8)\n",
            "Requirement already satisfied: pyasn1<0.5.0,>=0.4.6 in /usr/local/lib/python3.7/dist-packages (from pyasn1-modules>=0.2.1->google-auth>=1.2->gcsfs) (0.4.8)\n",
            "Requirement already satisfied: typing-extensions>=3.6.5 in /usr/local/lib/python3.7/dist-packages (from aiohttp->gcsfs) (3.7.4.3)\n",
            "Requirement already satisfied: attrs>=17.3.0 in /usr/local/lib/python3.7/dist-packages (from aiohttp->gcsfs) (21.2.0)\n",
            "Requirement already satisfied: chardet<5.0,>=2.0 in /usr/local/lib/python3.7/dist-packages (from aiohttp->gcsfs) (3.0.4)\n",
            "Collecting yarl<2.0,>=1.0\n",
            "  Downloading yarl-1.7.0-cp37-cp37m-manylinux_2_5_x86_64.manylinux1_x86_64.manylinux_2_12_x86_64.manylinux2010_x86_64.whl (271 kB)\n",
            "\u001b[K     |████████████████████████████████| 271 kB 43.8 MB/s \n",
            "\u001b[?25hCollecting async-timeout<4.0,>=3.0\n",
            "  Downloading async_timeout-3.0.1-py3-none-any.whl (8.2 kB)\n",
            "Collecting multidict<7.0,>=4.5\n",
            "  Downloading multidict-5.2.0-cp37-cp37m-manylinux_2_5_x86_64.manylinux1_x86_64.manylinux_2_12_x86_64.manylinux2010_x86_64.whl (160 kB)\n",
            "\u001b[K     |████████████████████████████████| 160 kB 66.3 MB/s \n",
            "\u001b[?25hRequirement already satisfied: idna>=2.0 in /usr/local/lib/python3.7/dist-packages (from yarl<2.0,>=1.0->aiohttp->gcsfs) (2.10)\n",
            "Requirement already satisfied: requests-oauthlib>=0.7.0 in /usr/local/lib/python3.7/dist-packages (from google-auth-oauthlib->gcsfs) (1.3.0)\n",
            "Requirement already satisfied: oauthlib>=3.0.0 in /usr/local/lib/python3.7/dist-packages (from requests-oauthlib>=0.7.0->google-auth-oauthlib->gcsfs) (3.1.1)\n",
            "Requirement already satisfied: certifi>=2017.4.17 in /usr/local/lib/python3.7/dist-packages (from requests->gcsfs) (2021.5.30)\n",
            "Requirement already satisfied: urllib3!=1.25.0,!=1.25.1,<1.26,>=1.21.1 in /usr/local/lib/python3.7/dist-packages (from requests->gcsfs) (1.24.3)\n",
            "Requirement already satisfied: google-resumable-media<0.5.0dev,>=0.3.1 in /usr/local/lib/python3.7/dist-packages (from google-cloud-storage->gcsfs) (0.4.1)\n",
            "Requirement already satisfied: google-cloud-core<2.0dev,>=1.0.0 in /usr/local/lib/python3.7/dist-packages (from google-cloud-storage->gcsfs) (1.0.3)\n",
            "Requirement already satisfied: google-api-core<2.0.0dev,>=1.14.0 in /usr/local/lib/python3.7/dist-packages (from google-cloud-core<2.0dev,>=1.0.0->google-cloud-storage->gcsfs) (1.26.3)\n",
            "Requirement already satisfied: protobuf>=3.12.0 in /usr/local/lib/python3.7/dist-packages (from google-api-core<2.0.0dev,>=1.14.0->google-cloud-core<2.0dev,>=1.0.0->google-cloud-storage->gcsfs) (3.17.3)\n",
            "Requirement already satisfied: pytz in /usr/local/lib/python3.7/dist-packages (from google-api-core<2.0.0dev,>=1.14.0->google-cloud-core<2.0dev,>=1.0.0->google-cloud-storage->gcsfs) (2018.9)\n",
            "Requirement already satisfied: googleapis-common-protos<2.0dev,>=1.6.0 in /usr/local/lib/python3.7/dist-packages (from google-api-core<2.0.0dev,>=1.14.0->google-cloud-core<2.0dev,>=1.0.0->google-cloud-storage->gcsfs) (1.53.0)\n",
            "Requirement already satisfied: packaging>=14.3 in /usr/local/lib/python3.7/dist-packages (from google-api-core<2.0.0dev,>=1.14.0->google-cloud-core<2.0dev,>=1.0.0->google-cloud-storage->gcsfs) (21.0)\n",
            "Requirement already satisfied: pyparsing>=2.0.2 in /usr/local/lib/python3.7/dist-packages (from packaging>=14.3->google-api-core<2.0.0dev,>=1.14.0->google-cloud-core<2.0dev,>=1.0.0->google-cloud-storage->gcsfs) (2.4.7)\n",
            "Installing collected packages: multidict, yarl, async-timeout, fsspec, aiohttp, gcsfs\n",
            "Successfully installed aiohttp-3.7.4.post0 async-timeout-3.0.1 fsspec-2021.10.1 gcsfs-2021.10.1 multidict-5.2.0 yarl-1.7.0\n"
          ]
        }
      ]
    },
    {
      "cell_type": "code",
      "metadata": {
        "id": "8b5bdd61"
      },
      "source": [
        "import json\n",
        "import pandas as pd\n",
        "import tensorflow as tf\n",
        "import numpy as np\n",
        "import matplotlib.pyplot as plt\n",
        "import seaborn as sns\n",
        "\n",
        "DATABASE_DUMP_FILE = 'gs://roft_buckups/2021_09_23.json'"
      ],
      "id": "8b5bdd61",
      "execution_count": 2,
      "outputs": []
    },
    {
      "cell_type": "code",
      "metadata": {
        "id": "FACZ9EAt7u-0"
      },
      "source": [
        "from google.colab import auth\n",
        "auth.authenticate_user()"
      ],
      "id": "FACZ9EAt7u-0",
      "execution_count": 3,
      "outputs": []
    },
    {
      "cell_type": "code",
      "metadata": {
        "id": "WaQMtA9WtChv"
      },
      "source": [
        "from google.colab import data_table\n",
        "data_table.enable_dataframe_formatter()"
      ],
      "id": "WaQMtA9WtChv",
      "execution_count": 4,
      "outputs": []
    },
    {
      "cell_type": "code",
      "metadata": {
        "id": "b51ea0dd"
      },
      "source": [
        "with tf.io.gfile.GFile(DATABASE_DUMP_FILE, 'r') as f:\n",
        "    lines = f.readlines()\n",
        "    db = json.loads(lines[1])\n",
        "\n",
        "def get_df(sql_model='core.annotation'):\n",
        "    df = pd.DataFrame(db)\n",
        "    df = df[df.model == sql_model]\n",
        "    \n",
        "    if 'date' in df.columns.values:\n",
        "        df = df.set_index('date')\n",
        "\n",
        "    return pd.json_normalize(df.fields).assign(pk=df.pk.values)"
      ],
      "id": "b51ea0dd",
      "execution_count": 5,
      "outputs": []
    },
    {
      "cell_type": "code",
      "metadata": {
        "id": "TWIa7UicQdgY",
        "outputId": "b89b1ad8-ebf3-40a4-bf5e-ba7b7415349b",
        "colab": {
          "base_uri": "https://localhost:8080/"
        }
      },
      "source": [
        "df = pd.DataFrame(db)\n",
        "print(set(df[\"model\"].tolist()))"
      ],
      "id": "TWIa7UicQdgY",
      "execution_count": 6,
      "outputs": [
        {
          "output_type": "stream",
          "name": "stdout",
          "text": [
            "{'contenttypes.contenttype', 'sessions.session', 'auth.user', 'core.prompt', 'core.timestamp', 'core.annotation', 'core.decodingstrategy', 'core.profile', 'admin.logentry', 'core.feedbackoption', 'core.generation', 'auth.permission', 'core.system', 'core.dataset', 'core.playlist'}\n"
          ]
        }
      ]
    },
    {
      "cell_type": "markdown",
      "metadata": {
        "id": "DBj9RVE253uJ"
      },
      "source": [
        "### Load all the tables"
      ],
      "id": "DBj9RVE253uJ"
    },
    {
      "cell_type": "code",
      "metadata": {
        "id": "3a1639a1"
      },
      "source": [
        "annotation_df = get_df()\n",
        "profile_df = get_df('core.profile')\n",
        "generation_df = get_df('core.generation')\n",
        "prompt_df = get_df('core.prompt')\n",
        "playlist_df = get_df('core.playlist')\n",
        "decodingstrategy_df = get_df('core.decodingstrategy')\n",
        "user_df = get_df('auth.user')"
      ],
      "id": "3a1639a1",
      "execution_count": 7,
      "outputs": []
    },
    {
      "cell_type": "markdown",
      "metadata": {
        "id": "VxbVampM561u"
      },
      "source": [
        "### Modify column names to avoid duplicates across tables."
      ],
      "id": "VxbVampM561u"
    },
    {
      "cell_type": "code",
      "metadata": {
        "id": "MNpQR42Y_RCB"
      },
      "source": [
        "prompt_df = prompt_df.rename(columns={\"body\": \"prompt_body\"})\n",
        "generation_df = generation_df.rename(columns={\"body\": \"gen_body\"})\n",
        "decodingstrategy_df = decodingstrategy_df.rename(\n",
        "    columns={\"name\": \"dec_strat\", \"value\": \"dec_strat_value\"})\n",
        "annotation_df[\"date\"] = pd.to_datetime(annotation_df[\"date\"])"
      ],
      "id": "MNpQR42Y_RCB",
      "execution_count": 8,
      "outputs": []
    },
    {
      "cell_type": "markdown",
      "metadata": {
        "id": "lj264v3g6B0M"
      },
      "source": [
        "### Merge all the relevant tables together."
      ],
      "id": "lj264v3g6B0M"
    },
    {
      "cell_type": "code",
      "metadata": {
        "id": "dyou0HriDfDI"
      },
      "source": [
        "gen_to_playlist = {}\n",
        "for idx, row in playlist_df.iterrows():\n",
        "  shortname = row[\"shortname\"]\n",
        "  version = row[\"version\"]\n",
        "  generations = row[\"generations\"]\n",
        "  for gen_id in generations:\n",
        "    gen_to_playlist[gen_id] = (shortname, version)"
      ],
      "id": "dyou0HriDfDI",
      "execution_count": 9,
      "outputs": []
    },
    {
      "cell_type": "code",
      "metadata": {
        "id": "yIiTiaWj8pg9"
      },
      "source": [
        "full_df = annotation_df.join(generation_df.set_index('pk'), on='generation')\n",
        "full_df = full_df.join(prompt_df.set_index('pk'), 'prompt')\n",
        "full_df = full_df.join(decodingstrategy_df.set_index('pk'), 'decoding_strategy')"
      ],
      "id": "yIiTiaWj8pg9",
      "execution_count": 10,
      "outputs": []
    },
    {
      "cell_type": "code",
      "metadata": {
        "id": "Bv05Kpq-AiD5"
      },
      "source": [
        "playlist_names = [] \n",
        "playlist_versions = []\n",
        "for idx, row in full_df.iterrows():\n",
        "  gen_id = row[\"generation\"]\n",
        "  playlist_info = gen_to_playlist[gen_id]\n",
        "  playlist_names.append(playlist_info[0])\n",
        "  playlist_versions.append(playlist_info[1])\n",
        "full_df[\"playlist_name\"] = playlist_names\n",
        "full_df[\"playlist_version\"] = playlist_versions"
      ],
      "id": "Bv05Kpq-AiD5",
      "execution_count": 11,
      "outputs": []
    },
    {
      "cell_type": "code",
      "metadata": {
        "id": "W8Vo9rF5VUqM",
        "outputId": "31f289e3-f986-4396-c00f-bc38c0ec022f",
        "colab": {
          "base_uri": "https://localhost:8080/",
          "height": 1000
        }
      },
      "source": [
        "full_df"
      ],
      "id": "W8Vo9rF5VUqM",
      "execution_count": 12,
      "outputs": [
        {
          "output_type": "execute_result",
          "data": {
            "text/html": [
              "<div>\n",
              "<style scoped>\n",
              "    .dataframe tbody tr th:only-of-type {\n",
              "        vertical-align: middle;\n",
              "    }\n",
              "\n",
              "    .dataframe tbody tr th {\n",
              "        vertical-align: top;\n",
              "    }\n",
              "\n",
              "    .dataframe thead th {\n",
              "        text-align: right;\n",
              "    }\n",
              "</style>\n",
              "<table border=\"1\" class=\"dataframe\">\n",
              "  <thead>\n",
              "    <tr style=\"text-align: right;\">\n",
              "      <th></th>\n",
              "      <th>date</th>\n",
              "      <th>annotator</th>\n",
              "      <th>generation</th>\n",
              "      <th>playlist</th>\n",
              "      <th>boundary</th>\n",
              "      <th>points</th>\n",
              "      <th>attention_check</th>\n",
              "      <th>reason</th>\n",
              "      <th>pk</th>\n",
              "      <th>system</th>\n",
              "      <th>prompt</th>\n",
              "      <th>decoding_strategy</th>\n",
              "      <th>gen_body</th>\n",
              "      <th>prompt_body</th>\n",
              "      <th>num_sentences</th>\n",
              "      <th>dataset</th>\n",
              "      <th>prompt_index</th>\n",
              "      <th>dec_strat</th>\n",
              "      <th>dec_strat_value</th>\n",
              "      <th>playlist_name</th>\n",
              "      <th>playlist_version</th>\n",
              "    </tr>\n",
              "  </thead>\n",
              "  <tbody>\n",
              "    <tr>\n",
              "      <th>0</th>\n",
              "      <td>2021-06-12 22:17:41.178000+00:00</td>\n",
              "      <td>2</td>\n",
              "      <td>909</td>\n",
              "      <td>1</td>\n",
              "      <td>3</td>\n",
              "      <td>0</td>\n",
              "      <td>False</td>\n",
              "      <td>[]</td>\n",
              "      <td>1</td>\n",
              "      <td>gpt2</td>\n",
              "      <td>932</td>\n",
              "      <td>1</td>\n",
              "      <td>Jack and Max was a fine company to join on suc...</td>\n",
              "      <td>It's lonely work, killing the future._SEP_Jack...</td>\n",
              "      <td>5</td>\n",
              "      <td>1</td>\n",
              "      <td>1653</td>\n",
              "      <td>top-p</td>\n",
              "      <td>0.4</td>\n",
              "      <td>Short Stories</td>\n",
              "      <td>0.2</td>\n",
              "    </tr>\n",
              "    <tr>\n",
              "      <th>1</th>\n",
              "      <td>2021-06-12 23:08:41.084000+00:00</td>\n",
              "      <td>4</td>\n",
              "      <td>909</td>\n",
              "      <td>1</td>\n",
              "      <td>3</td>\n",
              "      <td>0</td>\n",
              "      <td>False</td>\n",
              "      <td>[contradicts_knowledge]</td>\n",
              "      <td>2</td>\n",
              "      <td>gpt2</td>\n",
              "      <td>932</td>\n",
              "      <td>1</td>\n",
              "      <td>Jack and Max was a fine company to join on suc...</td>\n",
              "      <td>It's lonely work, killing the future._SEP_Jack...</td>\n",
              "      <td>5</td>\n",
              "      <td>1</td>\n",
              "      <td>1653</td>\n",
              "      <td>top-p</td>\n",
              "      <td>0.4</td>\n",
              "      <td>Short Stories</td>\n",
              "      <td>0.2</td>\n",
              "    </tr>\n",
              "    <tr>\n",
              "      <th>2</th>\n",
              "      <td>2021-06-21 19:31:08.098000+00:00</td>\n",
              "      <td>139</td>\n",
              "      <td>18298</td>\n",
              "      <td>3</td>\n",
              "      <td>0</td>\n",
              "      <td>0</td>\n",
              "      <td>False</td>\n",
              "      <td>[contradicts_knowledge]</td>\n",
              "      <td>3</td>\n",
              "      <td>ctrl</td>\n",
              "      <td>13345</td>\n",
              "      <td>1</td>\n",
              "      <td></td>\n",
              "      <td>\"Speech on Foreign Policy\" by President Ronald...</td>\n",
              "      <td>10</td>\n",
              "      <td>8</td>\n",
              "      <td>714</td>\n",
              "      <td>top-p</td>\n",
              "      <td>0.4</td>\n",
              "      <td>Presidential Speeches</td>\n",
              "      <td>0.2</td>\n",
              "    </tr>\n",
              "    <tr>\n",
              "      <th>3</th>\n",
              "      <td>2021-06-23 19:35:29.878000+00:00</td>\n",
              "      <td>182</td>\n",
              "      <td>18298</td>\n",
              "      <td>3</td>\n",
              "      <td>0</td>\n",
              "      <td>0</td>\n",
              "      <td>False</td>\n",
              "      <td>[-2311780724603632545]</td>\n",
              "      <td>4</td>\n",
              "      <td>ctrl</td>\n",
              "      <td>13345</td>\n",
              "      <td>1</td>\n",
              "      <td></td>\n",
              "      <td>\"Speech on Foreign Policy\" by President Ronald...</td>\n",
              "      <td>10</td>\n",
              "      <td>8</td>\n",
              "      <td>714</td>\n",
              "      <td>top-p</td>\n",
              "      <td>0.4</td>\n",
              "      <td>Presidential Speeches</td>\n",
              "      <td>0.2</td>\n",
              "    </tr>\n",
              "    <tr>\n",
              "      <th>4</th>\n",
              "      <td>2021-06-25 18:56:37.169000+00:00</td>\n",
              "      <td>272</td>\n",
              "      <td>12621</td>\n",
              "      <td>-1</td>\n",
              "      <td>7</td>\n",
              "      <td>0</td>\n",
              "      <td>False</td>\n",
              "      <td>[irrelevant]</td>\n",
              "      <td>5</td>\n",
              "      <td>gpt2-xl</td>\n",
              "      <td>7668</td>\n",
              "      <td>4</td>\n",
              "      <td>The Mayor has been in office for more than two...</td>\n",
              "      <td>USUALLY, when a mayor dismisses people from th...</td>\n",
              "      <td>9</td>\n",
              "      <td>3</td>\n",
              "      <td>1098</td>\n",
              "      <td>top-p</td>\n",
              "      <td>0.2</td>\n",
              "      <td>New York Times</td>\n",
              "      <td>0.1</td>\n",
              "    </tr>\n",
              "    <tr>\n",
              "      <th>...</th>\n",
              "      <td>...</td>\n",
              "      <td>...</td>\n",
              "      <td>...</td>\n",
              "      <td>...</td>\n",
              "      <td>...</td>\n",
              "      <td>...</td>\n",
              "      <td>...</td>\n",
              "      <td>...</td>\n",
              "      <td>...</td>\n",
              "      <td>...</td>\n",
              "      <td>...</td>\n",
              "      <td>...</td>\n",
              "      <td>...</td>\n",
              "      <td>...</td>\n",
              "      <td>...</td>\n",
              "      <td>...</td>\n",
              "      <td>...</td>\n",
              "      <td>...</td>\n",
              "      <td>...</td>\n",
              "      <td>...</td>\n",
              "      <td>...</td>\n",
              "    </tr>\n",
              "    <tr>\n",
              "      <th>14893</th>\n",
              "      <td>2021-09-22 03:30:27.564000+00:00</td>\n",
              "      <td>3587</td>\n",
              "      <td>18844</td>\n",
              "      <td>-1</td>\n",
              "      <td>0</td>\n",
              "      <td>0</td>\n",
              "      <td>False</td>\n",
              "      <td>[]</td>\n",
              "      <td>19383</td>\n",
              "      <td>gpt2-xl</td>\n",
              "      <td>13891</td>\n",
              "      <td>1</td>\n",
              "      <td>Melt the remaining 1 tablespoon of butter over...</td>\n",
              "      <td>HOW TO MAKE: Twice-Baked Potatoes With Mushroo...</td>\n",
              "      <td>3</td>\n",
              "      <td>9</td>\n",
              "      <td>2685</td>\n",
              "      <td>top-p</td>\n",
              "      <td>0.4</td>\n",
              "      <td>Recipes</td>\n",
              "      <td>0.2</td>\n",
              "    </tr>\n",
              "    <tr>\n",
              "      <th>14894</th>\n",
              "      <td>2021-09-22 03:31:41.153000+00:00</td>\n",
              "      <td>3587</td>\n",
              "      <td>16536</td>\n",
              "      <td>-1</td>\n",
              "      <td>2</td>\n",
              "      <td>0</td>\n",
              "      <td>False</td>\n",
              "      <td>[]</td>\n",
              "      <td>19384</td>\n",
              "      <td>gpt2-xl</td>\n",
              "      <td>11583</td>\n",
              "      <td>6</td>\n",
              "      <td>A wide variety of industries have reported suc...</td>\n",
              "      <td>American industry is pulling back on scientifi...</td>\n",
              "      <td>7</td>\n",
              "      <td>5</td>\n",
              "      <td>3918</td>\n",
              "      <td>top-p</td>\n",
              "      <td>0.5</td>\n",
              "      <td>New York Times</td>\n",
              "      <td>0.1</td>\n",
              "    </tr>\n",
              "    <tr>\n",
              "      <th>14895</th>\n",
              "      <td>2021-09-22 04:22:40.997000+00:00</td>\n",
              "      <td>3588</td>\n",
              "      <td>4979</td>\n",
              "      <td>5</td>\n",
              "      <td>0</td>\n",
              "      <td>0</td>\n",
              "      <td>False</td>\n",
              "      <td>[-516607735864282965, grammar]</td>\n",
              "      <td>19385</td>\n",
              "      <td>gpt2</td>\n",
              "      <td>5033</td>\n",
              "      <td>1</td>\n",
              "      <td></td>\n",
              "      <td>Hey Mom sorry I won't be able to come again._S...</td>\n",
              "      <td>10</td>\n",
              "      <td>2</td>\n",
              "      <td>3307</td>\n",
              "      <td>top-p</td>\n",
              "      <td>0.4</td>\n",
              "      <td>Short Stories</td>\n",
              "      <td>0.2</td>\n",
              "    </tr>\n",
              "    <tr>\n",
              "      <th>14896</th>\n",
              "      <td>2021-09-22 04:24:09.504000+00:00</td>\n",
              "      <td>3588</td>\n",
              "      <td>8004</td>\n",
              "      <td>5</td>\n",
              "      <td>6</td>\n",
              "      <td>0</td>\n",
              "      <td>False</td>\n",
              "      <td>[contradicts_knowledge]</td>\n",
              "      <td>19386</td>\n",
              "      <td>gpt2-xl</td>\n",
              "      <td>2143</td>\n",
              "      <td>1</td>\n",
              "      <td>\"Its okay,\" says Andrew, \"we're not here for y...</td>\n",
              "      <td>Four friends, two boys and two girls, sit arou...</td>\n",
              "      <td>9</td>\n",
              "      <td>1</td>\n",
              "      <td>3097</td>\n",
              "      <td>top-p</td>\n",
              "      <td>0.4</td>\n",
              "      <td>Short Stories</td>\n",
              "      <td>0.2</td>\n",
              "    </tr>\n",
              "    <tr>\n",
              "      <th>14897</th>\n",
              "      <td>2021-09-22 04:25:36.595000+00:00</td>\n",
              "      <td>3588</td>\n",
              "      <td>26783</td>\n",
              "      <td>8</td>\n",
              "      <td>9</td>\n",
              "      <td>4</td>\n",
              "      <td>False</td>\n",
              "      <td>[]</td>\n",
              "      <td>19387</td>\n",
              "      <td>finetuned</td>\n",
              "      <td>21058</td>\n",
              "      <td>1</td>\n",
              "      <td>We love it._SEP_We think it tastes even better...</td>\n",
              "      <td>HOW TO MAKE: Baked Three Cheese Egg Casserole ...</td>\n",
              "      <td>9</td>\n",
              "      <td>9</td>\n",
              "      <td>8783</td>\n",
              "      <td>top-p</td>\n",
              "      <td>0.4</td>\n",
              "      <td>Recipes</td>\n",
              "      <td>0.2</td>\n",
              "    </tr>\n",
              "  </tbody>\n",
              "</table>\n",
              "<p>14898 rows × 21 columns</p>\n",
              "</div>"
            ],
            "text/plain": [
              "                                  date  ...  playlist_version\n",
              "0     2021-06-12 22:17:41.178000+00:00  ...               0.2\n",
              "1     2021-06-12 23:08:41.084000+00:00  ...               0.2\n",
              "2     2021-06-21 19:31:08.098000+00:00  ...               0.2\n",
              "3     2021-06-23 19:35:29.878000+00:00  ...               0.2\n",
              "4     2021-06-25 18:56:37.169000+00:00  ...               0.1\n",
              "...                                ...  ...               ...\n",
              "14893 2021-09-22 03:30:27.564000+00:00  ...               0.2\n",
              "14894 2021-09-22 03:31:41.153000+00:00  ...               0.1\n",
              "14895 2021-09-22 04:22:40.997000+00:00  ...               0.2\n",
              "14896 2021-09-22 04:24:09.504000+00:00  ...               0.2\n",
              "14897 2021-09-22 04:25:36.595000+00:00  ...               0.2\n",
              "\n",
              "[14898 rows x 21 columns]"
            ]
          },
          "metadata": {},
          "execution_count": 12
        }
      ]
    },
    {
      "cell_type": "markdown",
      "metadata": {
        "id": "dESrdQ0VHxBT"
      },
      "source": [
        "# Filtering annotations for users who have agreed to have their data analyzed"
      ],
      "id": "dESrdQ0VHxBT"
    },
    {
      "cell_type": "code",
      "metadata": {
        "id": "kOZQaouODFn5"
      },
      "source": [
        "SURVEY_RESPONSES_FILE = 'gs://roft_buckups/521_responses.csv'\n",
        "survey_df = pd.read_csv(SURVEY_RESPONSES_FILE)\n",
        "survey_filter_df = survey_df[survey_df[\"Do you agree for the data being collected on this form along with any annotations you make on the RoFT website to be used in an anonymized, aggregated way for research on students' ability to detect machine-generated text? Your answer on this question will not affect your grade.\"] == 'No']\n",
        "\n",
        "# all the users who GAVE US PERMISSION\n",
        "users_filter_df = user_df[~user_df.email.isin(survey_filter_df[\"Email Address\"].values)]\n",
        "\n",
        "# all the profiles that GAVE US PERMISSION\n",
        "profiles_filter_df = profile_df[profile_df.user.isin(users_filter_df.pk)]\n",
        "\n",
        "full_df = full_df[full_df.annotator.isin(profiles_filter_df.pk)]"
      ],
      "id": "kOZQaouODFn5",
      "execution_count": 13,
      "outputs": []
    },
    {
      "cell_type": "code",
      "metadata": {
        "id": "YPJrntrUzldy"
      },
      "source": [
        "# TODO: Filter out our own profiles"
      ],
      "id": "YPJrntrUzldy",
      "execution_count": null,
      "outputs": []
    },
    {
      "cell_type": "markdown",
      "metadata": {
        "id": "tFllvXnJ60x9"
      },
      "source": [
        "# Analysis"
      ],
      "id": "tFllvXnJ60x9"
    },
    {
      "cell_type": "markdown",
      "metadata": {
        "id": "ODMubmKy9j6d"
      },
      "source": [
        "## Mean points"
      ],
      "id": "ODMubmKy9j6d"
    },
    {
      "cell_type": "code",
      "metadata": {
        "id": "ke3hPwwCKIEd",
        "outputId": "2e8b1dd0-787f-42ee-915e-f3914e8fc0c3",
        "colab": {
          "base_uri": "https://localhost:8080/",
          "height": 176
        }
      },
      "source": [
        "def analyze_per_playlist():\n",
        "  info_to_return = []\n",
        "  playlist_names = set(playlist_df[\"shortname\"].tolist())\n",
        "  for playlist in playlist_names:\n",
        "    df = full_df[(full_df[\"playlist_name\"]==playlist) & (full_df[\"playlist_version\"]==\"0.2\")]\n",
        "\n",
        "    info = {\"playlist\": playlist,\n",
        "            \"mean score\": np.mean(df[\"points\"]),\n",
        "            \"median score\": np.median(df[\"points\"]),\n",
        "            \"fraction_nonzero\": len(df[df[\"points\"] > 0]) / len(df),\n",
        "            \"num_annotations\": len(df)\n",
        "    }\n",
        "    info_to_return.append(info)\n",
        "  return pd.DataFrame(info_to_return)\n",
        "\n",
        "analyze_per_playlist()"
      ],
      "id": "ke3hPwwCKIEd",
      "execution_count": 14,
      "outputs": [
        {
          "output_type": "execute_result",
          "data": {
            "application/vnd.google.colaboratory.module+javascript": "\n      import \"https://ssl.gstatic.com/colaboratory/data_table/a6224c040fa35dcf/data_table.js\";\n\n      window.createDataTable({\n        data: [[{\n            'v': 0,\n            'f': \"0\",\n        },\n\"Recipes\",\n{\n            'v': 1.9587278899410399,\n            'f': \"1.9587278899410399\",\n        },\n{\n            'v': 0.0,\n            'f': \"0.0\",\n        },\n{\n            'v': 0.4841879578345542,\n            'f': \"0.4841879578345542\",\n        },\n{\n            'v': 5597,\n            'f': \"5597\",\n        }],\n [{\n            'v': 1,\n            'f': \"1\",\n        },\n\"Presidential Speeches\",\n{\n            'v': 1.84625,\n            'f': \"1.84625\",\n        },\n{\n            'v': 1.0,\n            'f': \"1.0\",\n        },\n{\n            'v': 0.51625,\n            'f': \"0.51625\",\n        },\n{\n            'v': 2400,\n            'f': \"2400\",\n        }],\n [{\n            'v': 2,\n            'f': \"2\",\n        },\n\"Short Stories\",\n{\n            'v': 1.90016,\n            'f': \"1.90016\",\n        },\n{\n            'v': 0.0,\n            'f': \"0.0\",\n        },\n{\n            'v': 0.4944,\n            'f': \"0.4944\",\n        },\n{\n            'v': 3125,\n            'f': \"3125\",\n        }],\n [{\n            'v': 3,\n            'f': \"3\",\n        },\n\"New York Times\",\n{\n            'v': 1.7191734417344173,\n            'f': \"1.7191734417344173\",\n        },\n{\n            'v': 0.0,\n            'f': \"0.0\",\n        },\n{\n            'v': 0.48509485094850946,\n            'f': \"0.48509485094850946\",\n        },\n{\n            'v': 2952,\n            'f': \"2952\",\n        }]],\n        columns: [[\"number\", \"index\"], [\"string\", \"playlist\"], [\"number\", \"mean score\"], [\"number\", \"median score\"], [\"number\", \"fraction_nonzero\"], [\"number\", \"num_annotations\"]],\n        columnOptions: [{\"width\": \"1px\", \"className\": \"index_column\"}],\n        rowsPerPage: 25,\n        helpUrl: \"https://colab.research.google.com/notebooks/data_table.ipynb\",\n        suppressOutputScrolling: true,\n        minimumWidth: undefined,\n      });\n    ",
            "text/html": [
              "<div>\n",
              "<style scoped>\n",
              "    .dataframe tbody tr th:only-of-type {\n",
              "        vertical-align: middle;\n",
              "    }\n",
              "\n",
              "    .dataframe tbody tr th {\n",
              "        vertical-align: top;\n",
              "    }\n",
              "\n",
              "    .dataframe thead th {\n",
              "        text-align: right;\n",
              "    }\n",
              "</style>\n",
              "<table border=\"1\" class=\"dataframe\">\n",
              "  <thead>\n",
              "    <tr style=\"text-align: right;\">\n",
              "      <th></th>\n",
              "      <th>playlist</th>\n",
              "      <th>mean score</th>\n",
              "      <th>median score</th>\n",
              "      <th>fraction_nonzero</th>\n",
              "      <th>num_annotations</th>\n",
              "    </tr>\n",
              "  </thead>\n",
              "  <tbody>\n",
              "    <tr>\n",
              "      <th>0</th>\n",
              "      <td>Recipes</td>\n",
              "      <td>1.958728</td>\n",
              "      <td>0.0</td>\n",
              "      <td>0.484188</td>\n",
              "      <td>5597</td>\n",
              "    </tr>\n",
              "    <tr>\n",
              "      <th>1</th>\n",
              "      <td>Presidential Speeches</td>\n",
              "      <td>1.846250</td>\n",
              "      <td>1.0</td>\n",
              "      <td>0.516250</td>\n",
              "      <td>2400</td>\n",
              "    </tr>\n",
              "    <tr>\n",
              "      <th>2</th>\n",
              "      <td>Short Stories</td>\n",
              "      <td>1.900160</td>\n",
              "      <td>0.0</td>\n",
              "      <td>0.494400</td>\n",
              "      <td>3125</td>\n",
              "    </tr>\n",
              "    <tr>\n",
              "      <th>3</th>\n",
              "      <td>New York Times</td>\n",
              "      <td>1.719173</td>\n",
              "      <td>0.0</td>\n",
              "      <td>0.485095</td>\n",
              "      <td>2952</td>\n",
              "    </tr>\n",
              "  </tbody>\n",
              "</table>\n",
              "</div>"
            ],
            "text/plain": [
              "                playlist  mean score  ...  fraction_nonzero  num_annotations\n",
              "0                Recipes    1.958728  ...          0.484188             5597\n",
              "1  Presidential Speeches    1.846250  ...          0.516250             2400\n",
              "2          Short Stories    1.900160  ...          0.494400             3125\n",
              "3         New York Times    1.719173  ...          0.485095             2952\n",
              "\n",
              "[4 rows x 5 columns]"
            ]
          },
          "metadata": {},
          "execution_count": 14
        }
      ]
    },
    {
      "cell_type": "code",
      "metadata": {
        "id": "6zxk4qicD0rY",
        "outputId": "d4349691-358b-487d-8e2c-ac63c914b627",
        "colab": {
          "base_uri": "https://localhost:8080/",
          "height": 262
        }
      },
      "source": [
        "def analyze_per_decoding_strat():\n",
        "  info_to_return = []\n",
        "  playlist_names = set(playlist_df[\"shortname\"].tolist())\n",
        "  for playlist in playlist_names:\n",
        "    for top_p_value in [0.0, 0.4, 1.0]:\n",
        "      df = full_df[(full_df[\"dec_strat\"]==\"top-p\") &\n",
        "                  (full_df[\"dec_strat_value\"]==top_p_value) &\n",
        "                  (full_df[\"playlist_name\"]==playlist)]\n",
        "\n",
        "      if len(df) > 0:\n",
        "        info = {\"p-value\": top_p_value,\n",
        "                \"playlist\": playlist,\n",
        "                \"mean score\": np.mean(df[\"points\"]),\n",
        "                \"median score\": np.median(df[\"points\"]),\n",
        "                \"fraction_nonzero\": len(df[df[\"points\"] > 0]) / len(df),\n",
        "                \"num_annotations\": len(df),\n",
        "        }\n",
        "        info_to_return.append(info)\n",
        "  return pd.DataFrame(info_to_return)\n",
        "\n",
        "analyze_per_decoding_strat() #TODO: Split up by model here"
      ],
      "id": "6zxk4qicD0rY",
      "execution_count": 15,
      "outputs": [
        {
          "output_type": "execute_result",
          "data": {
            "application/vnd.google.colaboratory.module+javascript": "\n      import \"https://ssl.gstatic.com/colaboratory/data_table/a6224c040fa35dcf/data_table.js\";\n\n      window.createDataTable({\n        data: [[{\n            'v': 0,\n            'f': \"0\",\n        },\n{\n            'v': 0.4,\n            'f': \"0.4\",\n        },\n\"Recipes\",\n{\n            'v': 1.9587278899410399,\n            'f': \"1.9587278899410399\",\n        },\n{\n            'v': 0.0,\n            'f': \"0.0\",\n        },\n{\n            'v': 0.4841879578345542,\n            'f': \"0.4841879578345542\",\n        },\n{\n            'v': 5597,\n            'f': \"5597\",\n        }],\n [{\n            'v': 1,\n            'f': \"1\",\n        },\n{\n            'v': 0.4,\n            'f': \"0.4\",\n        },\n\"Presidential Speeches\",\n{\n            'v': 1.84625,\n            'f': \"1.84625\",\n        },\n{\n            'v': 1.0,\n            'f': \"1.0\",\n        },\n{\n            'v': 0.51625,\n            'f': \"0.51625\",\n        },\n{\n            'v': 2400,\n            'f': \"2400\",\n        }],\n [{\n            'v': 2,\n            'f': \"2\",\n        },\n{\n            'v': 0.0,\n            'f': \"0.0\",\n        },\n\"Short Stories\",\n{\n            'v': 1.5518867924528301,\n            'f': \"1.5518867924528301\",\n        },\n{\n            'v': 0.0,\n            'f': \"0.0\",\n        },\n{\n            'v': 0.4669811320754717,\n            'f': \"0.4669811320754717\",\n        },\n{\n            'v': 212,\n            'f': \"212\",\n        }],\n [{\n            'v': 3,\n            'f': \"3\",\n        },\n{\n            'v': 0.4,\n            'f': \"0.4\",\n        },\n\"Short Stories\",\n{\n            'v': 1.9208472686733555,\n            'f': \"1.9208472686733555\",\n        },\n{\n            'v': 0.0,\n            'f': \"0.0\",\n        },\n{\n            'v': 0.493125232255667,\n            'f': \"0.493125232255667\",\n        },\n{\n            'v': 2691,\n            'f': \"2691\",\n        }],\n [{\n            'v': 4,\n            'f': \"4\",\n        },\n{\n            'v': 1.0,\n            'f': \"1.0\",\n        },\n\"Short Stories\",\n{\n            'v': 1.981981981981982,\n            'f': \"1.981981981981982\",\n        },\n{\n            'v': 2.0,\n            'f': \"2.0\",\n        },\n{\n            'v': 0.536036036036036,\n            'f': \"0.536036036036036\",\n        },\n{\n            'v': 222,\n            'f': \"222\",\n        }],\n [{\n            'v': 5,\n            'f': \"5\",\n        },\n{\n            'v': 0.0,\n            'f': \"0.0\",\n        },\n\"New York Times\",\n{\n            'v': 1.5195694716242663,\n            'f': \"1.5195694716242663\",\n        },\n{\n            'v': 0.0,\n            'f': \"0.0\",\n        },\n{\n            'v': 0.45596868884540115,\n            'f': \"0.45596868884540115\",\n        },\n{\n            'v': 1022,\n            'f': \"1022\",\n        }],\n [{\n            'v': 6,\n            'f': \"6\",\n        },\n{\n            'v': 0.4,\n            'f': \"0.4\",\n        },\n\"New York Times\",\n{\n            'v': 1.5830618892508144,\n            'f': \"1.5830618892508144\",\n        },\n{\n            'v': 0.0,\n            'f': \"0.0\",\n        },\n{\n            'v': 0.4560260586319218,\n            'f': \"0.4560260586319218\",\n        },\n{\n            'v': 921,\n            'f': \"921\",\n        }],\n [{\n            'v': 7,\n            'f': \"7\",\n        },\n{\n            'v': 1.0,\n            'f': \"1.0\",\n        },\n\"New York Times\",\n{\n            'v': 2.045589692765114,\n            'f': \"2.045589692765114\",\n        },\n{\n            'v': 1.0,\n            'f': \"1.0\",\n        },\n{\n            'v': 0.5411298315163529,\n            'f': \"0.5411298315163529\",\n        },\n{\n            'v': 1009,\n            'f': \"1009\",\n        }]],\n        columns: [[\"number\", \"index\"], [\"number\", \"p-value\"], [\"string\", \"playlist\"], [\"number\", \"mean score\"], [\"number\", \"median score\"], [\"number\", \"fraction_nonzero\"], [\"number\", \"num_annotations\"]],\n        columnOptions: [{\"width\": \"1px\", \"className\": \"index_column\"}],\n        rowsPerPage: 25,\n        helpUrl: \"https://colab.research.google.com/notebooks/data_table.ipynb\",\n        suppressOutputScrolling: true,\n        minimumWidth: undefined,\n      });\n    ",
            "text/html": [
              "<div>\n",
              "<style scoped>\n",
              "    .dataframe tbody tr th:only-of-type {\n",
              "        vertical-align: middle;\n",
              "    }\n",
              "\n",
              "    .dataframe tbody tr th {\n",
              "        vertical-align: top;\n",
              "    }\n",
              "\n",
              "    .dataframe thead th {\n",
              "        text-align: right;\n",
              "    }\n",
              "</style>\n",
              "<table border=\"1\" class=\"dataframe\">\n",
              "  <thead>\n",
              "    <tr style=\"text-align: right;\">\n",
              "      <th></th>\n",
              "      <th>p-value</th>\n",
              "      <th>playlist</th>\n",
              "      <th>mean score</th>\n",
              "      <th>median score</th>\n",
              "      <th>fraction_nonzero</th>\n",
              "      <th>num_annotations</th>\n",
              "    </tr>\n",
              "  </thead>\n",
              "  <tbody>\n",
              "    <tr>\n",
              "      <th>0</th>\n",
              "      <td>0.4</td>\n",
              "      <td>Recipes</td>\n",
              "      <td>1.958728</td>\n",
              "      <td>0.0</td>\n",
              "      <td>0.484188</td>\n",
              "      <td>5597</td>\n",
              "    </tr>\n",
              "    <tr>\n",
              "      <th>1</th>\n",
              "      <td>0.4</td>\n",
              "      <td>Presidential Speeches</td>\n",
              "      <td>1.846250</td>\n",
              "      <td>1.0</td>\n",
              "      <td>0.516250</td>\n",
              "      <td>2400</td>\n",
              "    </tr>\n",
              "    <tr>\n",
              "      <th>2</th>\n",
              "      <td>0.0</td>\n",
              "      <td>Short Stories</td>\n",
              "      <td>1.551887</td>\n",
              "      <td>0.0</td>\n",
              "      <td>0.466981</td>\n",
              "      <td>212</td>\n",
              "    </tr>\n",
              "    <tr>\n",
              "      <th>3</th>\n",
              "      <td>0.4</td>\n",
              "      <td>Short Stories</td>\n",
              "      <td>1.920847</td>\n",
              "      <td>0.0</td>\n",
              "      <td>0.493125</td>\n",
              "      <td>2691</td>\n",
              "    </tr>\n",
              "    <tr>\n",
              "      <th>4</th>\n",
              "      <td>1.0</td>\n",
              "      <td>Short Stories</td>\n",
              "      <td>1.981982</td>\n",
              "      <td>2.0</td>\n",
              "      <td>0.536036</td>\n",
              "      <td>222</td>\n",
              "    </tr>\n",
              "    <tr>\n",
              "      <th>5</th>\n",
              "      <td>0.0</td>\n",
              "      <td>New York Times</td>\n",
              "      <td>1.519569</td>\n",
              "      <td>0.0</td>\n",
              "      <td>0.455969</td>\n",
              "      <td>1022</td>\n",
              "    </tr>\n",
              "    <tr>\n",
              "      <th>6</th>\n",
              "      <td>0.4</td>\n",
              "      <td>New York Times</td>\n",
              "      <td>1.583062</td>\n",
              "      <td>0.0</td>\n",
              "      <td>0.456026</td>\n",
              "      <td>921</td>\n",
              "    </tr>\n",
              "    <tr>\n",
              "      <th>7</th>\n",
              "      <td>1.0</td>\n",
              "      <td>New York Times</td>\n",
              "      <td>2.045590</td>\n",
              "      <td>1.0</td>\n",
              "      <td>0.541130</td>\n",
              "      <td>1009</td>\n",
              "    </tr>\n",
              "  </tbody>\n",
              "</table>\n",
              "</div>"
            ],
            "text/plain": [
              "   p-value               playlist  ...  fraction_nonzero  num_annotations\n",
              "0      0.4                Recipes  ...          0.484188             5597\n",
              "1      0.4  Presidential Speeches  ...          0.516250             2400\n",
              "2      0.0          Short Stories  ...          0.466981              212\n",
              "3      0.4          Short Stories  ...          0.493125             2691\n",
              "4      1.0          Short Stories  ...          0.536036              222\n",
              "5      0.0         New York Times  ...          0.455969             1022\n",
              "6      0.4         New York Times  ...          0.456026              921\n",
              "7      1.0         New York Times  ...          0.541130             1009\n",
              "\n",
              "[8 rows x 6 columns]"
            ]
          },
          "metadata": {},
          "execution_count": 15
        }
      ]
    },
    {
      "cell_type": "markdown",
      "metadata": {
        "id": "lW93fZk5vkpC"
      },
      "source": [
        "#Mean Points for only the first 10 annotations from each annotator\n"
      ],
      "id": "lW93fZk5vkpC"
    },
    {
      "cell_type": "code",
      "metadata": {
        "id": "Xh9spcS8vkQb",
        "outputId": "4679e64b-8556-4703-fe2f-e9106ce415eb",
        "colab": {
          "base_uri": "https://localhost:8080/"
        }
      },
      "source": [
        "full_df.sort_values(['date']).groupby('annotator').head(10).groupby('annotator').points.mean()"
      ],
      "id": "Xh9spcS8vkQb",
      "execution_count": 27,
      "outputs": [
        {
          "output_type": "execute_result",
          "data": {
            "text/plain": [
              "annotator\n",
              "2       0.000000\n",
              "4       2.666667\n",
              "139     0.000000\n",
              "182     0.000000\n",
              "272     1.500000\n",
              "          ...   \n",
              "3363    4.250000\n",
              "3551    2.500000\n",
              "3572    0.000000\n",
              "3587    1.000000\n",
              "3588    1.333333\n",
              "Name: points, Length: 440, dtype: float64"
            ]
          },
          "metadata": {},
          "execution_count": 27
        }
      ]
    },
    {
      "cell_type": "code",
      "metadata": {
        "id": "mCSftI8x69Bt"
      },
      "source": [
        "full_df.columns"
      ],
      "id": "mCSftI8x69Bt",
      "execution_count": null,
      "outputs": []
    },
    {
      "cell_type": "code",
      "metadata": {
        "id": "g2WJuIIKNNHB"
      },
      "source": [
        "[0.0, 0.4, 1.0]"
      ],
      "id": "g2WJuIIKNNHB",
      "execution_count": null,
      "outputs": []
    },
    {
      "cell_type": "markdown",
      "metadata": {
        "id": "79b5219e"
      },
      "source": [
        "## Annotator skill"
      ],
      "id": "79b5219e"
    },
    {
      "cell_type": "code",
      "metadata": {
        "id": "5a590aa0",
        "scrolled": false,
        "outputId": "d84c2548-0615-4c77-c698-cfa7a513c0a3",
        "colab": {
          "base_uri": "https://localhost:8080/",
          "height": 624
        }
      },
      "source": [
        "annotation_df.groupby('annotator').points.mean().plot.hist(\n",
        "    figsize=(20, 10),\n",
        "    title='Achieved Points Distribution'\n",
        ")"
      ],
      "id": "5a590aa0",
      "execution_count": 23,
      "outputs": [
        {
          "output_type": "execute_result",
          "data": {
            "text/plain": [
              "<matplotlib.axes._subplots.AxesSubplot at 0x7fe1d79aee50>"
            ]
          },
          "metadata": {},
          "execution_count": 23
        },
        {
          "output_type": "display_data",
          "data": {
            "image/png": "[encoded data removed]",
            "text/plain": [
              "<Figure size 1440x720 with 1 Axes>"
            ]
          },
          "metadata": {
            "needs_background": "light"
          }
        }
      ]
    },
    {
      "cell_type": "markdown",
      "metadata": {
        "id": "lY9BcgVA9whO"
      },
      "source": [
        "Of the annotators who did at least K annotations, plot their mean score over time"
      ],
      "id": "lY9BcgVA9whO"
    },
    {
      "cell_type": "code",
      "metadata": {
        "id": "085fVoDX95a9"
      },
      "source": [
        "df = annotation_df.groupby('annotator').count()\n"
      ],
      "id": "085fVoDX95a9",
      "execution_count": 19,
      "outputs": []
    },
    {
      "cell_type": "code",
      "metadata": {
        "id": "kT_Nu6QTGFz2",
        "outputId": "7a7fe3d8-9d54-4a93-98e2-4e24788ade91",
        "colab": {
          "base_uri": "https://localhost:8080/",
          "height": 297
        }
      },
      "source": [
        "def analyze_progress(k=50):\n",
        "  \"\"\"Analyze whether annotators improve in aggregate over k annotations.\"\"\"\n",
        "  all_score_series = []\n",
        "  annotators = df[df[\"pk\"] > k].reset_index()[\"annotator\"].tolist()\n",
        "  for annotator in annotators:\n",
        "    annotations = annotation_df[annotation_df[\"annotator\"] == annotator]\n",
        "    score_series = annotations.sort_values(\"date\")[\"points\"][:k].tolist()\n",
        "    all_score_series.append(score_series)\n",
        "\n",
        "  return np.array(all_score_series)\n",
        "\n",
        "k = 100\n",
        "s = analyze_progress(k)\n",
        "data = np.array(s)\n",
        "data = np.mean(data, axis=0)\n",
        "plt.plot(range(1, k+1), data)\n",
        "plt.ylabel(\"Mean score\")\n",
        "plt.xlabel(\"$n$th annotation\")\n",
        "plt.title(\"Performance over time\")\n",
        "plt.show()"
      ],
      "id": "kT_Nu6QTGFz2",
      "execution_count": 20,
      "outputs": [
        {
          "output_type": "display_data",
          "data": {
            "image/png": "[encoded data removed]",
            "text/plain": [
              "<Figure size 432x288 with 1 Axes>"
            ]
          },
          "metadata": {
            "needs_background": "light"
          }
        }
      ]
    },
    {
      "cell_type": "markdown",
      "metadata": {
        "id": "uMpu_b_pJNw_"
      },
      "source": [
        "### Inter-annotator agreement"
      ],
      "id": "uMpu_b_pJNw_"
    },
    {
      "cell_type": "markdown",
      "metadata": {
        "id": "aQ7ezEMiT-HE"
      },
      "source": [
        "For every pair of annotators who annotated the same generaton, what fraction guessed the same boundary?"
      ],
      "id": "aQ7ezEMiT-HE"
    },
    {
      "cell_type": "code",
      "metadata": {
        "id": "H6iwr8WqFrf5"
      },
      "source": [
        "annotations_per_gen = annotation_df.groupby('generation')\n",
        "# \n",
        "num_annotations_per_gen = annotations_per_gen.points.count()\n"
      ],
      "id": "H6iwr8WqFrf5",
      "execution_count": 27,
      "outputs": []
    },
    {
      "cell_type": "code",
      "metadata": {
        "id": "fIhRQOfqUaCP",
        "outputId": "2d05f4e3-0611-4b58-80c1-f539424acc14",
        "colab": {
          "base_uri": "https://localhost:8080/"
        }
      },
      "source": [
        "def analyze_fraction_agreements():\n",
        "  generation_ids = set(annotation_df[\"generation\"].tolist())\n",
        "  annotations_per_gen = annotation_df.groupby('generation')\n",
        "\n",
        "  overall_num_annotations = 0\n",
        "  overall_num_agreements = 0\n",
        "\n",
        "  x = annotations_per_gen.boundary.value_counts()\n",
        "  for idx, generation in enumerate(generation_ids):\n",
        "    chosen_boundaries = x[generation]\n",
        "    chosen_boundaries = {k: chosen_boundaries[k] for k in chosen_boundaries.keys()}\n",
        "    \n",
        "    total_annotations = sum(chosen_boundaries.values())\n",
        "    if total_annotations > 1:\n",
        "      total_agreements = sum(v for v in chosen_boundaries.values() if v > 1)\n",
        "\n",
        "      overall_num_annotations += total_annotations\n",
        "      overall_num_agreements += total_agreements\n",
        "\n",
        "  print(\"Out of {} total annotations on generations with >1 annotation, {} were in agreement with another annotation on the true boundary position. That is {}\".format(\n",
        "      overall_num_annotations, overall_num_agreements, overall_num_agreements/overall_num_annotations\n",
        "  ))\n",
        "analyze_fraction_agreements()\n",
        "\n",
        "# TODO: Figure out what the baseline of random guessing would be,"
      ],
      "id": "fIhRQOfqUaCP",
      "execution_count": 28,
      "outputs": [
        {
          "output_type": "stream",
          "name": "stdout",
          "text": [
            "Out of 13915 total annotations on generations with >1 annotation, 6275 were in agreement with another annotation on the true boundary position. That is 0.4509522098454905\n"
          ]
        }
      ]
    },
    {
      "cell_type": "code",
      "metadata": {
        "id": "UAMK8TkeQN1b",
        "outputId": "b236010c-d589-46cf-b5c3-d5288eddeac2",
        "colab": {
          "base_uri": "https://localhost:8080/",
          "height": 143
        }
      },
      "source": [
        "user_df[user_df[\"pk\"] == 2697]"
      ],
      "id": "UAMK8TkeQN1b",
      "execution_count": 29,
      "outputs": [
        {
          "output_type": "execute_result",
          "data": {
            "application/vnd.google.colaboratory.module+javascript": "\n      import \"https://ssl.gstatic.com/colaboratory/data_table/a6224c040fa35dcf/data_table.js\";\n\n      window.createDataTable({\n        data: [[{\n            'v': 2696,\n            'f': \"2696\",\n        },\n\"pbkdf2_sha256$180000$hp9YfmKe5tvv$eoUGPhGpjKz7xmM1pNnw5E/g8jgDYoPx5wBKVk/lkb8=\",\n\"2021-09-08T21:35:40.375Z\",\nfalse,\n\"xyc\",\n\"\",\n\"\",\n\"\",\nfalse,\ntrue,\n\"2021-09-08T20:58:58.557Z\",\n[],\n[],\n{\n            'v': 2697,\n            'f': \"2697\",\n        }]],\n        columns: [[\"number\", \"index\"], [\"string\", \"password\"], [\"string\", \"last_login\"], [\"string\", \"is_superuser\"], [\"string\", \"username\"], [\"string\", \"first_name\"], [\"string\", \"last_name\"], [\"string\", \"email\"], [\"string\", \"is_staff\"], [\"string\", \"is_active\"], [\"string\", \"date_joined\"], [\"string\", \"groups\"], [\"string\", \"user_permissions\"], [\"number\", \"pk\"]],\n        columnOptions: [{\"width\": \"1px\", \"className\": \"index_column\"}],\n        rowsPerPage: 25,\n        helpUrl: \"https://colab.research.google.com/notebooks/data_table.ipynb\",\n        suppressOutputScrolling: true,\n        minimumWidth: undefined,\n      });\n    ",
            "text/html": [
              "<div>\n",
              "<style scoped>\n",
              "    .dataframe tbody tr th:only-of-type {\n",
              "        vertical-align: middle;\n",
              "    }\n",
              "\n",
              "    .dataframe tbody tr th {\n",
              "        vertical-align: top;\n",
              "    }\n",
              "\n",
              "    .dataframe thead th {\n",
              "        text-align: right;\n",
              "    }\n",
              "</style>\n",
              "<table border=\"1\" class=\"dataframe\">\n",
              "  <thead>\n",
              "    <tr style=\"text-align: right;\">\n",
              "      <th></th>\n",
              "      <th>password</th>\n",
              "      <th>last_login</th>\n",
              "      <th>is_superuser</th>\n",
              "      <th>username</th>\n",
              "      <th>first_name</th>\n",
              "      <th>last_name</th>\n",
              "      <th>email</th>\n",
              "      <th>is_staff</th>\n",
              "      <th>is_active</th>\n",
              "      <th>date_joined</th>\n",
              "      <th>groups</th>\n",
              "      <th>user_permissions</th>\n",
              "      <th>pk</th>\n",
              "    </tr>\n",
              "  </thead>\n",
              "  <tbody>\n",
              "    <tr>\n",
              "      <th>2696</th>\n",
              "      <td>pbkdf2_sha256$180000$hp9YfmKe5tvv$eoUGPhGpjKz7...</td>\n",
              "      <td>2021-09-08T21:35:40.375Z</td>\n",
              "      <td>False</td>\n",
              "      <td>xyc</td>\n",
              "      <td></td>\n",
              "      <td></td>\n",
              "      <td></td>\n",
              "      <td>False</td>\n",
              "      <td>True</td>\n",
              "      <td>2021-09-08T20:58:58.557Z</td>\n",
              "      <td>[]</td>\n",
              "      <td>[]</td>\n",
              "      <td>2697</td>\n",
              "    </tr>\n",
              "  </tbody>\n",
              "</table>\n",
              "</div>"
            ],
            "text/plain": [
              "                                               password  ...    pk\n",
              "2696  pbkdf2_sha256$180000$hp9YfmKe5tvv$eoUGPhGpjKz7...  ...  2697\n",
              "\n",
              "[1 rows x 13 columns]"
            ]
          },
          "metadata": {},
          "execution_count": 29
        }
      ]
    },
    {
      "cell_type": "markdown",
      "metadata": {
        "id": "1ca229b7"
      },
      "source": [
        "## Profile Statistics"
      ],
      "id": "1ca229b7"
    },
    {
      "cell_type": "code",
      "metadata": {
        "id": "dfe10d9c",
        "outputId": "8e36e651-6b47-4eb9-e956-dad66a1d0dbd",
        "colab": {
          "base_uri": "https://localhost:8080/"
        }
      },
      "source": [
        "profile_df.is_temporary.mean()"
      ],
      "id": "dfe10d9c",
      "execution_count": 30,
      "outputs": [
        {
          "output_type": "execute_result",
          "data": {
            "text/plain": [
              "0.8973373593192424"
            ]
          },
          "metadata": {},
          "execution_count": 30
        }
      ]
    }
  ]
}