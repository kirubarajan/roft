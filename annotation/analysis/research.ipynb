{
  "nbformat": 4,
  "nbformat_minor": 5,
  "metadata": {
    "colab": {
      "name": "research.ipynb",
      "provenance": [],
      "collapsed_sections": [],
      "toc_visible": true
    },
    "interpreter": {
      "hash": "3f5a4468cc0260775568228635fd4f02389bcd27640ac779f973b88a6eda0228"
    },
    "kernelspec": {
      "display_name": "Python 3.6.0 64-bit ('3.6.0': pyenv)",
      "name": "python3"
    },
    "language_info": {
      "codemirror_mode": {
        "name": "ipython",
        "version": 3
      },
      "file_extension": ".py",
      "mimetype": "text/x-python",
      "name": "python",
      "nbconvert_exporter": "python",
      "pygments_lexer": "ipython3",
      "version": "3.6.0"
    }
  },
  "cells": [
    {
      "cell_type": "markdown",
      "metadata": {
        "id": "BAoFJWgsqAWL"
      },
      "source": [
        "<a href=\"https://colab.research.google.com/github/kirubarajan/roft/blob/master/annotation/analysis/research.ipynb\" target=\"_parent\"><img src=\"https://colab.research.google.com/assets/colab-badge.svg\" alt=\"Open In Colab\"/></a>"
      ],
      "id": "BAoFJWgsqAWL"
    },
    {
      "cell_type": "markdown",
      "metadata": {
        "id": "431e2270"
      },
      "source": [
        "# Load from database"
      ],
      "id": "431e2270"
    },
    {
      "cell_type": "code",
      "metadata": {
        "collapsed": true,
        "id": "bixbYj5HGjdP",
        "colab": {
          "base_uri": "https://localhost:8080/"
        },
        "outputId": "9c30160a-4d16-4396-aea2-8d61bb72aaa4"
      },
      "source": [
        "!pip install fsspec gcsfs"
      ],
      "id": "bixbYj5HGjdP",
      "execution_count": null,
      "outputs": [
        {
          "output_type": "stream",
          "name": "stdout",
          "text": [
            "Collecting fsspec\n",
            "  Downloading fsspec-2021.10.1-py3-none-any.whl (125 kB)\n",
            "\u001b[?25l\r\u001b[K     |██▋                             | 10 kB 17.5 MB/s eta 0:00:01\r\u001b[K     |█████▏                          | 20 kB 9.0 MB/s eta 0:00:01\r\u001b[K     |███████▉                        | 30 kB 4.3 MB/s eta 0:00:01\r\u001b[K     |██████████▍                     | 40 kB 5.5 MB/s eta 0:00:01\r\u001b[K     |█████████████                   | 51 kB 5.3 MB/s eta 0:00:01\r\u001b[K     |███████████████▋                | 61 kB 5.3 MB/s eta 0:00:01\r\u001b[K     |██████████████████▎             | 71 kB 5.8 MB/s eta 0:00:01\r\u001b[K     |████████████████████▉           | 81 kB 6.4 MB/s eta 0:00:01\r\u001b[K     |███████████████████████▌        | 92 kB 5.0 MB/s eta 0:00:01\r\u001b[K     |██████████████████████████      | 102 kB 5.4 MB/s eta 0:00:01\r\u001b[K     |████████████████████████████▊   | 112 kB 5.4 MB/s eta 0:00:01\r\u001b[K     |███████████████████████████████▎| 122 kB 5.4 MB/s eta 0:00:01\r\u001b[K     |████████████████████████████████| 125 kB 5.4 MB/s \n",
            "\u001b[?25hCollecting gcsfs\n",
            "  Downloading gcsfs-2021.10.1-py2.py3-none-any.whl (23 kB)\n",
            "Collecting aiohttp\n",
            "  Downloading aiohttp-3.8.0-cp37-cp37m-manylinux_2_5_x86_64.manylinux1_x86_64.manylinux_2_12_x86_64.manylinux2010_x86_64.whl (1.1 MB)\n",
            "\u001b[K     |████████████████████████████████| 1.1 MB 11.6 MB/s \n",
            "\u001b[?25hRequirement already satisfied: google-cloud-storage in /usr/local/lib/python3.7/dist-packages (from gcsfs) (1.18.1)\n",
            "Requirement already satisfied: google-auth-oauthlib in /usr/local/lib/python3.7/dist-packages (from gcsfs) (0.4.6)\n",
            "Requirement already satisfied: google-auth>=1.2 in /usr/local/lib/python3.7/dist-packages (from gcsfs) (1.35.0)\n",
            "Requirement already satisfied: decorator>4.1.2 in /usr/local/lib/python3.7/dist-packages (from gcsfs) (4.4.2)\n",
            "Requirement already satisfied: requests in /usr/local/lib/python3.7/dist-packages (from gcsfs) (2.23.0)\n",
            "Requirement already satisfied: six>=1.9.0 in /usr/local/lib/python3.7/dist-packages (from google-auth>=1.2->gcsfs) (1.15.0)\n",
            "Requirement already satisfied: setuptools>=40.3.0 in /usr/local/lib/python3.7/dist-packages (from google-auth>=1.2->gcsfs) (57.4.0)\n",
            "Requirement already satisfied: cachetools<5.0,>=2.0.0 in /usr/local/lib/python3.7/dist-packages (from google-auth>=1.2->gcsfs) (4.2.4)\n",
            "Requirement already satisfied: pyasn1-modules>=0.2.1 in /usr/local/lib/python3.7/dist-packages (from google-auth>=1.2->gcsfs) (0.2.8)\n",
            "Requirement already satisfied: rsa<5,>=3.1.4 in /usr/local/lib/python3.7/dist-packages (from google-auth>=1.2->gcsfs) (4.7.2)\n",
            "Requirement already satisfied: pyasn1<0.5.0,>=0.4.6 in /usr/local/lib/python3.7/dist-packages (from pyasn1-modules>=0.2.1->google-auth>=1.2->gcsfs) (0.4.8)\n",
            "Collecting asynctest==0.13.0\n",
            "  Downloading asynctest-0.13.0-py3-none-any.whl (26 kB)\n",
            "Collecting aiosignal>=1.1.2\n",
            "  Downloading aiosignal-1.2.0-py3-none-any.whl (8.2 kB)\n",
            "Collecting multidict<7.0,>=4.5\n",
            "  Downloading multidict-5.2.0-cp37-cp37m-manylinux_2_5_x86_64.manylinux1_x86_64.manylinux_2_12_x86_64.manylinux2010_x86_64.whl (160 kB)\n",
            "\u001b[K     |████████████████████████████████| 160 kB 41.2 MB/s \n",
            "\u001b[?25hRequirement already satisfied: typing-extensions>=3.7.4 in /usr/local/lib/python3.7/dist-packages (from aiohttp->gcsfs) (3.7.4.3)\n",
            "Collecting frozenlist>=1.1.1\n",
            "  Downloading frozenlist-1.2.0-cp37-cp37m-manylinux_2_5_x86_64.manylinux1_x86_64.manylinux_2_12_x86_64.manylinux2010_x86_64.whl (192 kB)\n",
            "\u001b[K     |████████████████████████████████| 192 kB 41.3 MB/s \n",
            "\u001b[?25hCollecting async-timeout<5.0,>=4.0.0a3\n",
            "  Downloading async_timeout-4.0.0-py3-none-any.whl (6.1 kB)\n",
            "Requirement already satisfied: charset-normalizer<3.0,>=2.0 in /usr/local/lib/python3.7/dist-packages (from aiohttp->gcsfs) (2.0.7)\n",
            "Collecting yarl<2.0,>=1.0\n",
            "  Downloading yarl-1.7.0-cp37-cp37m-manylinux_2_5_x86_64.manylinux1_x86_64.manylinux_2_12_x86_64.manylinux2010_x86_64.whl (271 kB)\n",
            "\u001b[K     |████████████████████████████████| 271 kB 40.7 MB/s \n",
            "\u001b[?25hRequirement already satisfied: attrs>=17.3.0 in /usr/local/lib/python3.7/dist-packages (from aiohttp->gcsfs) (21.2.0)\n",
            "Requirement already satisfied: idna>=2.0 in /usr/local/lib/python3.7/dist-packages (from yarl<2.0,>=1.0->aiohttp->gcsfs) (2.10)\n",
            "Requirement already satisfied: requests-oauthlib>=0.7.0 in /usr/local/lib/python3.7/dist-packages (from google-auth-oauthlib->gcsfs) (1.3.0)\n",
            "Requirement already satisfied: oauthlib>=3.0.0 in /usr/local/lib/python3.7/dist-packages (from requests-oauthlib>=0.7.0->google-auth-oauthlib->gcsfs) (3.1.1)\n",
            "Requirement already satisfied: certifi>=2017.4.17 in /usr/local/lib/python3.7/dist-packages (from requests->gcsfs) (2021.5.30)\n",
            "Requirement already satisfied: chardet<4,>=3.0.2 in /usr/local/lib/python3.7/dist-packages (from requests->gcsfs) (3.0.4)\n",
            "Requirement already satisfied: urllib3!=1.25.0,!=1.25.1,<1.26,>=1.21.1 in /usr/local/lib/python3.7/dist-packages (from requests->gcsfs) (1.24.3)\n",
            "Requirement already satisfied: google-cloud-core<2.0dev,>=1.0.0 in /usr/local/lib/python3.7/dist-packages (from google-cloud-storage->gcsfs) (1.0.3)\n",
            "Requirement already satisfied: google-resumable-media<0.5.0dev,>=0.3.1 in /usr/local/lib/python3.7/dist-packages (from google-cloud-storage->gcsfs) (0.4.1)\n",
            "Requirement already satisfied: google-api-core<2.0.0dev,>=1.14.0 in /usr/local/lib/python3.7/dist-packages (from google-cloud-core<2.0dev,>=1.0.0->google-cloud-storage->gcsfs) (1.26.3)\n",
            "Requirement already satisfied: packaging>=14.3 in /usr/local/lib/python3.7/dist-packages (from google-api-core<2.0.0dev,>=1.14.0->google-cloud-core<2.0dev,>=1.0.0->google-cloud-storage->gcsfs) (21.0)\n",
            "Requirement already satisfied: googleapis-common-protos<2.0dev,>=1.6.0 in /usr/local/lib/python3.7/dist-packages (from google-api-core<2.0.0dev,>=1.14.0->google-cloud-core<2.0dev,>=1.0.0->google-cloud-storage->gcsfs) (1.53.0)\n",
            "Requirement already satisfied: pytz in /usr/local/lib/python3.7/dist-packages (from google-api-core<2.0.0dev,>=1.14.0->google-cloud-core<2.0dev,>=1.0.0->google-cloud-storage->gcsfs) (2018.9)\n",
            "Requirement already satisfied: protobuf>=3.12.0 in /usr/local/lib/python3.7/dist-packages (from google-api-core<2.0.0dev,>=1.14.0->google-cloud-core<2.0dev,>=1.0.0->google-cloud-storage->gcsfs) (3.17.3)\n",
            "Requirement already satisfied: pyparsing>=2.0.2 in /usr/local/lib/python3.7/dist-packages (from packaging>=14.3->google-api-core<2.0.0dev,>=1.14.0->google-cloud-core<2.0dev,>=1.0.0->google-cloud-storage->gcsfs) (2.4.7)\n",
            "Installing collected packages: multidict, frozenlist, yarl, asynctest, async-timeout, aiosignal, fsspec, aiohttp, gcsfs\n",
            "Successfully installed aiohttp-3.8.0 aiosignal-1.2.0 async-timeout-4.0.0 asynctest-0.13.0 frozenlist-1.2.0 fsspec-2021.10.1 gcsfs-2021.10.1 multidict-5.2.0 yarl-1.7.0\n"
          ]
        }
      ]
    },
    {
      "cell_type": "code",
      "metadata": {
        "id": "8b5bdd61"
      },
      "source": [
        "import json\n",
        "import pandas as pd\n",
        "import tensorflow as tf\n",
        "import numpy as np\n",
        "import os\n",
        "import matplotlib.pyplot as plt\n",
        "import seaborn as sns\n",
        "from scipy import stats\n",
        "sns.set_theme(style=\"whitegrid\")\n",
        "sns.set_palette(sns.color_palette(\"Set2\"))\n",
        "\n",
        "DATABASE_DUMP_FILE = 'gs://roft_buckups/10-25-21.json'"
      ],
      "id": "8b5bdd61",
      "execution_count": null,
      "outputs": []
    },
    {
      "cell_type": "code",
      "metadata": {
        "id": "FACZ9EAt7u-0"
      },
      "source": [
        "from google.colab import auth\n",
        "auth.authenticate_user()\n",
        "\n",
        "import gspread\n",
        "from oauth2client.client import GoogleCredentials\n",
        "\n",
        "gc = gspread.authorize(GoogleCredentials.get_application_default())"
      ],
      "id": "FACZ9EAt7u-0",
      "execution_count": null,
      "outputs": []
    },
    {
      "cell_type": "code",
      "metadata": {
        "id": "WaQMtA9WtChv"
      },
      "source": [
        "from google.colab import data_table\n",
        "data_table.enable_dataframe_formatter()"
      ],
      "id": "WaQMtA9WtChv",
      "execution_count": null,
      "outputs": []
    },
    {
      "cell_type": "code",
      "metadata": {
        "id": "b51ea0dd"
      },
      "source": [
        "with tf.io.gfile.GFile(DATABASE_DUMP_FILE, 'r') as f:\n",
        "    lines = f.readlines()\n",
        "    db = json.loads(lines[1])\n",
        "\n",
        "def get_df(sql_model='core.annotation'):\n",
        "    df = pd.DataFrame(db)\n",
        "    df = df[df.model == sql_model]\n",
        "    \n",
        "    if 'date' in df.columns.values:\n",
        "        df = df.set_index('date')\n",
        "\n",
        "    return pd.json_normalize(df.fields).assign(pk=df.pk.values)"
      ],
      "id": "b51ea0dd",
      "execution_count": null,
      "outputs": []
    },
    {
      "cell_type": "code",
      "metadata": {
        "id": "TWIa7UicQdgY",
        "colab": {
          "base_uri": "https://localhost:8080/"
        },
        "outputId": "4f6c9582-479d-4a43-c17b-6f5dd18c5836"
      },
      "source": [
        "df = pd.DataFrame(db)\n",
        "print(set(df[\"model\"].tolist()))"
      ],
      "id": "TWIa7UicQdgY",
      "execution_count": null,
      "outputs": [
        {
          "output_type": "stream",
          "name": "stdout",
          "text": [
            "{'sessions.session', 'contenttypes.contenttype', 'core.dataset', 'core.playlist', 'core.profile', 'core.decodingstrategy', 'auth.user', 'core.feedbackoption', 'core.annotation', 'core.timestamp', 'admin.logentry', 'core.system', 'core.prompt', 'core.generation', 'auth.permission'}\n"
          ]
        }
      ]
    },
    {
      "cell_type": "markdown",
      "metadata": {
        "id": "DBj9RVE253uJ"
      },
      "source": [
        "### Load all the tables"
      ],
      "id": "DBj9RVE253uJ"
    },
    {
      "cell_type": "code",
      "metadata": {
        "id": "3a1639a1"
      },
      "source": [
        "annotation_df = get_df()\n",
        "profile_df = get_df('core.profile')\n",
        "generation_df = get_df('core.generation')\n",
        "prompt_df = get_df('core.prompt')\n",
        "playlist_df = get_df('core.playlist')\n",
        "decodingstrategy_df = get_df('core.decodingstrategy')\n",
        "user_df = get_df('auth.user')"
      ],
      "id": "3a1639a1",
      "execution_count": null,
      "outputs": []
    },
    {
      "cell_type": "markdown",
      "metadata": {
        "id": "VxbVampM561u"
      },
      "source": [
        "### Modify column names to avoid duplicates across tables."
      ],
      "id": "VxbVampM561u"
    },
    {
      "cell_type": "code",
      "metadata": {
        "id": "MNpQR42Y_RCB"
      },
      "source": [
        "prompt_df = prompt_df.rename(columns={\"body\": \"prompt_body\"})\n",
        "generation_df = generation_df.rename(columns={\"body\": \"gen_body\"})\n",
        "decodingstrategy_df = decodingstrategy_df.rename(\n",
        "    columns={\"name\": \"dec_strat\", \"value\": \"dec_strat_value\"})\n",
        "annotation_df[\"date\"] = pd.to_datetime(annotation_df[\"date\"])"
      ],
      "id": "MNpQR42Y_RCB",
      "execution_count": null,
      "outputs": []
    },
    {
      "cell_type": "code",
      "metadata": {
        "colab": {
          "base_uri": "https://localhost:8080/"
        },
        "id": "1rkTSKdx5QVX",
        "outputId": "5e4d15c8-4573-4e13-936e-0cd148bcab77"
      },
      "source": [
        "generation_df[\"system\"]"
      ],
      "id": "1rkTSKdx5QVX",
      "execution_count": null,
      "outputs": [
        {
          "output_type": "execute_result",
          "data": {
            "text/plain": [
              "0           gpt2\n",
              "1           gpt2\n",
              "2           gpt2\n",
              "3           gpt2\n",
              "4           gpt2\n",
              "          ...   \n",
              "28542    davinci\n",
              "28543    davinci\n",
              "28544    davinci\n",
              "28545    davinci\n",
              "28546    davinci\n",
              "Name: system, Length: 28547, dtype: object"
            ]
          },
          "metadata": {},
          "execution_count": 9
        }
      ]
    },
    {
      "cell_type": "markdown",
      "metadata": {
        "id": "lj264v3g6B0M"
      },
      "source": [
        "### Merge all the relevant tables together."
      ],
      "id": "lj264v3g6B0M"
    },
    {
      "cell_type": "code",
      "metadata": {
        "id": "dyou0HriDfDI"
      },
      "source": [
        "gen_to_playlist = {}\n",
        "for idx, row in playlist_df.iterrows():\n",
        "  shortname = row[\"shortname\"]\n",
        "  version = row[\"version\"]\n",
        "  generations = row[\"generations\"]\n",
        "  for gen_id in generations:\n",
        "    gen_to_playlist[gen_id] = (shortname, version)"
      ],
      "id": "dyou0HriDfDI",
      "execution_count": null,
      "outputs": []
    },
    {
      "cell_type": "code",
      "metadata": {
        "id": "yIiTiaWj8pg9"
      },
      "source": [
        "full_df = annotation_df.join(generation_df.set_index('pk'), on='generation')\n",
        "full_df = full_df.join(prompt_df.set_index('pk'), 'prompt')\n",
        "full_df = full_df.join(decodingstrategy_df.set_index('pk'), 'decoding_strategy')"
      ],
      "id": "yIiTiaWj8pg9",
      "execution_count": null,
      "outputs": []
    },
    {
      "cell_type": "code",
      "metadata": {
        "id": "Bv05Kpq-AiD5"
      },
      "source": [
        "playlist_names = [] \n",
        "playlist_versions = []\n",
        "for idx, row in full_df.iterrows():\n",
        "  gen_id = row[\"generation\"]\n",
        "  playlist_info = gen_to_playlist[gen_id]\n",
        "  playlist_names.append(playlist_info[0])\n",
        "  playlist_versions.append(playlist_info[1])\n",
        "full_df[\"playlist_name\"] = playlist_names\n",
        "full_df[\"playlist_version\"] = playlist_versions"
      ],
      "id": "Bv05Kpq-AiD5",
      "execution_count": null,
      "outputs": []
    },
    {
      "cell_type": "markdown",
      "metadata": {
        "id": "9bXRyC02hFrJ"
      },
      "source": [
        "### Filter out annotations not part of Version 2"
      ],
      "id": "9bXRyC02hFrJ"
    },
    {
      "cell_type": "code",
      "metadata": {
        "id": "e-wX9u-GhFBp"
      },
      "source": [
        "full_df = full_df[full_df.apply(lambda row: row[\"playlist_version\"]==\"0.2\", axis=1)]"
      ],
      "id": "e-wX9u-GhFBp",
      "execution_count": null,
      "outputs": []
    },
    {
      "cell_type": "markdown",
      "metadata": {
        "id": "dESrdQ0VHxBT"
      },
      "source": [
        "## Filter out unacceptable users\n",
        "Methods for filtering out annotations for users who have NOT agreed to have their data analyzed (and filtering out us).\n",
        "\n",
        "**TO HAVE YOUR PROFILE FILTERED OUT, PLEASE FILL OUT THE GOOGLE FORM AND SPECIFY \"NO\" TO THE QUESTION ABOUT WHETHER YOU WANT TO PARTICIPATE IN RESEARCH.**"
      ],
      "id": "dESrdQ0VHxBT"
    },
    {
      "cell_type": "code",
      "metadata": {
        "id": "kOZQaouODFn5"
      },
      "source": [
        "SURVEY_SPREADSHEET_ID = '1j9-nqsGFhpKSas_z1-IRKORlVbmjTzJ4_u_q6u-hOvg'\n",
        "KEY = \"ageed_to_research\"\n",
        "worksheet = gc.open_by_key(SURVEY_SPREADSHEET_ID).sheet1\n",
        "rows = worksheet.get_all_values()\n",
        "\n",
        "survey_df = pd.DataFrame.from_records(rows[1:], columns=rows[0])\n",
        "\n",
        "survey_filter_df = survey_df[survey_df[KEY] == 'Yes']\n",
        "\n",
        "# all the users who GAVE US PERMISSION\n",
        "users_filter_df = user_df[user_df.username.isin(survey_filter_df[\"username\"].values)]\n",
        "\n",
        "# Filter all of the data frames that we use for analysis.\n",
        "full_df = full_df[full_df.annotator.isin(users_filter_df.pk)]\n",
        "annotation_df = annotation_df[annotation_df.annotator.isin(users_filter_df.pk)]"
      ],
      "id": "kOZQaouODFn5",
      "execution_count": null,
      "outputs": []
    },
    {
      "cell_type": "code",
      "metadata": {
        "id": "FxJcBWR4EytV",
        "colab": {
          "base_uri": "https://localhost:8080/",
          "height": 881
        },
        "outputId": "34279c49-6f41-4c24-f31b-286940d599e6"
      },
      "source": [
        "full_df"
      ],
      "id": "FxJcBWR4EytV",
      "execution_count": null,
      "outputs": [
        {
          "output_type": "stream",
          "name": "stdout",
          "text": [
            "Warning: total number of rows (27471) exceeds max_rows (20000). Falling back to pandas display.\n"
          ]
        },
        {
          "output_type": "execute_result",
          "data": {
            "text/html": [
              "<div>\n",
              "<style scoped>\n",
              "    .dataframe tbody tr th:only-of-type {\n",
              "        vertical-align: middle;\n",
              "    }\n",
              "\n",
              "    .dataframe tbody tr th {\n",
              "        vertical-align: top;\n",
              "    }\n",
              "\n",
              "    .dataframe thead th {\n",
              "        text-align: right;\n",
              "    }\n",
              "</style>\n",
              "<table border=\"1\" class=\"dataframe\">\n",
              "  <thead>\n",
              "    <tr style=\"text-align: right;\">\n",
              "      <th></th>\n",
              "      <th>date</th>\n",
              "      <th>annotator</th>\n",
              "      <th>generation</th>\n",
              "      <th>playlist</th>\n",
              "      <th>boundary</th>\n",
              "      <th>points</th>\n",
              "      <th>attention_check</th>\n",
              "      <th>reason</th>\n",
              "      <th>pk</th>\n",
              "      <th>system</th>\n",
              "      <th>prompt</th>\n",
              "      <th>decoding_strategy</th>\n",
              "      <th>gen_body</th>\n",
              "      <th>prompt_body</th>\n",
              "      <th>num_sentences</th>\n",
              "      <th>dataset</th>\n",
              "      <th>prompt_index</th>\n",
              "      <th>dec_strat</th>\n",
              "      <th>dec_strat_value</th>\n",
              "      <th>playlist_name</th>\n",
              "      <th>playlist_version</th>\n",
              "    </tr>\n",
              "  </thead>\n",
              "  <tbody>\n",
              "    <tr>\n",
              "      <th>112</th>\n",
              "      <td>2021-08-31 17:11:39.095000+00:00</td>\n",
              "      <td>1666</td>\n",
              "      <td>22877</td>\n",
              "      <td>-1</td>\n",
              "      <td>0</td>\n",
              "      <td>0</td>\n",
              "      <td>False</td>\n",
              "      <td>[9123971792800820313]</td>\n",
              "      <td>113</td>\n",
              "      <td>finetuned</td>\n",
              "      <td>13803</td>\n",
              "      <td>1</td>\n",
              "      <td>Meanwhile, combine all dressing ingredients in...</td>\n",
              "      <td>HOW TO MAKE: Baby Shell Pasta Salad With Kalam...</td>\n",
              "      <td>3</td>\n",
              "      <td>9</td>\n",
              "      <td>2130</td>\n",
              "      <td>top-p</td>\n",
              "      <td>0.4</td>\n",
              "      <td>Recipes</td>\n",
              "      <td>0.2</td>\n",
              "    </tr>\n",
              "    <tr>\n",
              "      <th>114</th>\n",
              "      <td>2021-08-31 17:12:40.795000+00:00</td>\n",
              "      <td>1666</td>\n",
              "      <td>21386</td>\n",
              "      <td>-1</td>\n",
              "      <td>9</td>\n",
              "      <td>5</td>\n",
              "      <td>False</td>\n",
              "      <td>[]</td>\n",
              "      <td>115</td>\n",
              "      <td>gpt2-xl</td>\n",
              "      <td>16433</td>\n",
              "      <td>1</td>\n",
              "      <td></td>\n",
              "      <td>HOW TO MAKE: Open Faced Italian Dogs\\nIngredie...</td>\n",
              "      <td>10</td>\n",
              "      <td>10</td>\n",
              "      <td>9933</td>\n",
              "      <td>top-p</td>\n",
              "      <td>0.4</td>\n",
              "      <td>Recipes</td>\n",
              "      <td>0.2</td>\n",
              "    </tr>\n",
              "    <tr>\n",
              "      <th>138</th>\n",
              "      <td>2021-09-02 02:27:39.754000+00:00</td>\n",
              "      <td>1699</td>\n",
              "      <td>26262</td>\n",
              "      <td>-1</td>\n",
              "      <td>3</td>\n",
              "      <td>0</td>\n",
              "      <td>False</td>\n",
              "      <td>[repetition]</td>\n",
              "      <td>139</td>\n",
              "      <td>finetuned</td>\n",
              "      <td>20538</td>\n",
              "      <td>1</td>\n",
              "      <td>Brush with malt syrup or sugar._SEP_Bake for 1...</td>\n",
              "      <td>HOW TO MAKE: Black Sesame Seed Bagels\\nIngredi...</td>\n",
              "      <td>8</td>\n",
              "      <td>9</td>\n",
              "      <td>7824</td>\n",
              "      <td>top-p</td>\n",
              "      <td>0.4</td>\n",
              "      <td>Recipes</td>\n",
              "      <td>0.2</td>\n",
              "    </tr>\n",
              "    <tr>\n",
              "      <th>172</th>\n",
              "      <td>2021-09-02 13:41:57.862000+00:00</td>\n",
              "      <td>1720</td>\n",
              "      <td>1785</td>\n",
              "      <td>-1</td>\n",
              "      <td>1</td>\n",
              "      <td>0</td>\n",
              "      <td>False</td>\n",
              "      <td>[]</td>\n",
              "      <td>173</td>\n",
              "      <td>gpt2</td>\n",
              "      <td>1810</td>\n",
              "      <td>1</td>\n",
              "      <td>It was probably because they were really old e...</td>\n",
              "      <td>Don't worry about credit- if anything always j...</td>\n",
              "      <td>8</td>\n",
              "      <td>1</td>\n",
              "      <td>2739</td>\n",
              "      <td>top-p</td>\n",
              "      <td>0.4</td>\n",
              "      <td>Short Stories</td>\n",
              "      <td>0.2</td>\n",
              "    </tr>\n",
              "    <tr>\n",
              "      <th>179</th>\n",
              "      <td>2021-09-02 13:44:42.769000+00:00</td>\n",
              "      <td>1727</td>\n",
              "      <td>26379</td>\n",
              "      <td>-1</td>\n",
              "      <td>1</td>\n",
              "      <td>0</td>\n",
              "      <td>False</td>\n",
              "      <td>[]</td>\n",
              "      <td>180</td>\n",
              "      <td>finetuned</td>\n",
              "      <td>20654</td>\n",
              "      <td>1</td>\n",
              "      <td>Just increase the amount of walnuts to 2/3 cup...</td>\n",
              "      <td>HOW TO MAKE: Simply Elegant Green Beans\\nIngre...</td>\n",
              "      <td>9</td>\n",
              "      <td>9</td>\n",
              "      <td>8030</td>\n",
              "      <td>top-p</td>\n",
              "      <td>0.4</td>\n",
              "      <td>Recipes</td>\n",
              "      <td>0.2</td>\n",
              "    </tr>\n",
              "    <tr>\n",
              "      <th>...</th>\n",
              "      <td>...</td>\n",
              "      <td>...</td>\n",
              "      <td>...</td>\n",
              "      <td>...</td>\n",
              "      <td>...</td>\n",
              "      <td>...</td>\n",
              "      <td>...</td>\n",
              "      <td>...</td>\n",
              "      <td>...</td>\n",
              "      <td>...</td>\n",
              "      <td>...</td>\n",
              "      <td>...</td>\n",
              "      <td>...</td>\n",
              "      <td>...</td>\n",
              "      <td>...</td>\n",
              "      <td>...</td>\n",
              "      <td>...</td>\n",
              "      <td>...</td>\n",
              "      <td>...</td>\n",
              "      <td>...</td>\n",
              "      <td>...</td>\n",
              "    </tr>\n",
              "    <tr>\n",
              "      <th>46968</th>\n",
              "      <td>2021-10-18 04:36:47.625000+00:00</td>\n",
              "      <td>4433</td>\n",
              "      <td>26332</td>\n",
              "      <td>8</td>\n",
              "      <td>9</td>\n",
              "      <td>3</td>\n",
              "      <td>False</td>\n",
              "      <td>[]</td>\n",
              "      <td>51458</td>\n",
              "      <td>finetuned</td>\n",
              "      <td>20608</td>\n",
              "      <td>1</td>\n",
              "      <td>The one serving is 12 ounces per person!_SEP_G...</td>\n",
              "      <td>HOW TO MAKE: Baked Salmon Fillets Dijon\\nIngre...</td>\n",
              "      <td>8</td>\n",
              "      <td>9</td>\n",
              "      <td>7943</td>\n",
              "      <td>top-p</td>\n",
              "      <td>0.4</td>\n",
              "      <td>Recipes</td>\n",
              "      <td>0.2</td>\n",
              "    </tr>\n",
              "    <tr>\n",
              "      <th>46969</th>\n",
              "      <td>2021-10-18 04:37:01.490000+00:00</td>\n",
              "      <td>4433</td>\n",
              "      <td>22806</td>\n",
              "      <td>8</td>\n",
              "      <td>7</td>\n",
              "      <td>0</td>\n",
              "      <td>False</td>\n",
              "      <td>[generic]</td>\n",
              "      <td>51459</td>\n",
              "      <td>finetuned</td>\n",
              "      <td>13785</td>\n",
              "      <td>1</td>\n",
              "      <td>Pour the boiling water over the chicken pieces...</td>\n",
              "      <td>HOW TO MAKE: Delicious Greek Garlic Chicken\\nI...</td>\n",
              "      <td>3</td>\n",
              "      <td>9</td>\n",
              "      <td>2017</td>\n",
              "      <td>top-p</td>\n",
              "      <td>0.4</td>\n",
              "      <td>Recipes</td>\n",
              "      <td>0.2</td>\n",
              "    </tr>\n",
              "    <tr>\n",
              "      <th>46970</th>\n",
              "      <td>2021-10-18 04:37:12.887000+00:00</td>\n",
              "      <td>4433</td>\n",
              "      <td>24651</td>\n",
              "      <td>8</td>\n",
              "      <td>9</td>\n",
              "      <td>0</td>\n",
              "      <td>False</td>\n",
              "      <td>[]</td>\n",
              "      <td>51460</td>\n",
              "      <td>finetuned</td>\n",
              "      <td>19077</td>\n",
              "      <td>1</td>\n",
              "      <td>Transfer the biscuits to the prepared baking s...</td>\n",
              "      <td>HOW TO MAKE: Cheddar-Polenta Biscuits with Ham...</td>\n",
              "      <td>5</td>\n",
              "      <td>9</td>\n",
              "      <td>4999</td>\n",
              "      <td>top-p</td>\n",
              "      <td>0.4</td>\n",
              "      <td>Recipes</td>\n",
              "      <td>0.2</td>\n",
              "    </tr>\n",
              "    <tr>\n",
              "      <th>46971</th>\n",
              "      <td>2021-10-18 04:37:24.752000+00:00</td>\n",
              "      <td>4433</td>\n",
              "      <td>20136</td>\n",
              "      <td>8</td>\n",
              "      <td>9</td>\n",
              "      <td>0</td>\n",
              "      <td>False</td>\n",
              "      <td>[]</td>\n",
              "      <td>51461</td>\n",
              "      <td>gpt2-xl</td>\n",
              "      <td>15183</td>\n",
              "      <td>1</td>\n",
              "      <td>Melt the remaining 4 tablespoons butter in a l...</td>\n",
              "      <td>HOW TO MAKE: Asparagus Omelette\\nIngredients:\\...</td>\n",
              "      <td>2</td>\n",
              "      <td>10</td>\n",
              "      <td>1396</td>\n",
              "      <td>top-p</td>\n",
              "      <td>0.4</td>\n",
              "      <td>Recipes</td>\n",
              "      <td>0.2</td>\n",
              "    </tr>\n",
              "    <tr>\n",
              "      <th>46972</th>\n",
              "      <td>2021-10-18 04:37:37.474000+00:00</td>\n",
              "      <td>4433</td>\n",
              "      <td>19776</td>\n",
              "      <td>8</td>\n",
              "      <td>9</td>\n",
              "      <td>5</td>\n",
              "      <td>False</td>\n",
              "      <td>[]</td>\n",
              "      <td>51462</td>\n",
              "      <td>gpt2-xl</td>\n",
              "      <td>14823</td>\n",
              "      <td>1</td>\n",
              "      <td></td>\n",
              "      <td>HOW TO MAKE: Sopapilla Cheesecake\\nIngredients...</td>\n",
              "      <td>10</td>\n",
              "      <td>9</td>\n",
              "      <td>9760</td>\n",
              "      <td>top-p</td>\n",
              "      <td>0.4</td>\n",
              "      <td>Recipes</td>\n",
              "      <td>0.2</td>\n",
              "    </tr>\n",
              "  </tbody>\n",
              "</table>\n",
              "<p>27471 rows × 21 columns</p>\n",
              "</div>"
            ],
            "text/plain": [
              "                                  date  ...  playlist_version\n",
              "112   2021-08-31 17:11:39.095000+00:00  ...               0.2\n",
              "114   2021-08-31 17:12:40.795000+00:00  ...               0.2\n",
              "138   2021-09-02 02:27:39.754000+00:00  ...               0.2\n",
              "172   2021-09-02 13:41:57.862000+00:00  ...               0.2\n",
              "179   2021-09-02 13:44:42.769000+00:00  ...               0.2\n",
              "...                                ...  ...               ...\n",
              "46968 2021-10-18 04:36:47.625000+00:00  ...               0.2\n",
              "46969 2021-10-18 04:37:01.490000+00:00  ...               0.2\n",
              "46970 2021-10-18 04:37:12.887000+00:00  ...               0.2\n",
              "46971 2021-10-18 04:37:24.752000+00:00  ...               0.2\n",
              "46972 2021-10-18 04:37:37.474000+00:00  ...               0.2\n",
              "\n",
              "[27471 rows x 21 columns]"
            ]
          },
          "metadata": {},
          "execution_count": 15
        }
      ]
    },
    {
      "cell_type": "markdown",
      "metadata": {
        "id": "jArqafq0EP5U"
      },
      "source": [
        "# Dataset Statistics"
      ],
      "id": "jArqafq0EP5U"
    },
    {
      "cell_type": "code",
      "metadata": {
        "id": "rnFuvKHsEUuM",
        "colab": {
          "base_uri": "https://localhost:8080/",
          "height": 188
        },
        "outputId": "a4fe4884-caae-49aa-b42d-8b8c74b7fb98"
      },
      "source": [
        "full_df.groupby('playlist_name').count()"
      ],
      "id": "rnFuvKHsEUuM",
      "execution_count": null,
      "outputs": [
        {
          "output_type": "execute_result",
          "data": {
            "application/vnd.google.colaboratory.module+javascript": "\n      import \"https://ssl.gstatic.com/colaboratory/data_table/a6224c040fa35dcf/data_table.js\";\n\n      window.createDataTable({\n        data: [[\"New York Times\",\n{\n            'v': 4957,\n            'f': \"4957\",\n        },\n{\n            'v': 4957,\n            'f': \"4957\",\n        },\n{\n            'v': 4957,\n            'f': \"4957\",\n        },\n{\n            'v': 4957,\n            'f': \"4957\",\n        },\n{\n            'v': 4957,\n            'f': \"4957\",\n        },\n{\n            'v': 4957,\n            'f': \"4957\",\n        },\n{\n            'v': 4957,\n            'f': \"4957\",\n        },\n{\n            'v': 4957,\n            'f': \"4957\",\n        },\n{\n            'v': 4957,\n            'f': \"4957\",\n        },\n{\n            'v': 4957,\n            'f': \"4957\",\n        },\n{\n            'v': 4957,\n            'f': \"4957\",\n        },\n{\n            'v': 4957,\n            'f': \"4957\",\n        },\n{\n            'v': 4957,\n            'f': \"4957\",\n        },\n{\n            'v': 4957,\n            'f': \"4957\",\n        },\n{\n            'v': 4957,\n            'f': \"4957\",\n        },\n{\n            'v': 4957,\n            'f': \"4957\",\n        },\n{\n            'v': 4957,\n            'f': \"4957\",\n        },\n{\n            'v': 4957,\n            'f': \"4957\",\n        },\n{\n            'v': 4957,\n            'f': \"4957\",\n        },\n{\n            'v': 4957,\n            'f': \"4957\",\n        }],\n [\"Presidential Speeches\",\n{\n            'v': 5098,\n            'f': \"5098\",\n        },\n{\n            'v': 5098,\n            'f': \"5098\",\n        },\n{\n            'v': 5098,\n            'f': \"5098\",\n        },\n{\n            'v': 5098,\n            'f': \"5098\",\n        },\n{\n            'v': 5098,\n            'f': \"5098\",\n        },\n{\n            'v': 5098,\n            'f': \"5098\",\n        },\n{\n            'v': 5098,\n            'f': \"5098\",\n        },\n{\n            'v': 5098,\n            'f': \"5098\",\n        },\n{\n            'v': 5098,\n            'f': \"5098\",\n        },\n{\n            'v': 5098,\n            'f': \"5098\",\n        },\n{\n            'v': 5098,\n            'f': \"5098\",\n        },\n{\n            'v': 5098,\n            'f': \"5098\",\n        },\n{\n            'v': 5098,\n            'f': \"5098\",\n        },\n{\n            'v': 5098,\n            'f': \"5098\",\n        },\n{\n            'v': 5098,\n            'f': \"5098\",\n        },\n{\n            'v': 5098,\n            'f': \"5098\",\n        },\n{\n            'v': 5098,\n            'f': \"5098\",\n        },\n{\n            'v': 5098,\n            'f': \"5098\",\n        },\n{\n            'v': 5098,\n            'f': \"5098\",\n        },\n{\n            'v': 5098,\n            'f': \"5098\",\n        }],\n [\"Recipes\",\n{\n            'v': 12186,\n            'f': \"12186\",\n        },\n{\n            'v': 12186,\n            'f': \"12186\",\n        },\n{\n            'v': 12186,\n            'f': \"12186\",\n        },\n{\n            'v': 12186,\n            'f': \"12186\",\n        },\n{\n            'v': 12186,\n            'f': \"12186\",\n        },\n{\n            'v': 12186,\n            'f': \"12186\",\n        },\n{\n            'v': 12186,\n            'f': \"12186\",\n        },\n{\n            'v': 12186,\n            'f': \"12186\",\n        },\n{\n            'v': 12186,\n            'f': \"12186\",\n        },\n{\n            'v': 12186,\n            'f': \"12186\",\n        },\n{\n            'v': 12186,\n            'f': \"12186\",\n        },\n{\n            'v': 12186,\n            'f': \"12186\",\n        },\n{\n            'v': 12186,\n            'f': \"12186\",\n        },\n{\n            'v': 12186,\n            'f': \"12186\",\n        },\n{\n            'v': 12186,\n            'f': \"12186\",\n        },\n{\n            'v': 12186,\n            'f': \"12186\",\n        },\n{\n            'v': 12186,\n            'f': \"12186\",\n        },\n{\n            'v': 12186,\n            'f': \"12186\",\n        },\n{\n            'v': 12186,\n            'f': \"12186\",\n        },\n{\n            'v': 12186,\n            'f': \"12186\",\n        }],\n [\"Short Stories\",\n{\n            'v': 5230,\n            'f': \"5230\",\n        },\n{\n            'v': 5230,\n            'f': \"5230\",\n        },\n{\n            'v': 5230,\n            'f': \"5230\",\n        },\n{\n            'v': 5230,\n            'f': \"5230\",\n        },\n{\n            'v': 5230,\n            'f': \"5230\",\n        },\n{\n            'v': 5230,\n            'f': \"5230\",\n        },\n{\n            'v': 5230,\n            'f': \"5230\",\n        },\n{\n            'v': 5230,\n            'f': \"5230\",\n        },\n{\n            'v': 5230,\n            'f': \"5230\",\n        },\n{\n            'v': 5230,\n            'f': \"5230\",\n        },\n{\n            'v': 5230,\n            'f': \"5230\",\n        },\n{\n            'v': 5230,\n            'f': \"5230\",\n        },\n{\n            'v': 5230,\n            'f': \"5230\",\n        },\n{\n            'v': 5230,\n            'f': \"5230\",\n        },\n{\n            'v': 5230,\n            'f': \"5230\",\n        },\n{\n            'v': 5230,\n            'f': \"5230\",\n        },\n{\n            'v': 5230,\n            'f': \"5230\",\n        },\n{\n            'v': 5230,\n            'f': \"5230\",\n        },\n{\n            'v': 5230,\n            'f': \"5230\",\n        },\n{\n            'v': 5230,\n            'f': \"5230\",\n        }]],\n        columns: [[\"string\", \"playlist_name\"], [\"number\", \"date\"], [\"number\", \"annotator\"], [\"number\", \"generation\"], [\"number\", \"playlist\"], [\"number\", \"boundary\"], [\"number\", \"points\"], [\"number\", \"attention_check\"], [\"number\", \"reason\"], [\"number\", \"pk\"], [\"number\", \"system\"], [\"number\", \"prompt\"], [\"number\", \"decoding_strategy\"], [\"number\", \"gen_body\"], [\"number\", \"prompt_body\"], [\"number\", \"num_sentences\"], [\"number\", \"dataset\"], [\"number\", \"prompt_index\"], [\"number\", \"dec_strat\"], [\"number\", \"dec_strat_value\"], [\"number\", \"playlist_version\"]],\n        columnOptions: [{\"width\": \"1px\", \"className\": \"index_column\"}],\n        rowsPerPage: 25,\n        helpUrl: \"https://colab.research.google.com/notebooks/data_table.ipynb\",\n        suppressOutputScrolling: true,\n        minimumWidth: undefined,\n      });\n    ",
            "text/html": [
              "<div>\n",
              "<style scoped>\n",
              "    .dataframe tbody tr th:only-of-type {\n",
              "        vertical-align: middle;\n",
              "    }\n",
              "\n",
              "    .dataframe tbody tr th {\n",
              "        vertical-align: top;\n",
              "    }\n",
              "\n",
              "    .dataframe thead th {\n",
              "        text-align: right;\n",
              "    }\n",
              "</style>\n",
              "<table border=\"1\" class=\"dataframe\">\n",
              "  <thead>\n",
              "    <tr style=\"text-align: right;\">\n",
              "      <th></th>\n",
              "      <th>date</th>\n",
              "      <th>annotator</th>\n",
              "      <th>generation</th>\n",
              "      <th>playlist</th>\n",
              "      <th>boundary</th>\n",
              "      <th>points</th>\n",
              "      <th>attention_check</th>\n",
              "      <th>reason</th>\n",
              "      <th>pk</th>\n",
              "      <th>system</th>\n",
              "      <th>prompt</th>\n",
              "      <th>decoding_strategy</th>\n",
              "      <th>gen_body</th>\n",
              "      <th>prompt_body</th>\n",
              "      <th>num_sentences</th>\n",
              "      <th>dataset</th>\n",
              "      <th>prompt_index</th>\n",
              "      <th>dec_strat</th>\n",
              "      <th>dec_strat_value</th>\n",
              "      <th>playlist_version</th>\n",
              "    </tr>\n",
              "    <tr>\n",
              "      <th>playlist_name</th>\n",
              "      <th></th>\n",
              "      <th></th>\n",
              "      <th></th>\n",
              "      <th></th>\n",
              "      <th></th>\n",
              "      <th></th>\n",
              "      <th></th>\n",
              "      <th></th>\n",
              "      <th></th>\n",
              "      <th></th>\n",
              "      <th></th>\n",
              "      <th></th>\n",
              "      <th></th>\n",
              "      <th></th>\n",
              "      <th></th>\n",
              "      <th></th>\n",
              "      <th></th>\n",
              "      <th></th>\n",
              "      <th></th>\n",
              "      <th></th>\n",
              "    </tr>\n",
              "  </thead>\n",
              "  <tbody>\n",
              "    <tr>\n",
              "      <th>New York Times</th>\n",
              "      <td>4957</td>\n",
              "      <td>4957</td>\n",
              "      <td>4957</td>\n",
              "      <td>4957</td>\n",
              "      <td>4957</td>\n",
              "      <td>4957</td>\n",
              "      <td>4957</td>\n",
              "      <td>4957</td>\n",
              "      <td>4957</td>\n",
              "      <td>4957</td>\n",
              "      <td>4957</td>\n",
              "      <td>4957</td>\n",
              "      <td>4957</td>\n",
              "      <td>4957</td>\n",
              "      <td>4957</td>\n",
              "      <td>4957</td>\n",
              "      <td>4957</td>\n",
              "      <td>4957</td>\n",
              "      <td>4957</td>\n",
              "      <td>4957</td>\n",
              "    </tr>\n",
              "    <tr>\n",
              "      <th>Presidential Speeches</th>\n",
              "      <td>5098</td>\n",
              "      <td>5098</td>\n",
              "      <td>5098</td>\n",
              "      <td>5098</td>\n",
              "      <td>5098</td>\n",
              "      <td>5098</td>\n",
              "      <td>5098</td>\n",
              "      <td>5098</td>\n",
              "      <td>5098</td>\n",
              "      <td>5098</td>\n",
              "      <td>5098</td>\n",
              "      <td>5098</td>\n",
              "      <td>5098</td>\n",
              "      <td>5098</td>\n",
              "      <td>5098</td>\n",
              "      <td>5098</td>\n",
              "      <td>5098</td>\n",
              "      <td>5098</td>\n",
              "      <td>5098</td>\n",
              "      <td>5098</td>\n",
              "    </tr>\n",
              "    <tr>\n",
              "      <th>Recipes</th>\n",
              "      <td>12186</td>\n",
              "      <td>12186</td>\n",
              "      <td>12186</td>\n",
              "      <td>12186</td>\n",
              "      <td>12186</td>\n",
              "      <td>12186</td>\n",
              "      <td>12186</td>\n",
              "      <td>12186</td>\n",
              "      <td>12186</td>\n",
              "      <td>12186</td>\n",
              "      <td>12186</td>\n",
              "      <td>12186</td>\n",
              "      <td>12186</td>\n",
              "      <td>12186</td>\n",
              "      <td>12186</td>\n",
              "      <td>12186</td>\n",
              "      <td>12186</td>\n",
              "      <td>12186</td>\n",
              "      <td>12186</td>\n",
              "      <td>12186</td>\n",
              "    </tr>\n",
              "    <tr>\n",
              "      <th>Short Stories</th>\n",
              "      <td>5230</td>\n",
              "      <td>5230</td>\n",
              "      <td>5230</td>\n",
              "      <td>5230</td>\n",
              "      <td>5230</td>\n",
              "      <td>5230</td>\n",
              "      <td>5230</td>\n",
              "      <td>5230</td>\n",
              "      <td>5230</td>\n",
              "      <td>5230</td>\n",
              "      <td>5230</td>\n",
              "      <td>5230</td>\n",
              "      <td>5230</td>\n",
              "      <td>5230</td>\n",
              "      <td>5230</td>\n",
              "      <td>5230</td>\n",
              "      <td>5230</td>\n",
              "      <td>5230</td>\n",
              "      <td>5230</td>\n",
              "      <td>5230</td>\n",
              "    </tr>\n",
              "  </tbody>\n",
              "</table>\n",
              "</div>"
            ],
            "text/plain": [
              "                        date  annotator  ...  dec_strat_value  playlist_version\n",
              "playlist_name                            ...                                   \n",
              "New York Times          4957       4957  ...             4957              4957\n",
              "Presidential Speeches   5098       5098  ...             5098              5098\n",
              "Recipes                12186      12186  ...            12186             12186\n",
              "Short Stories           5230       5230  ...             5230              5230\n",
              "\n",
              "[4 rows x 20 columns]"
            ]
          },
          "metadata": {},
          "execution_count": 20
        }
      ]
    },
    {
      "cell_type": "markdown",
      "metadata": {
        "id": "F1gZhxAeI-eU"
      },
      "source": [
        "# Helper Functions"
      ],
      "id": "F1gZhxAeI-eU"
    },
    {
      "cell_type": "code",
      "metadata": {
        "id": "Nitk2sWsJBdL"
      },
      "source": [
        "def map_playlist_name(playlist):\n",
        "  \"\"\"Converts playlist names to the ones we want to use in the paper.\"\"\"\n",
        "  if playlist == 'New York Times':\n",
        "    return \"News\"\n",
        "  elif playlist == 'Presidential Speeches':\n",
        "    return \"Speeches\"\n",
        "  elif playlist == 'Recipes':\n",
        "    return \"Recipes\"\n",
        "  elif playlist == 'Short Stories':\n",
        "    return \"Stories\"\n",
        "\n",
        "def save(filename):\n",
        "  plt.tight_layout()\n",
        "  plt.savefig(filename)\n",
        "  plt.show()"
      ],
      "id": "Nitk2sWsJBdL",
      "execution_count": null,
      "outputs": []
    },
    {
      "cell_type": "code",
      "metadata": {
        "id": "CnofKpI4LW-k",
        "colab": {
          "base_uri": "https://localhost:8080/"
        },
        "outputId": "faf76350-efa9-4706-f889-4eb5ee7ef10a"
      },
      "source": [
        "# out_path = /tmp/point_distribution\n",
        "%download_file /tmp/point_distribution\n"
      ],
      "id": "CnofKpI4LW-k",
      "execution_count": null,
      "outputs": [
        {
          "output_type": "stream",
          "name": "stderr",
          "text": [
            "UsageError: Line magic function `%download_file` not found.\n"
          ]
        }
      ]
    },
    {
      "cell_type": "markdown",
      "metadata": {
        "id": "tFllvXnJ60x9"
      },
      "source": [
        "# Analysis"
      ],
      "id": "tFllvXnJ60x9"
    },
    {
      "cell_type": "markdown",
      "metadata": {
        "id": "ODMubmKy9j6d"
      },
      "source": [
        "## Mean points"
      ],
      "id": "ODMubmKy9j6d"
    },
    {
      "cell_type": "code",
      "metadata": {
        "id": "ke3hPwwCKIEd",
        "colab": {
          "base_uri": "https://localhost:8080/",
          "height": 176
        },
        "outputId": "2e8b1dd0-787f-42ee-915e-f3914e8fc0c3"
      },
      "source": [
        "def analyze_per_playlist():\n",
        "  info_to_return = []\n",
        "  playlist_names = set(playlist_df[\"shortname\"].tolist())\n",
        "  model_names = set(generation_df[\"system\"].tolist())\n",
        "  for playlist in playlist_names:\n",
        "    for model in model_names:\n",
        "      df = full_df[(full_df[\"playlist_name\"]==playlist) & \n",
        "                          (full_df[\"system\"]==model) &\n",
        "                          (full_df[\"playlist_version\"]==\"0.2\")]\n",
        "      \n",
        "      if len(df) > 0:\n",
        "        info = {\"playlist\": playlist,\n",
        "                \"model\": model,\n",
        "                \"mean score\": np.mean(df[\"points\"]),\n",
        "                \"median score\": np.median(df[\"points\"]),\n",
        "                \"fraction_nonzero\": len(df[df[\"points\"] > 0]) / len(df),\n",
        "                \"num_annotations\": len(df)\n",
        "        }\n",
        "        info_to_return.append(info)\n",
        "  return pd.DataFrame(info_to_return)\n",
        "\n",
        "analyze_per_playlist()"
      ],
      "id": "ke3hPwwCKIEd",
      "execution_count": null,
      "outputs": [
        {
          "output_type": "execute_result",
          "data": {
            "application/vnd.google.colaboratory.module+javascript": "\n      import \"https://ssl.gstatic.com/colaboratory/data_table/a6224c040fa35dcf/data_table.js\";\n\n      window.createDataTable({\n        data: [[{\n            'v': 0,\n            'f': \"0\",\n        },\n\"Recipes\",\n\"gpt2-xl\",\n{\n            'v': 2.06702337369755,\n            'f': \"2.06702337369755\",\n        },\n{\n            'v': 0.0,\n            'f': \"0.0\",\n        },\n{\n            'v': 0.47958321599549425,\n            'f': \"0.47958321599549425\",\n        },\n{\n            'v': 7102,\n            'f': \"7102\",\n        }],\n [{\n            'v': 1,\n            'f': \"1\",\n        },\n\"Recipes\",\n\"finetuned\",\n{\n            'v': 1.9244207429201912,\n            'f': \"1.9244207429201912\",\n        },\n{\n            'v': 1.0,\n            'f': \"1.0\",\n        },\n{\n            'v': 0.5130562706877528,\n            'f': \"0.5130562706877528\",\n        },\n{\n            'v': 10876,\n            'f': \"10876\",\n        }],\n [{\n            'v': 2,\n            'f': \"2\",\n        },\n\"Presidential Speeches\",\n\"ctrl\",\n{\n            'v': 2.2051588249343204,\n            'f': \"2.2051588249343204\",\n        },\n{\n            'v': 2.0,\n            'f': \"2.0\",\n        },\n{\n            'v': 0.5871745880105087,\n            'f': \"0.5871745880105087\",\n        },\n{\n            'v': 8374,\n            'f': \"8374\",\n        }],\n [{\n            'v': 3,\n            'f': \"3\",\n        },\n\"Short Stories\",\n\"davinci\",\n{\n            'v': 1.8426966292134832,\n            'f': \"1.8426966292134832\",\n        },\n{\n            'v': 1.0,\n            'f': \"1.0\",\n        },\n{\n            'v': 0.6292134831460674,\n            'f': \"0.6292134831460674\",\n        },\n{\n            'v': 89,\n            'f': \"89\",\n        }],\n [{\n            'v': 4,\n            'f': \"4\",\n        },\n\"Short Stories\",\n\"gpt2-xl\",\n{\n            'v': 1.765329295987888,\n            'f': \"1.765329295987888\",\n        },\n{\n            'v': 1.0,\n            'f': \"1.0\",\n        },\n{\n            'v': 0.5143830431491294,\n            'f': \"0.5143830431491294\",\n        },\n{\n            'v': 2642,\n            'f': \"2642\",\n        }],\n [{\n            'v': 5,\n            'f': \"5\",\n        },\n\"Short Stories\",\n\"gpt2\",\n{\n            'v': 2.046057619408643,\n            'f': \"2.046057619408643\",\n        },\n{\n            'v': 1.0,\n            'f': \"1.0\",\n        },\n{\n            'v': 0.5128885519332828,\n            'f': \"0.5128885519332828\",\n        },\n{\n            'v': 5276,\n            'f': \"5276\",\n        }],\n [{\n            'v': 6,\n            'f': \"6\",\n        },\n\"New York Times\",\n\"easy\",\n{\n            'v': 2.697247706422018,\n            'f': \"2.697247706422018\",\n        },\n{\n            'v': 3.0,\n            'f': \"3.0\",\n        },\n{\n            'v': 0.7125382262996942,\n            'f': \"0.7125382262996942\",\n        },\n{\n            'v': 327,\n            'f': \"327\",\n        }],\n [{\n            'v': 7,\n            'f': \"7\",\n        },\n\"New York Times\",\n\"gpt2-xl\",\n{\n            'v': 1.817622676828453,\n            'f': \"1.817622676828453\",\n        },\n{\n            'v': 1.0,\n            'f': \"1.0\",\n        },\n{\n            'v': 0.5111645941970852,\n            'f': \"0.5111645941970852\",\n        },\n{\n            'v': 7479,\n            'f': \"7479\",\n        }]],\n        columns: [[\"number\", \"index\"], [\"string\", \"playlist\"], [\"string\", \"model\"], [\"number\", \"mean score\"], [\"number\", \"median score\"], [\"number\", \"fraction_nonzero\"], [\"number\", \"num_annotations\"]],\n        columnOptions: [{\"width\": \"1px\", \"className\": \"index_column\"}],\n        rowsPerPage: 25,\n        helpUrl: \"https://colab.research.google.com/notebooks/data_table.ipynb\",\n        suppressOutputScrolling: true,\n        minimumWidth: undefined,\n      });\n    ",
            "text/html": [
              "<div>\n",
              "<style scoped>\n",
              "    .dataframe tbody tr th:only-of-type {\n",
              "        vertical-align: middle;\n",
              "    }\n",
              "\n",
              "    .dataframe tbody tr th {\n",
              "        vertical-align: top;\n",
              "    }\n",
              "\n",
              "    .dataframe thead th {\n",
              "        text-align: right;\n",
              "    }\n",
              "</style>\n",
              "<table border=\"1\" class=\"dataframe\">\n",
              "  <thead>\n",
              "    <tr style=\"text-align: right;\">\n",
              "      <th></th>\n",
              "      <th>playlist</th>\n",
              "      <th>model</th>\n",
              "      <th>mean score</th>\n",
              "      <th>median score</th>\n",
              "      <th>fraction_nonzero</th>\n",
              "      <th>num_annotations</th>\n",
              "    </tr>\n",
              "  </thead>\n",
              "  <tbody>\n",
              "    <tr>\n",
              "      <th>0</th>\n",
              "      <td>Recipes</td>\n",
              "      <td>gpt2-xl</td>\n",
              "      <td>2.067023</td>\n",
              "      <td>0.0</td>\n",
              "      <td>0.479583</td>\n",
              "      <td>7102</td>\n",
              "    </tr>\n",
              "    <tr>\n",
              "      <th>1</th>\n",
              "      <td>Recipes</td>\n",
              "      <td>finetuned</td>\n",
              "      <td>1.924421</td>\n",
              "      <td>1.0</td>\n",
              "      <td>0.513056</td>\n",
              "      <td>10876</td>\n",
              "    </tr>\n",
              "    <tr>\n",
              "      <th>2</th>\n",
              "      <td>Presidential Speeches</td>\n",
              "      <td>ctrl</td>\n",
              "      <td>2.205159</td>\n",
              "      <td>2.0</td>\n",
              "      <td>0.587175</td>\n",
              "      <td>8374</td>\n",
              "    </tr>\n",
              "    <tr>\n",
              "      <th>3</th>\n",
              "      <td>Short Stories</td>\n",
              "      <td>davinci</td>\n",
              "      <td>1.842697</td>\n",
              "      <td>1.0</td>\n",
              "      <td>0.629213</td>\n",
              "      <td>89</td>\n",
              "    </tr>\n",
              "    <tr>\n",
              "      <th>4</th>\n",
              "      <td>Short Stories</td>\n",
              "      <td>gpt2-xl</td>\n",
              "      <td>1.765329</td>\n",
              "      <td>1.0</td>\n",
              "      <td>0.514383</td>\n",
              "      <td>2642</td>\n",
              "    </tr>\n",
              "    <tr>\n",
              "      <th>5</th>\n",
              "      <td>Short Stories</td>\n",
              "      <td>gpt2</td>\n",
              "      <td>2.046058</td>\n",
              "      <td>1.0</td>\n",
              "      <td>0.512889</td>\n",
              "      <td>5276</td>\n",
              "    </tr>\n",
              "    <tr>\n",
              "      <th>6</th>\n",
              "      <td>New York Times</td>\n",
              "      <td>easy</td>\n",
              "      <td>2.697248</td>\n",
              "      <td>3.0</td>\n",
              "      <td>0.712538</td>\n",
              "      <td>327</td>\n",
              "    </tr>\n",
              "    <tr>\n",
              "      <th>7</th>\n",
              "      <td>New York Times</td>\n",
              "      <td>gpt2-xl</td>\n",
              "      <td>1.817623</td>\n",
              "      <td>1.0</td>\n",
              "      <td>0.511165</td>\n",
              "      <td>7479</td>\n",
              "    </tr>\n",
              "  </tbody>\n",
              "</table>\n",
              "</div>"
            ],
            "text/plain": [
              "                playlist      model  ...  fraction_nonzero  num_annotations\n",
              "0                Recipes    gpt2-xl  ...          0.479583             7102\n",
              "1                Recipes  finetuned  ...          0.513056            10876\n",
              "2  Presidential Speeches       ctrl  ...          0.587175             8374\n",
              "3          Short Stories    davinci  ...          0.629213               89\n",
              "4          Short Stories    gpt2-xl  ...          0.514383             2642\n",
              "5          Short Stories       gpt2  ...          0.512889             5276\n",
              "6         New York Times       easy  ...          0.712538              327\n",
              "7         New York Times    gpt2-xl  ...          0.511165             7479\n",
              "\n",
              "[8 rows x 6 columns]"
            ]
          },
          "metadata": {},
          "execution_count": 107
        }
      ]
    },
    {
      "cell_type": "code",
      "metadata": {
        "id": "6zxk4qicD0rY",
        "colab": {
          "base_uri": "https://localhost:8080/",
          "height": 479
        },
        "outputId": "7ed44dcc-7f78-4c29-9fab-ea93ff21852f"
      },
      "source": [
        "def analyze_per_decoding_strat():\n",
        "  info_to_return = []\n",
        "  playlist_names = set(playlist_df[\"shortname\"].tolist())\n",
        "  model_names = set(generation_df[\"system\"].tolist())\n",
        "  for playlist in playlist_names:\n",
        "    for model in model_names:\n",
        "      for top_p_value in [0.0, 0.1, 0.2, 0.3, 0.4, 0.5, 0.6, 0.7, 0.8, 0.9, 1.0]:\n",
        "        df = full_df[(full_df[\"dec_strat\"]==\"top-p\") &\n",
        "                  (full_df[\"dec_strat_value\"]==top_p_value) &\n",
        "                  (full_df[\"playlist_name\"]==playlist) &\n",
        "                  (full_df[\"system\"]==model) &\n",
        "                          (full_df[\"playlist_version\"]==\"0.2\")]\n",
        "\n",
        "        if len(df) > 0:\n",
        "          info = {\"p-value\": top_p_value,\n",
        "                  \"playlist\": playlist,\n",
        "                  \"model\": model,\n",
        "                  # \"mean score\": np.mean(df[\"points\"]),\n",
        "                  # \"std score\": np.std(df[\"points\"]),\n",
        "                  \"mean_score\": \"%0.2f\\\\pm%0.2f\" % (np.mean(df[\"points\"]), np.std(df[\"points\"])),\n",
        "                  \"median score\": np.median(df[\"points\"]),\n",
        "                  \"fraction_nonzero\": len(df[df[\"points\"] > 0]) / len(df),\n",
        "                  \"num_annotations\": len(df),\n",
        "          }\n",
        "          info_to_return.append(info)\n",
        "  return pd.DataFrame(info_to_return)\n",
        "\n",
        "out_df = analyze_per_decoding_strat() \n",
        "out_df"
      ],
      "id": "6zxk4qicD0rY",
      "execution_count": null,
      "outputs": [
        {
          "output_type": "execute_result",
          "data": {
            "application/vnd.google.colaboratory.module+javascript": "\n      import \"https://ssl.gstatic.com/colaboratory/data_table/a6224c040fa35dcf/data_table.js\";\n\n      window.createDataTable({\n        data: [[{\n            'v': 0,\n            'f': \"0\",\n        },\n{\n            'v': 0.0,\n            'f': \"0.0\",\n        },\n\"New York Times\",\n\"gpt2-xl\",\n\"1.67\\\\pm1.95\",\n{\n            'v': 0.0,\n            'f': \"0.0\",\n        },\n{\n            'v': 0.49177330895795246,\n            'f': \"0.49177330895795246\",\n        },\n{\n            'v': 1641,\n            'f': \"1641\",\n        }],\n [{\n            'v': 1,\n            'f': \"1\",\n        },\n{\n            'v': 0.4,\n            'f': \"0.4\",\n        },\n\"New York Times\",\n\"gpt2-xl\",\n\"1.76\\\\pm1.97\",\n{\n            'v': 1.0,\n            'f': \"1.0\",\n        },\n{\n            'v': 0.5072463768115942,\n            'f': \"0.5072463768115942\",\n        },\n{\n            'v': 1518,\n            'f': \"1518\",\n        }],\n [{\n            'v': 2,\n            'f': \"2\",\n        },\n{\n            'v': 1.0,\n            'f': \"1.0\",\n        },\n\"New York Times\",\n\"gpt2-xl\",\n\"2.09\\\\pm2.08\",\n{\n            'v': 2.0,\n            'f': \"2.0\",\n        },\n{\n            'v': 0.5681818181818182,\n            'f': \"0.5681818181818182\",\n        },\n{\n            'v': 1584,\n            'f': \"1584\",\n        }],\n [{\n            'v': 3,\n            'f': \"3\",\n        },\n{\n            'v': 0.0,\n            'f': \"0.0\",\n        },\n\"Short Stories\",\n\"gpt2-xl\",\n\"1.55\\\\pm1.88\",\n{\n            'v': 0.0,\n            'f': \"0.0\",\n        },\n{\n            'v': 0.4841549295774648,\n            'f': \"0.4841549295774648\",\n        },\n{\n            'v': 568,\n            'f': \"568\",\n        }],\n [{\n            'v': 4,\n            'f': \"4\",\n        },\n{\n            'v': 0.4,\n            'f': \"0.4\",\n        },\n\"Short Stories\",\n\"gpt2-xl\",\n\"1.88\\\\pm2.02\",\n{\n            'v': 1.0,\n            'f': \"1.0\",\n        },\n{\n            'v': 0.5432300163132137,\n            'f': \"0.5432300163132137\",\n        },\n{\n            'v': 613,\n            'f': \"613\",\n        }],\n [{\n            'v': 5,\n            'f': \"5\",\n        },\n{\n            'v': 1.0,\n            'f': \"1.0\",\n        },\n\"Short Stories\",\n\"gpt2-xl\",\n\"2.38\\\\pm2.04\",\n{\n            'v': 3.0,\n            'f': \"3.0\",\n        },\n{\n            'v': 0.6437389770723104,\n            'f': \"0.6437389770723104\",\n        },\n{\n            'v': 567,\n            'f': \"567\",\n        }],\n [{\n            'v': 6,\n            'f': \"6\",\n        },\n{\n            'v': 0.4,\n            'f': \"0.4\",\n        },\n\"Short Stories\",\n\"davinci\",\n\"1.85\\\\pm1.87\",\n{\n            'v': 1.0,\n            'f': \"1.0\",\n        },\n{\n            'v': 0.6216216216216216,\n            'f': \"0.6216216216216216\",\n        },\n{\n            'v': 74,\n            'f': \"74\",\n        }],\n [{\n            'v': 7,\n            'f': \"7\",\n        },\n{\n            'v': 0.4,\n            'f': \"0.4\",\n        },\n\"Short Stories\",\n\"gpt2\",\n\"2.17\\\\pm2.18\",\n{\n            'v': 2.0,\n            'f': \"2.0\",\n        },\n{\n            'v': 0.5387323943661971,\n            'f': \"0.5387323943661971\",\n        },\n{\n            'v': 3408,\n            'f': \"3408\",\n        }],\n [{\n            'v': 8,\n            'f': \"8\",\n        },\n{\n            'v': 0.4,\n            'f': \"0.4\",\n        },\n\"Presidential Speeches\",\n\"ctrl\",\n\"2.12\\\\pm2.10\",\n{\n            'v': 2.0,\n            'f': \"2.0\",\n        },\n{\n            'v': 0.5717928599450764,\n            'f': \"0.5717928599450764\",\n        },\n{\n            'v': 5098,\n            'f': \"5098\",\n        }],\n [{\n            'v': 9,\n            'f': \"9\",\n        },\n{\n            'v': 0.4,\n            'f': \"0.4\",\n        },\n\"Recipes\",\n\"gpt2-xl\",\n\"2.16\\\\pm2.34\",\n{\n            'v': 0.0,\n            'f': \"0.0\",\n        },\n{\n            'v': 0.49616102925918243,\n            'f': \"0.49616102925918243\",\n        },\n{\n            'v': 4819,\n            'f': \"4819\",\n        }],\n [{\n            'v': 10,\n            'f': \"10\",\n        },\n{\n            'v': 0.4,\n            'f': \"0.4\",\n        },\n\"Recipes\",\n\"finetuned\",\n\"1.97\\\\pm2.13\",\n{\n            'v': 1.0,\n            'f': \"1.0\",\n        },\n{\n            'v': 0.5257228179720375,\n            'f': \"0.5257228179720375\",\n        },\n{\n            'v': 7367,\n            'f': \"7367\",\n        }]],\n        columns: [[\"number\", \"index\"], [\"number\", \"p-value\"], [\"string\", \"playlist\"], [\"string\", \"model\"], [\"string\", \"mean_score\"], [\"number\", \"median score\"], [\"number\", \"fraction_nonzero\"], [\"number\", \"num_annotations\"]],\n        columnOptions: [{\"width\": \"1px\", \"className\": \"index_column\"}],\n        rowsPerPage: 25,\n        helpUrl: \"https://colab.research.google.com/notebooks/data_table.ipynb\",\n        suppressOutputScrolling: true,\n        minimumWidth: undefined,\n      });\n    ",
            "text/html": [
              "<div>\n",
              "<style scoped>\n",
              "    .dataframe tbody tr th:only-of-type {\n",
              "        vertical-align: middle;\n",
              "    }\n",
              "\n",
              "    .dataframe tbody tr th {\n",
              "        vertical-align: top;\n",
              "    }\n",
              "\n",
              "    .dataframe thead th {\n",
              "        text-align: right;\n",
              "    }\n",
              "</style>\n",
              "<table border=\"1\" class=\"dataframe\">\n",
              "  <thead>\n",
              "    <tr style=\"text-align: right;\">\n",
              "      <th></th>\n",
              "      <th>p-value</th>\n",
              "      <th>playlist</th>\n",
              "      <th>model</th>\n",
              "      <th>mean_score</th>\n",
              "      <th>median score</th>\n",
              "      <th>fraction_nonzero</th>\n",
              "      <th>num_annotations</th>\n",
              "    </tr>\n",
              "  </thead>\n",
              "  <tbody>\n",
              "    <tr>\n",
              "      <th>0</th>\n",
              "      <td>0.0</td>\n",
              "      <td>New York Times</td>\n",
              "      <td>gpt2-xl</td>\n",
              "      <td>1.67\\pm1.95</td>\n",
              "      <td>0.0</td>\n",
              "      <td>0.491773</td>\n",
              "      <td>1641</td>\n",
              "    </tr>\n",
              "    <tr>\n",
              "      <th>1</th>\n",
              "      <td>0.4</td>\n",
              "      <td>New York Times</td>\n",
              "      <td>gpt2-xl</td>\n",
              "      <td>1.76\\pm1.97</td>\n",
              "      <td>1.0</td>\n",
              "      <td>0.507246</td>\n",
              "      <td>1518</td>\n",
              "    </tr>\n",
              "    <tr>\n",
              "      <th>2</th>\n",
              "      <td>1.0</td>\n",
              "      <td>New York Times</td>\n",
              "      <td>gpt2-xl</td>\n",
              "      <td>2.09\\pm2.08</td>\n",
              "      <td>2.0</td>\n",
              "      <td>0.568182</td>\n",
              "      <td>1584</td>\n",
              "    </tr>\n",
              "    <tr>\n",
              "      <th>3</th>\n",
              "      <td>0.0</td>\n",
              "      <td>Short Stories</td>\n",
              "      <td>gpt2-xl</td>\n",
              "      <td>1.55\\pm1.88</td>\n",
              "      <td>0.0</td>\n",
              "      <td>0.484155</td>\n",
              "      <td>568</td>\n",
              "    </tr>\n",
              "    <tr>\n",
              "      <th>4</th>\n",
              "      <td>0.4</td>\n",
              "      <td>Short Stories</td>\n",
              "      <td>gpt2-xl</td>\n",
              "      <td>1.88\\pm2.02</td>\n",
              "      <td>1.0</td>\n",
              "      <td>0.543230</td>\n",
              "      <td>613</td>\n",
              "    </tr>\n",
              "    <tr>\n",
              "      <th>5</th>\n",
              "      <td>1.0</td>\n",
              "      <td>Short Stories</td>\n",
              "      <td>gpt2-xl</td>\n",
              "      <td>2.38\\pm2.04</td>\n",
              "      <td>3.0</td>\n",
              "      <td>0.643739</td>\n",
              "      <td>567</td>\n",
              "    </tr>\n",
              "    <tr>\n",
              "      <th>6</th>\n",
              "      <td>0.4</td>\n",
              "      <td>Short Stories</td>\n",
              "      <td>davinci</td>\n",
              "      <td>1.85\\pm1.87</td>\n",
              "      <td>1.0</td>\n",
              "      <td>0.621622</td>\n",
              "      <td>74</td>\n",
              "    </tr>\n",
              "    <tr>\n",
              "      <th>7</th>\n",
              "      <td>0.4</td>\n",
              "      <td>Short Stories</td>\n",
              "      <td>gpt2</td>\n",
              "      <td>2.17\\pm2.18</td>\n",
              "      <td>2.0</td>\n",
              "      <td>0.538732</td>\n",
              "      <td>3408</td>\n",
              "    </tr>\n",
              "    <tr>\n",
              "      <th>8</th>\n",
              "      <td>0.4</td>\n",
              "      <td>Presidential Speeches</td>\n",
              "      <td>ctrl</td>\n",
              "      <td>2.12\\pm2.10</td>\n",
              "      <td>2.0</td>\n",
              "      <td>0.571793</td>\n",
              "      <td>5098</td>\n",
              "    </tr>\n",
              "    <tr>\n",
              "      <th>9</th>\n",
              "      <td>0.4</td>\n",
              "      <td>Recipes</td>\n",
              "      <td>gpt2-xl</td>\n",
              "      <td>2.16\\pm2.34</td>\n",
              "      <td>0.0</td>\n",
              "      <td>0.496161</td>\n",
              "      <td>4819</td>\n",
              "    </tr>\n",
              "    <tr>\n",
              "      <th>10</th>\n",
              "      <td>0.4</td>\n",
              "      <td>Recipes</td>\n",
              "      <td>finetuned</td>\n",
              "      <td>1.97\\pm2.13</td>\n",
              "      <td>1.0</td>\n",
              "      <td>0.525723</td>\n",
              "      <td>7367</td>\n",
              "    </tr>\n",
              "  </tbody>\n",
              "</table>\n",
              "</div>"
            ],
            "text/plain": [
              "    p-value               playlist  ... fraction_nonzero num_annotations\n",
              "0       0.0         New York Times  ...         0.491773            1641\n",
              "1       0.4         New York Times  ...         0.507246            1518\n",
              "2       1.0         New York Times  ...         0.568182            1584\n",
              "3       0.0          Short Stories  ...         0.484155             568\n",
              "4       0.4          Short Stories  ...         0.543230             613\n",
              "5       1.0          Short Stories  ...         0.643739             567\n",
              "6       0.4          Short Stories  ...         0.621622              74\n",
              "7       0.4          Short Stories  ...         0.538732            3408\n",
              "8       0.4  Presidential Speeches  ...         0.571793            5098\n",
              "9       0.4                Recipes  ...         0.496161            4819\n",
              "10      0.4                Recipes  ...         0.525723            7367\n",
              "\n",
              "[11 rows x 7 columns]"
            ]
          },
          "metadata": {},
          "execution_count": 94
        }
      ]
    },
    {
      "cell_type": "markdown",
      "metadata": {
        "id": "_llfXnGu9Map"
      },
      "source": [
        "### Comparison of XL models across p-values for NYT and Reddit\n",
        "\n",
        "**Conclusion**: Sampling from full distribution (p=1.0) has worse quality. Argmax sampling (with repetition penalty) seems to be consistently better for text quality -- this is consistent with Daphne's research."
      ],
      "id": "_llfXnGu9Map"
    },
    {
      "cell_type": "code",
      "metadata": {
        "colab": {
          "base_uri": "https://localhost:8080/",
          "height": 320
        },
        "id": "n7WJe-eL7GND",
        "outputId": "a82f5ae8-7ca9-425c-a310-62425d3f33f7"
      },
      "source": [
        "p = sns.barplot(x=\"playlist\", y=\"mean score\", hue=\"p-value\", data=out_df[(out_df[\"model\"]==\"gpt2-xl\") & (out_df[\"playlist\"]==\"Short Stories\") | (out_df[\"playlist\"]==\"New York Times\")])\n",
        "p.set_title(\"Comparison of Generation Performance of GPT2-XL across values of top-p\")\n",
        "p.set_xlabel(\"Dataset\", fontsize = 16)\n",
        "p.set_ylabel(\"Mean Score\", fontsize = 16)"
      ],
      "id": "n7WJe-eL7GND",
      "execution_count": null,
      "outputs": [
        {
          "output_type": "execute_result",
          "data": {
            "text/plain": [
              "Text(0, 0.5, 'Mean Score')"
            ]
          },
          "metadata": {},
          "execution_count": 158
        },
        {
          "output_type": "display_data",
          "data": {
            "image/png": "[encoded data removed]",
            "text/plain": [
              "<Figure size 432x288 with 1 Axes>"
            ]
          },
          "metadata": {}
        }
      ]
    },
    {
      "cell_type": "markdown",
      "metadata": {
        "id": "NoE8siFkDJcs"
      },
      "source": [
        "### Comparison of GPT2-XL p=0.4 across reddit, nyt, and recipes\n",
        "\n",
        "**Conclusion:** We see that Recipes are the most difficult, then NYT and short stories. This shows that generation systems struggle with structured text and are better at more open-ended generations (?). Also shows that domain knowledge is important. (although NYT being better than reddit is interesting)."
      ],
      "id": "NoE8siFkDJcs"
    },
    {
      "cell_type": "code",
      "metadata": {
        "colab": {
          "base_uri": "https://localhost:8080/",
          "height": 320
        },
        "id": "bzrD_Y8aBkmd",
        "outputId": "b5a135a5-90b3-488d-ef58-d6139f430eaa"
      },
      "source": [
        "p = sns.barplot(x=\"playlist\", y=\"mean score\", hue=\"p-value\", data=out_df[(out_df[\"model\"]==\"gpt2-xl\") & (out_df[\"p-value\"]==0.4)])\n",
        "p.set_title(\"Comparison of Generation Performance of GPT2-XL across Textual Genre\")\n",
        "p.set_xlabel(\"Model\", fontsize = 16)\n",
        "p.set_ylabel(\"Mean Score\", fontsize = 16)"
      ],
      "id": "bzrD_Y8aBkmd",
      "execution_count": null,
      "outputs": [
        {
          "output_type": "execute_result",
          "data": {
            "text/plain": [
              "Text(0, 0.5, 'Mean Score')"
            ]
          },
          "metadata": {},
          "execution_count": 111
        },
        {
          "output_type": "display_data",
          "data": {
            "image/png": "[encoded data removed]",
            "text/plain": [
              "<Figure size 432x288 with 1 Axes>"
            ]
          },
          "metadata": {}
        }
      ]
    },
    {
      "cell_type": "markdown",
      "metadata": {
        "id": "S7A0oITfEBnW"
      },
      "source": [
        "### Comparison of Model Size across same dataset and p-value\n",
        "\n",
        "**Conclusion**: Bigger Models are better (good sanity check, nice to know this is confirmed) -- don't use GPT3 here because we only have 89 annotations"
      ],
      "id": "S7A0oITfEBnW"
    },
    {
      "cell_type": "code",
      "metadata": {
        "colab": {
          "base_uri": "https://localhost:8080/",
          "height": 320
        },
        "id": "8FOP3s2CB6VY",
        "outputId": "9fd864eb-6cfa-4de2-ca39-6b8c4d097063"
      },
      "source": [
        "p = sns.barplot(x=\"model\", y=\"mean score\", hue=\"p-value\", data=out_df[(out_df[\"playlist\"]==\"Short Stories\") & (out_df[\"p-value\"]==0.4) & (out_df[\"model\"]!=\"davinci\")])\n",
        "p.set_title(\"Comparison of Generation Performance on Short Stories across different size models\")\n",
        "p.set_xlabel(\"Model\", fontsize = 16)\n",
        "p.set_ylabel(\"Mean Score\", fontsize = 16)"
      ],
      "id": "8FOP3s2CB6VY",
      "execution_count": null,
      "outputs": [
        {
          "output_type": "execute_result",
          "data": {
            "text/plain": [
              "Text(0, 0.5, 'Mean Score')"
            ]
          },
          "metadata": {},
          "execution_count": 154
        },
        {
          "output_type": "display_data",
          "data": {
            "image/png": "[encoded data removed]",
            "text/plain": [
              "<Figure size 432x288 with 1 Axes>"
            ]
          },
          "metadata": {}
        }
      ]
    },
    {
      "cell_type": "markdown",
      "metadata": {
        "id": "VBG-DlphBIIF"
      },
      "source": [
        "### Comparison of fine-tuning performance"
      ],
      "id": "VBG-DlphBIIF"
    },
    {
      "cell_type": "code",
      "metadata": {
        "colab": {
          "base_uri": "https://localhost:8080/",
          "height": 320
        },
        "id": "Cf0CUZ_zFNqo",
        "outputId": "f263659c-72ec-49ec-f311-6856c11255e9"
      },
      "source": [
        "p = sns.barplot(x=\"model\", y=\"mean score\", hue=\"p-value\", data=out_df[(out_df[\"playlist\"]==\"Recipes\")])\n",
        "p.set_title(\"Comparison of Generation Performance of Fine-tuning on Recipes\")\n",
        "p.set_xlabel(\"Model\", fontsize = 16)\n",
        "p.set_ylabel(\"Mean Score\", fontsize = 16)"
      ],
      "id": "Cf0CUZ_zFNqo",
      "execution_count": null,
      "outputs": [
        {
          "output_type": "execute_result",
          "data": {
            "text/plain": [
              "Text(0, 0.5, 'Mean Score')"
            ]
          },
          "metadata": {},
          "execution_count": 159
        },
        {
          "output_type": "display_data",
          "data": {
            "image/png": "[encoded data removed]",
            "text/plain": [
              "<Figure size 432x288 with 1 Axes>"
            ]
          },
          "metadata": {}
        }
      ]
    },
    {
      "cell_type": "markdown",
      "metadata": {
        "id": "IrlpW3jBvxYq"
      },
      "source": [
        "### Mean points on easy baseline NYTimes "
      ],
      "id": "IrlpW3jBvxYq"
    },
    {
      "cell_type": "code",
      "metadata": {
        "id": "K4oPS1Y5P4W9"
      },
      "source": [
        "full_df[\""
      ],
      "id": "K4oPS1Y5P4W9",
      "execution_count": null,
      "outputs": []
    },
    {
      "cell_type": "markdown",
      "metadata": {
        "id": "lW93fZk5vkpC"
      },
      "source": [
        "### Mean Points for only the first 10 annotations from each annotator\n"
      ],
      "id": "lW93fZk5vkpC"
    },
    {
      "cell_type": "markdown",
      "metadata": {
        "id": "79b5219e"
      },
      "source": [
        "## Point Distributions"
      ],
      "id": "79b5219e"
    },
    {
      "cell_type": "markdown",
      "metadata": {
        "id": "l3zXEFCpv5wP"
      },
      "source": [
        "### Per playlist"
      ],
      "id": "l3zXEFCpv5wP"
    },
    {
      "cell_type": "code",
      "metadata": {
        "id": "v8MlIYPzFIVh",
        "colab": {
          "base_uri": "https://localhost:8080/"
        },
        "outputId": "848f48f1-b7f4-4f5c-aa06-87d4b40d8956"
      },
      "source": [
        "full_df[full_df[\"system\"] == \"easy\"].points.mean()"
      ],
      "id": "v8MlIYPzFIVh",
      "execution_count": null,
      "outputs": [
        {
          "output_type": "execute_result",
          "data": {
            "text/plain": [
              "2.7523364485981308"
            ]
          },
          "metadata": {},
          "execution_count": 91
        }
      ]
    },
    {
      "cell_type": "code",
      "metadata": {
        "id": "MCUnvHi3xdSp"
      },
      "source": [
        "import collections"
      ],
      "id": "MCUnvHi3xdSp",
      "execution_count": null,
      "outputs": []
    },
    {
      "cell_type": "code",
      "metadata": {
        "id": "aJqTCGicv8kC",
        "colab": {
          "base_uri": "https://localhost:8080/"
        },
        "outputId": "50ff5689-49d8-464c-a8b2-78a72a8817f5"
      },
      "source": [
        "df = full_df[full_df[\"system\"].isin(('ctrl', 'finetuned', 'gpt2-xl'))]\n",
        "df = df[df[\"dec_strat_value\"] == 0.4]\n",
        "\n",
        "playlists = set(df[\"playlist_name\"].tolist())\n",
        "to_plot = []\n",
        "for playlist in playlists:\n",
        "  print(playlist)\n",
        "  points = df[df[\"playlist_name\"]==playlist].points.tolist()\n",
        "  points = collections.Counter(points)\n",
        "\n",
        "  heights = np.array(list(points.values())) / sum(points.values())\n",
        "  for point_value, height in zip(points, heights):\n",
        "    to_plot.append({\"Points earned\": point_value,\n",
        "                    \"Fraction of annotations\":height,\n",
        "                    \"Domain\": map_playlist_name(playlist)})\n",
        "  # plt.bar(x=points.keys(), height=height)\n",
        "  # plt.ylim([0, 0.5])\n",
        "  # plt.show()"
      ],
      "id": "aJqTCGicv8kC",
      "execution_count": null,
      "outputs": [
        {
          "output_type": "stream",
          "name": "stdout",
          "text": [
            "New York Times\n",
            "Short Stories\n",
            "Presidential Speeches\n",
            "Recipes\n"
          ]
        }
      ]
    },
    {
      "cell_type": "code",
      "metadata": {
        "id": "cxXH7BY7II6U",
        "colab": {
          "base_uri": "https://localhost:8080/",
          "height": 293
        },
        "outputId": "42ca617a-4a42-4773-ecdc-9eeafd37e7d0"
      },
      "source": [
        "to_plot = pd.DataFrame(to_plot)\n",
        "sns.barplot(x=\"Points earned\", y=\"Fraction of annotations\", hue=\"Domain\", data=to_plot)\n",
        "save(\"point_distribution.pdf\")"
      ],
      "id": "cxXH7BY7II6U",
      "execution_count": null,
      "outputs": [
        {
          "output_type": "display_data",
          "data": {
            "image/png": "[encoded data removed]",
            "text/plain": [
              "<Figure size 432x288 with 1 Axes>"
            ]
          },
          "metadata": {}
        }
      ]
    },
    {
      "cell_type": "markdown",
      "metadata": {
        "id": "BCARyPKdv4EX"
      },
      "source": [
        "### Per annotator"
      ],
      "id": "BCARyPKdv4EX"
    },
    {
      "cell_type": "code",
      "metadata": {
        "id": "hbbC4OLjwTyU",
        "colab": {
          "base_uri": "https://localhost:8080/",
          "height": 365
        },
        "outputId": "e1bdb6b2-2d2d-4aab-f909-c06c6d029319"
      },
      "source": [
        "full_df.sort_values(['date']).groupby('annotator').points.mean().plot.hist(\n",
        "    figsize=(20, 10),\n",
        "    title='Achieved Points Distribution'\n",
        ")"
      ],
      "id": "hbbC4OLjwTyU",
      "execution_count": null,
      "outputs": [
        {
          "output_type": "execute_result",
          "data": {
            "text/plain": [
              "<matplotlib.axes._subplots.AxesSubplot at 0x7fbac1c24ed0>"
            ]
          },
          "metadata": {},
          "execution_count": 22
        },
        {
          "output_type": "display_data",
          "data": {
            "image/png": "[encoded data removed]",
            "text/plain": [
              "<Figure size 1440x720 with 1 Axes>"
            ]
          },
          "metadata": {}
        }
      ]
    },
    {
      "cell_type": "code",
      "metadata": {
        "id": "5a590aa0",
        "scrolled": false,
        "colab": {
          "base_uri": "https://localhost:8080/",
          "height": 624
        },
        "outputId": "d84c2548-0615-4c77-c698-cfa7a513c0a3"
      },
      "source": [
        "full_df.groupby('annotator').points.mean().plot.hist(\n",
        "    figsize=(20, 10),\n",
        "    title='Achieved Points Distribution'\n",
        ")"
      ],
      "id": "5a590aa0",
      "execution_count": null,
      "outputs": [
        {
          "output_type": "execute_result",
          "data": {
            "text/plain": [
              "<matplotlib.axes._subplots.AxesSubplot at 0x7fe0d12d3390>"
            ]
          },
          "metadata": {},
          "execution_count": 115
        },
        {
          "output_type": "display_data",
          "data": {
            "image/png": "[encoded data removed]",
            "text/plain": [
              "<Figure size 1440x720 with 1 Axes>"
            ]
          },
          "metadata": {}
        }
      ]
    },
    {
      "cell_type": "markdown",
      "metadata": {
        "id": "xGQRPDNo5Ti3"
      },
      "source": [
        "## Anotator performance over time"
      ],
      "id": "xGQRPDNo5Ti3"
    },
    {
      "cell_type": "markdown",
      "metadata": {
        "id": "lY9BcgVA9whO"
      },
      "source": [
        "Of the annotators who did at least K annotations, plot their mean score over time"
      ],
      "id": "lY9BcgVA9whO"
    },
    {
      "cell_type": "code",
      "metadata": {
        "id": "085fVoDX95a9"
      },
      "source": [
        "df = annotation_df.groupby('annotator').count()"
      ],
      "id": "085fVoDX95a9",
      "execution_count": null,
      "outputs": []
    },
    {
      "cell_type": "code",
      "metadata": {
        "id": "NWGqEWtyMAZR"
      },
      "source": [
        "def analyze_progress(df, k=50):\n",
        "  \"\"\"Analyze whether annotators improve in aggregate over k annotations.\"\"\"\n",
        "  all_score_series = []\n",
        "  annotators = df[df[\"pk\"] > k].reset_index()[\"annotator\"].tolist()\n",
        "  for annotator in annotators:\n",
        "    annotations = annotation_df[annotation_df[\"annotator\"] == annotator]\n",
        "    score_series = annotations.sort_values(\"date\")[\"points\"][:k].tolist()\n",
        "    all_score_series.append(score_series)\n",
        "\n",
        "  return np.array(all_score_series), len(annotators)"
      ],
      "id": "NWGqEWtyMAZR",
      "execution_count": null,
      "outputs": []
    },
    {
      "cell_type": "code",
      "metadata": {
        "id": "bBmiI8D3SDdK"
      },
      "source": [
        "def analyze_and_plot(s, n, k):\n",
        "  print(n)\n",
        "  data = np.array(s)\n",
        "  data = np.mean(data, axis=0)\n",
        "  print(\"spearmanr: %.2f, %f\" % stats.spearmanr(range(k), data))\n",
        "  print(\"pearsonr: %.2f, %f\" % stats.pearsonr(range(k), data))\n",
        "  plt.plot(range(1, k+1), data)\n",
        "  plt.ylabel(\"Mean score\")\n",
        "  plt.xlabel(\"$n$th annotation\")\n",
        "  plt.title(\"Performance over time\")\n",
        "  plt.show()"
      ],
      "id": "bBmiI8D3SDdK",
      "execution_count": null,
      "outputs": []
    },
    {
      "cell_type": "markdown",
      "metadata": {
        "id": "8ATbTKV7MDsC"
      },
      "source": [
        "### Analysis of annotators getting better over time (1st Batch)\n",
        "\n",
        "**Conclusion**: We see no correlation on the first batch of annotators. They do not improve over time"
      ],
      "id": "8ATbTKV7MDsC"
    },
    {
      "cell_type": "code",
      "metadata": {
        "id": "kT_Nu6QTGFz2",
        "colab": {
          "base_uri": "https://localhost:8080/",
          "height": 348
        },
        "outputId": "a7717d19-79d1-4d72-b8b6-14ff0a2dec38"
      },
      "source": [
        "k = 50\n",
        "s, n = analyze_progress(full_df[(full_df['date'] < '2021-10-1')].groupby('annotator').count(), k)\n",
        "analyze_and_plot(s, n, k)"
      ],
      "id": "kT_Nu6QTGFz2",
      "execution_count": null,
      "outputs": [
        {
          "output_type": "stream",
          "name": "stdout",
          "text": [
            "23\n",
            "spearmanr: -0.16, 0.276470\n",
            "pearsonr: -0.11, 0.462299\n"
          ]
        },
        {
          "output_type": "display_data",
          "data": {
            "image/png": "[encoded data removed]",
            "text/plain": [
              "<Figure size 432x288 with 1 Axes>"
            ]
          },
          "metadata": {
            "needs_background": "light"
          }
        }
      ]
    },
    {
      "cell_type": "code",
      "metadata": {
        "id": "7DBKTa3Oc38Z",
        "colab": {
          "base_uri": "https://localhost:8080/",
          "height": 348
        },
        "outputId": "66f12ce4-58c0-4148-c464-d3b4df277453"
      },
      "source": [
        "k = 100\n",
        "s, n = analyze_progress(full_df[(full_df['date'] < '2021-10-1')].groupby('annotator').count(), k)\n",
        "analyze_and_plot(s, n, k)"
      ],
      "id": "7DBKTa3Oc38Z",
      "execution_count": null,
      "outputs": [
        {
          "output_type": "stream",
          "name": "stdout",
          "text": [
            "13\n",
            "spearmanr: -0.04, 0.685869\n",
            "pearsonr: -0.02, 0.862583\n"
          ]
        },
        {
          "output_type": "display_data",
          "data": {
            "image/png": "[encoded data removed]",
            "text/plain": [
              "<Figure size 432x288 with 1 Axes>"
            ]
          },
          "metadata": {
            "needs_background": "light"
          }
        }
      ]
    },
    {
      "cell_type": "code",
      "metadata": {
        "id": "yYkXU342c6mc",
        "colab": {
          "base_uri": "https://localhost:8080/",
          "height": 348
        },
        "outputId": "f51864bf-bec3-4c96-f437-b639b6b2fa17"
      },
      "source": [
        "k = 200\n",
        "s, n = analyze_progress(full_df[(full_df['date'] < '2021-10-1')].groupby('annotator').count(), k)\n",
        "analyze_and_plot(s, n, k)"
      ],
      "id": "yYkXU342c6mc",
      "execution_count": null,
      "outputs": [
        {
          "output_type": "stream",
          "name": "stdout",
          "text": [
            "4\n",
            "spearmanr: -0.03, 0.710323\n",
            "pearsonr: 0.00, 0.950708\n"
          ]
        },
        {
          "output_type": "display_data",
          "data": {
            "image/png": "[encoded data removed]",
            "text/plain": [
              "<Figure size 432x288 with 1 Axes>"
            ]
          },
          "metadata": {
            "needs_background": "light"
          }
        }
      ]
    },
    {
      "cell_type": "markdown",
      "metadata": {
        "id": "wqLhjVC7MOpK"
      },
      "source": [
        "### Analysis of annotators getting better over time (2nd Batch)\n",
        "\n",
        "**Conclusion**: We actually see a positive correlation (over 0.3) for k=50, 100, and 200 on the second batch of annotators. They DO actually improve over time. This suggests that, with the correct instructions, annotators may be able to be taught how to improve at detecting generated text."
      ],
      "id": "wqLhjVC7MOpK"
    },
    {
      "cell_type": "code",
      "metadata": {
        "id": "XrdBfsZlLYbT",
        "colab": {
          "base_uri": "https://localhost:8080/",
          "height": 348
        },
        "outputId": "2befe26f-6542-4583-bb58-0621158ef0e8"
      },
      "source": [
        "k = 50\n",
        "s, n = analyze_progress(full_df[(full_df['date'] > '2021-10-1')].groupby('annotator').count(), k)\n",
        "analyze_and_plot(s, n, k)"
      ],
      "id": "XrdBfsZlLYbT",
      "execution_count": null,
      "outputs": [
        {
          "output_type": "stream",
          "name": "stdout",
          "text": [
            "92\n",
            "spearmanr: 0.44, 0.001287\n",
            "pearsonr: 0.39, 0.005204\n"
          ]
        },
        {
          "output_type": "display_data",
          "data": {
            "image/png": "[encoded data removed]",
            "text/plain": [
              "<Figure size 432x288 with 1 Axes>"
            ]
          },
          "metadata": {
            "needs_background": "light"
          }
        }
      ]
    },
    {
      "cell_type": "code",
      "metadata": {
        "id": "R819xdOTdlIN",
        "colab": {
          "base_uri": "https://localhost:8080/",
          "height": 348
        },
        "outputId": "31fef08d-a80e-4391-94c2-2890da4ef403"
      },
      "source": [
        "k = 100\n",
        "s, n = analyze_progress(full_df[(full_df['date'] > '2021-10-1')].groupby('annotator').count(), k)\n",
        "analyze_and_plot(s, n, k)"
      ],
      "id": "R819xdOTdlIN",
      "execution_count": null,
      "outputs": [
        {
          "output_type": "stream",
          "name": "stdout",
          "text": [
            "87\n",
            "spearmanr: 0.60, 0.000000\n",
            "pearsonr: 0.59, 0.000000\n"
          ]
        },
        {
          "output_type": "display_data",
          "data": {
            "image/png": "[encoded data removed]",
            "text/plain": [
              "<Figure size 432x288 with 1 Axes>"
            ]
          },
          "metadata": {
            "needs_background": "light"
          }
        }
      ]
    },
    {
      "cell_type": "code",
      "metadata": {
        "id": "a2upo61dRb_S",
        "colab": {
          "base_uri": "https://localhost:8080/",
          "height": 348
        },
        "outputId": "2c790887-4198-4770-db1b-2e1f084a8aa9"
      },
      "source": [
        "k = 200\n",
        "s, n = analyze_progress(full_df[(full_df['date'] > '2021-10-1')].groupby('annotator').count(), k)\n",
        "analyze_and_plot(s, n, k)"
      ],
      "id": "a2upo61dRb_S",
      "execution_count": null,
      "outputs": [
        {
          "output_type": "stream",
          "name": "stdout",
          "text": [
            "54\n",
            "spearmanr: 0.35, 0.000001\n",
            "pearsonr: 0.34, 0.000001\n"
          ]
        },
        {
          "output_type": "display_data",
          "data": {
            "image/png": "[encoded data removed]",
            "text/plain": [
              "<Figure size 432x288 with 1 Axes>"
            ]
          },
          "metadata": {
            "needs_background": "light"
          }
        }
      ]
    },
    {
      "cell_type": "markdown",
      "metadata": {
        "id": "uMpu_b_pJNw_"
      },
      "source": [
        "## Inter-annotator agreement"
      ],
      "id": "uMpu_b_pJNw_"
    },
    {
      "cell_type": "markdown",
      "metadata": {
        "id": "aQ7ezEMiT-HE"
      },
      "source": [
        "### Fraction agreement\n",
        "For every pair of annotators who annotated the same generaton, what fraction guessed the same boundary?"
      ],
      "id": "aQ7ezEMiT-HE"
    },
    {
      "cell_type": "code",
      "metadata": {
        "id": "H6iwr8WqFrf5"
      },
      "source": [
        "annotations_per_gen = annotation_df.groupby('generation')\n",
        "# \n",
        "num_annotations_per_gen = annotations_per_gen.points.count()\n"
      ],
      "id": "H6iwr8WqFrf5",
      "execution_count": null,
      "outputs": []
    },
    {
      "cell_type": "code",
      "metadata": {
        "id": "fIhRQOfqUaCP",
        "colab": {
          "base_uri": "https://localhost:8080/"
        },
        "outputId": "2d05f4e3-0611-4b58-80c1-f539424acc14"
      },
      "source": [
        "def analyze_fraction_agreements():\n",
        "  generation_ids = set(annotation_df[\"generation\"].tolist())\n",
        "  annotations_per_gen = annotation_df.groupby('generation')\n",
        "\n",
        "  overall_num_annotations = 0\n",
        "  overall_num_agreements = 0\n",
        "\n",
        "  x = annotations_per_gen.boundary.value_counts()\n",
        "  for idx, generation in enumerate(generation_ids):\n",
        "    chosen_boundaries = x[generation]\n",
        "    chosen_boundaries = {k: chosen_boundaries[k] for k in chosen_boundaries.keys()}\n",
        "    \n",
        "    total_annotations = sum(chosen_boundaries.values())\n",
        "    if total_annotations > 1:\n",
        "      total_agreements = sum(v for v in chosen_boundaries.values() if v > 1)\n",
        "\n",
        "      overall_num_annotations += total_annotations\n",
        "      overall_num_agreements += total_agreements\n",
        "\n",
        "  print(\"Out of {} total annotations on generations with >1 annotation, {} were in agreement with another annotation on the true boundary position. That is {}\".format(\n",
        "      overall_num_annotations, overall_num_agreements, overall_num_agreements/overall_num_annotations\n",
        "  ))\n",
        "analyze_fraction_agreements()\n",
        "\n",
        "# TODO: Figure out what the baseline of random guessing would be,"
      ],
      "id": "fIhRQOfqUaCP",
      "execution_count": null,
      "outputs": [
        {
          "output_type": "stream",
          "name": "stdout",
          "text": [
            "Out of 13915 total annotations on generations with >1 annotation, 6275 were in agreement with another annotation on the true boundary position. That is 0.4509522098454905\n"
          ]
        }
      ]
    },
    {
      "cell_type": "markdown",
      "metadata": {
        "id": "ogAmIe_z4zHc"
      },
      "source": [
        "### Krippendorf's Alpha"
      ],
      "id": "ogAmIe_z4zHc"
    },
    {
      "cell_type": "code",
      "metadata": {
        "id": "6reEJfX_Ivmt"
      },
      "source": [
        "import nltk.metrics"
      ],
      "id": "6reEJfX_Ivmt",
      "execution_count": null,
      "outputs": []
    },
    {
      "cell_type": "code",
      "metadata": {
        "id": "UAMK8TkeQN1b"
      },
      "source": [
        "from nltk.metrics.agreement import AnnotationTask"
      ],
      "id": "UAMK8TkeQN1b",
      "execution_count": null,
      "outputs": []
    },
    {
      "cell_type": "code",
      "metadata": {
        "id": "sLpnuNDYDZmt"
      },
      "source": [
        "# df = annotation_df.groupby('generation').boundary.apply(list).reset_index()\n",
        "# df = df[df.apply(lambda row: len(row[\"boundary\"]) >= 4, axis=1)]\n",
        "\n",
        "# df"
      ],
      "id": "sLpnuNDYDZmt",
      "execution_count": null,
      "outputs": []
    },
    {
      "cell_type": "code",
      "metadata": {
        "id": "bcxKrvpkJENd"
      },
      "source": [
        "annotation_data = []\n",
        "for idx, row in annotation_df.iterrows():\n",
        "  coder = row[\"annotator\"]\n",
        "  item = row[\"generation\"]\n",
        "  label = row[\"boundary\"]\n",
        "  annotation_data.append((coder,item,label))"
      ],
      "id": "bcxKrvpkJENd",
      "execution_count": null,
      "outputs": []
    },
    {
      "cell_type": "code",
      "metadata": {
        "id": "o3ciZrN9DTB5"
      },
      "source": [
        "ann_task = AnnotationTask(annotation_data)"
      ],
      "id": "o3ciZrN9DTB5",
      "execution_count": null,
      "outputs": []
    },
    {
      "cell_type": "code",
      "metadata": {
        "id": "LJUCcXcrMJnU"
      },
      "source": [
        "print(ann_task.alpha())"
      ],
      "id": "LJUCcXcrMJnU",
      "execution_count": null,
      "outputs": []
    },
    {
      "cell_type": "markdown",
      "metadata": {
        "id": "1ca229b7"
      },
      "source": [
        "## Profile Statistics"
      ],
      "id": "1ca229b7"
    },
    {
      "cell_type": "code",
      "metadata": {
        "id": "1uSUrycSgjja"
      },
      "source": [
        "def user_stats(df, name):\n",
        "  data = {\"name\": name}\n",
        "  data[\"num_participants\"] = len(np.unique(df[\"annotator\"]).tolist())\n",
        "  data[\"num_annotations\"] = len(df)\n",
        "  data[\"mean_annotations_per_participant\"] = data[\"num_annotations\"] / data[\"num_participants\"] \n",
        "  data[\"mean_points\"] = np.mean(df[\"points\"])\n",
        "  data[\"std_points\"] = np.std(df[\"points\"])\n",
        "  return data"
      ],
      "id": "1uSUrycSgjja",
      "execution_count": null,
      "outputs": []
    },
    {
      "cell_type": "code",
      "metadata": {
        "id": "0UV8DTppgVZ6"
      },
      "source": [
        "all_data = []\n",
        "all_data.append(user_stats(full_df, \"overall\"))"
      ],
      "id": "0UV8DTppgVZ6",
      "execution_count": null,
      "outputs": []
    },
    {
      "cell_type": "markdown",
      "metadata": {
        "id": "5U7y3mQ6gY4E"
      },
      "source": [
        "### First batch"
      ],
      "id": "5U7y3mQ6gY4E"
    },
    {
      "cell_type": "code",
      "metadata": {
        "id": "kf6nfCvpenid"
      },
      "source": [
        "df = full_df[(full_df['date'] <= '2021-10-1')]\n",
        "all_data.append(user_stats(df, \"Section A\"))"
      ],
      "id": "kf6nfCvpenid",
      "execution_count": null,
      "outputs": []
    },
    {
      "cell_type": "markdown",
      "metadata": {
        "id": "p__1DaiGgatX"
      },
      "source": [
        "### Second batch"
      ],
      "id": "p__1DaiGgatX"
    },
    {
      "cell_type": "code",
      "metadata": {
        "id": "EkZmHwD8gQ3x"
      },
      "source": [
        "df = full_df[(full_df['date'] > '2021-10-1')]\n",
        "all_data.append(user_stats(df, \"Section B\"))"
      ],
      "id": "EkZmHwD8gQ3x",
      "execution_count": null,
      "outputs": []
    },
    {
      "cell_type": "code",
      "metadata": {
        "id": "1w-g_GuDgTzr",
        "colab": {
          "base_uri": "https://localhost:8080/",
          "height": 152
        },
        "outputId": "4a9310fe-8380-4abe-9c50-fdad742ce0ba"
      },
      "source": [
        "pd.DataFrame(all_data)"
      ],
      "id": "1w-g_GuDgTzr",
      "execution_count": null,
      "outputs": [
        {
          "output_type": "execute_result",
          "data": {
            "application/vnd.google.colaboratory.module+javascript": "\n      import \"https://ssl.gstatic.com/colaboratory/data_table/a6224c040fa35dcf/data_table.js\";\n\n      window.createDataTable({\n        data: [[{\n            'v': 0,\n            'f': \"0\",\n        },\n\"overall\",\n{\n            'v': 241,\n            'f': \"241\",\n        },\n{\n            'v': 27471,\n            'f': \"27471\",\n        },\n{\n            'v': 113.98755186721992,\n            'f': \"113.98755186721992\",\n        },\n{\n            'v': 2.037312074551345,\n            'f': \"2.037312074551345\",\n        },\n{\n            'v': 2.1465437502743083,\n            'f': \"2.1465437502743083\",\n        }],\n [{\n            'v': 1,\n            'f': \"1\",\n        },\n\"Section A\",\n{\n            'v': 141,\n            'f': \"141\",\n        },\n{\n            'v': 7264,\n            'f': \"7264\",\n        },\n{\n            'v': 51.5177304964539,\n            'f': \"51.5177304964539\",\n        },\n{\n            'v': 1.94727422907489,\n            'f': \"1.94727422907489\",\n        },\n{\n            'v': 2.1475964317369822,\n            'f': \"2.1475964317369822\",\n        }],\n [{\n            'v': 2,\n            'f': \"2\",\n        },\n\"Section B\",\n{\n            'v': 102,\n            'f': \"102\",\n        },\n{\n            'v': 20207,\n            'f': \"20207\",\n        },\n{\n            'v': 198.1078431372549,\n            'f': \"198.1078431372549\",\n        },\n{\n            'v': 2.0696788241698423,\n            'f': \"2.0696788241698423\",\n        },\n{\n            'v': 2.1452420040822915,\n            'f': \"2.1452420040822915\",\n        }]],\n        columns: [[\"number\", \"index\"], [\"string\", \"name\"], [\"number\", \"num_participants\"], [\"number\", \"num_annotations\"], [\"number\", \"mean_annotations_per_participant\"], [\"number\", \"mean_points\"], [\"number\", \"std_points\"]],\n        columnOptions: [{\"width\": \"1px\", \"className\": \"index_column\"}],\n        rowsPerPage: 25,\n        helpUrl: \"https://colab.research.google.com/notebooks/data_table.ipynb\",\n        suppressOutputScrolling: true,\n        minimumWidth: undefined,\n      });\n    ",
            "text/html": [
              "<div>\n",
              "<style scoped>\n",
              "    .dataframe tbody tr th:only-of-type {\n",
              "        vertical-align: middle;\n",
              "    }\n",
              "\n",
              "    .dataframe tbody tr th {\n",
              "        vertical-align: top;\n",
              "    }\n",
              "\n",
              "    .dataframe thead th {\n",
              "        text-align: right;\n",
              "    }\n",
              "</style>\n",
              "<table border=\"1\" class=\"dataframe\">\n",
              "  <thead>\n",
              "    <tr style=\"text-align: right;\">\n",
              "      <th></th>\n",
              "      <th>name</th>\n",
              "      <th>num_participants</th>\n",
              "      <th>num_annotations</th>\n",
              "      <th>mean_annotations_per_participant</th>\n",
              "      <th>mean_points</th>\n",
              "      <th>std_points</th>\n",
              "    </tr>\n",
              "  </thead>\n",
              "  <tbody>\n",
              "    <tr>\n",
              "      <th>0</th>\n",
              "      <td>overall</td>\n",
              "      <td>241</td>\n",
              "      <td>27471</td>\n",
              "      <td>113.987552</td>\n",
              "      <td>2.037312</td>\n",
              "      <td>2.146544</td>\n",
              "    </tr>\n",
              "    <tr>\n",
              "      <th>1</th>\n",
              "      <td>Section A</td>\n",
              "      <td>141</td>\n",
              "      <td>7264</td>\n",
              "      <td>51.517730</td>\n",
              "      <td>1.947274</td>\n",
              "      <td>2.147596</td>\n",
              "    </tr>\n",
              "    <tr>\n",
              "      <th>2</th>\n",
              "      <td>Section B</td>\n",
              "      <td>102</td>\n",
              "      <td>20207</td>\n",
              "      <td>198.107843</td>\n",
              "      <td>2.069679</td>\n",
              "      <td>2.145242</td>\n",
              "    </tr>\n",
              "  </tbody>\n",
              "</table>\n",
              "</div>"
            ],
            "text/plain": [
              "        name  num_participants  ...  mean_points  std_points\n",
              "0    overall               241  ...     2.037312    2.146544\n",
              "1  Section A               141  ...     1.947274    2.147596\n",
              "2  Section B               102  ...     2.069679    2.145242\n",
              "\n",
              "[3 rows x 6 columns]"
            ]
          },
          "metadata": {},
          "execution_count": 138
        }
      ]
    },
    {
      "cell_type": "code",
      "metadata": {
        "id": "dfe10d9c",
        "colab": {
          "base_uri": "https://localhost:8080/"
        },
        "outputId": "2ed155a9-f0be-457d-c87f-131d597fc9b5"
      },
      "source": [
        "profile_df.is_temporary.mean()"
      ],
      "id": "dfe10d9c",
      "execution_count": null,
      "outputs": [
        {
          "output_type": "execute_result",
          "data": {
            "text/plain": [
              "0.9116865869853917"
            ]
          },
          "metadata": {},
          "execution_count": 139
        }
      ]
    },
    {
      "cell_type": "markdown",
      "metadata": {
        "id": "ETP9bhrobCtj"
      },
      "source": [
        "# Time Tracking Analysis"
      ],
      "id": "ETP9bhrobCtj"
    },
    {
      "cell_type": "code",
      "metadata": {
        "id": "whUcFSBMbEPU"
      },
      "source": [
        "timing_df = df[df.model == 'core.timestamp']\n",
        "timing_df = pd.json_normalize(timing_df.fields).rename(columns={'date': 'timestamp'}).merge(full_df, left_on='annotation', right_on='pk')"
      ],
      "id": "whUcFSBMbEPU",
      "execution_count": null,
      "outputs": []
    },
    {
      "cell_type": "code",
      "metadata": {
        "id": "3T-nsNtrdsnE"
      },
      "source": [
        "time_df = pd.DataFrame(timing_df[['annotation', 'timestamp', 'dec_strat_value', 'dec_strat', 'points', 'gen_body', 'playlist_name', 'system']])\n",
        "time_df['timestamp'] = pd.to_datetime(time_df.timestamp)\n",
        "time_df['delta'] = time_df.timestamp - time_df.timestamp.shift(1)\n",
        "time_df['delta'] = time_df.delta.dt.seconds\n",
        "time_df = time_df[time_df.delta < 120]"
      ],
      "id": "3T-nsNtrdsnE",
      "execution_count": null,
      "outputs": []
    },
    {
      "cell_type": "markdown",
      "metadata": {
        "id": "cqyOhLMNjROC"
      },
      "source": [
        "## Median Time Delta"
      ],
      "id": "cqyOhLMNjROC"
    },
    {
      "cell_type": "code",
      "metadata": {
        "id": "XclD-gqmjQlz",
        "colab": {
          "base_uri": "https://localhost:8080/"
        },
        "outputId": "750cd652-e645-4822-9319-f60b9fff3495"
      },
      "source": [
        "time_df.delta.median()"
      ],
      "id": "XclD-gqmjQlz",
      "execution_count": null,
      "outputs": [
        {
          "output_type": "execute_result",
          "data": {
            "text/plain": [
              "2.0"
            ]
          },
          "metadata": {},
          "execution_count": 138
        }
      ]
    },
    {
      "cell_type": "markdown",
      "metadata": {
        "id": "WfCCreaHis7R"
      },
      "source": [
        "## Correlation Between Time Delta and Decoding Hyperparameter (top-p)"
      ],
      "id": "WfCCreaHis7R"
    },
    {
      "cell_type": "code",
      "metadata": {
        "id": "uY2dpRRRhXQI",
        "colab": {
          "base_uri": "https://localhost:8080/",
          "height": 131
        },
        "outputId": "b6bc2d81-85f2-4815-8972-7bbf27b4293e"
      },
      "source": [
        "time_df[['dec_strat_value', 'delta']].corr()"
      ],
      "id": "uY2dpRRRhXQI",
      "execution_count": null,
      "outputs": [
        {
          "output_type": "execute_result",
          "data": {
            "application/vnd.google.colaboratory.module+javascript": "\n      import \"https://ssl.gstatic.com/colaboratory/data_table/a6224c040fa35dcf/data_table.js\";\n\n      window.createDataTable({\n        data: [[\"dec_strat_value\",\n{\n            'v': 1.0,\n            'f': \"1.0\",\n        },\n{\n            'v': -0.00112383853559035,\n            'f': \"-0.00112383853559035\",\n        }],\n [\"delta\",\n{\n            'v': -0.00112383853559035,\n            'f': \"-0.00112383853559035\",\n        },\n{\n            'v': 1.0,\n            'f': \"1.0\",\n        }]],\n        columns: [[\"string\", \"index\"], [\"number\", \"dec_strat_value\"], [\"number\", \"delta\"]],\n        columnOptions: [{\"width\": \"1px\", \"className\": \"index_column\"}],\n        rowsPerPage: 25,\n        helpUrl: \"https://colab.research.google.com/notebooks/data_table.ipynb\",\n        suppressOutputScrolling: true,\n        minimumWidth: undefined,\n      });\n    ",
            "text/html": [
              "<div>\n",
              "<style scoped>\n",
              "    .dataframe tbody tr th:only-of-type {\n",
              "        vertical-align: middle;\n",
              "    }\n",
              "\n",
              "    .dataframe tbody tr th {\n",
              "        vertical-align: top;\n",
              "    }\n",
              "\n",
              "    .dataframe thead th {\n",
              "        text-align: right;\n",
              "    }\n",
              "</style>\n",
              "<table border=\"1\" class=\"dataframe\">\n",
              "  <thead>\n",
              "    <tr style=\"text-align: right;\">\n",
              "      <th></th>\n",
              "      <th>dec_strat_value</th>\n",
              "      <th>delta</th>\n",
              "    </tr>\n",
              "  </thead>\n",
              "  <tbody>\n",
              "    <tr>\n",
              "      <th>dec_strat_value</th>\n",
              "      <td>1.000000</td>\n",
              "      <td>-0.001124</td>\n",
              "    </tr>\n",
              "    <tr>\n",
              "      <th>delta</th>\n",
              "      <td>-0.001124</td>\n",
              "      <td>1.000000</td>\n",
              "    </tr>\n",
              "  </tbody>\n",
              "</table>\n",
              "</div>"
            ],
            "text/plain": [
              "                 dec_strat_value     delta\n",
              "dec_strat_value         1.000000 -0.001124\n",
              "delta                  -0.001124  1.000000"
            ]
          },
          "metadata": {},
          "execution_count": 135
        }
      ]
    },
    {
      "cell_type": "markdown",
      "metadata": {
        "id": "O72xS3cli539"
      },
      "source": [
        "## Time Delta Distribution"
      ],
      "id": "O72xS3cli539"
    },
    {
      "cell_type": "code",
      "metadata": {
        "id": "eR8p0ZJcfEeY",
        "colab": {
          "base_uri": "https://localhost:8080/",
          "height": 624
        },
        "outputId": "ac2b672f-ad4c-4399-d2ae-c8f7a4010eb1"
      },
      "source": [
        "time_df.delta.plot(\n",
        "    kind='hist',\n",
        "    range=(0, 60),\n",
        "    bins=30,\n",
        "    figsize=(20, 10),\n",
        "    title=('Turn Duration Distribution (seconds)')\n",
        "  )"
      ],
      "id": "eR8p0ZJcfEeY",
      "execution_count": null,
      "outputs": [
        {
          "output_type": "execute_result",
          "data": {
            "text/plain": [
              "<matplotlib.axes._subplots.AxesSubplot at 0x7fcd63d5e650>"
            ]
          },
          "metadata": {},
          "execution_count": 133
        },
        {
          "output_type": "display_data",
          "data": {
            "image/png": "[encoded data removed]",
            "text/plain": [
              "<Figure size 1440x720 with 1 Axes>"
            ]
          },
          "metadata": {
            "needs_background": "light"
          }
        }
      ]
    },
    {
      "cell_type": "markdown",
      "metadata": {
        "id": "NTfQEDMwjwTj"
      },
      "source": [
        "## Correlation Between Time Delta and Sentence Length"
      ],
      "id": "NTfQEDMwjwTj"
    },
    {
      "cell_type": "code",
      "metadata": {
        "id": "VWi9YoRwj7W-",
        "colab": {
          "base_uri": "https://localhost:8080/",
          "height": 131
        },
        "outputId": "7684e0ad-650a-4a4d-dc14-8f08d01d0105"
      },
      "source": [
        "time_df['gen_body_length'] = time_df.gen_body.str.len()\n",
        "time_df.groupby('annotation').agg({'delta': 'sum', 'gen_body_length': 'mean'}).corr()"
      ],
      "id": "VWi9YoRwj7W-",
      "execution_count": null,
      "outputs": [
        {
          "output_type": "execute_result",
          "data": {
            "application/vnd.google.colaboratory.module+javascript": "\n      import \"https://ssl.gstatic.com/colaboratory/data_table/a6224c040fa35dcf/data_table.js\";\n\n      window.createDataTable({\n        data: [[\"delta\",\n{\n            'v': 1.0,\n            'f': \"1.0\",\n        },\n{\n            'v': -0.022575118937188665,\n            'f': \"-0.022575118937188665\",\n        }],\n [\"gen_body_length\",\n{\n            'v': -0.022575118937188665,\n            'f': \"-0.022575118937188665\",\n        },\n{\n            'v': 1.0,\n            'f': \"1.0\",\n        }]],\n        columns: [[\"string\", \"index\"], [\"number\", \"delta\"], [\"number\", \"gen_body_length\"]],\n        columnOptions: [{\"width\": \"1px\", \"className\": \"index_column\"}],\n        rowsPerPage: 25,\n        helpUrl: \"https://colab.research.google.com/notebooks/data_table.ipynb\",\n        suppressOutputScrolling: true,\n        minimumWidth: undefined,\n      });\n    ",
            "text/html": [
              "<div>\n",
              "<style scoped>\n",
              "    .dataframe tbody tr th:only-of-type {\n",
              "        vertical-align: middle;\n",
              "    }\n",
              "\n",
              "    .dataframe tbody tr th {\n",
              "        vertical-align: top;\n",
              "    }\n",
              "\n",
              "    .dataframe thead th {\n",
              "        text-align: right;\n",
              "    }\n",
              "</style>\n",
              "<table border=\"1\" class=\"dataframe\">\n",
              "  <thead>\n",
              "    <tr style=\"text-align: right;\">\n",
              "      <th></th>\n",
              "      <th>delta</th>\n",
              "      <th>gen_body_length</th>\n",
              "    </tr>\n",
              "  </thead>\n",
              "  <tbody>\n",
              "    <tr>\n",
              "      <th>delta</th>\n",
              "      <td>1.000000</td>\n",
              "      <td>-0.022575</td>\n",
              "    </tr>\n",
              "    <tr>\n",
              "      <th>gen_body_length</th>\n",
              "      <td>-0.022575</td>\n",
              "      <td>1.000000</td>\n",
              "    </tr>\n",
              "  </tbody>\n",
              "</table>\n",
              "</div>"
            ],
            "text/plain": [
              "                    delta  gen_body_length\n",
              "delta            1.000000        -0.022575\n",
              "gen_body_length -0.022575         1.000000"
            ]
          },
          "metadata": {},
          "execution_count": 145
        }
      ]
    },
    {
      "cell_type": "markdown",
      "metadata": {
        "id": "YfjlQmzckqD1"
      },
      "source": [
        "## Correlation Between Time Delta and Points"
      ],
      "id": "YfjlQmzckqD1"
    },
    {
      "cell_type": "code",
      "metadata": {
        "id": "ECDCmxATkphI",
        "colab": {
          "base_uri": "https://localhost:8080/",
          "height": 131
        },
        "outputId": "eb5528bd-c7ad-4673-bfa2-5fe379d76a44"
      },
      "source": [
        "time_df.groupby('annotation').agg({'delta': 'sum', 'points': 'mean'}).corr()"
      ],
      "id": "ECDCmxATkphI",
      "execution_count": null,
      "outputs": [
        {
          "output_type": "execute_result",
          "data": {
            "application/vnd.google.colaboratory.module+javascript": "\n      import \"https://ssl.gstatic.com/colaboratory/data_table/a6224c040fa35dcf/data_table.js\";\n\n      window.createDataTable({\n        data: [[\"delta\",\n{\n            'v': 1.0,\n            'f': \"1.0\",\n        },\n{\n            'v': 0.1013824313707734,\n            'f': \"0.1013824313707734\",\n        }],\n [\"points\",\n{\n            'v': 0.1013824313707734,\n            'f': \"0.1013824313707734\",\n        },\n{\n            'v': 1.0,\n            'f': \"1.0\",\n        }]],\n        columns: [[\"string\", \"index\"], [\"number\", \"delta\"], [\"number\", \"points\"]],\n        columnOptions: [{\"width\": \"1px\", \"className\": \"index_column\"}],\n        rowsPerPage: 25,\n        helpUrl: \"https://colab.research.google.com/notebooks/data_table.ipynb\",\n        suppressOutputScrolling: true,\n        minimumWidth: undefined,\n      });\n    ",
            "text/html": [
              "<div>\n",
              "<style scoped>\n",
              "    .dataframe tbody tr th:only-of-type {\n",
              "        vertical-align: middle;\n",
              "    }\n",
              "\n",
              "    .dataframe tbody tr th {\n",
              "        vertical-align: top;\n",
              "    }\n",
              "\n",
              "    .dataframe thead th {\n",
              "        text-align: right;\n",
              "    }\n",
              "</style>\n",
              "<table border=\"1\" class=\"dataframe\">\n",
              "  <thead>\n",
              "    <tr style=\"text-align: right;\">\n",
              "      <th></th>\n",
              "      <th>delta</th>\n",
              "      <th>points</th>\n",
              "    </tr>\n",
              "  </thead>\n",
              "  <tbody>\n",
              "    <tr>\n",
              "      <th>delta</th>\n",
              "      <td>1.000000</td>\n",
              "      <td>0.101382</td>\n",
              "    </tr>\n",
              "    <tr>\n",
              "      <th>points</th>\n",
              "      <td>0.101382</td>\n",
              "      <td>1.000000</td>\n",
              "    </tr>\n",
              "  </tbody>\n",
              "</table>\n",
              "</div>"
            ],
            "text/plain": [
              "           delta    points\n",
              "delta   1.000000  0.101382\n",
              "points  0.101382  1.000000"
            ]
          },
          "metadata": {},
          "execution_count": 147
        }
      ]
    },
    {
      "cell_type": "markdown",
      "metadata": {
        "id": "9dijnWbdlVtL"
      },
      "source": [
        "## Comparison of Average Time Deltas Between Text Domains"
      ],
      "id": "9dijnWbdlVtL"
    },
    {
      "cell_type": "code",
      "metadata": {
        "id": "DsR3-uk-lend",
        "colab": {
          "base_uri": "https://localhost:8080/",
          "height": 397
        },
        "outputId": "cb4e35e3-4fb9-467d-fd6f-a81d740d6710"
      },
      "source": [
        "# Median\n",
        "time_df.groupby('playlist_name').agg({'delta': 'median'}).plot.bar()"
      ],
      "id": "DsR3-uk-lend",
      "execution_count": null,
      "outputs": [
        {
          "output_type": "execute_result",
          "data": {
            "text/plain": [
              "<matplotlib.axes._subplots.AxesSubplot at 0x7fcd63924ed0>"
            ]
          },
          "metadata": {},
          "execution_count": 168
        },
        {
          "output_type": "display_data",
          "data": {
            "image/png": "[encoded data removed]",
            "text/plain": [
              "<Figure size 432x288 with 1 Axes>"
            ]
          },
          "metadata": {
            "needs_background": "light"
          }
        }
      ]
    },
    {
      "cell_type": "code",
      "metadata": {
        "id": "hPpRonLzlrS2",
        "colab": {
          "base_uri": "https://localhost:8080/",
          "height": 397
        },
        "outputId": "2ac6d25c-26d3-4b88-9cb6-3bd4506cf922"
      },
      "source": [
        "# Mean\n",
        "time_df.groupby('playlist_name').agg({'delta': 'mean'}).plot.bar()"
      ],
      "id": "hPpRonLzlrS2",
      "execution_count": null,
      "outputs": [
        {
          "output_type": "execute_result",
          "data": {
            "text/plain": [
              "<matplotlib.axes._subplots.AxesSubplot at 0x7fcd63a83ed0>"
            ]
          },
          "metadata": {},
          "execution_count": 167
        },
        {
          "output_type": "display_data",
          "data": {
            "image/png": "[encoded data removed]",
            "text/plain": [
              "<Figure size 432x288 with 1 Axes>"
            ]
          },
          "metadata": {
            "needs_background": "light"
          }
        }
      ]
    },
    {
      "cell_type": "markdown",
      "metadata": {
        "id": "Wiuiw9M6lb51"
      },
      "source": [
        "## Comparison of Average Time Deltas Between Models"
      ],
      "id": "Wiuiw9M6lb51"
    },
    {
      "cell_type": "code",
      "metadata": {
        "id": "ES4z0eIOlfKL",
        "colab": {
          "base_uri": "https://localhost:8080/",
          "height": 334
        },
        "outputId": "6c295d73-5a76-4fcc-b432-d1459145760e"
      },
      "source": [
        "# Median\n",
        "time_df.groupby('system').agg({'delta': 'median'}).plot.bar()"
      ],
      "id": "ES4z0eIOlfKL",
      "execution_count": null,
      "outputs": [
        {
          "output_type": "execute_result",
          "data": {
            "text/plain": [
              "<matplotlib.axes._subplots.AxesSubplot at 0x7fcd6385af50>"
            ]
          },
          "metadata": {},
          "execution_count": 169
        },
        {
          "output_type": "display_data",
          "data": {
            "image/png": "[encoded data removed]",
            "text/plain": [
              "<Figure size 432x288 with 1 Axes>"
            ]
          },
          "metadata": {
            "needs_background": "light"
          }
        }
      ]
    },
    {
      "cell_type": "code",
      "metadata": {
        "id": "ag_apzlOmIs2",
        "colab": {
          "base_uri": "https://localhost:8080/",
          "height": 334
        },
        "outputId": "60fcdc91-4d17-4d62-aba8-d6a0fba333dc"
      },
      "source": [
        "# Mean\n",
        "time_df.groupby('system').agg({'delta': 'mean'}).plot.bar()"
      ],
      "id": "ag_apzlOmIs2",
      "execution_count": null,
      "outputs": [
        {
          "output_type": "execute_result",
          "data": {
            "text/plain": [
              "<matplotlib.axes._subplots.AxesSubplot at 0x7fcd63753990>"
            ]
          },
          "metadata": {},
          "execution_count": 170
        },
        {
          "output_type": "display_data",
          "data": {
            "image/png": "[encoded data removed]",
            "text/plain": [
              "<Figure size 432x288 with 1 Axes>"
            ]
          },
          "metadata": {
            "needs_background": "light"
          }
        }
      ]
    }
  ]
}