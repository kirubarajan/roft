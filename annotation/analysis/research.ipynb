{
  "nbformat": 4,
  "nbformat_minor": 5,
  "metadata": {
    "colab": {
      "name": "research.ipynb",
      "provenance": [],
      "collapsed_sections": [],
      "toc_visible": true
    },
    "interpreter": {
      "hash": "3f5a4468cc0260775568228635fd4f02389bcd27640ac779f973b88a6eda0228"
    },
    "kernelspec": {
      "display_name": "Python 3.6.0 64-bit ('3.6.0': pyenv)",
      "name": "python3"
    },
    "language_info": {
      "codemirror_mode": {
        "name": "ipython",
        "version": 3
      },
      "file_extension": ".py",
      "mimetype": "text/x-python",
      "name": "python",
      "nbconvert_exporter": "python",
      "pygments_lexer": "ipython3",
      "version": "3.6.0"
    }
  },
  "cells": [
    {
      "cell_type": "markdown",
      "metadata": {
        "id": "BAoFJWgsqAWL"
      },
      "source": [
        "<a href=\"https://colab.research.google.com/github/kirubarajan/roft/blob/master/annotation/analysis/research.ipynb\" target=\"_parent\"><img src=\"https://colab.research.google.com/assets/colab-badge.svg\" alt=\"Open In Colab\"/></a>"
      ],
      "id": "BAoFJWgsqAWL"
    },
    {
      "cell_type": "markdown",
      "metadata": {
        "id": "431e2270"
      },
      "source": [
        "# Load from database"
      ],
      "id": "431e2270"
    },
    {
      "cell_type": "code",
      "metadata": {
        "collapsed": true,
        "id": "bixbYj5HGjdP",
        "colab": {
          "base_uri": "https://localhost:8080/"
        },
        "outputId": "0507624c-666a-45b3-b32d-cf161353665e"
      },
      "source": [
        "!pip install fsspec gcsfs"
      ],
      "id": "bixbYj5HGjdP",
      "execution_count": 1,
      "outputs": [
        {
          "output_type": "stream",
          "name": "stdout",
          "text": [
            "Collecting fsspec\n",
            "  Downloading fsspec-2021.11.1-py3-none-any.whl (132 kB)\n",
            "\u001b[?25l\r\u001b[K     |██▌                             | 10 kB 24.8 MB/s eta 0:00:01\r\u001b[K     |█████                           | 20 kB 30.0 MB/s eta 0:00:01\r\u001b[K     |███████▍                        | 30 kB 16.8 MB/s eta 0:00:01\r\u001b[K     |█████████▉                      | 40 kB 11.2 MB/s eta 0:00:01\r\u001b[K     |████████████▎                   | 51 kB 4.5 MB/s eta 0:00:01\r\u001b[K     |██████████████▉                 | 61 kB 4.7 MB/s eta 0:00:01\r\u001b[K     |█████████████████▎              | 71 kB 4.5 MB/s eta 0:00:01\r\u001b[K     |███████████████████▊            | 81 kB 5.0 MB/s eta 0:00:01\r\u001b[K     |██████████████████████▏         | 92 kB 5.0 MB/s eta 0:00:01\r\u001b[K     |████████████████████████▋       | 102 kB 4.2 MB/s eta 0:00:01\r\u001b[K     |███████████████████████████     | 112 kB 4.2 MB/s eta 0:00:01\r\u001b[K     |█████████████████████████████▋  | 122 kB 4.2 MB/s eta 0:00:01\r\u001b[K     |████████████████████████████████| 132 kB 4.2 MB/s \n",
            "\u001b[?25hCollecting gcsfs\n",
            "  Downloading gcsfs-2021.11.1-py2.py3-none-any.whl (24 kB)\n",
            "Requirement already satisfied: google-auth-oauthlib in /usr/local/lib/python3.7/dist-packages (from gcsfs) (0.4.6)\n",
            "Requirement already satisfied: google-cloud-storage in /usr/local/lib/python3.7/dist-packages (from gcsfs) (1.18.1)\n",
            "Collecting aiohttp<4\n",
            "  Downloading aiohttp-3.8.1-cp37-cp37m-manylinux_2_5_x86_64.manylinux1_x86_64.manylinux_2_12_x86_64.manylinux2010_x86_64.whl (1.1 MB)\n",
            "\u001b[K     |████████████████████████████████| 1.1 MB 24.5 MB/s \n",
            "\u001b[?25hRequirement already satisfied: requests in /usr/local/lib/python3.7/dist-packages (from gcsfs) (2.23.0)\n",
            "Requirement already satisfied: decorator>4.1.2 in /usr/local/lib/python3.7/dist-packages (from gcsfs) (4.4.2)\n",
            "Requirement already satisfied: google-auth>=1.2 in /usr/local/lib/python3.7/dist-packages (from gcsfs) (1.35.0)\n",
            "Requirement already satisfied: charset-normalizer<3.0,>=2.0 in /usr/local/lib/python3.7/dist-packages (from aiohttp<4->gcsfs) (2.0.8)\n",
            "Collecting frozenlist>=1.1.1\n",
            "  Downloading frozenlist-1.2.0-cp37-cp37m-manylinux_2_5_x86_64.manylinux1_x86_64.manylinux_2_12_x86_64.manylinux2010_x86_64.whl (192 kB)\n",
            "\u001b[K     |████████████████████████████████| 192 kB 45.9 MB/s \n",
            "\u001b[?25hRequirement already satisfied: typing-extensions>=3.7.4 in /usr/local/lib/python3.7/dist-packages (from aiohttp<4->gcsfs) (3.10.0.2)\n",
            "Collecting aiosignal>=1.1.2\n",
            "  Downloading aiosignal-1.2.0-py3-none-any.whl (8.2 kB)\n",
            "Collecting multidict<7.0,>=4.5\n",
            "  Downloading multidict-5.2.0-cp37-cp37m-manylinux_2_5_x86_64.manylinux1_x86_64.manylinux_2_12_x86_64.manylinux2010_x86_64.whl (160 kB)\n",
            "\u001b[K     |████████████████████████████████| 160 kB 41.4 MB/s \n",
            "\u001b[?25hCollecting yarl<2.0,>=1.0\n",
            "  Downloading yarl-1.7.2-cp37-cp37m-manylinux_2_5_x86_64.manylinux1_x86_64.manylinux_2_12_x86_64.manylinux2010_x86_64.whl (271 kB)\n",
            "\u001b[K     |████████████████████████████████| 271 kB 42.1 MB/s \n",
            "\u001b[?25hCollecting async-timeout<5.0,>=4.0.0a3\n",
            "  Downloading async_timeout-4.0.1-py3-none-any.whl (5.7 kB)\n",
            "Collecting asynctest==0.13.0\n",
            "  Downloading asynctest-0.13.0-py3-none-any.whl (26 kB)\n",
            "Requirement already satisfied: attrs>=17.3.0 in /usr/local/lib/python3.7/dist-packages (from aiohttp<4->gcsfs) (21.2.0)\n",
            "Requirement already satisfied: rsa<5,>=3.1.4 in /usr/local/lib/python3.7/dist-packages (from google-auth>=1.2->gcsfs) (4.8)\n",
            "Requirement already satisfied: cachetools<5.0,>=2.0.0 in /usr/local/lib/python3.7/dist-packages (from google-auth>=1.2->gcsfs) (4.2.4)\n",
            "Requirement already satisfied: setuptools>=40.3.0 in /usr/local/lib/python3.7/dist-packages (from google-auth>=1.2->gcsfs) (57.4.0)\n",
            "Requirement already satisfied: six>=1.9.0 in /usr/local/lib/python3.7/dist-packages (from google-auth>=1.2->gcsfs) (1.15.0)\n",
            "Requirement already satisfied: pyasn1-modules>=0.2.1 in /usr/local/lib/python3.7/dist-packages (from google-auth>=1.2->gcsfs) (0.2.8)\n",
            "Requirement already satisfied: pyasn1<0.5.0,>=0.4.6 in /usr/local/lib/python3.7/dist-packages (from pyasn1-modules>=0.2.1->google-auth>=1.2->gcsfs) (0.4.8)\n",
            "Requirement already satisfied: idna>=2.0 in /usr/local/lib/python3.7/dist-packages (from yarl<2.0,>=1.0->aiohttp<4->gcsfs) (2.10)\n",
            "Requirement already satisfied: requests-oauthlib>=0.7.0 in /usr/local/lib/python3.7/dist-packages (from google-auth-oauthlib->gcsfs) (1.3.0)\n",
            "Requirement already satisfied: oauthlib>=3.0.0 in /usr/local/lib/python3.7/dist-packages (from requests-oauthlib>=0.7.0->google-auth-oauthlib->gcsfs) (3.1.1)\n",
            "Requirement already satisfied: chardet<4,>=3.0.2 in /usr/local/lib/python3.7/dist-packages (from requests->gcsfs) (3.0.4)\n",
            "Requirement already satisfied: urllib3!=1.25.0,!=1.25.1,<1.26,>=1.21.1 in /usr/local/lib/python3.7/dist-packages (from requests->gcsfs) (1.24.3)\n",
            "Requirement already satisfied: certifi>=2017.4.17 in /usr/local/lib/python3.7/dist-packages (from requests->gcsfs) (2021.10.8)\n",
            "Requirement already satisfied: google-resumable-media<0.5.0dev,>=0.3.1 in /usr/local/lib/python3.7/dist-packages (from google-cloud-storage->gcsfs) (0.4.1)\n",
            "Requirement already satisfied: google-cloud-core<2.0dev,>=1.0.0 in /usr/local/lib/python3.7/dist-packages (from google-cloud-storage->gcsfs) (1.0.3)\n",
            "Requirement already satisfied: google-api-core<2.0.0dev,>=1.14.0 in /usr/local/lib/python3.7/dist-packages (from google-cloud-core<2.0dev,>=1.0.0->google-cloud-storage->gcsfs) (1.26.3)\n",
            "Requirement already satisfied: protobuf>=3.12.0 in /usr/local/lib/python3.7/dist-packages (from google-api-core<2.0.0dev,>=1.14.0->google-cloud-core<2.0dev,>=1.0.0->google-cloud-storage->gcsfs) (3.17.3)\n",
            "Requirement already satisfied: packaging>=14.3 in /usr/local/lib/python3.7/dist-packages (from google-api-core<2.0.0dev,>=1.14.0->google-cloud-core<2.0dev,>=1.0.0->google-cloud-storage->gcsfs) (21.3)\n",
            "Requirement already satisfied: pytz in /usr/local/lib/python3.7/dist-packages (from google-api-core<2.0.0dev,>=1.14.0->google-cloud-core<2.0dev,>=1.0.0->google-cloud-storage->gcsfs) (2018.9)\n",
            "Requirement already satisfied: googleapis-common-protos<2.0dev,>=1.6.0 in /usr/local/lib/python3.7/dist-packages (from google-api-core<2.0.0dev,>=1.14.0->google-cloud-core<2.0dev,>=1.0.0->google-cloud-storage->gcsfs) (1.53.0)\n",
            "Requirement already satisfied: pyparsing!=3.0.5,>=2.0.2 in /usr/local/lib/python3.7/dist-packages (from packaging>=14.3->google-api-core<2.0.0dev,>=1.14.0->google-cloud-core<2.0dev,>=1.0.0->google-cloud-storage->gcsfs) (3.0.6)\n",
            "Installing collected packages: multidict, frozenlist, yarl, asynctest, async-timeout, aiosignal, fsspec, aiohttp, gcsfs\n",
            "Successfully installed aiohttp-3.8.1 aiosignal-1.2.0 async-timeout-4.0.1 asynctest-0.13.0 frozenlist-1.2.0 fsspec-2021.11.1 gcsfs-2021.11.1 multidict-5.2.0 yarl-1.7.2\n"
          ]
        }
      ]
    },
    {
      "cell_type": "code",
      "metadata": {
        "id": "8b5bdd61"
      },
      "source": [
        "import json\n",
        "import pandas as pd\n",
        "import tensorflow as tf\n",
        "import numpy as np\n",
        "import os\n",
        "import matplotlib.pyplot as plt\n",
        "import seaborn as sns\n",
        "from scipy import stats\n",
        "sns.set_theme(style=\"whitegrid\")\n",
        "sns.set_palette(sns.color_palette(\"Set2\"))\n",
        "\n",
        "DATABASE_DUMP_FILE = 'gs://roft_buckups/10-25-21.json'"
      ],
      "id": "8b5bdd61",
      "execution_count": 2,
      "outputs": []
    },
    {
      "cell_type": "code",
      "metadata": {
        "id": "FACZ9EAt7u-0"
      },
      "source": [
        "from google.colab import auth\n",
        "auth.authenticate_user()\n",
        "\n",
        "import gspread\n",
        "from oauth2client.client import GoogleCredentials\n",
        "\n",
        "gc = gspread.authorize(GoogleCredentials.get_application_default())"
      ],
      "id": "FACZ9EAt7u-0",
      "execution_count": 3,
      "outputs": []
    },
    {
      "cell_type": "code",
      "metadata": {
        "id": "WaQMtA9WtChv"
      },
      "source": [
        "from google.colab import data_table\n",
        "data_table.enable_dataframe_formatter()"
      ],
      "id": "WaQMtA9WtChv",
      "execution_count": 4,
      "outputs": []
    },
    {
      "cell_type": "code",
      "metadata": {
        "id": "b51ea0dd"
      },
      "source": [
        "with tf.io.gfile.GFile(DATABASE_DUMP_FILE, 'r') as f:\n",
        "    lines = f.readlines()\n",
        "    db = json.loads(lines[1])\n",
        "\n",
        "def get_df(sql_model='core.annotation'):\n",
        "    df = pd.DataFrame(db)\n",
        "    df = df[df.model == sql_model]\n",
        "    \n",
        "    if 'date' in df.columns.values:\n",
        "        df = df.set_index('date')\n",
        "\n",
        "    return pd.json_normalize(df.fields).assign(pk=df.pk.values)"
      ],
      "id": "b51ea0dd",
      "execution_count": 5,
      "outputs": []
    },
    {
      "cell_type": "code",
      "metadata": {
        "id": "TWIa7UicQdgY",
        "colab": {
          "base_uri": "https://localhost:8080/"
        },
        "outputId": "02941dd5-07db-4317-8876-5d9630f26add"
      },
      "source": [
        "df = pd.DataFrame(db)\n",
        "print(set(df[\"model\"].tolist()))"
      ],
      "id": "TWIa7UicQdgY",
      "execution_count": 6,
      "outputs": [
        {
          "output_type": "stream",
          "name": "stdout",
          "text": [
            "{'contenttypes.contenttype', 'auth.permission', 'core.dataset', 'core.annotation', 'core.profile', 'core.timestamp', 'core.playlist', 'core.decodingstrategy', 'core.generation', 'core.feedbackoption', 'sessions.session', 'core.prompt', 'admin.logentry', 'auth.user', 'core.system'}\n"
          ]
        }
      ]
    },
    {
      "cell_type": "markdown",
      "metadata": {
        "id": "DBj9RVE253uJ"
      },
      "source": [
        "### Load all the tables"
      ],
      "id": "DBj9RVE253uJ"
    },
    {
      "cell_type": "code",
      "metadata": {
        "id": "3a1639a1"
      },
      "source": [
        "annotation_df = get_df()\n",
        "profile_df = get_df('core.profile')\n",
        "generation_df = get_df('core.generation')\n",
        "prompt_df = get_df('core.prompt')\n",
        "playlist_df = get_df('core.playlist')\n",
        "decodingstrategy_df = get_df('core.decodingstrategy')\n",
        "user_df = get_df('auth.user')"
      ],
      "id": "3a1639a1",
      "execution_count": 7,
      "outputs": []
    },
    {
      "cell_type": "markdown",
      "metadata": {
        "id": "VxbVampM561u"
      },
      "source": [
        "### Modify column names to avoid duplicates across tables."
      ],
      "id": "VxbVampM561u"
    },
    {
      "cell_type": "code",
      "metadata": {
        "id": "MNpQR42Y_RCB"
      },
      "source": [
        "prompt_df = prompt_df.rename(columns={\"body\": \"prompt_body\"})\n",
        "generation_df = generation_df.rename(columns={\"body\": \"gen_body\"})\n",
        "decodingstrategy_df = decodingstrategy_df.rename(\n",
        "    columns={\"name\": \"dec_strat\", \"value\": \"dec_strat_value\"})\n",
        "annotation_df[\"date\"] = pd.to_datetime(annotation_df[\"date\"])"
      ],
      "id": "MNpQR42Y_RCB",
      "execution_count": 8,
      "outputs": []
    },
    {
      "cell_type": "markdown",
      "metadata": {
        "id": "lj264v3g6B0M"
      },
      "source": [
        "### Merge all the relevant tables together."
      ],
      "id": "lj264v3g6B0M"
    },
    {
      "cell_type": "code",
      "metadata": {
        "id": "dyou0HriDfDI"
      },
      "source": [
        "gen_to_playlist = {}\n",
        "for idx, row in playlist_df.iterrows():\n",
        "  shortname = row[\"shortname\"]\n",
        "  version = row[\"version\"]\n",
        "  generations = row[\"generations\"]\n",
        "  for gen_id in generations:\n",
        "    gen_to_playlist[gen_id] = (shortname, version)"
      ],
      "id": "dyou0HriDfDI",
      "execution_count": 9,
      "outputs": []
    },
    {
      "cell_type": "code",
      "metadata": {
        "id": "yIiTiaWj8pg9"
      },
      "source": [
        "full_df = annotation_df.join(generation_df.set_index('pk'), on='generation')\n",
        "full_df = full_df.join(prompt_df.set_index('pk'), 'prompt')\n",
        "full_df = full_df.join(decodingstrategy_df.set_index('pk'), 'decoding_strategy')\n",
        "full_df = full_df.join(user_df.set_index('pk'), 'annotator')"
      ],
      "id": "yIiTiaWj8pg9",
      "execution_count": 10,
      "outputs": []
    },
    {
      "cell_type": "code",
      "metadata": {
        "id": "Bv05Kpq-AiD5"
      },
      "source": [
        "playlist_names = [] \n",
        "playlist_versions = []\n",
        "for idx, row in full_df.iterrows():\n",
        "  gen_id = row[\"generation\"]\n",
        "  playlist_info = gen_to_playlist[gen_id]\n",
        "  playlist_names.append(playlist_info[0])\n",
        "  playlist_versions.append(playlist_info[1])\n",
        "full_df[\"playlist_name\"] = playlist_names\n",
        "full_df[\"playlist_version\"] = playlist_versions"
      ],
      "id": "Bv05Kpq-AiD5",
      "execution_count": 11,
      "outputs": []
    },
    {
      "cell_type": "markdown",
      "metadata": {
        "id": "9bXRyC02hFrJ"
      },
      "source": [
        "### Filter out annotations not part of Version 2"
      ],
      "id": "9bXRyC02hFrJ"
    },
    {
      "cell_type": "code",
      "metadata": {
        "id": "e-wX9u-GhFBp"
      },
      "source": [
        "full_df = full_df[full_df.apply(lambda row: row[\"playlist_version\"]==\"0.2\", axis=1)]"
      ],
      "id": "e-wX9u-GhFBp",
      "execution_count": 12,
      "outputs": []
    },
    {
      "cell_type": "markdown",
      "metadata": {
        "id": "dESrdQ0VHxBT"
      },
      "source": [
        "## Filter out unacceptable users\n",
        "Methods for filtering out annotations for users who have NOT agreed to have their data analyzed (and filtering out us).\n",
        "\n",
        "**TO HAVE YOUR PROFILE FILTERED OUT, PLEASE FILL OUT THE GOOGLE FORM AND SPECIFY \"NO\" TO THE QUESTION ABOUT WHETHER YOU WANT TO PARTICIPATE IN RESEARCH.**"
      ],
      "id": "dESrdQ0VHxBT"
    },
    {
      "cell_type": "code",
      "metadata": {
        "id": "kOZQaouODFn5"
      },
      "source": [
        "SURVEY_SPREADSHEET_ID = '1j9-nqsGFhpKSas_z1-IRKORlVbmjTzJ4_u_q6u-hOvg'\n",
        "KEY = \"ageed_to_research\"\n",
        "worksheet = gc.open_by_key(SURVEY_SPREADSHEET_ID).sheet1\n",
        "rows = worksheet.get_all_values()\n",
        "\n",
        "survey_df = pd.DataFrame.from_records(rows[1:], columns=rows[0])\n",
        "\n",
        "survey_filter_df = survey_df[survey_df[KEY] == 'Yes']\n",
        "\n",
        "# all the users who GAVE US PERMISSION\n",
        "users_filter_df = user_df[user_df.username.isin(survey_filter_df[\"username\"].values)]\n",
        "\n",
        "# Filter all of the data frames that we use for analysis.\n",
        "full_df = full_df[full_df.annotator.isin(users_filter_df.pk)]\n",
        "annotation_df = annotation_df[annotation_df.annotator.isin(users_filter_df.pk)]"
      ],
      "id": "kOZQaouODFn5",
      "execution_count": 13,
      "outputs": []
    },
    {
      "cell_type": "markdown",
      "source": [
        "##Filter out user 4334\n",
        "They are known to have used exploits and other scripts to manipulate the site"
      ],
      "metadata": {
        "id": "lg5vD9uBxCdU"
      },
      "id": "lg5vD9uBxCdU"
    },
    {
      "cell_type": "code",
      "metadata": {
        "id": "3abO1XPxxREF"
      },
      "source": [
        "full_df = full_df[full_df['annotator'] != 4334]"
      ],
      "id": "3abO1XPxxREF",
      "execution_count": 14,
      "outputs": []
    },
    {
      "cell_type": "markdown",
      "source": [
        "##Add survey results to the DataFrame"
      ],
      "metadata": {
        "id": "wCHHis_Yyg_K"
      },
      "id": "wCHHis_Yyg_K"
    },
    {
      "cell_type": "code",
      "metadata": {
        "id": "gEpy4J8S2aAg"
      },
      "source": [
        "full_df = full_df.join(survey_df.set_index('username'), 'username')"
      ],
      "id": "gEpy4J8S2aAg",
      "execution_count": 15,
      "outputs": []
    },
    {
      "cell_type": "markdown",
      "source": [
        "##Process survey responses\n",
        "Map the familiarity questions to a 1-5 labeling scheme and process the \"major\" column to a list of major codes."
      ],
      "metadata": {
        "id": "n6dtCcFKzM4i"
      },
      "id": "n6dtCcFKzM4i"
    },
    {
      "cell_type": "code",
      "metadata": {
        "id": "VPA8A_Ff3rlY"
      },
      "source": [
        "def remap_familiarity_labels(x):\n",
        "  if x == \"I've never heard of them.\":\n",
        "    return 1\n",
        "  elif x == \"I've read about them in the news or a blog post.\":\n",
        "    return 2\n",
        "  elif x == \"I’ve been excitedly following them.\":\n",
        "    return 3\n",
        "  elif x == \"I’ve used them before (either with the OpenAI API, HuggingFace Transformers, etc.).\":\n",
        "    return 4\n",
        "  else:\n",
        "    return -1\n",
        "\n",
        "def remap_genre_fam_labels(x):\n",
        "  if x == \"Never\":\n",
        "    return 1\n",
        "  elif x == \"Once to a few times per year\":\n",
        "    return 2\n",
        "  elif x == \"Once to a few times per month\":\n",
        "    return 3\n",
        "  elif x == \"Once to a few times per week\":\n",
        "    return 4\n",
        "  elif x == \"Daily\":\n",
        "    return 5\n",
        "  else:\n",
        "    return -1\n",
        "\n",
        "full_df = full_df.rename(columns={\"What did you (or what are you planning to) major/minor in?\": \"major\", \n",
        "                                              \"How often do you consult a recipe when preparing food?\": \"recipe_familiarity\", \n",
        "                                              'How often do you read news from credible news publishers (Philadelphia Inquirer, Wall Street Journal, New York Times, etc.)?':'news_familiarity', \n",
        "                                              'How often do you read fiction on the internet (fan fiction, creative writing sub-reddits, ebooks, etc.)?':'stories_familiarity',\n",
        "                                              'familiarity':'gen_familiarity',\n",
        "                                              'Did you read the RoFT Guide before you tried the game?': 'read_guide'})\n",
        "\n",
        "full_df['recipe_familiarity'] = full_df['recipe_familiarity'].apply(remap_genre_fam_labels)\n",
        "full_df['news_familiarity'] = full_df['news_familiarity'].apply(remap_genre_fam_labels)\n",
        "full_df['stories_familiarity'] = full_df['stories_familiarity'].apply(remap_genre_fam_labels)\n",
        "full_df['gen_familiarity'] = full_df['gen_familiarity'].apply(remap_familiarity_labels)"
      ],
      "id": "VPA8A_Ff3rlY",
      "execution_count": 16,
      "outputs": []
    },
    {
      "cell_type": "markdown",
      "source": [
        "## Process Majors\n",
        "Parse the free text responses into one of 34 different major codes"
      ],
      "metadata": {
        "id": "gG-CJvkA0UFK"
      },
      "id": "gG-CJvkA0UFK"
    },
    {
      "cell_type": "code",
      "source": [
        "def process_major(x):\n",
        "  major_labels = []\n",
        "  CIS = ['Computer and Information Science', 'CIS', 'Computer Science', 'Computer science', 'CS', 'Comp sci', 'computer science', 'cis', 'CSCI']\n",
        "  MCIT = ['MICT', 'MCIT', 'Computer and Information Technology', 'Information Technology', 'Computer & Information Technology', 'Computer and information tech', 'mcit', 'OMCIT', 'Computer and Information Tech', 'Computer Information and Technology', 'Computer Information Technology', 'Computer and Info Tech', 'CIT', 'computer information technology', 'Computer Science and information Technology', 'cit']\n",
        "  FIN = ['Finance', 'finance', 'Business Analytics']\n",
        "  ACCT = ['accounting', 'Accounting']\n",
        "  BA = ['Business Administration']\n",
        "  QM = ['quantitative methods']\n",
        "  CMPE = ['Computer Engineering']\n",
        "  PHYS = ['Physics', 'physics']\n",
        "  COM = ['Communications', 'communications']\n",
        "  COG = ['cognitive science', 'Cognitive Science']\n",
        "  CBIO = ['Computational Biology']\n",
        "  ROBO = ['ROBO', 'Robotics']\n",
        "  LING = ['Linguistics', 'LING']\n",
        "  EE = ['Environmental Engineering']\n",
        "  ESE = ['ESE', 'electrical engineering', 'EE']\n",
        "  NETS = ['NETS', 'Networked and Social Systems Engineering', 'Systems Engineering']\n",
        "  DATS = ['Data Science', 'data science', 'DATS']\n",
        "  BIO = ['Biology', 'biology']\n",
        "  ARTH = ['Art History']\n",
        "  HIST = ['History', 'history', 'HIST']\n",
        "  PHIL = ['Philosophy']\n",
        "  ENT = ['Entrepreneurship']\n",
        "  DMD = ['DMD', 'Digital Media Design']\n",
        "  MATH = ['MATH', 'math', 'mathematics', 'Mathematics']\n",
        "  MED = ['medicine']\n",
        "  NEURO = ['neuroscience', 'Neuroscience']\n",
        "  BE = ['BE', 'bioengineering', 'Bioengineering']\n",
        "  CBE = ['Chemical Engineering']\n",
        "  CIV = ['civil engineering', 'Civil Engineer']\n",
        "  MEAM = ['MEAM', 'mechanical engineering', 'Mechanical Engineering']\n",
        "  ECON = ['Economics', 'ECON']\n",
        "  CGGT = ['CGGT', 'Computer Graphics and Game Technology']\n",
        "  SCMP = ['Scientific Computing']\n",
        "\n",
        "  if any(substring in x for substring in CIS):\n",
        "    major_labels.append(\"CIS\")\n",
        "  if any(substring in x for substring in MCIT):\n",
        "    major_labels.append(\"MCIT\")\n",
        "  if any(substring in x for substring in FIN):\n",
        "    major_labels.append(\"FIN\")\n",
        "  if any(substring in x for substring in ACCT):\n",
        "    major_labels.append(\"ACCT\")\n",
        "  if any(substring in x for substring in BA):\n",
        "    major_labels.append(\"BA\")\n",
        "  if any(substring in x for substring in QM):\n",
        "    major_labels.append(\"QM\")\n",
        "  if any(substring in x for substring in PHYS):\n",
        "    major_labels.append(\"PHYS\")\n",
        "  if any(substring in x for substring in COM):\n",
        "    major_labels.append(\"COM\")\n",
        "  if any(substring in x for substring in COG):\n",
        "    major_labels.append(\"COG\")\n",
        "  if any(substring in x for substring in CBIO):\n",
        "    major_labels.append(\"CBIO\")\n",
        "  if any(substring in x for substring in ROBO):\n",
        "    major_labels.append(\"ROBO\")\n",
        "  if any(substring in x for substring in LING):\n",
        "    major_labels.append(\"LING\")\n",
        "  if any(substring in x for substring in EE):\n",
        "    major_labels.append(\"EE\")\n",
        "  if any(substring in x for substring in ESE):\n",
        "    major_labels.append(\"ESE\")\n",
        "  if any(substring in x for substring in NETS):\n",
        "    major_labels.append(\"NETS\")\n",
        "  if any(substring in x for substring in DATS):\n",
        "    major_labels.append(\"DATS\")\n",
        "  if any(substring in x for substring in BIO):\n",
        "    major_labels.append(\"BIO\")\n",
        "  if any(substring in x for substring in ARTH):\n",
        "    major_labels.append(\"ARTH\")\n",
        "  if any(substring in x for substring in HIST):\n",
        "    major_labels.append(\"HIST\")\n",
        "  if any(substring in x for substring in PHIL):\n",
        "    major_labels.append(\"PHIL\")\n",
        "  if any(substring in x for substring in ENT):\n",
        "    major_labels.append(\"ENT\")\n",
        "  if any(substring in x for substring in DMD):\n",
        "    major_labels.append(\"DMD\")\n",
        "  if any(substring in x for substring in MATH):\n",
        "    major_labels.append(\"MATH\")\n",
        "  if any(substring in x for substring in MED):\n",
        "    major_labels.append(\"MED\")\n",
        "  if any(substring in x for substring in NEURO):\n",
        "    major_labels.append(\"NEURO\")\n",
        "  if any(substring in x for substring in BE):\n",
        "    major_labels.append(\"BE\")\n",
        "  if any(substring in x for substring in CIV):\n",
        "    major_labels.append(\"CIV\")\n",
        "  if any(substring in x for substring in MEAM):\n",
        "    major_labels.append(\"MEAM\")\n",
        "  if any(substring in x for substring in ECON):\n",
        "    major_labels.append(\"ECON\")\n",
        "  if any(substring in x for substring in CGGT):\n",
        "    major_labels.append(\"CGGT\")\n",
        "  if any(substring in x for substring in CMPE):\n",
        "    major_labels.append(\"CMPE\")\n",
        "  if any(substring in x for substring in CBE):\n",
        "    major_labels.append(\"CBE\")\n",
        "  if any(substring in x for substring in SCMP):\n",
        "    major_labels.append(\"SCMP\")\n",
        "\n",
        "  if x == 'Engineering':\n",
        "    major_labels.append(\"ENG\")\n",
        "  if x == 'Computer':\n",
        "    major_labels.append(\"MCIT\")\n",
        "  if x == 'AI':\n",
        "    major_labels.append(\"AI\")\n",
        "  if x == 'urban planning':\n",
        "    major_labels.append('URB')\n",
        "  if x == 'Stories':\n",
        "    major_labels.append('STOR')\n",
        "\n",
        "  return major_labels\n",
        "\n",
        "full_df['major'] = full_df['major'].apply(process_major)"
      ],
      "metadata": {
        "id": "roz4yKU7yVgV"
      },
      "id": "roz4yKU7yVgV",
      "execution_count": 17,
      "outputs": []
    },
    {
      "cell_type": "markdown",
      "source": [
        "## Cleaning up \n",
        "Rename columns and delete unused columns"
      ],
      "metadata": {
        "id": "CTD65HD84LUN"
      },
      "id": "CTD65HD84LUN"
    },
    {
      "cell_type": "code",
      "source": [
        "## TODO: Figure out what the \"decoding_strategy\" and \"dataset\" fields actually do -- do they indicate the source generations file? If so, might be able to use to recover CTRL splits\n",
        "\n",
        "columns_to_drop = ['attention_check', 'dec_strat', 'password', 'last_login', 'is_superuser', 'is_staff', 'first_name', 'last_name', 'email', 'is_active', 'groups', 'user_permissions', 'playlist_version', 'ageed_to_research', 'dataset', 'decoding_strategy']\n",
        "full_df = full_df.drop(columns_to_drop, axis=1)\n",
        "\n",
        "full_df = full_df.rename(columns={'system':'model','playlist_name':'dataset', 'boundary':'predicted_boundary_index', 'num_sentences':'true_boundary_index'})\n",
        "full_df['true_boundary_index'] = full_df['true_boundary_index'] - 1"
      ],
      "metadata": {
        "id": "xY6Bt_8Y18O2"
      },
      "id": "xY6Bt_8Y18O2",
      "execution_count": 18,
      "outputs": []
    },
    {
      "cell_type": "markdown",
      "source": [
        "##Reorder Columns\n",
        "Re-order columns so that they make sense and are easier to read"
      ],
      "metadata": {
        "id": "FmWFwlgY9Wzv"
      },
      "id": "FmWFwlgY9Wzv"
    },
    {
      "cell_type": "code",
      "source": [
        "column_order = ['date', 'username', 'dataset', 'model', 'dec_strat_value', 'prompt', 'prompt_body', 'generation', 'gen_body','true_boundary_index', 'predicted_boundary_index', 'points', 'major', 'english', 'read_guide', 'recipe_familiarity', 'news_familiarity', 'stories_familiarity', 'gen_familiarity', 'prompt_index', 'annotator', 'date_joined', 'Timestamp', 'Email Address']\n",
        "full_df[column_order]"
      ],
      "metadata": {
        "id": "0UDETWvf1xNR",
        "outputId": "b4db0fa4-9bbf-4fb0-9041-f303363d755a",
        "colab": {
          "base_uri": "https://localhost:8080/",
          "height": 891
        }
      },
      "id": "0UDETWvf1xNR",
      "execution_count": 19,
      "outputs": [
        {
          "output_type": "stream",
          "name": "stdout",
          "text": [
            "Warning: total number of rows (27539) exceeds max_rows (20000). Falling back to pandas display.\n"
          ]
        },
        {
          "output_type": "execute_result",
          "data": {
            "text/html": [
              "\n",
              "  <div id=\"df-dcc3f8e1-d48c-40c2-b1cb-004b56292fdd\">\n",
              "    <div class=\"colab-df-container\">\n",
              "      <div>\n",
              "<style scoped>\n",
              "    .dataframe tbody tr th:only-of-type {\n",
              "        vertical-align: middle;\n",
              "    }\n",
              "\n",
              "    .dataframe tbody tr th {\n",
              "        vertical-align: top;\n",
              "    }\n",
              "\n",
              "    .dataframe thead th {\n",
              "        text-align: right;\n",
              "    }\n",
              "</style>\n",
              "<table border=\"1\" class=\"dataframe\">\n",
              "  <thead>\n",
              "    <tr style=\"text-align: right;\">\n",
              "      <th></th>\n",
              "      <th>date</th>\n",
              "      <th>username</th>\n",
              "      <th>dataset</th>\n",
              "      <th>model</th>\n",
              "      <th>dec_strat_value</th>\n",
              "      <th>prompt</th>\n",
              "      <th>prompt_body</th>\n",
              "      <th>generation</th>\n",
              "      <th>gen_body</th>\n",
              "      <th>true_boundary_index</th>\n",
              "      <th>predicted_boundary_index</th>\n",
              "      <th>points</th>\n",
              "      <th>major</th>\n",
              "      <th>english</th>\n",
              "      <th>read_guide</th>\n",
              "      <th>recipe_familiarity</th>\n",
              "      <th>news_familiarity</th>\n",
              "      <th>stories_familiarity</th>\n",
              "      <th>gen_familiarity</th>\n",
              "      <th>prompt_index</th>\n",
              "      <th>annotator</th>\n",
              "      <th>date_joined</th>\n",
              "      <th>Timestamp</th>\n",
              "      <th>Email Address</th>\n",
              "    </tr>\n",
              "  </thead>\n",
              "  <tbody>\n",
              "    <tr>\n",
              "      <th>112</th>\n",
              "      <td>2021-08-31 17:11:39.095000+00:00</td>\n",
              "      <td>mcolombo</td>\n",
              "      <td>Recipes</td>\n",
              "      <td>finetuned</td>\n",
              "      <td>0.4</td>\n",
              "      <td>13803</td>\n",
              "      <td>HOW TO MAKE: Baby Shell Pasta Salad With Kalam...</td>\n",
              "      <td>22877</td>\n",
              "      <td>Meanwhile, combine all dressing ingredients in...</td>\n",
              "      <td>2</td>\n",
              "      <td>0</td>\n",
              "      <td>0</td>\n",
              "      <td>[NETS]</td>\n",
              "      <td>Yes</td>\n",
              "      <td></td>\n",
              "      <td>2</td>\n",
              "      <td>3</td>\n",
              "      <td>5</td>\n",
              "      <td>2</td>\n",
              "      <td>2130</td>\n",
              "      <td>1666</td>\n",
              "      <td>2021-08-31T17:10:18.716Z</td>\n",
              "      <td>9/6/2021 18:14:26</td>\n",
              "      <td>mcolombo@seas.upenn.edu</td>\n",
              "    </tr>\n",
              "    <tr>\n",
              "      <th>114</th>\n",
              "      <td>2021-08-31 17:12:40.795000+00:00</td>\n",
              "      <td>mcolombo</td>\n",
              "      <td>Recipes</td>\n",
              "      <td>gpt2-xl</td>\n",
              "      <td>0.4</td>\n",
              "      <td>16433</td>\n",
              "      <td>HOW TO MAKE: Open Faced Italian Dogs\\nIngredie...</td>\n",
              "      <td>21386</td>\n",
              "      <td></td>\n",
              "      <td>9</td>\n",
              "      <td>9</td>\n",
              "      <td>5</td>\n",
              "      <td>[NETS]</td>\n",
              "      <td>Yes</td>\n",
              "      <td></td>\n",
              "      <td>2</td>\n",
              "      <td>3</td>\n",
              "      <td>5</td>\n",
              "      <td>2</td>\n",
              "      <td>9933</td>\n",
              "      <td>1666</td>\n",
              "      <td>2021-08-31T17:10:18.716Z</td>\n",
              "      <td>9/6/2021 18:14:26</td>\n",
              "      <td>mcolombo@seas.upenn.edu</td>\n",
              "    </tr>\n",
              "    <tr>\n",
              "      <th>138</th>\n",
              "      <td>2021-09-02 02:27:39.754000+00:00</td>\n",
              "      <td>Hongyu Zhang</td>\n",
              "      <td>Recipes</td>\n",
              "      <td>finetuned</td>\n",
              "      <td>0.4</td>\n",
              "      <td>20538</td>\n",
              "      <td>HOW TO MAKE: Black Sesame Seed Bagels\\nIngredi...</td>\n",
              "      <td>26262</td>\n",
              "      <td>Brush with malt syrup or sugar._SEP_Bake for 1...</td>\n",
              "      <td>7</td>\n",
              "      <td>3</td>\n",
              "      <td>0</td>\n",
              "      <td>[CIS]</td>\n",
              "      <td>No</td>\n",
              "      <td></td>\n",
              "      <td>4</td>\n",
              "      <td>4</td>\n",
              "      <td>4</td>\n",
              "      <td>2</td>\n",
              "      <td>7824</td>\n",
              "      <td>1699</td>\n",
              "      <td>2021-09-02T02:26:11.170Z</td>\n",
              "      <td>9/6/2021 13:53:15</td>\n",
              "      <td>hz53@seas.upenn.edu</td>\n",
              "    </tr>\n",
              "    <tr>\n",
              "      <th>172</th>\n",
              "      <td>2021-09-02 13:41:57.862000+00:00</td>\n",
              "      <td>Xuanyang</td>\n",
              "      <td>Short Stories</td>\n",
              "      <td>gpt2</td>\n",
              "      <td>0.4</td>\n",
              "      <td>1810</td>\n",
              "      <td>Don't worry about credit- if anything always j...</td>\n",
              "      <td>1785</td>\n",
              "      <td>It was probably because they were really old e...</td>\n",
              "      <td>7</td>\n",
              "      <td>1</td>\n",
              "      <td>0</td>\n",
              "      <td>[ROBO]</td>\n",
              "      <td>No</td>\n",
              "      <td></td>\n",
              "      <td>2</td>\n",
              "      <td>2</td>\n",
              "      <td>4</td>\n",
              "      <td>4</td>\n",
              "      <td>2739</td>\n",
              "      <td>1720</td>\n",
              "      <td>2021-09-02T13:36:57.794Z</td>\n",
              "      <td>9/3/2021 21:55:38</td>\n",
              "      <td>wxy@seas.upenn.edu</td>\n",
              "    </tr>\n",
              "    <tr>\n",
              "      <th>179</th>\n",
              "      <td>2021-09-02 13:44:42.769000+00:00</td>\n",
              "      <td>zszeke</td>\n",
              "      <td>Recipes</td>\n",
              "      <td>finetuned</td>\n",
              "      <td>0.4</td>\n",
              "      <td>20654</td>\n",
              "      <td>HOW TO MAKE: Simply Elegant Green Beans\\nIngre...</td>\n",
              "      <td>26379</td>\n",
              "      <td>Just increase the amount of walnuts to 2/3 cup...</td>\n",
              "      <td>8</td>\n",
              "      <td>1</td>\n",
              "      <td>0</td>\n",
              "      <td>[ESE]</td>\n",
              "      <td>Yes</td>\n",
              "      <td></td>\n",
              "      <td>4</td>\n",
              "      <td>1</td>\n",
              "      <td>4</td>\n",
              "      <td>1</td>\n",
              "      <td>8030</td>\n",
              "      <td>1727</td>\n",
              "      <td>2021-09-02T13:42:23.614Z</td>\n",
              "      <td>9/4/2021 16:38:17</td>\n",
              "      <td>zszeke@seas.upenn.edu</td>\n",
              "    </tr>\n",
              "    <tr>\n",
              "      <th>...</th>\n",
              "      <td>...</td>\n",
              "      <td>...</td>\n",
              "      <td>...</td>\n",
              "      <td>...</td>\n",
              "      <td>...</td>\n",
              "      <td>...</td>\n",
              "      <td>...</td>\n",
              "      <td>...</td>\n",
              "      <td>...</td>\n",
              "      <td>...</td>\n",
              "      <td>...</td>\n",
              "      <td>...</td>\n",
              "      <td>...</td>\n",
              "      <td>...</td>\n",
              "      <td>...</td>\n",
              "      <td>...</td>\n",
              "      <td>...</td>\n",
              "      <td>...</td>\n",
              "      <td>...</td>\n",
              "      <td>...</td>\n",
              "      <td>...</td>\n",
              "      <td>...</td>\n",
              "      <td>...</td>\n",
              "      <td>...</td>\n",
              "    </tr>\n",
              "    <tr>\n",
              "      <th>46968</th>\n",
              "      <td>2021-10-18 04:36:47.625000+00:00</td>\n",
              "      <td>sweetMelon</td>\n",
              "      <td>Recipes</td>\n",
              "      <td>finetuned</td>\n",
              "      <td>0.4</td>\n",
              "      <td>20608</td>\n",
              "      <td>HOW TO MAKE: Baked Salmon Fillets Dijon\\nIngre...</td>\n",
              "      <td>26332</td>\n",
              "      <td>The one serving is 12 ounces per person!_SEP_G...</td>\n",
              "      <td>7</td>\n",
              "      <td>9</td>\n",
              "      <td>3</td>\n",
              "      <td>[MCIT]</td>\n",
              "      <td>No</td>\n",
              "      <td>Yes</td>\n",
              "      <td>2</td>\n",
              "      <td>4</td>\n",
              "      <td>4</td>\n",
              "      <td>3</td>\n",
              "      <td>7943</td>\n",
              "      <td>4433</td>\n",
              "      <td>2021-10-07T12:25:48.534Z</td>\n",
              "      <td>10/16/2021 4:37:46</td>\n",
              "      <td>jiayuzhu@seas.upenn.edu</td>\n",
              "    </tr>\n",
              "    <tr>\n",
              "      <th>46969</th>\n",
              "      <td>2021-10-18 04:37:01.490000+00:00</td>\n",
              "      <td>sweetMelon</td>\n",
              "      <td>Recipes</td>\n",
              "      <td>finetuned</td>\n",
              "      <td>0.4</td>\n",
              "      <td>13785</td>\n",
              "      <td>HOW TO MAKE: Delicious Greek Garlic Chicken\\nI...</td>\n",
              "      <td>22806</td>\n",
              "      <td>Pour the boiling water over the chicken pieces...</td>\n",
              "      <td>2</td>\n",
              "      <td>7</td>\n",
              "      <td>0</td>\n",
              "      <td>[MCIT]</td>\n",
              "      <td>No</td>\n",
              "      <td>Yes</td>\n",
              "      <td>2</td>\n",
              "      <td>4</td>\n",
              "      <td>4</td>\n",
              "      <td>3</td>\n",
              "      <td>2017</td>\n",
              "      <td>4433</td>\n",
              "      <td>2021-10-07T12:25:48.534Z</td>\n",
              "      <td>10/16/2021 4:37:46</td>\n",
              "      <td>jiayuzhu@seas.upenn.edu</td>\n",
              "    </tr>\n",
              "    <tr>\n",
              "      <th>46970</th>\n",
              "      <td>2021-10-18 04:37:12.887000+00:00</td>\n",
              "      <td>sweetMelon</td>\n",
              "      <td>Recipes</td>\n",
              "      <td>finetuned</td>\n",
              "      <td>0.4</td>\n",
              "      <td>19077</td>\n",
              "      <td>HOW TO MAKE: Cheddar-Polenta Biscuits with Ham...</td>\n",
              "      <td>24651</td>\n",
              "      <td>Transfer the biscuits to the prepared baking s...</td>\n",
              "      <td>4</td>\n",
              "      <td>9</td>\n",
              "      <td>0</td>\n",
              "      <td>[MCIT]</td>\n",
              "      <td>No</td>\n",
              "      <td>Yes</td>\n",
              "      <td>2</td>\n",
              "      <td>4</td>\n",
              "      <td>4</td>\n",
              "      <td>3</td>\n",
              "      <td>4999</td>\n",
              "      <td>4433</td>\n",
              "      <td>2021-10-07T12:25:48.534Z</td>\n",
              "      <td>10/16/2021 4:37:46</td>\n",
              "      <td>jiayuzhu@seas.upenn.edu</td>\n",
              "    </tr>\n",
              "    <tr>\n",
              "      <th>46971</th>\n",
              "      <td>2021-10-18 04:37:24.752000+00:00</td>\n",
              "      <td>sweetMelon</td>\n",
              "      <td>Recipes</td>\n",
              "      <td>gpt2-xl</td>\n",
              "      <td>0.4</td>\n",
              "      <td>15183</td>\n",
              "      <td>HOW TO MAKE: Asparagus Omelette\\nIngredients:\\...</td>\n",
              "      <td>20136</td>\n",
              "      <td>Melt the remaining 4 tablespoons butter in a l...</td>\n",
              "      <td>1</td>\n",
              "      <td>9</td>\n",
              "      <td>0</td>\n",
              "      <td>[MCIT]</td>\n",
              "      <td>No</td>\n",
              "      <td>Yes</td>\n",
              "      <td>2</td>\n",
              "      <td>4</td>\n",
              "      <td>4</td>\n",
              "      <td>3</td>\n",
              "      <td>1396</td>\n",
              "      <td>4433</td>\n",
              "      <td>2021-10-07T12:25:48.534Z</td>\n",
              "      <td>10/16/2021 4:37:46</td>\n",
              "      <td>jiayuzhu@seas.upenn.edu</td>\n",
              "    </tr>\n",
              "    <tr>\n",
              "      <th>46972</th>\n",
              "      <td>2021-10-18 04:37:37.474000+00:00</td>\n",
              "      <td>sweetMelon</td>\n",
              "      <td>Recipes</td>\n",
              "      <td>gpt2-xl</td>\n",
              "      <td>0.4</td>\n",
              "      <td>14823</td>\n",
              "      <td>HOW TO MAKE: Sopapilla Cheesecake\\nIngredients...</td>\n",
              "      <td>19776</td>\n",
              "      <td></td>\n",
              "      <td>9</td>\n",
              "      <td>9</td>\n",
              "      <td>5</td>\n",
              "      <td>[MCIT]</td>\n",
              "      <td>No</td>\n",
              "      <td>Yes</td>\n",
              "      <td>2</td>\n",
              "      <td>4</td>\n",
              "      <td>4</td>\n",
              "      <td>3</td>\n",
              "      <td>9760</td>\n",
              "      <td>4433</td>\n",
              "      <td>2021-10-07T12:25:48.534Z</td>\n",
              "      <td>10/16/2021 4:37:46</td>\n",
              "      <td>jiayuzhu@seas.upenn.edu</td>\n",
              "    </tr>\n",
              "  </tbody>\n",
              "</table>\n",
              "<p>27539 rows × 24 columns</p>\n",
              "</div>\n",
              "      <button class=\"colab-df-convert\" onclick=\"convertToInteractive('df-dcc3f8e1-d48c-40c2-b1cb-004b56292fdd')\"\n",
              "              title=\"Convert this dataframe to an interactive table.\"\n",
              "              style=\"display:none;\">\n",
              "        \n",
              "  <svg xmlns=\"http://www.w3.org/2000/svg\" height=\"24px\"viewBox=\"0 0 24 24\"\n",
              "       width=\"24px\">\n",
              "    <path d=\"M0 0h24v24H0V0z\" fill=\"none\"/>\n",
              "    <path d=\"M18.56 5.44l.94 2.06.94-2.06 2.06-.94-2.06-.94-.94-2.06-.94 2.06-2.06.94zm-11 1L8.5 8.5l.94-2.06 2.06-.94-2.06-.94L8.5 2.5l-.94 2.06-2.06.94zm10 10l.94 2.06.94-2.06 2.06-.94-2.06-.94-.94-2.06-.94 2.06-2.06.94z\"/><path d=\"M17.41 7.96l-1.37-1.37c-.4-.4-.92-.59-1.43-.59-.52 0-1.04.2-1.43.59L10.3 9.45l-7.72 7.72c-.78.78-.78 2.05 0 2.83L4 21.41c.39.39.9.59 1.41.59.51 0 1.02-.2 1.41-.59l7.78-7.78 2.81-2.81c.8-.78.8-2.07 0-2.86zM5.41 20L4 18.59l7.72-7.72 1.47 1.35L5.41 20z\"/>\n",
              "  </svg>\n",
              "      </button>\n",
              "      \n",
              "  <style>\n",
              "    .colab-df-container {\n",
              "      display:flex;\n",
              "      flex-wrap:wrap;\n",
              "      gap: 12px;\n",
              "    }\n",
              "\n",
              "    .colab-df-convert {\n",
              "      background-color: #E8F0FE;\n",
              "      border: none;\n",
              "      border-radius: 50%;\n",
              "      cursor: pointer;\n",
              "      display: none;\n",
              "      fill: #1967D2;\n",
              "      height: 32px;\n",
              "      padding: 0 0 0 0;\n",
              "      width: 32px;\n",
              "    }\n",
              "\n",
              "    .colab-df-convert:hover {\n",
              "      background-color: #E2EBFA;\n",
              "      box-shadow: 0px 1px 2px rgba(60, 64, 67, 0.3), 0px 1px 3px 1px rgba(60, 64, 67, 0.15);\n",
              "      fill: #174EA6;\n",
              "    }\n",
              "\n",
              "    [theme=dark] .colab-df-convert {\n",
              "      background-color: #3B4455;\n",
              "      fill: #D2E3FC;\n",
              "    }\n",
              "\n",
              "    [theme=dark] .colab-df-convert:hover {\n",
              "      background-color: #434B5C;\n",
              "      box-shadow: 0px 1px 3px 1px rgba(0, 0, 0, 0.15);\n",
              "      filter: drop-shadow(0px 1px 2px rgba(0, 0, 0, 0.3));\n",
              "      fill: #FFFFFF;\n",
              "    }\n",
              "  </style>\n",
              "\n",
              "      <script>\n",
              "        const buttonEl =\n",
              "          document.querySelector('#df-dcc3f8e1-d48c-40c2-b1cb-004b56292fdd button.colab-df-convert');\n",
              "        buttonEl.style.display =\n",
              "          google.colab.kernel.accessAllowed ? 'block' : 'none';\n",
              "\n",
              "        async function convertToInteractive(key) {\n",
              "          const element = document.querySelector('#df-dcc3f8e1-d48c-40c2-b1cb-004b56292fdd');\n",
              "          const dataTable =\n",
              "            await google.colab.kernel.invokeFunction('convertToInteractive',\n",
              "                                                     [key], {});\n",
              "          if (!dataTable) return;\n",
              "\n",
              "          const docLinkHtml = 'Like what you see? Visit the ' +\n",
              "            '<a target=\"_blank\" href=https://colab.research.google.com/notebooks/data_table.ipynb>data table notebook</a>'\n",
              "            + ' to learn more about interactive tables.';\n",
              "          element.innerHTML = '';\n",
              "          dataTable['output_type'] = 'display_data';\n",
              "          await google.colab.output.renderOutput(dataTable, element);\n",
              "          const docLink = document.createElement('div');\n",
              "          docLink.innerHTML = docLinkHtml;\n",
              "          element.appendChild(docLink);\n",
              "        }\n",
              "      </script>\n",
              "    </div>\n",
              "  </div>\n",
              "  "
            ],
            "text/plain": [
              "                                  date  ...            Email Address\n",
              "112   2021-08-31 17:11:39.095000+00:00  ...  mcolombo@seas.upenn.edu\n",
              "114   2021-08-31 17:12:40.795000+00:00  ...  mcolombo@seas.upenn.edu\n",
              "138   2021-09-02 02:27:39.754000+00:00  ...      hz53@seas.upenn.edu\n",
              "172   2021-09-02 13:41:57.862000+00:00  ...       wxy@seas.upenn.edu\n",
              "179   2021-09-02 13:44:42.769000+00:00  ...    zszeke@seas.upenn.edu\n",
              "...                                ...  ...                      ...\n",
              "46968 2021-10-18 04:36:47.625000+00:00  ...  jiayuzhu@seas.upenn.edu\n",
              "46969 2021-10-18 04:37:01.490000+00:00  ...  jiayuzhu@seas.upenn.edu\n",
              "46970 2021-10-18 04:37:12.887000+00:00  ...  jiayuzhu@seas.upenn.edu\n",
              "46971 2021-10-18 04:37:24.752000+00:00  ...  jiayuzhu@seas.upenn.edu\n",
              "46972 2021-10-18 04:37:37.474000+00:00  ...  jiayuzhu@seas.upenn.edu\n",
              "\n",
              "[27539 rows x 24 columns]"
            ]
          },
          "metadata": {},
          "execution_count": 19
        }
      ]
    },
    {
      "cell_type": "markdown",
      "metadata": {
        "id": "F1gZhxAeI-eU"
      },
      "source": [
        "# Helper Functions"
      ],
      "id": "F1gZhxAeI-eU"
    },
    {
      "cell_type": "code",
      "metadata": {
        "id": "Nitk2sWsJBdL"
      },
      "source": [
        "def map_playlist_name(playlist):\n",
        "  \"\"\"Converts playlist names to the ones we want to use in the paper.\"\"\"\n",
        "  if playlist == 'New York Times':\n",
        "    return \"News\"\n",
        "  elif playlist == 'Presidential Speeches':\n",
        "    return \"Speeches\"\n",
        "  elif playlist == 'Recipes':\n",
        "    return \"Recipes\"\n",
        "  elif playlist == 'Short Stories':\n",
        "    return \"Stories\"\n",
        "\n",
        "def save(filename):\n",
        "  plt.tight_layout()\n",
        "  plt.savefig(filename)\n",
        "  plt.show()"
      ],
      "id": "Nitk2sWsJBdL",
      "execution_count": 20,
      "outputs": []
    },
    {
      "cell_type": "markdown",
      "metadata": {
        "id": "jArqafq0EP5U"
      },
      "source": [
        "# Dataset Statistics"
      ],
      "id": "jArqafq0EP5U"
    },
    {
      "cell_type": "code",
      "metadata": {
        "id": "rnFuvKHsEUuM",
        "colab": {
          "base_uri": "https://localhost:8080/",
          "height": 353
        },
        "outputId": "aa52e353-21ed-4a48-dc61-c31b3d61aa9b"
      },
      "source": [
        "full_df.groupby('dataset').count()"
      ],
      "id": "rnFuvKHsEUuM",
      "execution_count": 21,
      "outputs": [
        {
          "output_type": "stream",
          "name": "stdout",
          "text": [
            "Warning: Total number of columns (26) exceeds max_columns (20). Falling back to pandas display.\n"
          ]
        },
        {
          "output_type": "execute_result",
          "data": {
            "text/html": [
              "\n",
              "  <div id=\"df-080d9ad1-9cb1-4543-a1ff-f19ed8ffcd64\">\n",
              "    <div class=\"colab-df-container\">\n",
              "      <div>\n",
              "<style scoped>\n",
              "    .dataframe tbody tr th:only-of-type {\n",
              "        vertical-align: middle;\n",
              "    }\n",
              "\n",
              "    .dataframe tbody tr th {\n",
              "        vertical-align: top;\n",
              "    }\n",
              "\n",
              "    .dataframe thead th {\n",
              "        text-align: right;\n",
              "    }\n",
              "</style>\n",
              "<table border=\"1\" class=\"dataframe\">\n",
              "  <thead>\n",
              "    <tr style=\"text-align: right;\">\n",
              "      <th></th>\n",
              "      <th>date</th>\n",
              "      <th>annotator</th>\n",
              "      <th>generation</th>\n",
              "      <th>playlist</th>\n",
              "      <th>predicted_boundary_index</th>\n",
              "      <th>points</th>\n",
              "      <th>reason</th>\n",
              "      <th>pk</th>\n",
              "      <th>model</th>\n",
              "      <th>prompt</th>\n",
              "      <th>gen_body</th>\n",
              "      <th>prompt_body</th>\n",
              "      <th>true_boundary_index</th>\n",
              "      <th>prompt_index</th>\n",
              "      <th>dec_strat_value</th>\n",
              "      <th>username</th>\n",
              "      <th>date_joined</th>\n",
              "      <th>Timestamp</th>\n",
              "      <th>Email Address</th>\n",
              "      <th>major</th>\n",
              "      <th>english</th>\n",
              "      <th>recipe_familiarity</th>\n",
              "      <th>news_familiarity</th>\n",
              "      <th>stories_familiarity</th>\n",
              "      <th>gen_familiarity</th>\n",
              "      <th>read_guide</th>\n",
              "    </tr>\n",
              "    <tr>\n",
              "      <th>dataset</th>\n",
              "      <th></th>\n",
              "      <th></th>\n",
              "      <th></th>\n",
              "      <th></th>\n",
              "      <th></th>\n",
              "      <th></th>\n",
              "      <th></th>\n",
              "      <th></th>\n",
              "      <th></th>\n",
              "      <th></th>\n",
              "      <th></th>\n",
              "      <th></th>\n",
              "      <th></th>\n",
              "      <th></th>\n",
              "      <th></th>\n",
              "      <th></th>\n",
              "      <th></th>\n",
              "      <th></th>\n",
              "      <th></th>\n",
              "      <th></th>\n",
              "      <th></th>\n",
              "      <th></th>\n",
              "      <th></th>\n",
              "      <th></th>\n",
              "      <th></th>\n",
              "      <th></th>\n",
              "    </tr>\n",
              "  </thead>\n",
              "  <tbody>\n",
              "    <tr>\n",
              "      <th>New York Times</th>\n",
              "      <td>4999</td>\n",
              "      <td>4999</td>\n",
              "      <td>4999</td>\n",
              "      <td>4999</td>\n",
              "      <td>4999</td>\n",
              "      <td>4999</td>\n",
              "      <td>4999</td>\n",
              "      <td>4999</td>\n",
              "      <td>4999</td>\n",
              "      <td>4999</td>\n",
              "      <td>4999</td>\n",
              "      <td>4999</td>\n",
              "      <td>4999</td>\n",
              "      <td>4999</td>\n",
              "      <td>4999</td>\n",
              "      <td>4999</td>\n",
              "      <td>4999</td>\n",
              "      <td>4999</td>\n",
              "      <td>4999</td>\n",
              "      <td>4999</td>\n",
              "      <td>4999</td>\n",
              "      <td>4999</td>\n",
              "      <td>4999</td>\n",
              "      <td>4999</td>\n",
              "      <td>4999</td>\n",
              "      <td>4999</td>\n",
              "    </tr>\n",
              "    <tr>\n",
              "      <th>Presidential Speeches</th>\n",
              "      <td>5180</td>\n",
              "      <td>5180</td>\n",
              "      <td>5180</td>\n",
              "      <td>5180</td>\n",
              "      <td>5180</td>\n",
              "      <td>5180</td>\n",
              "      <td>5180</td>\n",
              "      <td>5180</td>\n",
              "      <td>5180</td>\n",
              "      <td>5180</td>\n",
              "      <td>5180</td>\n",
              "      <td>5180</td>\n",
              "      <td>5180</td>\n",
              "      <td>5180</td>\n",
              "      <td>5180</td>\n",
              "      <td>5180</td>\n",
              "      <td>5180</td>\n",
              "      <td>5180</td>\n",
              "      <td>5180</td>\n",
              "      <td>5180</td>\n",
              "      <td>5180</td>\n",
              "      <td>5180</td>\n",
              "      <td>5180</td>\n",
              "      <td>5180</td>\n",
              "      <td>5180</td>\n",
              "      <td>5180</td>\n",
              "    </tr>\n",
              "    <tr>\n",
              "      <th>Recipes</th>\n",
              "      <td>12152</td>\n",
              "      <td>12152</td>\n",
              "      <td>12152</td>\n",
              "      <td>12152</td>\n",
              "      <td>12152</td>\n",
              "      <td>12152</td>\n",
              "      <td>12152</td>\n",
              "      <td>12152</td>\n",
              "      <td>12152</td>\n",
              "      <td>12152</td>\n",
              "      <td>12152</td>\n",
              "      <td>12152</td>\n",
              "      <td>12152</td>\n",
              "      <td>12152</td>\n",
              "      <td>12152</td>\n",
              "      <td>12152</td>\n",
              "      <td>12152</td>\n",
              "      <td>12152</td>\n",
              "      <td>12152</td>\n",
              "      <td>12152</td>\n",
              "      <td>12152</td>\n",
              "      <td>12152</td>\n",
              "      <td>12152</td>\n",
              "      <td>12152</td>\n",
              "      <td>12152</td>\n",
              "      <td>12152</td>\n",
              "    </tr>\n",
              "    <tr>\n",
              "      <th>Short Stories</th>\n",
              "      <td>5208</td>\n",
              "      <td>5208</td>\n",
              "      <td>5208</td>\n",
              "      <td>5208</td>\n",
              "      <td>5208</td>\n",
              "      <td>5208</td>\n",
              "      <td>5208</td>\n",
              "      <td>5208</td>\n",
              "      <td>5208</td>\n",
              "      <td>5208</td>\n",
              "      <td>5208</td>\n",
              "      <td>5208</td>\n",
              "      <td>5208</td>\n",
              "      <td>5208</td>\n",
              "      <td>5208</td>\n",
              "      <td>5208</td>\n",
              "      <td>5208</td>\n",
              "      <td>5208</td>\n",
              "      <td>5208</td>\n",
              "      <td>5208</td>\n",
              "      <td>5208</td>\n",
              "      <td>5208</td>\n",
              "      <td>5208</td>\n",
              "      <td>5208</td>\n",
              "      <td>5208</td>\n",
              "      <td>5208</td>\n",
              "    </tr>\n",
              "  </tbody>\n",
              "</table>\n",
              "</div>\n",
              "      <button class=\"colab-df-convert\" onclick=\"convertToInteractive('df-080d9ad1-9cb1-4543-a1ff-f19ed8ffcd64')\"\n",
              "              title=\"Convert this dataframe to an interactive table.\"\n",
              "              style=\"display:none;\">\n",
              "        \n",
              "  <svg xmlns=\"http://www.w3.org/2000/svg\" height=\"24px\"viewBox=\"0 0 24 24\"\n",
              "       width=\"24px\">\n",
              "    <path d=\"M0 0h24v24H0V0z\" fill=\"none\"/>\n",
              "    <path d=\"M18.56 5.44l.94 2.06.94-2.06 2.06-.94-2.06-.94-.94-2.06-.94 2.06-2.06.94zm-11 1L8.5 8.5l.94-2.06 2.06-.94-2.06-.94L8.5 2.5l-.94 2.06-2.06.94zm10 10l.94 2.06.94-2.06 2.06-.94-2.06-.94-.94-2.06-.94 2.06-2.06.94z\"/><path d=\"M17.41 7.96l-1.37-1.37c-.4-.4-.92-.59-1.43-.59-.52 0-1.04.2-1.43.59L10.3 9.45l-7.72 7.72c-.78.78-.78 2.05 0 2.83L4 21.41c.39.39.9.59 1.41.59.51 0 1.02-.2 1.41-.59l7.78-7.78 2.81-2.81c.8-.78.8-2.07 0-2.86zM5.41 20L4 18.59l7.72-7.72 1.47 1.35L5.41 20z\"/>\n",
              "  </svg>\n",
              "      </button>\n",
              "      \n",
              "  <style>\n",
              "    .colab-df-container {\n",
              "      display:flex;\n",
              "      flex-wrap:wrap;\n",
              "      gap: 12px;\n",
              "    }\n",
              "\n",
              "    .colab-df-convert {\n",
              "      background-color: #E8F0FE;\n",
              "      border: none;\n",
              "      border-radius: 50%;\n",
              "      cursor: pointer;\n",
              "      display: none;\n",
              "      fill: #1967D2;\n",
              "      height: 32px;\n",
              "      padding: 0 0 0 0;\n",
              "      width: 32px;\n",
              "    }\n",
              "\n",
              "    .colab-df-convert:hover {\n",
              "      background-color: #E2EBFA;\n",
              "      box-shadow: 0px 1px 2px rgba(60, 64, 67, 0.3), 0px 1px 3px 1px rgba(60, 64, 67, 0.15);\n",
              "      fill: #174EA6;\n",
              "    }\n",
              "\n",
              "    [theme=dark] .colab-df-convert {\n",
              "      background-color: #3B4455;\n",
              "      fill: #D2E3FC;\n",
              "    }\n",
              "\n",
              "    [theme=dark] .colab-df-convert:hover {\n",
              "      background-color: #434B5C;\n",
              "      box-shadow: 0px 1px 3px 1px rgba(0, 0, 0, 0.15);\n",
              "      filter: drop-shadow(0px 1px 2px rgba(0, 0, 0, 0.3));\n",
              "      fill: #FFFFFF;\n",
              "    }\n",
              "  </style>\n",
              "\n",
              "      <script>\n",
              "        const buttonEl =\n",
              "          document.querySelector('#df-080d9ad1-9cb1-4543-a1ff-f19ed8ffcd64 button.colab-df-convert');\n",
              "        buttonEl.style.display =\n",
              "          google.colab.kernel.accessAllowed ? 'block' : 'none';\n",
              "\n",
              "        async function convertToInteractive(key) {\n",
              "          const element = document.querySelector('#df-080d9ad1-9cb1-4543-a1ff-f19ed8ffcd64');\n",
              "          const dataTable =\n",
              "            await google.colab.kernel.invokeFunction('convertToInteractive',\n",
              "                                                     [key], {});\n",
              "          if (!dataTable) return;\n",
              "\n",
              "          const docLinkHtml = 'Like what you see? Visit the ' +\n",
              "            '<a target=\"_blank\" href=https://colab.research.google.com/notebooks/data_table.ipynb>data table notebook</a>'\n",
              "            + ' to learn more about interactive tables.';\n",
              "          element.innerHTML = '';\n",
              "          dataTable['output_type'] = 'display_data';\n",
              "          await google.colab.output.renderOutput(dataTable, element);\n",
              "          const docLink = document.createElement('div');\n",
              "          docLink.innerHTML = docLinkHtml;\n",
              "          element.appendChild(docLink);\n",
              "        }\n",
              "      </script>\n",
              "    </div>\n",
              "  </div>\n",
              "  "
            ],
            "text/plain": [
              "                        date  annotator  ...  gen_familiarity  read_guide\n",
              "dataset                                  ...                             \n",
              "New York Times          4999       4999  ...             4999        4999\n",
              "Presidential Speeches   5180       5180  ...             5180        5180\n",
              "Recipes                12152      12152  ...            12152       12152\n",
              "Short Stories           5208       5208  ...             5208        5208\n",
              "\n",
              "[4 rows x 26 columns]"
            ]
          },
          "metadata": {},
          "execution_count": 21
        }
      ]
    },
    {
      "cell_type": "markdown",
      "metadata": {
        "id": "tFllvXnJ60x9"
      },
      "source": [
        "# Analysis"
      ],
      "id": "tFllvXnJ60x9"
    },
    {
      "cell_type": "markdown",
      "metadata": {
        "id": "ODMubmKy9j6d"
      },
      "source": [
        "## Mean points"
      ],
      "id": "ODMubmKy9j6d"
    },
    {
      "cell_type": "code",
      "metadata": {
        "id": "ke3hPwwCKIEd",
        "colab": {
          "base_uri": "https://localhost:8080/",
          "height": 257
        },
        "outputId": "cd0a1e6a-6677-4e9d-a25c-54c8283ae373"
      },
      "source": [
        "def analyze_per_playlist():\n",
        "  info_to_return = []\n",
        "  playlist_names = set(playlist_df[\"shortname\"].tolist())\n",
        "  model_names = set(generation_df[\"system\"].tolist())\n",
        "  for playlist in playlist_names:\n",
        "    for model in model_names:\n",
        "      df = full_df[(full_df[\"dataset\"]==playlist) & \n",
        "                          (full_df[\"model\"]==model)]\n",
        "      \n",
        "      if len(df) > 0:\n",
        "        info = {\"playlist\": playlist,\n",
        "                \"model\": model,\n",
        "                \"mean score\": np.mean(df[\"points\"]),\n",
        "                \"median score\": np.median(df[\"points\"]),\n",
        "                \"fraction_nonzero\": len(df[df[\"points\"] > 0]) / len(df),\n",
        "                \"num_annotations\": len(df)\n",
        "        }\n",
        "        info_to_return.append(info)\n",
        "  return pd.DataFrame(info_to_return)\n",
        "\n",
        "analyze_per_playlist()"
      ],
      "id": "ke3hPwwCKIEd",
      "execution_count": 22,
      "outputs": [
        {
          "output_type": "execute_result",
          "data": {
            "application/vnd.google.colaboratory.module+javascript": "\n      import \"https://ssl.gstatic.com/colaboratory/data_table/a6224c040fa35dcf/data_table.js\";\n\n      window.createDataTable({\n        data: [[{\n            'v': 0,\n            'f': \"0\",\n        },\n\"New York Times\",\n\"gpt2-xl\",\n{\n            'v': 1.8410374398661369,\n            'f': \"1.8410374398661369\",\n        },\n{\n            'v': 1.0,\n            'f': \"1.0\",\n        },\n{\n            'v': 0.5220665132817403,\n            'f': \"0.5220665132817403\",\n        },\n{\n            'v': 4781,\n            'f': \"4781\",\n        }],\n [{\n            'v': 1,\n            'f': \"1\",\n        },\n\"New York Times\",\n\"easy\",\n{\n            'v': 2.779816513761468,\n            'f': \"2.779816513761468\",\n        },\n{\n            'v': 3.0,\n            'f': \"3.0\",\n        },\n{\n            'v': 0.7155963302752294,\n            'f': \"0.7155963302752294\",\n        },\n{\n            'v': 218,\n            'f': \"218\",\n        }],\n [{\n            'v': 2,\n            'f': \"2\",\n        },\n\"Short Stories\",\n\"gpt2-xl\",\n{\n            'v': 1.9305396096440872,\n            'f': \"1.9305396096440872\",\n        },\n{\n            'v': 1.0,\n            'f': \"1.0\",\n        },\n{\n            'v': 0.5556831228473019,\n            'f': \"0.5556831228473019\",\n        },\n{\n            'v': 1742,\n            'f': \"1742\",\n        }],\n [{\n            'v': 3,\n            'f': \"3\",\n        },\n\"Short Stories\",\n\"davinci\",\n{\n            'v': 1.858974358974359,\n            'f': \"1.858974358974359\",\n        },\n{\n            'v': 1.0,\n            'f': \"1.0\",\n        },\n{\n            'v': 0.6282051282051282,\n            'f': \"0.6282051282051282\",\n        },\n{\n            'v': 78,\n            'f': \"78\",\n        }],\n [{\n            'v': 4,\n            'f': \"4\",\n        },\n\"Short Stories\",\n\"gpt2\",\n{\n            'v': 2.1711924439197166,\n            'f': \"2.1711924439197166\",\n        },\n{\n            'v': 2.0,\n            'f': \"2.0\",\n        },\n{\n            'v': 0.5371900826446281,\n            'f': \"0.5371900826446281\",\n        },\n{\n            'v': 3388,\n            'f': \"3388\",\n        }],\n [{\n            'v': 5,\n            'f': \"5\",\n        },\n\"Recipes\",\n\"finetuned\",\n{\n            'v': 1.9741073862087761,\n            'f': \"1.9741073862087761\",\n        },\n{\n            'v': 1.0,\n            'f': \"1.0\",\n        },\n{\n            'v': 0.5257563368765331,\n            'f': \"0.5257563368765331\",\n        },\n{\n            'v': 7338,\n            'f': \"7338\",\n        }],\n [{\n            'v': 6,\n            'f': \"6\",\n        },\n\"Recipes\",\n\"gpt2-xl\",\n{\n            'v': 2.1699210635646033,\n            'f': \"2.1699210635646033\",\n        },\n{\n            'v': 0.0,\n            'f': \"0.0\",\n        },\n{\n            'v': 0.49792272538429583,\n            'f': \"0.49792272538429583\",\n        },\n{\n            'v': 4814,\n            'f': \"4814\",\n        }],\n [{\n            'v': 7,\n            'f': \"7\",\n        },\n\"Presidential Speeches\",\n\"ctrl\",\n{\n            'v': 2.117953667953668,\n            'f': \"2.117953667953668\",\n        },\n{\n            'v': 2.0,\n            'f': \"2.0\",\n        },\n{\n            'v': 0.572007722007722,\n            'f': \"0.572007722007722\",\n        },\n{\n            'v': 5180,\n            'f': \"5180\",\n        }]],\n        columns: [[\"number\", \"index\"], [\"string\", \"playlist\"], [\"string\", \"model\"], [\"number\", \"mean score\"], [\"number\", \"median score\"], [\"number\", \"fraction_nonzero\"], [\"number\", \"num_annotations\"]],\n        columnOptions: [{\"width\": \"1px\", \"className\": \"index_column\"}],\n        rowsPerPage: 25,\n        helpUrl: \"https://colab.research.google.com/notebooks/data_table.ipynb\",\n        suppressOutputScrolling: true,\n        minimumWidth: undefined,\n      });\n    ",
            "text/html": [
              "\n",
              "  <div id=\"df-e37ba5f9-299d-4806-b21d-aa69a232a149\">\n",
              "    <div class=\"colab-df-container\">\n",
              "      <div>\n",
              "<style scoped>\n",
              "    .dataframe tbody tr th:only-of-type {\n",
              "        vertical-align: middle;\n",
              "    }\n",
              "\n",
              "    .dataframe tbody tr th {\n",
              "        vertical-align: top;\n",
              "    }\n",
              "\n",
              "    .dataframe thead th {\n",
              "        text-align: right;\n",
              "    }\n",
              "</style>\n",
              "<table border=\"1\" class=\"dataframe\">\n",
              "  <thead>\n",
              "    <tr style=\"text-align: right;\">\n",
              "      <th></th>\n",
              "      <th>playlist</th>\n",
              "      <th>model</th>\n",
              "      <th>mean score</th>\n",
              "      <th>median score</th>\n",
              "      <th>fraction_nonzero</th>\n",
              "      <th>num_annotations</th>\n",
              "    </tr>\n",
              "  </thead>\n",
              "  <tbody>\n",
              "    <tr>\n",
              "      <th>0</th>\n",
              "      <td>New York Times</td>\n",
              "      <td>gpt2-xl</td>\n",
              "      <td>1.841037</td>\n",
              "      <td>1.0</td>\n",
              "      <td>0.522067</td>\n",
              "      <td>4781</td>\n",
              "    </tr>\n",
              "    <tr>\n",
              "      <th>1</th>\n",
              "      <td>New York Times</td>\n",
              "      <td>easy</td>\n",
              "      <td>2.779817</td>\n",
              "      <td>3.0</td>\n",
              "      <td>0.715596</td>\n",
              "      <td>218</td>\n",
              "    </tr>\n",
              "    <tr>\n",
              "      <th>2</th>\n",
              "      <td>Short Stories</td>\n",
              "      <td>gpt2-xl</td>\n",
              "      <td>1.930540</td>\n",
              "      <td>1.0</td>\n",
              "      <td>0.555683</td>\n",
              "      <td>1742</td>\n",
              "    </tr>\n",
              "    <tr>\n",
              "      <th>3</th>\n",
              "      <td>Short Stories</td>\n",
              "      <td>davinci</td>\n",
              "      <td>1.858974</td>\n",
              "      <td>1.0</td>\n",
              "      <td>0.628205</td>\n",
              "      <td>78</td>\n",
              "    </tr>\n",
              "    <tr>\n",
              "      <th>4</th>\n",
              "      <td>Short Stories</td>\n",
              "      <td>gpt2</td>\n",
              "      <td>2.171192</td>\n",
              "      <td>2.0</td>\n",
              "      <td>0.537190</td>\n",
              "      <td>3388</td>\n",
              "    </tr>\n",
              "    <tr>\n",
              "      <th>5</th>\n",
              "      <td>Recipes</td>\n",
              "      <td>finetuned</td>\n",
              "      <td>1.974107</td>\n",
              "      <td>1.0</td>\n",
              "      <td>0.525756</td>\n",
              "      <td>7338</td>\n",
              "    </tr>\n",
              "    <tr>\n",
              "      <th>6</th>\n",
              "      <td>Recipes</td>\n",
              "      <td>gpt2-xl</td>\n",
              "      <td>2.169921</td>\n",
              "      <td>0.0</td>\n",
              "      <td>0.497923</td>\n",
              "      <td>4814</td>\n",
              "    </tr>\n",
              "    <tr>\n",
              "      <th>7</th>\n",
              "      <td>Presidential Speeches</td>\n",
              "      <td>ctrl</td>\n",
              "      <td>2.117954</td>\n",
              "      <td>2.0</td>\n",
              "      <td>0.572008</td>\n",
              "      <td>5180</td>\n",
              "    </tr>\n",
              "  </tbody>\n",
              "</table>\n",
              "</div>\n",
              "      <button class=\"colab-df-convert\" onclick=\"convertToInteractive('df-e37ba5f9-299d-4806-b21d-aa69a232a149')\"\n",
              "              title=\"Convert this dataframe to an interactive table.\"\n",
              "              style=\"display:none;\">\n",
              "        \n",
              "  <svg xmlns=\"http://www.w3.org/2000/svg\" height=\"24px\"viewBox=\"0 0 24 24\"\n",
              "       width=\"24px\">\n",
              "    <path d=\"M0 0h24v24H0V0z\" fill=\"none\"/>\n",
              "    <path d=\"M18.56 5.44l.94 2.06.94-2.06 2.06-.94-2.06-.94-.94-2.06-.94 2.06-2.06.94zm-11 1L8.5 8.5l.94-2.06 2.06-.94-2.06-.94L8.5 2.5l-.94 2.06-2.06.94zm10 10l.94 2.06.94-2.06 2.06-.94-2.06-.94-.94-2.06-.94 2.06-2.06.94z\"/><path d=\"M17.41 7.96l-1.37-1.37c-.4-.4-.92-.59-1.43-.59-.52 0-1.04.2-1.43.59L10.3 9.45l-7.72 7.72c-.78.78-.78 2.05 0 2.83L4 21.41c.39.39.9.59 1.41.59.51 0 1.02-.2 1.41-.59l7.78-7.78 2.81-2.81c.8-.78.8-2.07 0-2.86zM5.41 20L4 18.59l7.72-7.72 1.47 1.35L5.41 20z\"/>\n",
              "  </svg>\n",
              "      </button>\n",
              "      \n",
              "  <style>\n",
              "    .colab-df-container {\n",
              "      display:flex;\n",
              "      flex-wrap:wrap;\n",
              "      gap: 12px;\n",
              "    }\n",
              "\n",
              "    .colab-df-convert {\n",
              "      background-color: #E8F0FE;\n",
              "      border: none;\n",
              "      border-radius: 50%;\n",
              "      cursor: pointer;\n",
              "      display: none;\n",
              "      fill: #1967D2;\n",
              "      height: 32px;\n",
              "      padding: 0 0 0 0;\n",
              "      width: 32px;\n",
              "    }\n",
              "\n",
              "    .colab-df-convert:hover {\n",
              "      background-color: #E2EBFA;\n",
              "      box-shadow: 0px 1px 2px rgba(60, 64, 67, 0.3), 0px 1px 3px 1px rgba(60, 64, 67, 0.15);\n",
              "      fill: #174EA6;\n",
              "    }\n",
              "\n",
              "    [theme=dark] .colab-df-convert {\n",
              "      background-color: #3B4455;\n",
              "      fill: #D2E3FC;\n",
              "    }\n",
              "\n",
              "    [theme=dark] .colab-df-convert:hover {\n",
              "      background-color: #434B5C;\n",
              "      box-shadow: 0px 1px 3px 1px rgba(0, 0, 0, 0.15);\n",
              "      filter: drop-shadow(0px 1px 2px rgba(0, 0, 0, 0.3));\n",
              "      fill: #FFFFFF;\n",
              "    }\n",
              "  </style>\n",
              "\n",
              "      <script>\n",
              "        const buttonEl =\n",
              "          document.querySelector('#df-e37ba5f9-299d-4806-b21d-aa69a232a149 button.colab-df-convert');\n",
              "        buttonEl.style.display =\n",
              "          google.colab.kernel.accessAllowed ? 'block' : 'none';\n",
              "\n",
              "        async function convertToInteractive(key) {\n",
              "          const element = document.querySelector('#df-e37ba5f9-299d-4806-b21d-aa69a232a149');\n",
              "          const dataTable =\n",
              "            await google.colab.kernel.invokeFunction('convertToInteractive',\n",
              "                                                     [key], {});\n",
              "          if (!dataTable) return;\n",
              "\n",
              "          const docLinkHtml = 'Like what you see? Visit the ' +\n",
              "            '<a target=\"_blank\" href=https://colab.research.google.com/notebooks/data_table.ipynb>data table notebook</a>'\n",
              "            + ' to learn more about interactive tables.';\n",
              "          element.innerHTML = '';\n",
              "          dataTable['output_type'] = 'display_data';\n",
              "          await google.colab.output.renderOutput(dataTable, element);\n",
              "          const docLink = document.createElement('div');\n",
              "          docLink.innerHTML = docLinkHtml;\n",
              "          element.appendChild(docLink);\n",
              "        }\n",
              "      </script>\n",
              "    </div>\n",
              "  </div>\n",
              "  "
            ],
            "text/plain": [
              "                playlist      model  ...  fraction_nonzero  num_annotations\n",
              "0         New York Times    gpt2-xl  ...          0.522067             4781\n",
              "1         New York Times       easy  ...          0.715596              218\n",
              "2          Short Stories    gpt2-xl  ...          0.555683             1742\n",
              "3          Short Stories    davinci  ...          0.628205               78\n",
              "4          Short Stories       gpt2  ...          0.537190             3388\n",
              "5                Recipes  finetuned  ...          0.525756             7338\n",
              "6                Recipes    gpt2-xl  ...          0.497923             4814\n",
              "7  Presidential Speeches       ctrl  ...          0.572008             5180\n",
              "\n",
              "[8 rows x 6 columns]"
            ]
          },
          "metadata": {},
          "execution_count": 22
        }
      ]
    },
    {
      "cell_type": "code",
      "metadata": {
        "id": "6zxk4qicD0rY",
        "colab": {
          "base_uri": "https://localhost:8080/",
          "height": 320
        },
        "outputId": "082442ef-11f9-41ac-b7ba-eed0b6d45f59"
      },
      "source": [
        "def analyze_per_decoding_strat():\n",
        "  info_to_return = []\n",
        "  playlist_names = set(playlist_df[\"shortname\"].tolist())\n",
        "  model_names = set(generation_df[\"system\"].tolist())\n",
        "  for playlist in playlist_names:\n",
        "    for model in model_names:\n",
        "      for top_p_value in [0.0, 0.1, 0.2, 0.3, 0.4, 0.5, 0.6, 0.7, 0.8, 0.9, 1.0]:\n",
        "        df = full_df[(full_df[\"dec_strat_value\"]==top_p_value) &\n",
        "                  (full_df[\"dataset\"]==playlist) &\n",
        "                  (full_df[\"model\"]==model)]\n",
        "\n",
        "        if len(df) > 0:\n",
        "          info = {\"p-value\": top_p_value,\n",
        "                  \"playlist\": playlist,\n",
        "                  \"model\": model,\n",
        "                  \"mean_score\": np.mean(df[\"points\"]),\n",
        "                  \"std_dev\": np.std(df[\"points\"]),\n",
        "                  \"median_score\": np.median(df[\"points\"]),\n",
        "                  \"fraction_nonzero\": len(df[df[\"points\"] > 0]) / len(df),\n",
        "                  \"num_annotations\": len(df),\n",
        "          }\n",
        "          info_to_return.append(info)\n",
        "  return pd.DataFrame(info_to_return)\n",
        "\n",
        "per_p_df = analyze_per_decoding_strat()\n",
        "per_p_df"
      ],
      "id": "6zxk4qicD0rY",
      "execution_count": 23,
      "outputs": [
        {
          "output_type": "execute_result",
          "data": {
            "application/vnd.google.colaboratory.module+javascript": "\n      import \"https://ssl.gstatic.com/colaboratory/data_table/a6224c040fa35dcf/data_table.js\";\n\n      window.createDataTable({\n        data: [[{\n            'v': 0,\n            'f': \"0\",\n        },\n{\n            'v': 0.0,\n            'f': \"0.0\",\n        },\n\"New York Times\",\n\"gpt2-xl\",\n{\n            'v': 1.6729141475211609,\n            'f': \"1.6729141475211609\",\n        },\n{\n            'v': 1.953827136655874,\n            'f': \"1.953827136655874\",\n        },\n{\n            'v': 0.0,\n            'f': \"0.0\",\n        },\n{\n            'v': 0.49274486094316805,\n            'f': \"0.49274486094316805\",\n        },\n{\n            'v': 1654,\n            'f': \"1654\",\n        }],\n [{\n            'v': 1,\n            'f': \"1\",\n        },\n{\n            'v': 0.4,\n            'f': \"0.4\",\n        },\n\"New York Times\",\n\"gpt2-xl\",\n{\n            'v': 1.7547540983606558,\n            'f': \"1.7547540983606558\",\n        },\n{\n            'v': 1.9759667536837513,\n            'f': \"1.9759667536837513\",\n        },\n{\n            'v': 1.0,\n            'f': \"1.0\",\n        },\n{\n            'v': 0.5062295081967213,\n            'f': \"0.5062295081967213\",\n        },\n{\n            'v': 1525,\n            'f': \"1525\",\n        }],\n [{\n            'v': 2,\n            'f': \"2\",\n        },\n{\n            'v': 1.0,\n            'f': \"1.0\",\n        },\n\"New York Times\",\n\"gpt2-xl\",\n{\n            'v': 2.096754057428215,\n            'f': \"2.096754057428215\",\n        },\n{\n            'v': 2.0885519837797935,\n            'f': \"2.0885519837797935\",\n        },\n{\n            'v': 2.0,\n            'f': \"2.0\",\n        },\n{\n            'v': 0.5674157303370787,\n            'f': \"0.5674157303370787\",\n        },\n{\n            'v': 1602,\n            'f': \"1602\",\n        }],\n [{\n            'v': 3,\n            'f': \"3\",\n        },\n{\n            'v': 0.0,\n            'f': \"0.0\",\n        },\n\"Short Stories\",\n\"gpt2-xl\",\n{\n            'v': 1.5500878734622143,\n            'f': \"1.5500878734622143\",\n        },\n{\n            'v': 1.8798826271209075,\n            'f': \"1.8798826271209075\",\n        },\n{\n            'v': 0.0,\n            'f': \"0.0\",\n        },\n{\n            'v': 0.4833040421792619,\n            'f': \"0.4833040421792619\",\n        },\n{\n            'v': 569,\n            'f': \"569\",\n        }],\n [{\n            'v': 4,\n            'f': \"4\",\n        },\n{\n            'v': 0.4,\n            'f': \"0.4\",\n        },\n\"Short Stories\",\n\"gpt2-xl\",\n{\n            'v': 1.8733766233766234,\n            'f': \"1.8733766233766234\",\n        },\n{\n            'v': 2.0146071193083284,\n            'f': \"2.0146071193083284\",\n        },\n{\n            'v': 1.0,\n            'f': \"1.0\",\n        },\n{\n            'v': 0.5422077922077922,\n            'f': \"0.5422077922077922\",\n        },\n{\n            'v': 616,\n            'f': \"616\",\n        }],\n [{\n            'v': 5,\n            'f': \"5\",\n        },\n{\n            'v': 1.0,\n            'f': \"1.0\",\n        },\n\"Short Stories\",\n\"gpt2-xl\",\n{\n            'v': 2.3824057450628366,\n            'f': \"2.3824057450628366\",\n        },\n{\n            'v': 2.04067594334523,\n            'f': \"2.04067594334523\",\n        },\n{\n            'v': 3.0,\n            'f': \"3.0\",\n        },\n{\n            'v': 0.644524236983842,\n            'f': \"0.644524236983842\",\n        },\n{\n            'v': 557,\n            'f': \"557\",\n        }],\n [{\n            'v': 6,\n            'f': \"6\",\n        },\n{\n            'v': 0.4,\n            'f': \"0.4\",\n        },\n\"Short Stories\",\n\"davinci\",\n{\n            'v': 1.858974358974359,\n            'f': \"1.858974358974359\",\n        },\n{\n            'v': 1.872365561052204,\n            'f': \"1.872365561052204\",\n        },\n{\n            'v': 1.0,\n            'f': \"1.0\",\n        },\n{\n            'v': 0.6282051282051282,\n            'f': \"0.6282051282051282\",\n        },\n{\n            'v': 78,\n            'f': \"78\",\n        }],\n [{\n            'v': 7,\n            'f': \"7\",\n        },\n{\n            'v': 0.4,\n            'f': \"0.4\",\n        },\n\"Short Stories\",\n\"gpt2\",\n{\n            'v': 2.1711924439197166,\n            'f': \"2.1711924439197166\",\n        },\n{\n            'v': 2.181866096776817,\n            'f': \"2.181866096776817\",\n        },\n{\n            'v': 2.0,\n            'f': \"2.0\",\n        },\n{\n            'v': 0.5371900826446281,\n            'f': \"0.5371900826446281\",\n        },\n{\n            'v': 3388,\n            'f': \"3388\",\n        }],\n [{\n            'v': 8,\n            'f': \"8\",\n        },\n{\n            'v': 0.4,\n            'f': \"0.4\",\n        },\n\"Recipes\",\n\"finetuned\",\n{\n            'v': 1.9741073862087761,\n            'f': \"1.9741073862087761\",\n        },\n{\n            'v': 2.128825910017532,\n            'f': \"2.128825910017532\",\n        },\n{\n            'v': 1.0,\n            'f': \"1.0\",\n        },\n{\n            'v': 0.5257563368765331,\n            'f': \"0.5257563368765331\",\n        },\n{\n            'v': 7338,\n            'f': \"7338\",\n        }],\n [{\n            'v': 9,\n            'f': \"9\",\n        },\n{\n            'v': 0.4,\n            'f': \"0.4\",\n        },\n\"Recipes\",\n\"gpt2-xl\",\n{\n            'v': 2.1699210635646033,\n            'f': \"2.1699210635646033\",\n        },\n{\n            'v': 2.3456509168951274,\n            'f': \"2.3456509168951274\",\n        },\n{\n            'v': 0.0,\n            'f': \"0.0\",\n        },\n{\n            'v': 0.49792272538429583,\n            'f': \"0.49792272538429583\",\n        },\n{\n            'v': 4814,\n            'f': \"4814\",\n        }],\n [{\n            'v': 10,\n            'f': \"10\",\n        },\n{\n            'v': 0.4,\n            'f': \"0.4\",\n        },\n\"Presidential Speeches\",\n\"ctrl\",\n{\n            'v': 2.117953667953668,\n            'f': \"2.117953667953668\",\n        },\n{\n            'v': 2.1006953394174546,\n            'f': \"2.1006953394174546\",\n        },\n{\n            'v': 2.0,\n            'f': \"2.0\",\n        },\n{\n            'v': 0.572007722007722,\n            'f': \"0.572007722007722\",\n        },\n{\n            'v': 5180,\n            'f': \"5180\",\n        }]],\n        columns: [[\"number\", \"index\"], [\"number\", \"p-value\"], [\"string\", \"playlist\"], [\"string\", \"model\"], [\"number\", \"mean_score\"], [\"number\", \"std_dev\"], [\"number\", \"median_score\"], [\"number\", \"fraction_nonzero\"], [\"number\", \"num_annotations\"]],\n        columnOptions: [{\"width\": \"1px\", \"className\": \"index_column\"}],\n        rowsPerPage: 25,\n        helpUrl: \"https://colab.research.google.com/notebooks/data_table.ipynb\",\n        suppressOutputScrolling: true,\n        minimumWidth: undefined,\n      });\n    ",
            "text/html": [
              "\n",
              "  <div id=\"df-ace21428-574d-41dd-af6f-0735b1bd7f82\">\n",
              "    <div class=\"colab-df-container\">\n",
              "      <div>\n",
              "<style scoped>\n",
              "    .dataframe tbody tr th:only-of-type {\n",
              "        vertical-align: middle;\n",
              "    }\n",
              "\n",
              "    .dataframe tbody tr th {\n",
              "        vertical-align: top;\n",
              "    }\n",
              "\n",
              "    .dataframe thead th {\n",
              "        text-align: right;\n",
              "    }\n",
              "</style>\n",
              "<table border=\"1\" class=\"dataframe\">\n",
              "  <thead>\n",
              "    <tr style=\"text-align: right;\">\n",
              "      <th></th>\n",
              "      <th>p-value</th>\n",
              "      <th>playlist</th>\n",
              "      <th>model</th>\n",
              "      <th>mean_score</th>\n",
              "      <th>std_dev</th>\n",
              "      <th>median_score</th>\n",
              "      <th>fraction_nonzero</th>\n",
              "      <th>num_annotations</th>\n",
              "    </tr>\n",
              "  </thead>\n",
              "  <tbody>\n",
              "    <tr>\n",
              "      <th>0</th>\n",
              "      <td>0.0</td>\n",
              "      <td>New York Times</td>\n",
              "      <td>gpt2-xl</td>\n",
              "      <td>1.672914</td>\n",
              "      <td>1.953827</td>\n",
              "      <td>0.0</td>\n",
              "      <td>0.492745</td>\n",
              "      <td>1654</td>\n",
              "    </tr>\n",
              "    <tr>\n",
              "      <th>1</th>\n",
              "      <td>0.4</td>\n",
              "      <td>New York Times</td>\n",
              "      <td>gpt2-xl</td>\n",
              "      <td>1.754754</td>\n",
              "      <td>1.975967</td>\n",
              "      <td>1.0</td>\n",
              "      <td>0.506230</td>\n",
              "      <td>1525</td>\n",
              "    </tr>\n",
              "    <tr>\n",
              "      <th>2</th>\n",
              "      <td>1.0</td>\n",
              "      <td>New York Times</td>\n",
              "      <td>gpt2-xl</td>\n",
              "      <td>2.096754</td>\n",
              "      <td>2.088552</td>\n",
              "      <td>2.0</td>\n",
              "      <td>0.567416</td>\n",
              "      <td>1602</td>\n",
              "    </tr>\n",
              "    <tr>\n",
              "      <th>3</th>\n",
              "      <td>0.0</td>\n",
              "      <td>Short Stories</td>\n",
              "      <td>gpt2-xl</td>\n",
              "      <td>1.550088</td>\n",
              "      <td>1.879883</td>\n",
              "      <td>0.0</td>\n",
              "      <td>0.483304</td>\n",
              "      <td>569</td>\n",
              "    </tr>\n",
              "    <tr>\n",
              "      <th>4</th>\n",
              "      <td>0.4</td>\n",
              "      <td>Short Stories</td>\n",
              "      <td>gpt2-xl</td>\n",
              "      <td>1.873377</td>\n",
              "      <td>2.014607</td>\n",
              "      <td>1.0</td>\n",
              "      <td>0.542208</td>\n",
              "      <td>616</td>\n",
              "    </tr>\n",
              "    <tr>\n",
              "      <th>5</th>\n",
              "      <td>1.0</td>\n",
              "      <td>Short Stories</td>\n",
              "      <td>gpt2-xl</td>\n",
              "      <td>2.382406</td>\n",
              "      <td>2.040676</td>\n",
              "      <td>3.0</td>\n",
              "      <td>0.644524</td>\n",
              "      <td>557</td>\n",
              "    </tr>\n",
              "    <tr>\n",
              "      <th>6</th>\n",
              "      <td>0.4</td>\n",
              "      <td>Short Stories</td>\n",
              "      <td>davinci</td>\n",
              "      <td>1.858974</td>\n",
              "      <td>1.872366</td>\n",
              "      <td>1.0</td>\n",
              "      <td>0.628205</td>\n",
              "      <td>78</td>\n",
              "    </tr>\n",
              "    <tr>\n",
              "      <th>7</th>\n",
              "      <td>0.4</td>\n",
              "      <td>Short Stories</td>\n",
              "      <td>gpt2</td>\n",
              "      <td>2.171192</td>\n",
              "      <td>2.181866</td>\n",
              "      <td>2.0</td>\n",
              "      <td>0.537190</td>\n",
              "      <td>3388</td>\n",
              "    </tr>\n",
              "    <tr>\n",
              "      <th>8</th>\n",
              "      <td>0.4</td>\n",
              "      <td>Recipes</td>\n",
              "      <td>finetuned</td>\n",
              "      <td>1.974107</td>\n",
              "      <td>2.128826</td>\n",
              "      <td>1.0</td>\n",
              "      <td>0.525756</td>\n",
              "      <td>7338</td>\n",
              "    </tr>\n",
              "    <tr>\n",
              "      <th>9</th>\n",
              "      <td>0.4</td>\n",
              "      <td>Recipes</td>\n",
              "      <td>gpt2-xl</td>\n",
              "      <td>2.169921</td>\n",
              "      <td>2.345651</td>\n",
              "      <td>0.0</td>\n",
              "      <td>0.497923</td>\n",
              "      <td>4814</td>\n",
              "    </tr>\n",
              "    <tr>\n",
              "      <th>10</th>\n",
              "      <td>0.4</td>\n",
              "      <td>Presidential Speeches</td>\n",
              "      <td>ctrl</td>\n",
              "      <td>2.117954</td>\n",
              "      <td>2.100695</td>\n",
              "      <td>2.0</td>\n",
              "      <td>0.572008</td>\n",
              "      <td>5180</td>\n",
              "    </tr>\n",
              "  </tbody>\n",
              "</table>\n",
              "</div>\n",
              "      <button class=\"colab-df-convert\" onclick=\"convertToInteractive('df-ace21428-574d-41dd-af6f-0735b1bd7f82')\"\n",
              "              title=\"Convert this dataframe to an interactive table.\"\n",
              "              style=\"display:none;\">\n",
              "        \n",
              "  <svg xmlns=\"http://www.w3.org/2000/svg\" height=\"24px\"viewBox=\"0 0 24 24\"\n",
              "       width=\"24px\">\n",
              "    <path d=\"M0 0h24v24H0V0z\" fill=\"none\"/>\n",
              "    <path d=\"M18.56 5.44l.94 2.06.94-2.06 2.06-.94-2.06-.94-.94-2.06-.94 2.06-2.06.94zm-11 1L8.5 8.5l.94-2.06 2.06-.94-2.06-.94L8.5 2.5l-.94 2.06-2.06.94zm10 10l.94 2.06.94-2.06 2.06-.94-2.06-.94-.94-2.06-.94 2.06-2.06.94z\"/><path d=\"M17.41 7.96l-1.37-1.37c-.4-.4-.92-.59-1.43-.59-.52 0-1.04.2-1.43.59L10.3 9.45l-7.72 7.72c-.78.78-.78 2.05 0 2.83L4 21.41c.39.39.9.59 1.41.59.51 0 1.02-.2 1.41-.59l7.78-7.78 2.81-2.81c.8-.78.8-2.07 0-2.86zM5.41 20L4 18.59l7.72-7.72 1.47 1.35L5.41 20z\"/>\n",
              "  </svg>\n",
              "      </button>\n",
              "      \n",
              "  <style>\n",
              "    .colab-df-container {\n",
              "      display:flex;\n",
              "      flex-wrap:wrap;\n",
              "      gap: 12px;\n",
              "    }\n",
              "\n",
              "    .colab-df-convert {\n",
              "      background-color: #E8F0FE;\n",
              "      border: none;\n",
              "      border-radius: 50%;\n",
              "      cursor: pointer;\n",
              "      display: none;\n",
              "      fill: #1967D2;\n",
              "      height: 32px;\n",
              "      padding: 0 0 0 0;\n",
              "      width: 32px;\n",
              "    }\n",
              "\n",
              "    .colab-df-convert:hover {\n",
              "      background-color: #E2EBFA;\n",
              "      box-shadow: 0px 1px 2px rgba(60, 64, 67, 0.3), 0px 1px 3px 1px rgba(60, 64, 67, 0.15);\n",
              "      fill: #174EA6;\n",
              "    }\n",
              "\n",
              "    [theme=dark] .colab-df-convert {\n",
              "      background-color: #3B4455;\n",
              "      fill: #D2E3FC;\n",
              "    }\n",
              "\n",
              "    [theme=dark] .colab-df-convert:hover {\n",
              "      background-color: #434B5C;\n",
              "      box-shadow: 0px 1px 3px 1px rgba(0, 0, 0, 0.15);\n",
              "      filter: drop-shadow(0px 1px 2px rgba(0, 0, 0, 0.3));\n",
              "      fill: #FFFFFF;\n",
              "    }\n",
              "  </style>\n",
              "\n",
              "      <script>\n",
              "        const buttonEl =\n",
              "          document.querySelector('#df-ace21428-574d-41dd-af6f-0735b1bd7f82 button.colab-df-convert');\n",
              "        buttonEl.style.display =\n",
              "          google.colab.kernel.accessAllowed ? 'block' : 'none';\n",
              "\n",
              "        async function convertToInteractive(key) {\n",
              "          const element = document.querySelector('#df-ace21428-574d-41dd-af6f-0735b1bd7f82');\n",
              "          const dataTable =\n",
              "            await google.colab.kernel.invokeFunction('convertToInteractive',\n",
              "                                                     [key], {});\n",
              "          if (!dataTable) return;\n",
              "\n",
              "          const docLinkHtml = 'Like what you see? Visit the ' +\n",
              "            '<a target=\"_blank\" href=https://colab.research.google.com/notebooks/data_table.ipynb>data table notebook</a>'\n",
              "            + ' to learn more about interactive tables.';\n",
              "          element.innerHTML = '';\n",
              "          dataTable['output_type'] = 'display_data';\n",
              "          await google.colab.output.renderOutput(dataTable, element);\n",
              "          const docLink = document.createElement('div');\n",
              "          docLink.innerHTML = docLinkHtml;\n",
              "          element.appendChild(docLink);\n",
              "        }\n",
              "      </script>\n",
              "    </div>\n",
              "  </div>\n",
              "  "
            ],
            "text/plain": [
              "    p-value               playlist  ... fraction_nonzero  num_annotations\n",
              "0       0.0         New York Times  ...         0.492745             1654\n",
              "1       0.4         New York Times  ...         0.506230             1525\n",
              "2       1.0         New York Times  ...         0.567416             1602\n",
              "3       0.0          Short Stories  ...         0.483304              569\n",
              "4       0.4          Short Stories  ...         0.542208              616\n",
              "5       1.0          Short Stories  ...         0.644524              557\n",
              "6       0.4          Short Stories  ...         0.628205               78\n",
              "7       0.4          Short Stories  ...         0.537190             3388\n",
              "8       0.4                Recipes  ...         0.525756             7338\n",
              "9       0.4                Recipes  ...         0.497923             4814\n",
              "10      0.4  Presidential Speeches  ...         0.572008             5180\n",
              "\n",
              "[11 rows x 8 columns]"
            ]
          },
          "metadata": {},
          "execution_count": 23
        }
      ]
    },
    {
      "cell_type": "markdown",
      "metadata": {
        "id": "_llfXnGu9Map"
      },
      "source": [
        "### Comparison of XL models across p-values for NYT and Reddit\n",
        "\n",
        "**Conclusion**: Sampling from full distribution (p=1.0) has worse quality. Argmax sampling (with repetition penalty) seems to be consistently better for text quality -- this is consistent with Daphne's research."
      ],
      "id": "_llfXnGu9Map"
    },
    {
      "cell_type": "code",
      "metadata": {
        "colab": {
          "base_uri": "https://localhost:8080/",
          "height": 320
        },
        "id": "n7WJe-eL7GND",
        "outputId": "0653a9dd-ff79-4080-e1e7-2ffd2a8155a1"
      },
      "source": [
        "filtered_df = per_p_df[(per_p_df[\"model\"]==\"gpt2-xl\") & \n",
        "                                     (per_p_df[\"playlist\"]==\"Short Stories\") | \n",
        "                                     (per_p_df[\"playlist\"]==\"New York Times\")]\n",
        "\n",
        "p = sns.barplot(x=\"playlist\", y=\"mean_score\", hue=\"p-value\", data=filtered_df)\n",
        "p.set_title(\"Comparison of Generation Performance of GPT2-XL across values of top-p\")\n",
        "p.set_xlabel(\"Dataset\", fontsize = 16)\n",
        "p.set_ylabel(\"Mean Score\", fontsize = 16)"
      ],
      "id": "n7WJe-eL7GND",
      "execution_count": 24,
      "outputs": [
        {
          "output_type": "execute_result",
          "data": {
            "text/plain": [
              "Text(0, 0.5, 'Mean Score')"
            ]
          },
          "metadata": {},
          "execution_count": 24
        },
        {
          "output_type": "display_data",
          "data": {
            "image/png": "[encoded data removed]",
            "text/plain": [
              "<Figure size 432x288 with 1 Axes>"
            ]
          },
          "metadata": {}
        }
      ]
    },
    {
      "cell_type": "markdown",
      "metadata": {
        "id": "NoE8siFkDJcs"
      },
      "source": [
        "### Comparison of GPT2-XL p=0.4 across reddit, nyt, and recipes\n",
        "\n",
        "**Conclusion:** We see that Recipes are the most difficult, then NYT and short stories. This shows that generation systems struggle with structured text and are better at more open-ended generations (?). Also shows that domain knowledge is important. (although NYT being better than reddit is interesting)."
      ],
      "id": "NoE8siFkDJcs"
    },
    {
      "cell_type": "code",
      "metadata": {
        "colab": {
          "base_uri": "https://localhost:8080/",
          "height": 320
        },
        "id": "bzrD_Y8aBkmd",
        "outputId": "b4a8d065-92f8-4812-f03e-da5a8f42fc3f"
      },
      "source": [
        "filtered_df = per_p_df[(per_p_df[\"model\"]==\"gpt2-xl\") & \n",
        "                                     (per_p_df[\"p-value\"]==0.4)]\n",
        "\n",
        "p = sns.barplot(x=\"playlist\", y=\"mean_score\", hue=\"p-value\", data=filtered_df)\n",
        "p.set_title(\"Comparison of Generation Performance of GPT2-XL across Textual Genre\")\n",
        "p.set_xlabel(\"Model\", fontsize = 16)\n",
        "p.set_ylabel(\"Mean Score\", fontsize = 16)"
      ],
      "id": "bzrD_Y8aBkmd",
      "execution_count": 25,
      "outputs": [
        {
          "output_type": "execute_result",
          "data": {
            "text/plain": [
              "Text(0, 0.5, 'Mean Score')"
            ]
          },
          "metadata": {},
          "execution_count": 25
        },
        {
          "output_type": "display_data",
          "data": {
            "image/png": "[encoded data removed]",
            "text/plain": [
              "<Figure size 432x288 with 1 Axes>"
            ]
          },
          "metadata": {}
        }
      ]
    },
    {
      "cell_type": "markdown",
      "metadata": {
        "id": "S7A0oITfEBnW"
      },
      "source": [
        "### Comparison of Model Size across same dataset and p-value\n",
        "\n",
        "**Conclusion**: Bigger Models are better (good sanity check, nice to know this is confirmed) -- don't use GPT3 here because we only have 89 annotations"
      ],
      "id": "S7A0oITfEBnW"
    },
    {
      "cell_type": "code",
      "metadata": {
        "colab": {
          "base_uri": "https://localhost:8080/",
          "height": 320
        },
        "id": "8FOP3s2CB6VY",
        "outputId": "979e31d5-3744-4e53-f4bd-713253398d94"
      },
      "source": [
        "filtered_df = per_p_df[(per_p_df[\"playlist\"]==\"Short Stories\") & \n",
        "                                     (per_p_df[\"p-value\"]==0.4) & \n",
        "                                     (per_p_df[\"model\"]!=\"davinci\")]\n",
        "\n",
        "p = sns.barplot(x=\"model\", y=\"mean_score\", hue=\"p-value\", data=filtered_df)\n",
        "p.set_title(\"Comparison of Generation Performance on Short Stories across different size models\")\n",
        "p.set_xlabel(\"Model\", fontsize = 16)\n",
        "p.set_ylabel(\"Mean Score\", fontsize = 16)"
      ],
      "id": "8FOP3s2CB6VY",
      "execution_count": 26,
      "outputs": [
        {
          "output_type": "execute_result",
          "data": {
            "text/plain": [
              "Text(0, 0.5, 'Mean Score')"
            ]
          },
          "metadata": {},
          "execution_count": 26
        },
        {
          "output_type": "display_data",
          "data": {
            "image/png": "[encoded data removed]",
            "text/plain": [
              "<Figure size 432x288 with 1 Axes>"
            ]
          },
          "metadata": {}
        }
      ]
    },
    {
      "cell_type": "markdown",
      "metadata": {
        "id": "VBG-DlphBIIF"
      },
      "source": [
        "### Comparison of fine-tuning performance"
      ],
      "id": "VBG-DlphBIIF"
    },
    {
      "cell_type": "code",
      "metadata": {
        "colab": {
          "base_uri": "https://localhost:8080/",
          "height": 320
        },
        "id": "Cf0CUZ_zFNqo",
        "outputId": "cc0075d5-f266-4aec-dbe0-0e8d46e13f3a"
      },
      "source": [
        "filtered_df = per_p_df[(per_p_df[\"playlist\"]==\"Recipes\")]\n",
        "\n",
        "p = sns.barplot(x=\"model\", y=\"mean_score\", hue=\"p-value\", data=filtered_df)\n",
        "p.set_title(\"Comparison of Generation Performance of Fine-tuning on Recipes\")\n",
        "p.set_xlabel(\"Model\", fontsize = 16)\n",
        "p.set_ylabel(\"Mean Score\", fontsize = 16)"
      ],
      "id": "Cf0CUZ_zFNqo",
      "execution_count": 27,
      "outputs": [
        {
          "output_type": "execute_result",
          "data": {
            "text/plain": [
              "Text(0, 0.5, 'Mean Score')"
            ]
          },
          "metadata": {},
          "execution_count": 27
        },
        {
          "output_type": "display_data",
          "data": {
            "image/png": "[encoded data removed]",
            "text/plain": [
              "<Figure size 432x288 with 1 Axes>"
            ]
          },
          "metadata": {}
        }
      ]
    },
    {
      "cell_type": "markdown",
      "source": [
        "###Mean Points for users that have no familiarity with generated text vs. users that do"
      ],
      "metadata": {
        "id": "bNNuASJu00Fv"
      },
      "id": "bNNuASJu00Fv"
    },
    {
      "cell_type": "code",
      "metadata": {
        "id": "Pzj3qjTo3f8M",
        "outputId": "b5e0e666-20fb-4720-acda-8be9eb488ea1",
        "colab": {
          "base_uri": "https://localhost:8080/",
          "height": 302
        }
      },
      "source": [
        "df_familiarity=full_df.groupby([\"username\", \"gen_familiarity\"]).points.mean().reset_index()\n",
        "df_familiarity.rename({\"gen_familiarity\": \"Familiarity with NLG\", \"points\": \"Avg points earned\"}, axis=1, inplace=True)\n",
        "sns.violinplot(x=\"Familiarity with NLG\", y=\"Avg points earned\", data=df_familiarity)\n",
        "plt.ylim([-0.6, 5.5])"
      ],
      "id": "Pzj3qjTo3f8M",
      "execution_count": 28,
      "outputs": [
        {
          "output_type": "execute_result",
          "data": {
            "text/plain": [
              "(-0.6, 5.5)"
            ]
          },
          "metadata": {},
          "execution_count": 28
        },
        {
          "output_type": "display_data",
          "data": {
            "image/png": "[encoded data removed]",
            "text/plain": [
              "<Figure size 432x288 with 1 Axes>"
            ]
          },
          "metadata": {}
        }
      ]
    },
    {
      "cell_type": "markdown",
      "source": [
        "### Mean Points for native vs. non-native English speakers"
      ],
      "metadata": {
        "id": "0Lk6aZtc0_yr"
      },
      "id": "0Lk6aZtc0_yr"
    },
    {
      "cell_type": "code",
      "metadata": {
        "id": "PTc1PuL_1QOS",
        "outputId": "583be440-b807-4c52-b754-8808819829d1",
        "colab": {
          "base_uri": "https://localhost:8080/",
          "height": 302
        }
      },
      "source": [
        "df_language=full_df.groupby([\"username\", \"english\"]).points.mean().reset_index()\n",
        "df_language.rename({\"english\": \"Native English speaker\", \"points\": \"Avg points earned\"}, axis=1, inplace=True)\n",
        "sns.violinplot(x=\"Native English speaker\", y=\"Avg points earned\", data=df_language)\n",
        "plt.ylim([-0.6, 5.5])"
      ],
      "id": "PTc1PuL_1QOS",
      "execution_count": 29,
      "outputs": [
        {
          "output_type": "execute_result",
          "data": {
            "text/plain": [
              "(-0.6, 5.5)"
            ]
          },
          "metadata": {},
          "execution_count": 29
        },
        {
          "output_type": "display_data",
          "data": {
            "image/png": "[encoded data removed]",
            "text/plain": [
              "<Figure size 432x288 with 1 Axes>"
            ]
          },
          "metadata": {}
        }
      ]
    },
    {
      "cell_type": "markdown",
      "source": [
        "##Mean points for users with familiarity in a given domain\n",
        "TODO"
      ],
      "metadata": {
        "id": "AidkT8KDDjEw"
      },
      "id": "AidkT8KDDjEw"
    },
    {
      "cell_type": "markdown",
      "metadata": {
        "id": "79b5219e"
      },
      "source": [
        "## Point Distributions"
      ],
      "id": "79b5219e"
    },
    {
      "cell_type": "markdown",
      "metadata": {
        "id": "l3zXEFCpv5wP"
      },
      "source": [
        "### Per playlist"
      ],
      "id": "l3zXEFCpv5wP"
    },
    {
      "cell_type": "code",
      "metadata": {
        "id": "MCUnvHi3xdSp"
      },
      "source": [
        "import collections"
      ],
      "id": "MCUnvHi3xdSp",
      "execution_count": 30,
      "outputs": []
    },
    {
      "cell_type": "code",
      "metadata": {
        "id": "aJqTCGicv8kC"
      },
      "source": [
        "df = full_df[full_df[\"model\"].isin(('ctrl', 'finetuned', 'gpt2-xl'))]\n",
        "df = df[df[\"dec_strat_value\"] == 0.4]\n",
        "\n",
        "playlists = set(df[\"dataset\"].tolist())\n",
        "to_plot = []\n",
        "for playlist in playlists:\n",
        "  points = df[df[\"dataset\"]==playlist].points.tolist()\n",
        "  points = collections.Counter(points)\n",
        "\n",
        "  heights = np.array(list(points.values())) / sum(points.values())\n",
        "  for point_value, height in zip(points, heights):\n",
        "    to_plot.append({\"Points earned\": point_value,\n",
        "                    \"Fraction of annotations\":height,\n",
        "                    \"Domain\": map_playlist_name(playlist)})"
      ],
      "id": "aJqTCGicv8kC",
      "execution_count": 31,
      "outputs": []
    },
    {
      "cell_type": "code",
      "metadata": {
        "id": "cxXH7BY7II6U",
        "colab": {
          "base_uri": "https://localhost:8080/",
          "height": 293
        },
        "outputId": "fc2c473a-c29e-4f2b-f52c-47d5c31454ae"
      },
      "source": [
        "to_plot = pd.DataFrame(to_plot)\n",
        "sns.barplot(x=\"Points earned\", y=\"Fraction of annotations\", hue=\"Domain\", data=to_plot)\n",
        "save(\"point_distribution.pdf\")"
      ],
      "id": "cxXH7BY7II6U",
      "execution_count": 32,
      "outputs": [
        {
          "output_type": "display_data",
          "data": {
            "image/png": "[encoded data removed]",
            "text/plain": [
              "<Figure size 432x288 with 1 Axes>"
            ]
          },
          "metadata": {}
        }
      ]
    },
    {
      "cell_type": "markdown",
      "metadata": {
        "id": "BCARyPKdv4EX"
      },
      "source": [
        "### Per annotator"
      ],
      "id": "BCARyPKdv4EX"
    },
    {
      "cell_type": "code",
      "metadata": {
        "id": "hbbC4OLjwTyU",
        "colab": {
          "base_uri": "https://localhost:8080/",
          "height": 301
        },
        "outputId": "ae0f3ade-aa40-499a-8e4b-ed3ae3ca3f49"
      },
      "source": [
        "full_df.groupby('annotator').points.mean().plot.hist(\n",
        "    title='Achieved Points Distribution'\n",
        ")"
      ],
      "id": "hbbC4OLjwTyU",
      "execution_count": 33,
      "outputs": [
        {
          "output_type": "execute_result",
          "data": {
            "text/plain": [
              "<matplotlib.axes._subplots.AxesSubplot at 0x7f8789375590>"
            ]
          },
          "metadata": {},
          "execution_count": 33
        },
        {
          "output_type": "display_data",
          "data": {
            "image/png": "[encoded data removed]",
            "text/plain": [
              "<Figure size 432x288 with 1 Axes>"
            ]
          },
          "metadata": {}
        }
      ]
    },
    {
      "cell_type": "markdown",
      "metadata": {
        "id": "xGQRPDNo5Ti3"
      },
      "source": [
        "## Annotator performance over time"
      ],
      "id": "xGQRPDNo5Ti3"
    },
    {
      "cell_type": "markdown",
      "metadata": {
        "id": "lY9BcgVA9whO"
      },
      "source": [
        "Of the annotators who did at least K annotations, plot their mean score over time"
      ],
      "id": "lY9BcgVA9whO"
    },
    {
      "cell_type": "code",
      "metadata": {
        "id": "NWGqEWtyMAZR"
      },
      "source": [
        "def analyze_progress(df, k=50):\n",
        "  \"\"\"Analyze whether annotators improve in aggregate over k annotations.\"\"\"\n",
        "  all_score_series = []\n",
        "  annotators = df[df[\"pk\"] > k].reset_index()[\"annotator\"].tolist()\n",
        "  for annotator in annotators:\n",
        "    annotations = annotation_df[annotation_df[\"annotator\"] == annotator]\n",
        "    score_series = annotations.sort_values(\"date\")[\"points\"][:k].tolist()\n",
        "    all_score_series.append(score_series)\n",
        "\n",
        "  return np.array(all_score_series), len(annotators)"
      ],
      "id": "NWGqEWtyMAZR",
      "execution_count": 34,
      "outputs": []
    },
    {
      "cell_type": "code",
      "metadata": {
        "id": "bBmiI8D3SDdK"
      },
      "source": [
        "def analyze_and_plot(s, n, k):\n",
        "  print(n)\n",
        "  data = np.array(s)\n",
        "  data = np.mean(data, axis=0)\n",
        "  print(\"spearmanr: %.2f, %f\" % stats.spearmanr(range(k), data))\n",
        "  print(\"pearsonr: %.2f, %f\" % stats.pearsonr(range(k), data))\n",
        "  plt.plot(range(1, k+1), data)\n",
        "  plt.ylabel(\"Mean score\")\n",
        "  plt.xlabel(\"$n$th annotation\")\n",
        "  plt.title(\"Performance over time\")\n",
        "  plt.show()"
      ],
      "id": "bBmiI8D3SDdK",
      "execution_count": 35,
      "outputs": []
    },
    {
      "cell_type": "markdown",
      "metadata": {
        "id": "8ATbTKV7MDsC"
      },
      "source": [
        "### Analysis of annotators getting better over time (1st Batch)\n",
        "\n",
        "**Conclusion**: We see no correlation on the first batch of annotators. They do not improve over time"
      ],
      "id": "8ATbTKV7MDsC"
    },
    {
      "cell_type": "code",
      "metadata": {
        "id": "kT_Nu6QTGFz2",
        "colab": {
          "base_uri": "https://localhost:8080/",
          "height": 353
        },
        "outputId": "744acac5-28b5-47ca-dbc1-ab6c9145cca6"
      },
      "source": [
        "k = 50\n",
        "s, n = analyze_progress(full_df[(full_df['date'] < '2021-10-1')].groupby('annotator').count(), k)\n",
        "analyze_and_plot(s, n, k)"
      ],
      "id": "kT_Nu6QTGFz2",
      "execution_count": 36,
      "outputs": [
        {
          "output_type": "stream",
          "name": "stdout",
          "text": [
            "23\n",
            "spearmanr: -0.16, 0.276470\n",
            "pearsonr: -0.11, 0.462299\n"
          ]
        },
        {
          "output_type": "display_data",
          "data": {
            "image/png": "[encoded data removed]",
            "text/plain": [
              "<Figure size 432x288 with 1 Axes>"
            ]
          },
          "metadata": {}
        }
      ]
    },
    {
      "cell_type": "code",
      "metadata": {
        "id": "7DBKTa3Oc38Z",
        "colab": {
          "base_uri": "https://localhost:8080/",
          "height": 353
        },
        "outputId": "d90ec481-ae02-4905-fc6d-e898e73ea8cc"
      },
      "source": [
        "k = 100\n",
        "s, n = analyze_progress(full_df[(full_df['date'] < '2021-10-1')].groupby('annotator').count(), k)\n",
        "analyze_and_plot(s, n, k)"
      ],
      "id": "7DBKTa3Oc38Z",
      "execution_count": 37,
      "outputs": [
        {
          "output_type": "stream",
          "name": "stdout",
          "text": [
            "13\n",
            "spearmanr: -0.04, 0.685869\n",
            "pearsonr: -0.02, 0.862583\n"
          ]
        },
        {
          "output_type": "display_data",
          "data": {
            "image/png": "[encoded data removed]",
            "text/plain": [
              "<Figure size 432x288 with 1 Axes>"
            ]
          },
          "metadata": {}
        }
      ]
    },
    {
      "cell_type": "code",
      "metadata": {
        "id": "yYkXU342c6mc",
        "colab": {
          "base_uri": "https://localhost:8080/",
          "height": 353
        },
        "outputId": "07285667-ae61-4443-fe50-f9d487a1d506"
      },
      "source": [
        "k = 200\n",
        "s, n = analyze_progress(full_df[(full_df['date'] < '2021-10-1')].groupby('annotator').count(), k)\n",
        "analyze_and_plot(s, n, k)"
      ],
      "id": "yYkXU342c6mc",
      "execution_count": 38,
      "outputs": [
        {
          "output_type": "stream",
          "name": "stdout",
          "text": [
            "4\n",
            "spearmanr: -0.03, 0.710323\n",
            "pearsonr: 0.00, 0.950708\n"
          ]
        },
        {
          "output_type": "display_data",
          "data": {
            "image/png": "[encoded data removed]",
            "text/plain": [
              "<Figure size 432x288 with 1 Axes>"
            ]
          },
          "metadata": {}
        }
      ]
    },
    {
      "cell_type": "markdown",
      "metadata": {
        "id": "wqLhjVC7MOpK"
      },
      "source": [
        "### Analysis of annotators getting better over time (2nd Batch)\n",
        "\n",
        "**Conclusion**: We actually see a positive correlation (over 0.3) for k=50, 100, and 200 on the second batch of annotators. They DO actually improve over time. This suggests that, with the correct instructions, annotators may be able to be taught how to improve at detecting generated text."
      ],
      "id": "wqLhjVC7MOpK"
    },
    {
      "cell_type": "code",
      "metadata": {
        "id": "XrdBfsZlLYbT",
        "colab": {
          "base_uri": "https://localhost:8080/",
          "height": 353
        },
        "outputId": "73c05084-66db-4010-ec7d-80149adf2882"
      },
      "source": [
        "k = 50\n",
        "s, n = analyze_progress(full_df[(full_df['date'] > '2021-10-1')].groupby('annotator').count(), k)\n",
        "analyze_and_plot(s, n, k)"
      ],
      "id": "XrdBfsZlLYbT",
      "execution_count": 39,
      "outputs": [
        {
          "output_type": "stream",
          "name": "stdout",
          "text": [
            "92\n",
            "spearmanr: 0.40, 0.004396\n",
            "pearsonr: 0.36, 0.011222\n"
          ]
        },
        {
          "output_type": "display_data",
          "data": {
            "image/png": "[encoded data removed]",
            "text/plain": [
              "<Figure size 432x288 with 1 Axes>"
            ]
          },
          "metadata": {}
        }
      ]
    },
    {
      "cell_type": "code",
      "metadata": {
        "id": "R819xdOTdlIN",
        "colab": {
          "base_uri": "https://localhost:8080/",
          "height": 353
        },
        "outputId": "0fd5f056-0673-4a02-9d9d-fee4d0f9243e"
      },
      "source": [
        "k = 100\n",
        "s, n = analyze_progress(full_df[(full_df['date'] > '2021-10-1')].groupby('annotator').count(), k)\n",
        "analyze_and_plot(s, n, k)"
      ],
      "id": "R819xdOTdlIN",
      "execution_count": 40,
      "outputs": [
        {
          "output_type": "stream",
          "name": "stdout",
          "text": [
            "87\n",
            "spearmanr: 0.59, 0.000000\n",
            "pearsonr: 0.59, 0.000000\n"
          ]
        },
        {
          "output_type": "display_data",
          "data": {
            "image/png": "[encoded data removed]",
            "text/plain": [
              "<Figure size 432x288 with 1 Axes>"
            ]
          },
          "metadata": {}
        }
      ]
    },
    {
      "cell_type": "code",
      "metadata": {
        "id": "a2upo61dRb_S",
        "colab": {
          "base_uri": "https://localhost:8080/",
          "height": 353
        },
        "outputId": "5e1d1836-1587-4084-8e1c-328f8c38f7a7"
      },
      "source": [
        "k = 200\n",
        "s, n = analyze_progress(full_df[(full_df['date'] > '2021-10-1')].groupby('annotator').count(), k)\n",
        "analyze_and_plot(s, n, k)"
      ],
      "id": "a2upo61dRb_S",
      "execution_count": 41,
      "outputs": [
        {
          "output_type": "stream",
          "name": "stdout",
          "text": [
            "55\n",
            "spearmanr: 0.35, 0.000000\n",
            "pearsonr: 0.34, 0.000001\n"
          ]
        },
        {
          "output_type": "display_data",
          "data": {
            "image/png": "[encoded data removed]",
            "text/plain": [
              "<Figure size 432x288 with 1 Axes>"
            ]
          },
          "metadata": {}
        }
      ]
    },
    {
      "cell_type": "markdown",
      "metadata": {
        "id": "uMpu_b_pJNw_"
      },
      "source": [
        "## Inter-annotator agreement"
      ],
      "id": "uMpu_b_pJNw_"
    },
    {
      "cell_type": "markdown",
      "metadata": {
        "id": "kToKHxFlF1Vq"
      },
      "source": [
        "### Difference in abilities"
      ],
      "id": "kToKHxFlF1Vq"
    },
    {
      "cell_type": "code",
      "metadata": {
        "id": "ejda6M47JXHi"
      },
      "source": [
        "def analyze_ability_differences(df, k=50):\n",
        "  \"\"\"Analyze whether annotators improve in aggregate over k annotations.\"\"\"\n",
        "  df = df.groupby('annotator').count()\n",
        "  all_score_series = []\n",
        "  annotators = df[df[\"pk\"] >= k].reset_index()[\"annotator\"].tolist()\n",
        "  for annotator in annotators:\n",
        "    annotations = annotation_df[annotation_df[\"annotator\"] == annotator]\n",
        "    score_series = annotations.sort_values(\"date\")[\"points\"][:k].tolist()\n",
        "    all_score_series.append(score_series)\n",
        "    \n",
        "  return all_score_series"
      ],
      "id": "ejda6M47JXHi",
      "execution_count": 42,
      "outputs": []
    },
    {
      "cell_type": "code",
      "metadata": {
        "id": "jiZcBDxKJsSz"
      },
      "source": [
        "scores = analyze_ability_differences(full_df, 50)\n",
        "sum_scores = [sum(s) for s in scores]"
      ],
      "id": "jiZcBDxKJsSz",
      "execution_count": 43,
      "outputs": []
    },
    {
      "cell_type": "code",
      "metadata": {
        "id": "lvpk4QglON72",
        "outputId": "8e9a1f44-1a2f-4265-8fdc-d5577cb5c8b6",
        "colab": {
          "base_uri": "https://localhost:8080/"
        }
      },
      "source": [
        "print(\"Mean score:\", np.mean(sum_scores))\n",
        "print(\"Std score:\", np.std(sum_scores))"
      ],
      "id": "lvpk4QglON72",
      "execution_count": 44,
      "outputs": [
        {
          "output_type": "stream",
          "name": "stdout",
          "text": [
            "Mean score: 97.8103448275862\n",
            "Std score: 27.55274371252327\n"
          ]
        }
      ]
    },
    {
      "cell_type": "code",
      "metadata": {
        "id": "yNdsV_QCF7Mf"
      },
      "source": [
        "df = full_df.groupby('annotator').count()\n",
        "annotators = df[df[\"pk\"] >= 50].reset_index()[\"annotator\"].tolist()\n",
        "\n",
        "df = full_df[full_df[\"annotator\"].isin(annotators)]\n",
        "df = df.groupby('annotator').sum()\n",
        "# df = annotation_df.groupby('generation').boundary.apply(list).reset_index()\n",
        "# df = df[df.apply(lambda row: len(row[\"boundary\"]) >= 4, axis=1)]"
      ],
      "id": "yNdsV_QCF7Mf",
      "execution_count": 45,
      "outputs": []
    },
    {
      "cell_type": "markdown",
      "metadata": {
        "id": "aQ7ezEMiT-HE"
      },
      "source": [
        "### Fraction agreement\n",
        "For every pair of annotators who annotated the same generaton, what fraction guessed the same boundary?"
      ],
      "id": "aQ7ezEMiT-HE"
    },
    {
      "cell_type": "code",
      "metadata": {
        "id": "H6iwr8WqFrf5"
      },
      "source": [
        "annotations_per_gen = annotation_df.groupby('generation')\n",
        "num_annotations_per_gen = annotations_per_gen.points.count()"
      ],
      "id": "H6iwr8WqFrf5",
      "execution_count": 46,
      "outputs": []
    },
    {
      "cell_type": "code",
      "metadata": {
        "id": "fIhRQOfqUaCP",
        "colab": {
          "base_uri": "https://localhost:8080/"
        },
        "outputId": "0c0bcd7c-88ab-4ff2-c3f7-92caedda19fb"
      },
      "source": [
        "def analyze_fraction_agreements():\n",
        "  generation_ids = set(full_df[\"generation\"].tolist())\n",
        "  annotations_per_gen = full_df.groupby('generation')\n",
        "\n",
        "  overall_num_annotations = 0\n",
        "  overall_num_agreements = 0\n",
        "\n",
        "  x = annotations_per_gen.predicted_boundary_index.value_counts()\n",
        "  for idx, generation in enumerate(generation_ids):\n",
        "    chosen_boundaries = x[generation]\n",
        "    chosen_boundaries = {k: chosen_boundaries[k] for k in chosen_boundaries.keys()}\n",
        "    \n",
        "    total_annotations = sum(chosen_boundaries.values())\n",
        "    if total_annotations > 1:\n",
        "      total_agreements = sum(v for v in chosen_boundaries.values() if v > 1)\n",
        "\n",
        "      overall_num_annotations += total_annotations\n",
        "      overall_num_agreements += total_agreements\n",
        "\n",
        "  print(\"Out of {} total annotations on generations with >1 annotation, {} were in agreement with another annotation on the true boundary position. That is {}\".format(\n",
        "      overall_num_annotations, overall_num_agreements, overall_num_agreements/overall_num_annotations\n",
        "  ))\n",
        "analyze_fraction_agreements()\n",
        "\n",
        "# TODO: Figure out what the baseline of random guessing would be,"
      ],
      "id": "fIhRQOfqUaCP",
      "execution_count": 69,
      "outputs": [
        {
          "output_type": "stream",
          "name": "stdout",
          "text": [
            "Out of 26962 total annotations on generations with >1 annotation, 13098 were in agreement with another annotation on the true boundary position. That is 0.48579482234255617\n"
          ]
        }
      ]
    },
    {
      "cell_type": "markdown",
      "metadata": {
        "id": "ogAmIe_z4zHc"
      },
      "source": [
        "### Krippendorf's Alpha"
      ],
      "id": "ogAmIe_z4zHc"
    },
    {
      "cell_type": "code",
      "metadata": {
        "id": "6reEJfX_Ivmt"
      },
      "source": [
        "import nltk.metrics"
      ],
      "id": "6reEJfX_Ivmt",
      "execution_count": 49,
      "outputs": []
    },
    {
      "cell_type": "code",
      "metadata": {
        "id": "UAMK8TkeQN1b"
      },
      "source": [
        "from nltk.metrics.agreement import AnnotationTask"
      ],
      "id": "UAMK8TkeQN1b",
      "execution_count": 50,
      "outputs": []
    },
    {
      "cell_type": "code",
      "metadata": {
        "id": "sLpnuNDYDZmt"
      },
      "source": [
        "df = full_df.groupby('generation').predicted_boundary_index.apply(list).reset_index()\n",
        "df = df[df.apply(lambda row: len(row[\"predicted_boundary_index\"]) >= 4, axis=1)]"
      ],
      "id": "sLpnuNDYDZmt",
      "execution_count": 51,
      "outputs": []
    },
    {
      "cell_type": "code",
      "metadata": {
        "id": "bcxKrvpkJENd"
      },
      "source": [
        "annotation_data = []\n",
        "for idx, row in full_df.iterrows():\n",
        "  coder = row[\"annotator\"]\n",
        "  item = row[\"generation\"]\n",
        "  label = row[\"predicted_boundary_index\"]\n",
        "  annotation_data.append((coder,item,label))"
      ],
      "id": "bcxKrvpkJENd",
      "execution_count": 52,
      "outputs": []
    },
    {
      "cell_type": "code",
      "metadata": {
        "id": "o3ciZrN9DTB5"
      },
      "source": [
        "ann_task = AnnotationTask(annotation_data)"
      ],
      "id": "o3ciZrN9DTB5",
      "execution_count": 53,
      "outputs": []
    },
    {
      "cell_type": "code",
      "metadata": {
        "id": "LJUCcXcrMJnU",
        "outputId": "7c4bf9cc-e333-41b4-cdc5-68075c69f034",
        "colab": {
          "base_uri": "https://localhost:8080/"
        }
      },
      "source": [
        "print(ann_task.alpha())"
      ],
      "id": "LJUCcXcrMJnU",
      "execution_count": 54,
      "outputs": [
        {
          "output_type": "stream",
          "name": "stdout",
          "text": [
            "-0.3898732837295591\n"
          ]
        }
      ]
    },
    {
      "cell_type": "markdown",
      "metadata": {
        "id": "1ca229b7"
      },
      "source": [
        "## Profile Statistics"
      ],
      "id": "1ca229b7"
    },
    {
      "cell_type": "code",
      "metadata": {
        "id": "1uSUrycSgjja"
      },
      "source": [
        "def user_stats(df, name):\n",
        "  data = {\"name\": name}\n",
        "  data[\"num_participants\"] = len(np.unique(df[\"annotator\"]).tolist())\n",
        "  data[\"num_annotations\"] = len(df)\n",
        "  data[\"mean_annotations_per_participant\"] = data[\"num_annotations\"] / data[\"num_participants\"] \n",
        "  data[\"mean_points\"] = np.mean(df[\"points\"])\n",
        "  data[\"std_points\"] = np.std(df[\"points\"])\n",
        "  return data"
      ],
      "id": "1uSUrycSgjja",
      "execution_count": 55,
      "outputs": []
    },
    {
      "cell_type": "code",
      "metadata": {
        "id": "0UV8DTppgVZ6"
      },
      "source": [
        "all_data = []\n",
        "all_data.append(user_stats(full_df, \"overall\"))\n",
        "all_data.append(user_stats(full_df[(full_df['date'] <= '2021-10-1')], \"Section A\"))\n",
        "all_data.append(user_stats(full_df[(full_df['date'] > '2021-10-1')], \"Section B\"))"
      ],
      "id": "0UV8DTppgVZ6",
      "execution_count": 56,
      "outputs": []
    },
    {
      "cell_type": "code",
      "metadata": {
        "id": "1w-g_GuDgTzr",
        "colab": {
          "base_uri": "https://localhost:8080/",
          "height": 152
        },
        "outputId": "b3ffa2d4-77d8-4f19-ef30-6584ee1d2ab3"
      },
      "source": [
        "pd.DataFrame(all_data)"
      ],
      "id": "1w-g_GuDgTzr",
      "execution_count": 57,
      "outputs": [
        {
          "output_type": "execute_result",
          "data": {
            "application/vnd.google.colaboratory.module+javascript": "\n      import \"https://ssl.gstatic.com/colaboratory/data_table/a6224c040fa35dcf/data_table.js\";\n\n      window.createDataTable({\n        data: [[{\n            'v': 0,\n            'f': \"0\",\n        },\n\"overall\",\n{\n            'v': 241,\n            'f': \"241\",\n        },\n{\n            'v': 27539,\n            'f': \"27539\",\n        },\n{\n            'v': 114.26970954356847,\n            'f': \"114.26970954356847\",\n        },\n{\n            'v': 2.0398344166454847,\n            'f': \"2.0398344166454847\",\n        },\n{\n            'v': 2.147399780183644,\n            'f': \"2.147399780183644\",\n        }],\n [{\n            'v': 1,\n            'f': \"1\",\n        },\n\"Section A\",\n{\n            'v': 141,\n            'f': \"141\",\n        },\n{\n            'v': 7264,\n            'f': \"7264\",\n        },\n{\n            'v': 51.5177304964539,\n            'f': \"51.5177304964539\",\n        },\n{\n            'v': 1.94727422907489,\n            'f': \"1.94727422907489\",\n        },\n{\n            'v': 2.1475964317369822,\n            'f': \"2.1475964317369822\",\n        }],\n [{\n            'v': 2,\n            'f': \"2\",\n        },\n\"Section B\",\n{\n            'v': 102,\n            'f': \"102\",\n        },\n{\n            'v': 20275,\n            'f': \"20275\",\n        },\n{\n            'v': 198.77450980392157,\n            'f': \"198.77450980392157\",\n        },\n{\n            'v': 2.072996300863132,\n            'f': \"2.072996300863132\",\n        },\n{\n            'v': 2.146358318364767,\n            'f': \"2.146358318364767\",\n        }]],\n        columns: [[\"number\", \"index\"], [\"string\", \"name\"], [\"number\", \"num_participants\"], [\"number\", \"num_annotations\"], [\"number\", \"mean_annotations_per_participant\"], [\"number\", \"mean_points\"], [\"number\", \"std_points\"]],\n        columnOptions: [{\"width\": \"1px\", \"className\": \"index_column\"}],\n        rowsPerPage: 25,\n        helpUrl: \"https://colab.research.google.com/notebooks/data_table.ipynb\",\n        suppressOutputScrolling: true,\n        minimumWidth: undefined,\n      });\n    ",
            "text/html": [
              "\n",
              "  <div id=\"df-d8dd51bd-61b8-4ffd-87e3-d2c97d7109dc\">\n",
              "    <div class=\"colab-df-container\">\n",
              "      <div>\n",
              "<style scoped>\n",
              "    .dataframe tbody tr th:only-of-type {\n",
              "        vertical-align: middle;\n",
              "    }\n",
              "\n",
              "    .dataframe tbody tr th {\n",
              "        vertical-align: top;\n",
              "    }\n",
              "\n",
              "    .dataframe thead th {\n",
              "        text-align: right;\n",
              "    }\n",
              "</style>\n",
              "<table border=\"1\" class=\"dataframe\">\n",
              "  <thead>\n",
              "    <tr style=\"text-align: right;\">\n",
              "      <th></th>\n",
              "      <th>name</th>\n",
              "      <th>num_participants</th>\n",
              "      <th>num_annotations</th>\n",
              "      <th>mean_annotations_per_participant</th>\n",
              "      <th>mean_points</th>\n",
              "      <th>std_points</th>\n",
              "    </tr>\n",
              "  </thead>\n",
              "  <tbody>\n",
              "    <tr>\n",
              "      <th>0</th>\n",
              "      <td>overall</td>\n",
              "      <td>241</td>\n",
              "      <td>27539</td>\n",
              "      <td>114.26971</td>\n",
              "      <td>2.039834</td>\n",
              "      <td>2.147400</td>\n",
              "    </tr>\n",
              "    <tr>\n",
              "      <th>1</th>\n",
              "      <td>Section A</td>\n",
              "      <td>141</td>\n",
              "      <td>7264</td>\n",
              "      <td>51.51773</td>\n",
              "      <td>1.947274</td>\n",
              "      <td>2.147596</td>\n",
              "    </tr>\n",
              "    <tr>\n",
              "      <th>2</th>\n",
              "      <td>Section B</td>\n",
              "      <td>102</td>\n",
              "      <td>20275</td>\n",
              "      <td>198.77451</td>\n",
              "      <td>2.072996</td>\n",
              "      <td>2.146358</td>\n",
              "    </tr>\n",
              "  </tbody>\n",
              "</table>\n",
              "</div>\n",
              "      <button class=\"colab-df-convert\" onclick=\"convertToInteractive('df-d8dd51bd-61b8-4ffd-87e3-d2c97d7109dc')\"\n",
              "              title=\"Convert this dataframe to an interactive table.\"\n",
              "              style=\"display:none;\">\n",
              "        \n",
              "  <svg xmlns=\"http://www.w3.org/2000/svg\" height=\"24px\"viewBox=\"0 0 24 24\"\n",
              "       width=\"24px\">\n",
              "    <path d=\"M0 0h24v24H0V0z\" fill=\"none\"/>\n",
              "    <path d=\"M18.56 5.44l.94 2.06.94-2.06 2.06-.94-2.06-.94-.94-2.06-.94 2.06-2.06.94zm-11 1L8.5 8.5l.94-2.06 2.06-.94-2.06-.94L8.5 2.5l-.94 2.06-2.06.94zm10 10l.94 2.06.94-2.06 2.06-.94-2.06-.94-.94-2.06-.94 2.06-2.06.94z\"/><path d=\"M17.41 7.96l-1.37-1.37c-.4-.4-.92-.59-1.43-.59-.52 0-1.04.2-1.43.59L10.3 9.45l-7.72 7.72c-.78.78-.78 2.05 0 2.83L4 21.41c.39.39.9.59 1.41.59.51 0 1.02-.2 1.41-.59l7.78-7.78 2.81-2.81c.8-.78.8-2.07 0-2.86zM5.41 20L4 18.59l7.72-7.72 1.47 1.35L5.41 20z\"/>\n",
              "  </svg>\n",
              "      </button>\n",
              "      \n",
              "  <style>\n",
              "    .colab-df-container {\n",
              "      display:flex;\n",
              "      flex-wrap:wrap;\n",
              "      gap: 12px;\n",
              "    }\n",
              "\n",
              "    .colab-df-convert {\n",
              "      background-color: #E8F0FE;\n",
              "      border: none;\n",
              "      border-radius: 50%;\n",
              "      cursor: pointer;\n",
              "      display: none;\n",
              "      fill: #1967D2;\n",
              "      height: 32px;\n",
              "      padding: 0 0 0 0;\n",
              "      width: 32px;\n",
              "    }\n",
              "\n",
              "    .colab-df-convert:hover {\n",
              "      background-color: #E2EBFA;\n",
              "      box-shadow: 0px 1px 2px rgba(60, 64, 67, 0.3), 0px 1px 3px 1px rgba(60, 64, 67, 0.15);\n",
              "      fill: #174EA6;\n",
              "    }\n",
              "\n",
              "    [theme=dark] .colab-df-convert {\n",
              "      background-color: #3B4455;\n",
              "      fill: #D2E3FC;\n",
              "    }\n",
              "\n",
              "    [theme=dark] .colab-df-convert:hover {\n",
              "      background-color: #434B5C;\n",
              "      box-shadow: 0px 1px 3px 1px rgba(0, 0, 0, 0.15);\n",
              "      filter: drop-shadow(0px 1px 2px rgba(0, 0, 0, 0.3));\n",
              "      fill: #FFFFFF;\n",
              "    }\n",
              "  </style>\n",
              "\n",
              "      <script>\n",
              "        const buttonEl =\n",
              "          document.querySelector('#df-d8dd51bd-61b8-4ffd-87e3-d2c97d7109dc button.colab-df-convert');\n",
              "        buttonEl.style.display =\n",
              "          google.colab.kernel.accessAllowed ? 'block' : 'none';\n",
              "\n",
              "        async function convertToInteractive(key) {\n",
              "          const element = document.querySelector('#df-d8dd51bd-61b8-4ffd-87e3-d2c97d7109dc');\n",
              "          const dataTable =\n",
              "            await google.colab.kernel.invokeFunction('convertToInteractive',\n",
              "                                                     [key], {});\n",
              "          if (!dataTable) return;\n",
              "\n",
              "          const docLinkHtml = 'Like what you see? Visit the ' +\n",
              "            '<a target=\"_blank\" href=https://colab.research.google.com/notebooks/data_table.ipynb>data table notebook</a>'\n",
              "            + ' to learn more about interactive tables.';\n",
              "          element.innerHTML = '';\n",
              "          dataTable['output_type'] = 'display_data';\n",
              "          await google.colab.output.renderOutput(dataTable, element);\n",
              "          const docLink = document.createElement('div');\n",
              "          docLink.innerHTML = docLinkHtml;\n",
              "          element.appendChild(docLink);\n",
              "        }\n",
              "      </script>\n",
              "    </div>\n",
              "  </div>\n",
              "  "
            ],
            "text/plain": [
              "        name  num_participants  ...  mean_points  std_points\n",
              "0    overall               241  ...     2.039834    2.147400\n",
              "1  Section A               141  ...     1.947274    2.147596\n",
              "2  Section B               102  ...     2.072996    2.146358\n",
              "\n",
              "[3 rows x 6 columns]"
            ]
          },
          "metadata": {},
          "execution_count": 57
        }
      ]
    },
    {
      "cell_type": "markdown",
      "metadata": {
        "id": "ETP9bhrobCtj"
      },
      "source": [
        "# Time Tracking Analysis\n",
        "TODO: double check that timestamps are properly merged with the correct annotations. Also find a better way to calculate time delta than shift down by 1 and filter."
      ],
      "id": "ETP9bhrobCtj"
    },
    {
      "cell_type": "code",
      "metadata": {
        "id": "whUcFSBMbEPU"
      },
      "source": [
        "timing_df = get_df('core.timestamp')\n",
        "timing_df = timing_df.rename(columns={'date': 'timestamp'}).merge(full_df, left_on='annotation', right_on='pk')"
      ],
      "execution_count": 58,
      "outputs": [],
      "id": "whUcFSBMbEPU"
    },
    {
      "cell_type": "code",
      "source": [
        "timing_df['timestamp'] = pd.to_datetime(timing_df.timestamp)\n",
        "timing_df['delta'] = timing_df.timestamp - timing_df.timestamp.shift(1)\n",
        "timing_df['delta'] = timing_df.delta.dt.components.milliseconds / 1000.0 + timing_df.delta.dt.components.seconds + timing_df.delta.dt.components.minutes * 60.0\n",
        "timing_df = timing_df[timing_df.delta < 120] # TODO: Do this more properly instead of shift and filter"
      ],
      "metadata": {
        "id": "xp-L0SEdOS8V"
      },
      "execution_count": 59,
      "outputs": [],
      "id": "xp-L0SEdOS8V"
    },
    {
      "cell_type": "markdown",
      "metadata": {
        "id": "cqyOhLMNjROC"
      },
      "source": [
        "## Median Time Delta"
      ],
      "id": "cqyOhLMNjROC"
    },
    {
      "cell_type": "code",
      "metadata": {
        "id": "XclD-gqmjQlz",
        "colab": {
          "base_uri": "https://localhost:8080/"
        },
        "outputId": "6d97c72d-3b81-4721-c994-244206d86106"
      },
      "source": [
        "timing_df.delta.median()"
      ],
      "id": "XclD-gqmjQlz",
      "execution_count": 60,
      "outputs": [
        {
          "output_type": "execute_result",
          "data": {
            "text/plain": [
              "2.16"
            ]
          },
          "metadata": {},
          "execution_count": 60
        }
      ]
    },
    {
      "cell_type": "markdown",
      "metadata": {
        "id": "WfCCreaHis7R"
      },
      "source": [
        "## Correlation Between Time Delta and Decoding Hyperparameter (top-p)"
      ],
      "id": "WfCCreaHis7R"
    },
    {
      "cell_type": "code",
      "metadata": {
        "id": "uY2dpRRRhXQI",
        "colab": {
          "base_uri": "https://localhost:8080/",
          "height": 131
        },
        "outputId": "4606fc64-b1cd-414b-ce6c-50b74ec06229"
      },
      "source": [
        "timing_df[['dec_strat_value', 'delta']].corr()"
      ],
      "id": "uY2dpRRRhXQI",
      "execution_count": 61,
      "outputs": [
        {
          "output_type": "execute_result",
          "data": {
            "application/vnd.google.colaboratory.module+javascript": "\n      import \"https://ssl.gstatic.com/colaboratory/data_table/a6224c040fa35dcf/data_table.js\";\n\n      window.createDataTable({\n        data: [[\"dec_strat_value\",\n{\n            'v': 1.0,\n            'f': \"1.0\",\n        },\n{\n            'v': -0.0029402884402694217,\n            'f': \"-0.0029402884402694217\",\n        }],\n [\"delta\",\n{\n            'v': -0.0029402884402694217,\n            'f': \"-0.0029402884402694217\",\n        },\n{\n            'v': 1.0,\n            'f': \"1.0\",\n        }]],\n        columns: [[\"string\", \"index\"], [\"number\", \"dec_strat_value\"], [\"number\", \"delta\"]],\n        columnOptions: [{\"width\": \"1px\", \"className\": \"index_column\"}],\n        rowsPerPage: 25,\n        helpUrl: \"https://colab.research.google.com/notebooks/data_table.ipynb\",\n        suppressOutputScrolling: true,\n        minimumWidth: undefined,\n      });\n    ",
            "text/html": [
              "\n",
              "  <div id=\"df-7fc43611-667a-436b-9e23-329ec096f3f8\">\n",
              "    <div class=\"colab-df-container\">\n",
              "      <div>\n",
              "<style scoped>\n",
              "    .dataframe tbody tr th:only-of-type {\n",
              "        vertical-align: middle;\n",
              "    }\n",
              "\n",
              "    .dataframe tbody tr th {\n",
              "        vertical-align: top;\n",
              "    }\n",
              "\n",
              "    .dataframe thead th {\n",
              "        text-align: right;\n",
              "    }\n",
              "</style>\n",
              "<table border=\"1\" class=\"dataframe\">\n",
              "  <thead>\n",
              "    <tr style=\"text-align: right;\">\n",
              "      <th></th>\n",
              "      <th>dec_strat_value</th>\n",
              "      <th>delta</th>\n",
              "    </tr>\n",
              "  </thead>\n",
              "  <tbody>\n",
              "    <tr>\n",
              "      <th>dec_strat_value</th>\n",
              "      <td>1.00000</td>\n",
              "      <td>-0.00294</td>\n",
              "    </tr>\n",
              "    <tr>\n",
              "      <th>delta</th>\n",
              "      <td>-0.00294</td>\n",
              "      <td>1.00000</td>\n",
              "    </tr>\n",
              "  </tbody>\n",
              "</table>\n",
              "</div>\n",
              "      <button class=\"colab-df-convert\" onclick=\"convertToInteractive('df-7fc43611-667a-436b-9e23-329ec096f3f8')\"\n",
              "              title=\"Convert this dataframe to an interactive table.\"\n",
              "              style=\"display:none;\">\n",
              "        \n",
              "  <svg xmlns=\"http://www.w3.org/2000/svg\" height=\"24px\"viewBox=\"0 0 24 24\"\n",
              "       width=\"24px\">\n",
              "    <path d=\"M0 0h24v24H0V0z\" fill=\"none\"/>\n",
              "    <path d=\"M18.56 5.44l.94 2.06.94-2.06 2.06-.94-2.06-.94-.94-2.06-.94 2.06-2.06.94zm-11 1L8.5 8.5l.94-2.06 2.06-.94-2.06-.94L8.5 2.5l-.94 2.06-2.06.94zm10 10l.94 2.06.94-2.06 2.06-.94-2.06-.94-.94-2.06-.94 2.06-2.06.94z\"/><path d=\"M17.41 7.96l-1.37-1.37c-.4-.4-.92-.59-1.43-.59-.52 0-1.04.2-1.43.59L10.3 9.45l-7.72 7.72c-.78.78-.78 2.05 0 2.83L4 21.41c.39.39.9.59 1.41.59.51 0 1.02-.2 1.41-.59l7.78-7.78 2.81-2.81c.8-.78.8-2.07 0-2.86zM5.41 20L4 18.59l7.72-7.72 1.47 1.35L5.41 20z\"/>\n",
              "  </svg>\n",
              "      </button>\n",
              "      \n",
              "  <style>\n",
              "    .colab-df-container {\n",
              "      display:flex;\n",
              "      flex-wrap:wrap;\n",
              "      gap: 12px;\n",
              "    }\n",
              "\n",
              "    .colab-df-convert {\n",
              "      background-color: #E8F0FE;\n",
              "      border: none;\n",
              "      border-radius: 50%;\n",
              "      cursor: pointer;\n",
              "      display: none;\n",
              "      fill: #1967D2;\n",
              "      height: 32px;\n",
              "      padding: 0 0 0 0;\n",
              "      width: 32px;\n",
              "    }\n",
              "\n",
              "    .colab-df-convert:hover {\n",
              "      background-color: #E2EBFA;\n",
              "      box-shadow: 0px 1px 2px rgba(60, 64, 67, 0.3), 0px 1px 3px 1px rgba(60, 64, 67, 0.15);\n",
              "      fill: #174EA6;\n",
              "    }\n",
              "\n",
              "    [theme=dark] .colab-df-convert {\n",
              "      background-color: #3B4455;\n",
              "      fill: #D2E3FC;\n",
              "    }\n",
              "\n",
              "    [theme=dark] .colab-df-convert:hover {\n",
              "      background-color: #434B5C;\n",
              "      box-shadow: 0px 1px 3px 1px rgba(0, 0, 0, 0.15);\n",
              "      filter: drop-shadow(0px 1px 2px rgba(0, 0, 0, 0.3));\n",
              "      fill: #FFFFFF;\n",
              "    }\n",
              "  </style>\n",
              "\n",
              "      <script>\n",
              "        const buttonEl =\n",
              "          document.querySelector('#df-7fc43611-667a-436b-9e23-329ec096f3f8 button.colab-df-convert');\n",
              "        buttonEl.style.display =\n",
              "          google.colab.kernel.accessAllowed ? 'block' : 'none';\n",
              "\n",
              "        async function convertToInteractive(key) {\n",
              "          const element = document.querySelector('#df-7fc43611-667a-436b-9e23-329ec096f3f8');\n",
              "          const dataTable =\n",
              "            await google.colab.kernel.invokeFunction('convertToInteractive',\n",
              "                                                     [key], {});\n",
              "          if (!dataTable) return;\n",
              "\n",
              "          const docLinkHtml = 'Like what you see? Visit the ' +\n",
              "            '<a target=\"_blank\" href=https://colab.research.google.com/notebooks/data_table.ipynb>data table notebook</a>'\n",
              "            + ' to learn more about interactive tables.';\n",
              "          element.innerHTML = '';\n",
              "          dataTable['output_type'] = 'display_data';\n",
              "          await google.colab.output.renderOutput(dataTable, element);\n",
              "          const docLink = document.createElement('div');\n",
              "          docLink.innerHTML = docLinkHtml;\n",
              "          element.appendChild(docLink);\n",
              "        }\n",
              "      </script>\n",
              "    </div>\n",
              "  </div>\n",
              "  "
            ],
            "text/plain": [
              "                 dec_strat_value    delta\n",
              "dec_strat_value          1.00000 -0.00294\n",
              "delta                   -0.00294  1.00000"
            ]
          },
          "metadata": {},
          "execution_count": 61
        }
      ]
    },
    {
      "cell_type": "markdown",
      "metadata": {
        "id": "O72xS3cli539"
      },
      "source": [
        "## Time Delta Distribution"
      ],
      "id": "O72xS3cli539"
    },
    {
      "cell_type": "code",
      "metadata": {
        "id": "eR8p0ZJcfEeY",
        "colab": {
          "base_uri": "https://localhost:8080/",
          "height": 285
        },
        "outputId": "537a813d-feb5-4aaf-a017-64edbdf79de3"
      },
      "source": [
        "timing_df.delta.hist(bins=100, range=(0,10))\n",
        "#plot( kind='hist',    range=(0, 60),    bins=30,    figsize=(20, 10),    title=('Turn Duration Distribution (seconds)')  )"
      ],
      "id": "eR8p0ZJcfEeY",
      "execution_count": 62,
      "outputs": [
        {
          "output_type": "execute_result",
          "data": {
            "text/plain": [
              "<matplotlib.axes._subplots.AxesSubplot at 0x7f8791be4710>"
            ]
          },
          "metadata": {},
          "execution_count": 62
        },
        {
          "output_type": "display_data",
          "data": {
            "image/png": "[encoded data removed]",
            "text/plain": [
              "<Figure size 432x288 with 1 Axes>"
            ]
          },
          "metadata": {}
        }
      ]
    },
    {
      "cell_type": "markdown",
      "metadata": {
        "id": "NTfQEDMwjwTj"
      },
      "source": [
        "## Correlation Between Time Delta and Sentence Length"
      ],
      "id": "NTfQEDMwjwTj"
    },
    {
      "cell_type": "code",
      "metadata": {
        "id": "VWi9YoRwj7W-",
        "colab": {
          "base_uri": "https://localhost:8080/",
          "height": 131
        },
        "outputId": "1b61f93d-c101-4273-cd59-65cdc0d41ab8"
      },
      "source": [
        "timing_df['gen_body_length'] = timing_df.gen_body.str.len()\n",
        "timing_df.groupby('annotation').agg({'delta': 'sum', 'gen_body_length': 'mean'}).corr()"
      ],
      "id": "VWi9YoRwj7W-",
      "execution_count": 63,
      "outputs": [
        {
          "output_type": "execute_result",
          "data": {
            "application/vnd.google.colaboratory.module+javascript": "\n      import \"https://ssl.gstatic.com/colaboratory/data_table/a6224c040fa35dcf/data_table.js\";\n\n      window.createDataTable({\n        data: [[\"delta\",\n{\n            'v': 1.0,\n            'f': \"1.0\",\n        },\n{\n            'v': -0.08067180067681433,\n            'f': \"-0.08067180067681433\",\n        }],\n [\"gen_body_length\",\n{\n            'v': -0.08067180067681433,\n            'f': \"-0.08067180067681433\",\n        },\n{\n            'v': 1.0,\n            'f': \"1.0\",\n        }]],\n        columns: [[\"string\", \"index\"], [\"number\", \"delta\"], [\"number\", \"gen_body_length\"]],\n        columnOptions: [{\"width\": \"1px\", \"className\": \"index_column\"}],\n        rowsPerPage: 25,\n        helpUrl: \"https://colab.research.google.com/notebooks/data_table.ipynb\",\n        suppressOutputScrolling: true,\n        minimumWidth: undefined,\n      });\n    ",
            "text/html": [
              "\n",
              "  <div id=\"df-7e0bf867-98c2-4138-b8ee-8506f08aa3ad\">\n",
              "    <div class=\"colab-df-container\">\n",
              "      <div>\n",
              "<style scoped>\n",
              "    .dataframe tbody tr th:only-of-type {\n",
              "        vertical-align: middle;\n",
              "    }\n",
              "\n",
              "    .dataframe tbody tr th {\n",
              "        vertical-align: top;\n",
              "    }\n",
              "\n",
              "    .dataframe thead th {\n",
              "        text-align: right;\n",
              "    }\n",
              "</style>\n",
              "<table border=\"1\" class=\"dataframe\">\n",
              "  <thead>\n",
              "    <tr style=\"text-align: right;\">\n",
              "      <th></th>\n",
              "      <th>delta</th>\n",
              "      <th>gen_body_length</th>\n",
              "    </tr>\n",
              "  </thead>\n",
              "  <tbody>\n",
              "    <tr>\n",
              "      <th>delta</th>\n",
              "      <td>1.000000</td>\n",
              "      <td>-0.080672</td>\n",
              "    </tr>\n",
              "    <tr>\n",
              "      <th>gen_body_length</th>\n",
              "      <td>-0.080672</td>\n",
              "      <td>1.000000</td>\n",
              "    </tr>\n",
              "  </tbody>\n",
              "</table>\n",
              "</div>\n",
              "      <button class=\"colab-df-convert\" onclick=\"convertToInteractive('df-7e0bf867-98c2-4138-b8ee-8506f08aa3ad')\"\n",
              "              title=\"Convert this dataframe to an interactive table.\"\n",
              "              style=\"display:none;\">\n",
              "        \n",
              "  <svg xmlns=\"http://www.w3.org/2000/svg\" height=\"24px\"viewBox=\"0 0 24 24\"\n",
              "       width=\"24px\">\n",
              "    <path d=\"M0 0h24v24H0V0z\" fill=\"none\"/>\n",
              "    <path d=\"M18.56 5.44l.94 2.06.94-2.06 2.06-.94-2.06-.94-.94-2.06-.94 2.06-2.06.94zm-11 1L8.5 8.5l.94-2.06 2.06-.94-2.06-.94L8.5 2.5l-.94 2.06-2.06.94zm10 10l.94 2.06.94-2.06 2.06-.94-2.06-.94-.94-2.06-.94 2.06-2.06.94z\"/><path d=\"M17.41 7.96l-1.37-1.37c-.4-.4-.92-.59-1.43-.59-.52 0-1.04.2-1.43.59L10.3 9.45l-7.72 7.72c-.78.78-.78 2.05 0 2.83L4 21.41c.39.39.9.59 1.41.59.51 0 1.02-.2 1.41-.59l7.78-7.78 2.81-2.81c.8-.78.8-2.07 0-2.86zM5.41 20L4 18.59l7.72-7.72 1.47 1.35L5.41 20z\"/>\n",
              "  </svg>\n",
              "      </button>\n",
              "      \n",
              "  <style>\n",
              "    .colab-df-container {\n",
              "      display:flex;\n",
              "      flex-wrap:wrap;\n",
              "      gap: 12px;\n",
              "    }\n",
              "\n",
              "    .colab-df-convert {\n",
              "      background-color: #E8F0FE;\n",
              "      border: none;\n",
              "      border-radius: 50%;\n",
              "      cursor: pointer;\n",
              "      display: none;\n",
              "      fill: #1967D2;\n",
              "      height: 32px;\n",
              "      padding: 0 0 0 0;\n",
              "      width: 32px;\n",
              "    }\n",
              "\n",
              "    .colab-df-convert:hover {\n",
              "      background-color: #E2EBFA;\n",
              "      box-shadow: 0px 1px 2px rgba(60, 64, 67, 0.3), 0px 1px 3px 1px rgba(60, 64, 67, 0.15);\n",
              "      fill: #174EA6;\n",
              "    }\n",
              "\n",
              "    [theme=dark] .colab-df-convert {\n",
              "      background-color: #3B4455;\n",
              "      fill: #D2E3FC;\n",
              "    }\n",
              "\n",
              "    [theme=dark] .colab-df-convert:hover {\n",
              "      background-color: #434B5C;\n",
              "      box-shadow: 0px 1px 3px 1px rgba(0, 0, 0, 0.15);\n",
              "      filter: drop-shadow(0px 1px 2px rgba(0, 0, 0, 0.3));\n",
              "      fill: #FFFFFF;\n",
              "    }\n",
              "  </style>\n",
              "\n",
              "      <script>\n",
              "        const buttonEl =\n",
              "          document.querySelector('#df-7e0bf867-98c2-4138-b8ee-8506f08aa3ad button.colab-df-convert');\n",
              "        buttonEl.style.display =\n",
              "          google.colab.kernel.accessAllowed ? 'block' : 'none';\n",
              "\n",
              "        async function convertToInteractive(key) {\n",
              "          const element = document.querySelector('#df-7e0bf867-98c2-4138-b8ee-8506f08aa3ad');\n",
              "          const dataTable =\n",
              "            await google.colab.kernel.invokeFunction('convertToInteractive',\n",
              "                                                     [key], {});\n",
              "          if (!dataTable) return;\n",
              "\n",
              "          const docLinkHtml = 'Like what you see? Visit the ' +\n",
              "            '<a target=\"_blank\" href=https://colab.research.google.com/notebooks/data_table.ipynb>data table notebook</a>'\n",
              "            + ' to learn more about interactive tables.';\n",
              "          element.innerHTML = '';\n",
              "          dataTable['output_type'] = 'display_data';\n",
              "          await google.colab.output.renderOutput(dataTable, element);\n",
              "          const docLink = document.createElement('div');\n",
              "          docLink.innerHTML = docLinkHtml;\n",
              "          element.appendChild(docLink);\n",
              "        }\n",
              "      </script>\n",
              "    </div>\n",
              "  </div>\n",
              "  "
            ],
            "text/plain": [
              "                    delta  gen_body_length\n",
              "delta            1.000000        -0.080672\n",
              "gen_body_length -0.080672         1.000000"
            ]
          },
          "metadata": {},
          "execution_count": 63
        }
      ]
    },
    {
      "cell_type": "markdown",
      "metadata": {
        "id": "YfjlQmzckqD1"
      },
      "source": [
        "## Correlation Between Time Delta and Points"
      ],
      "id": "YfjlQmzckqD1"
    },
    {
      "cell_type": "code",
      "metadata": {
        "id": "ECDCmxATkphI",
        "colab": {
          "base_uri": "https://localhost:8080/",
          "height": 131
        },
        "outputId": "b3526093-a87d-488b-b0bd-921309ccf764"
      },
      "source": [
        "timing_df.groupby('annotation').agg({'delta': 'sum', 'points': 'mean'}).corr()"
      ],
      "id": "ECDCmxATkphI",
      "execution_count": 64,
      "outputs": [
        {
          "output_type": "execute_result",
          "data": {
            "application/vnd.google.colaboratory.module+javascript": "\n      import \"https://ssl.gstatic.com/colaboratory/data_table/a6224c040fa35dcf/data_table.js\";\n\n      window.createDataTable({\n        data: [[\"delta\",\n{\n            'v': 1.0,\n            'f': \"1.0\",\n        },\n{\n            'v': 0.14020278953325613,\n            'f': \"0.14020278953325613\",\n        }],\n [\"points\",\n{\n            'v': 0.14020278953325613,\n            'f': \"0.14020278953325613\",\n        },\n{\n            'v': 1.0,\n            'f': \"1.0\",\n        }]],\n        columns: [[\"string\", \"index\"], [\"number\", \"delta\"], [\"number\", \"points\"]],\n        columnOptions: [{\"width\": \"1px\", \"className\": \"index_column\"}],\n        rowsPerPage: 25,\n        helpUrl: \"https://colab.research.google.com/notebooks/data_table.ipynb\",\n        suppressOutputScrolling: true,\n        minimumWidth: undefined,\n      });\n    ",
            "text/html": [
              "\n",
              "  <div id=\"df-58d4a152-a2a9-48a3-b52f-e1f76228f303\">\n",
              "    <div class=\"colab-df-container\">\n",
              "      <div>\n",
              "<style scoped>\n",
              "    .dataframe tbody tr th:only-of-type {\n",
              "        vertical-align: middle;\n",
              "    }\n",
              "\n",
              "    .dataframe tbody tr th {\n",
              "        vertical-align: top;\n",
              "    }\n",
              "\n",
              "    .dataframe thead th {\n",
              "        text-align: right;\n",
              "    }\n",
              "</style>\n",
              "<table border=\"1\" class=\"dataframe\">\n",
              "  <thead>\n",
              "    <tr style=\"text-align: right;\">\n",
              "      <th></th>\n",
              "      <th>delta</th>\n",
              "      <th>points</th>\n",
              "    </tr>\n",
              "  </thead>\n",
              "  <tbody>\n",
              "    <tr>\n",
              "      <th>delta</th>\n",
              "      <td>1.000000</td>\n",
              "      <td>0.140203</td>\n",
              "    </tr>\n",
              "    <tr>\n",
              "      <th>points</th>\n",
              "      <td>0.140203</td>\n",
              "      <td>1.000000</td>\n",
              "    </tr>\n",
              "  </tbody>\n",
              "</table>\n",
              "</div>\n",
              "      <button class=\"colab-df-convert\" onclick=\"convertToInteractive('df-58d4a152-a2a9-48a3-b52f-e1f76228f303')\"\n",
              "              title=\"Convert this dataframe to an interactive table.\"\n",
              "              style=\"display:none;\">\n",
              "        \n",
              "  <svg xmlns=\"http://www.w3.org/2000/svg\" height=\"24px\"viewBox=\"0 0 24 24\"\n",
              "       width=\"24px\">\n",
              "    <path d=\"M0 0h24v24H0V0z\" fill=\"none\"/>\n",
              "    <path d=\"M18.56 5.44l.94 2.06.94-2.06 2.06-.94-2.06-.94-.94-2.06-.94 2.06-2.06.94zm-11 1L8.5 8.5l.94-2.06 2.06-.94-2.06-.94L8.5 2.5l-.94 2.06-2.06.94zm10 10l.94 2.06.94-2.06 2.06-.94-2.06-.94-.94-2.06-.94 2.06-2.06.94z\"/><path d=\"M17.41 7.96l-1.37-1.37c-.4-.4-.92-.59-1.43-.59-.52 0-1.04.2-1.43.59L10.3 9.45l-7.72 7.72c-.78.78-.78 2.05 0 2.83L4 21.41c.39.39.9.59 1.41.59.51 0 1.02-.2 1.41-.59l7.78-7.78 2.81-2.81c.8-.78.8-2.07 0-2.86zM5.41 20L4 18.59l7.72-7.72 1.47 1.35L5.41 20z\"/>\n",
              "  </svg>\n",
              "      </button>\n",
              "      \n",
              "  <style>\n",
              "    .colab-df-container {\n",
              "      display:flex;\n",
              "      flex-wrap:wrap;\n",
              "      gap: 12px;\n",
              "    }\n",
              "\n",
              "    .colab-df-convert {\n",
              "      background-color: #E8F0FE;\n",
              "      border: none;\n",
              "      border-radius: 50%;\n",
              "      cursor: pointer;\n",
              "      display: none;\n",
              "      fill: #1967D2;\n",
              "      height: 32px;\n",
              "      padding: 0 0 0 0;\n",
              "      width: 32px;\n",
              "    }\n",
              "\n",
              "    .colab-df-convert:hover {\n",
              "      background-color: #E2EBFA;\n",
              "      box-shadow: 0px 1px 2px rgba(60, 64, 67, 0.3), 0px 1px 3px 1px rgba(60, 64, 67, 0.15);\n",
              "      fill: #174EA6;\n",
              "    }\n",
              "\n",
              "    [theme=dark] .colab-df-convert {\n",
              "      background-color: #3B4455;\n",
              "      fill: #D2E3FC;\n",
              "    }\n",
              "\n",
              "    [theme=dark] .colab-df-convert:hover {\n",
              "      background-color: #434B5C;\n",
              "      box-shadow: 0px 1px 3px 1px rgba(0, 0, 0, 0.15);\n",
              "      filter: drop-shadow(0px 1px 2px rgba(0, 0, 0, 0.3));\n",
              "      fill: #FFFFFF;\n",
              "    }\n",
              "  </style>\n",
              "\n",
              "      <script>\n",
              "        const buttonEl =\n",
              "          document.querySelector('#df-58d4a152-a2a9-48a3-b52f-e1f76228f303 button.colab-df-convert');\n",
              "        buttonEl.style.display =\n",
              "          google.colab.kernel.accessAllowed ? 'block' : 'none';\n",
              "\n",
              "        async function convertToInteractive(key) {\n",
              "          const element = document.querySelector('#df-58d4a152-a2a9-48a3-b52f-e1f76228f303');\n",
              "          const dataTable =\n",
              "            await google.colab.kernel.invokeFunction('convertToInteractive',\n",
              "                                                     [key], {});\n",
              "          if (!dataTable) return;\n",
              "\n",
              "          const docLinkHtml = 'Like what you see? Visit the ' +\n",
              "            '<a target=\"_blank\" href=https://colab.research.google.com/notebooks/data_table.ipynb>data table notebook</a>'\n",
              "            + ' to learn more about interactive tables.';\n",
              "          element.innerHTML = '';\n",
              "          dataTable['output_type'] = 'display_data';\n",
              "          await google.colab.output.renderOutput(dataTable, element);\n",
              "          const docLink = document.createElement('div');\n",
              "          docLink.innerHTML = docLinkHtml;\n",
              "          element.appendChild(docLink);\n",
              "        }\n",
              "      </script>\n",
              "    </div>\n",
              "  </div>\n",
              "  "
            ],
            "text/plain": [
              "           delta    points\n",
              "delta   1.000000  0.140203\n",
              "points  0.140203  1.000000"
            ]
          },
          "metadata": {},
          "execution_count": 64
        }
      ]
    },
    {
      "cell_type": "markdown",
      "metadata": {
        "id": "9dijnWbdlVtL"
      },
      "source": [
        "## Comparison of Average Time Deltas Between Text Domains"
      ],
      "id": "9dijnWbdlVtL"
    },
    {
      "cell_type": "code",
      "metadata": {
        "id": "DsR3-uk-lend",
        "colab": {
          "base_uri": "https://localhost:8080/",
          "height": 414
        },
        "outputId": "d3aafe69-a4e7-42fd-9e09-be3770c0e6de"
      },
      "source": [
        "# Median\n",
        "timing_df.groupby('dataset').agg({'delta': 'median'}).plot.bar()"
      ],
      "id": "DsR3-uk-lend",
      "execution_count": 65,
      "outputs": [
        {
          "output_type": "execute_result",
          "data": {
            "text/plain": [
              "<matplotlib.axes._subplots.AxesSubplot at 0x7f87935a8290>"
            ]
          },
          "metadata": {},
          "execution_count": 65
        },
        {
          "output_type": "display_data",
          "data": {
            "image/png": "[encoded data removed]",
            "text/plain": [
              "<Figure size 432x288 with 1 Axes>"
            ]
          },
          "metadata": {}
        }
      ]
    },
    {
      "cell_type": "code",
      "metadata": {
        "id": "hPpRonLzlrS2",
        "colab": {
          "base_uri": "https://localhost:8080/",
          "height": 414
        },
        "outputId": "69e65cf2-762d-408f-eacd-4ba31942d840"
      },
      "source": [
        "# Mean\n",
        "timing_df.groupby('dataset').agg({'delta': 'mean'}).plot.bar()"
      ],
      "id": "hPpRonLzlrS2",
      "execution_count": 66,
      "outputs": [
        {
          "output_type": "execute_result",
          "data": {
            "text/plain": [
              "<matplotlib.axes._subplots.AxesSubplot at 0x7f877e190b90>"
            ]
          },
          "metadata": {},
          "execution_count": 66
        },
        {
          "output_type": "display_data",
          "data": {
            "image/png": "[encoded data removed]",
            "text/plain": [
              "<Figure size 432x288 with 1 Axes>"
            ]
          },
          "metadata": {}
        }
      ]
    },
    {
      "cell_type": "markdown",
      "metadata": {
        "id": "Wiuiw9M6lb51"
      },
      "source": [
        "## Comparison of Average Time Deltas Between Models"
      ],
      "id": "Wiuiw9M6lb51"
    },
    {
      "cell_type": "code",
      "metadata": {
        "id": "ES4z0eIOlfKL",
        "colab": {
          "base_uri": "https://localhost:8080/",
          "height": 345
        },
        "outputId": "020c43a8-d6f7-4ed6-a035-7daf71ada699"
      },
      "source": [
        "# Median\n",
        "timing_df.groupby('model').agg({'delta': 'median'}).plot.bar()"
      ],
      "id": "ES4z0eIOlfKL",
      "execution_count": 67,
      "outputs": [
        {
          "output_type": "execute_result",
          "data": {
            "text/plain": [
              "<matplotlib.axes._subplots.AxesSubplot at 0x7f877e184090>"
            ]
          },
          "metadata": {},
          "execution_count": 67
        },
        {
          "output_type": "display_data",
          "data": {
            "image/png": "[encoded data removed]",
            "text/plain": [
              "<Figure size 432x288 with 1 Axes>"
            ]
          },
          "metadata": {}
        }
      ]
    },
    {
      "cell_type": "code",
      "metadata": {
        "id": "ag_apzlOmIs2",
        "colab": {
          "base_uri": "https://localhost:8080/",
          "height": 345
        },
        "outputId": "90de8517-0d56-4bbd-a58d-690ebe245162"
      },
      "source": [
        "# Mean\n",
        "timing_df.groupby('model').agg({'delta': 'mean'}).plot.bar()"
      ],
      "id": "ag_apzlOmIs2",
      "execution_count": 68,
      "outputs": [
        {
          "output_type": "execute_result",
          "data": {
            "text/plain": [
              "<matplotlib.axes._subplots.AxesSubplot at 0x7f8781088a50>"
            ]
          },
          "metadata": {},
          "execution_count": 68
        },
        {
          "output_type": "display_data",
          "data": {
            "image/png": "[encoded data removed]",
            "text/plain": [
              "<Figure size 432x288 with 1 Axes>"
            ]
          },
          "metadata": {}
        }
      ]
    }
  ]
}